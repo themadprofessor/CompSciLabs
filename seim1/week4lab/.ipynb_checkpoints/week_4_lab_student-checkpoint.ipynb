{
 "cells": [
  {
   "cell_type": "markdown",
   "metadata": {},
   "source": [
    "# Week 4 : Lab \n",
    " ## Data structures: Lists, sorting and tuples\n",
    " ##### CS1P - University of Glasgow - John Williamson - 2016"
   ]
  },
  {
   "cell_type": "code",
   "execution_count": 1,
   "metadata": {
    "collapsed": true
   },
   "outputs": [],
   "source": [
    "from __future__ import division   # make division work like Python 3.x\n",
    "## Remember to run this cell; the exercises rely on it!"
   ]
  },
  {
   "cell_type": "markdown",
   "metadata": {},
   "source": []
  },
  {
   "cell_type": "markdown",
   "metadata": {},
   "source": [
    "\n",
    "## Lab exercise\n",
    "\n",
    "**You must submit a reasonble attempt at this exercise to gain a tick for this work**.\n",
    "\n",
    "<font color=\"red\"> Remember to save your work frequently! </font>\n"
   ]
  },
  {
   "cell_type": "markdown",
   "metadata": {},
   "source": [
    "\n",
    "## Purpose of this lab\n",
    "\n",
    "This lab will get you up to speed on using lists in Python programs, including joining lists, removing and adding elements, copying lists, sorting and shuffling. You will need to synthesise the ideas from the lecture into some  larger problems.\n",
    "\n"
   ]
  },
  {
   "cell_type": "markdown",
   "metadata": {},
   "source": [
    "## Before the lab\n",
    "* Attempt at least the A exercises.\n",
    "* Read Ch 8.1 to 8.15 (pp. 81-91) in \"How to Think Like a Computer Scientist\". \n",
    "\n",
    "### If you're confused about tuples:\n",
    "* Read the blog article [lists versus tuples](http://nedbatchelder.com/blog/201608/lists_vs_tuples.html) by Ned Batchelder.\n"
   ]
  },
  {
   "cell_type": "markdown",
   "metadata": {},
   "source": [
    "## A: Quick problems\n",
    "These should take around 5 minutes each."
   ]
  },
  {
   "cell_type": "markdown",
   "metadata": {},
   "source": [
    "### A.1 Simple list operations\n",
    "You are given three lists `x,y,z`.\n",
    "\n",
    "Write code that will:\n",
    "* join the lists in the order `z,x,y`, \n",
    "* then remove the 3rd element of the list.\n",
    "* Store the result in a variable `zxy`. \n",
    "* Create a *copy* of `zxy` and call it `zxy_copy`. \n",
    "* Add the string `\"in the sunshine\"` to the end of `zxy_copy`."
   ]
  },
  {
   "cell_type": "code",
   "execution_count": 2,
   "metadata": {
    "collapsed": true
   },
   "outputs": [],
   "source": [
    "# These are the lists you are given\n",
    "x = [1,2,3]\n",
    "y = [0,0,0]\n",
    "z = [1,9,6,9]"
   ]
  },
  {
   "cell_type": "code",
   "execution_count": 12,
   "metadata": {
    "collapsed": false
   },
   "outputs": [],
   "source": [
    "# Solution goes here\n",
    "zxy = z + x + y\n",
    "del zxy[2]\n",
    "zxy_copy = zxy[:]\n",
    "zxy_copy.append(\"in the sunshine\")"
   ]
  },
  {
   "cell_type": "code",
   "execution_count": 13,
   "metadata": {
    "collapsed": false
   },
   "outputs": [
    {
     "name": "stdout",
     "output_type": "stream",
     "text": [
      "All OK\n"
     ]
    }
   ],
   "source": [
    "## Test (make sure your variable is called zxy!)\n",
    "assert(zxy==[1,9,9,1,2,3,0,0,0])\n",
    "assert(zxy_copy==[1,9,9,1,2,3,0,0,0,\"in the sunshine\"])\n",
    "assert(zxy is not zxy_copy)\n",
    "print \"All OK\""
   ]
  },
  {
   "cell_type": "markdown",
   "metadata": {},
   "source": [
    "### A.2 Colours\n",
    "**Without using a loop**, using the following definition of **colours**, print out the following:\n",
    "1. The first element of  `colours`\n",
    "1. The last element of `colours`\n",
    "1. Every even element of `colours` (i.e. elements with even indices)\n",
    "1. Every odd element of `colours`\n",
    "1. The third to the sixth element of `colours` (be careful to include the sixth element)\n",
    "1. The last five elements of colours\n",
    "1. Every third element of the first 8 elements of `colours`, in reverse order.\n"
   ]
  },
  {
   "cell_type": "code",
   "execution_count": 14,
   "metadata": {
    "collapsed": true
   },
   "outputs": [],
   "source": [
    "colours = [\"red\", \"black\", \"orange\", \"yellow\", \"blue\", \"cyan\", \"green\", \"purple\", \"gray\", \"white\"]"
   ]
  },
  {
   "cell_type": "code",
   "execution_count": 15,
   "metadata": {
    "collapsed": false
   },
   "outputs": [
    {
     "name": "stdout",
     "output_type": "stream",
     "text": [
      "red\n",
      "white\n",
      "['red', 'orange', 'blue', 'green', 'gray']\n",
      "['black', 'yellow', 'cyan', 'purple', 'white']\n",
      "['orange', 'yellow', 'blue', 'cyan']\n",
      "['cyan', 'green', 'purple', 'gray', 'white']\n",
      "['purple', 'blue', 'black']\n"
     ]
    }
   ],
   "source": [
    "# Solution goes here\n",
    "print colours[0]\n",
    "print colours[-1]\n",
    "print colours[::2]\n",
    "print colours[1::2]\n",
    "print colours[2:6]\n",
    "print colours[-5:]\n",
    "print colours[:8][::-3]"
   ]
  },
  {
   "cell_type": "markdown",
   "metadata": {},
   "source": [
    "### A.3 Joining and removing\n",
    "Write a function `unique_elts()` that takes two lists, and returns a new list with the elements that appeared in *only one of the lists* (i.e. remove items that appeared in both)."
   ]
  },
  {
   "cell_type": "code",
   "execution_count": 16,
   "metadata": {
    "collapsed": false
   },
   "outputs": [],
   "source": [
    "# Solution goes here\n",
    "def unique_elts(list1, list2):\n",
    "    result = list1 + list2\n",
    "    result = [ele for ele in result if result.count(ele) == 1]\n",
    "    return result"
   ]
  },
  {
   "cell_type": "code",
   "execution_count": 17,
   "metadata": {
    "collapsed": false
   },
   "outputs": [
    {
     "name": "stdout",
     "output_type": "stream",
     "text": [
      "All OK\n"
     ]
    }
   ],
   "source": [
    "## Tests\n",
    "## If you run this cell, it should print \"All OK\"\n",
    "## Otherwise, you'll see which of the lines caused the problem\n",
    "assert(unique_elts([1,2,3],[2,3]) == [1])\n",
    "assert(unique_elts([\"five\"],[\"five\"]) == [])\n",
    "assert(unique_elts([],[1,2,3]) == [1,2,3])\n",
    "assert(unique_elts([\"a\",\"b\",\"c\"],[1,2,3]) == [\"a\",\"b\",\"c\",1,2,3])\n",
    "print \"All OK\"\n"
   ]
  },
  {
   "cell_type": "markdown",
   "metadata": {},
   "source": [
    "### A.4 Nesting\n",
    "Write a function `nest(x,n)` which takes a value `x` and a number `n` and puts the value `x` inside a list, then puts that list inside a list, and so on, up to `n` levels, for any non-negative `n`. Putting one list inside another is called **nesting**.\n",
    "\n",
    "For example:\n",
    "\n",
    "    nest(\"hello\",0)  = \"hello\"     # n=0 does nothing\n",
    "    nest(\"hello\",1)  = [\"hello\"]   # n=1 puts it in a list\n",
    "    nest(\"hello\",4)  = [[[[\"hello\"]]]] # n=4 puts inside a list inside a list inside ...\n",
    "        "
   ]
  },
  {
   "cell_type": "code",
   "execution_count": 18,
   "metadata": {
    "collapsed": true
   },
   "outputs": [],
   "source": [
    "# Solution goes here\n",
    "def nest(item, num):\n",
    "    result = item\n",
    "    for i in range(num):\n",
    "        result = [result]\n",
    "    return result"
   ]
  },
  {
   "cell_type": "code",
   "execution_count": 19,
   "metadata": {
    "collapsed": false
   },
   "outputs": [
    {
     "name": "stdout",
     "output_type": "stream",
     "text": [
      "All OK\n"
     ]
    }
   ],
   "source": [
    "## Tests\n",
    "assert(nest(\"hello\",0)==\"hello\")\n",
    "assert(nest(\"hello\",1)==[\"hello\"])\n",
    "assert(nest(\"hello\",5)==[[[[[\"hello\"]]]]])\n",
    "print \"All OK\""
   ]
  },
  {
   "cell_type": "markdown",
   "metadata": {},
   "source": [
    "### A.5 Adding the length\n",
    "Write a function `add_length(l)` which takes a list `l` and then appends the length of the list as the last element. **Don't use a return statement to return the list**. \n",
    "\n",
    "Think about what being able to change a list **in place** means about transferring values from functions back into the calling code.\n",
    "\n",
    "Check that your function does what you think it does.\n"
   ]
  },
  {
   "cell_type": "code",
   "execution_count": 20,
   "metadata": {
    "collapsed": true
   },
   "outputs": [],
   "source": [
    "# Solution goes here\n",
    "\n",
    "def add_length(l):\n",
    "    l.append(len(l))"
   ]
  },
  {
   "cell_type": "code",
   "execution_count": 21,
   "metadata": {
    "collapsed": false
   },
   "outputs": [
    {
     "name": "stdout",
     "output_type": "stream",
     "text": [
      "['a', 'b', 'c', 3]\n",
      "None\n"
     ]
    }
   ],
   "source": [
    "# this will work.\n",
    "x = [\"a\", \"b\", \"c\"]\n",
    "add_length(x)\n",
    "print x\n",
    "\n",
    "# Question: why doesn't this work?\n",
    "print add_length([1,2,3])\n",
    "# Methods return None if they don't have a return statement"
   ]
  },
  {
   "cell_type": "code",
   "execution_count": 22,
   "metadata": {
    "collapsed": false
   },
   "outputs": [
    {
     "name": "stdout",
     "output_type": "stream",
     "text": [
      "All OK\n"
     ]
    }
   ],
   "source": [
    "## Tests\n",
    "l = [1,2,3]\n",
    "assert(add_length(l)==None)\n",
    "assert(l==[1,2,3,3])\n",
    "add_length(l)\n",
    "assert(l==[1,2,3,3,4])\n",
    "l = []\n",
    "add_length(l)\n",
    "assert(l==[0])\n",
    "print \"All OK\""
   ]
  },
  {
   "cell_type": "markdown",
   "metadata": {},
   "source": [
    "--------------\n",
    "## B: List Problems\n",
    "These should take 30-45 minutes each.\n",
    "\n",
    "### A slightly dodgy new startup: <font color=\"green\"> myshopfastr.com </font>\n",
    "You're writing an app to help people shop more efficiently in the supermarket (for people who still go to physical shops).\n",
    "There are several bits of functionality to implement: the ability to search for items easily (e.g. \"celery\" might return \"Sainsbury's Organic Celery 100g, ...\") and the ability to show the user results as a list of options:\n",
    "\n",
    "     Sainsbury's Organic Celery 100g, £2.99, 100g, £0.30, B3\n",
    "     Sainsbury's Celery 100g, £1.99, 100g, £0.20, A1\n",
    "     Sainsbury's Basic Celery 50g, £0.39, 50g, £0.08, A1\n",
    "     Sainsbury's Extremely Basic Celery, £0.10, 50g, £0.02, A4     \n",
    "     ...\n",
    "     \n",
    "\n",
    "You also need to convince investors that your design choices are making the app better.     \n",
    "\n",
    "-------------     \n",
    "\n",
    "### B.1: Stopping and stemming\n",
    "Search engines like Google often need to \"clean up\" search queries (the query is the thing you type into a search box) before trying to find terms (words) in documents. \n",
    "\n",
    "For example \"what is the fastest python list iterator\" might be transformed into keywords `[\"python\", \"list\", \"fast\", \"iterator\"]`. In our example, we'd like users who think the computer is a person and type in things like \"find me the apples\" to be transformed to `[\"apple\"]`, removing the extraneous parts of the search query.\n",
    "\n",
    "There are two parts to this: **stopword** removal, which removes short, uninformative words like \"the\" and \"and\"; and **stemming** which removes common endings like \"ing\" and \"s\" to find the basic form of a word. Here we'll \"stem\" by just chopping off any bits of words that match common endings.\n",
    "\n",
    "For this problem, you need to write a bit of code to first remove **stopwords** and then **stem** the remaining words. Try getting the stopword removal working first, then go on to the stemming.\n",
    "\n",
    "Steps:\n",
    "1. Create your own list of common stop words (e.g. [\"and\", \"to\", \"the\", ...])\n",
    "2. Create your own list of common English endings (e.g. [\"ing\", \"ings\", \"s\", \"er\", \"tion\"])\n",
    "3. Get user input.\n",
    "4. Split the input into words. You can use `my_string.split()` to split a string `my_list` up into a list of individual words.\n",
    "5. Remove all of the words in the stopwords from the user input.\n",
    "6. For each word, test if the word ends in one of the common endings, and if it does, remove the ending. \n",
    "7. Print out the cleaned up search terms.\n",
    "\n",
    "Note that you can use `.endswith()` on a string to test if the string ends with those characters. You can join a list of strings back together using `join()`, but the syntax is slightly unexpected: see below for how to use it.\n",
    "\n",
    "**Note that the rules to make stemming really work well for English are annoyingly complicated. Don't worry if your simple stemmer doesn't do a very sensible job (e.g. \"Sting\" becomes \"St\"!)**\n",
    "\n",
    "Read the little code examples below to see how to use thre string functions mentioned above."
   ]
  },
  {
   "cell_type": "code",
   "execution_count": 116,
   "metadata": {
    "collapsed": false
   },
   "outputs": [],
   "source": [
    "# an endswith() example\n",
    "# simply returns True if the string ends with the given string\n",
    "# unsuprisingly, there is a .startswith() as well.\n",
    "print \"running\".endswith(\"ing\")\n",
    "print \"running\".endswith(\"tion\")"
   ]
  },
  {
   "cell_type": "code",
   "execution_count": 117,
   "metadata": {
    "collapsed": false
   },
   "outputs": [],
   "source": [
    "# how split() can be used to split a string up\n",
    "# you can actually tell split what you want to use a separator between items (called *tokens*)\n",
    "# if you don't give one, it defaults to spaces\n",
    "print \"this is a test\".split()"
   ]
  },
  {
   "cell_type": "code",
   "execution_count": 118,
   "metadata": {
    "collapsed": false
   },
   "outputs": [],
   "source": [
    "# using join()\n",
    "# this joins each word with a space inbetween\n",
    "print \" \".join([\"one\", \"two\", \"three\"])"
   ]
  },
  {
   "cell_type": "code",
   "execution_count": 119,
   "metadata": {
    "collapsed": false
   },
   "outputs": [],
   "source": [
    "# you can use any string to go in between\n",
    "# but note that you call join() as a method of the\n",
    "# the string you want to use as the separator, and pass\n",
    "# the list to join as an argument\n",
    "print \"<->\".join([\"a\", \"b\", \"c\"])"
   ]
  },
  {
   "cell_type": "code",
   "execution_count": 44,
   "metadata": {
    "collapsed": false
   },
   "outputs": [
    {
     "name": "stdout",
     "output_type": "stream",
     "text": [
      "cheeses\n",
      "shoe polishing\n"
     ]
    }
   ],
   "source": [
    "# Solution goes here\n",
    "import string\n",
    "\n",
    "STOP_WORDS = (\"a\",\"about\",\"above\",\"after\",\"again\",\"against\",\"all\",\"am\",\"an\",\"and\",\"any\",\"are\",\"aren't\",\"as\",\"at\",\"be\",\"because\",\"been\",\"before\",\"being\",\"below\",\"between\",\"both\",\"but\",\"by\",\"can't\",\"cannot\",\"could\",\"couldn't\",\"did\",\"didn't\",\"do\",\"does\",\"doesn't\",\"doing\",\"don't\",\"down\",\"during\",\"each\",\"few\",\"for\",\"from\",\"further\",\"had\",\"hadn't\",\"has\",\"hasn't\",\"have\",\"haven't\",\"having\",\"he\",\"he'd\",\"he'll\",\"he's\",\"her\",\"here\",\"here's\",\"hers\",\"herself\",\"him\",\"himself\",\"his\",\"how\",\"how's\",\"i\",\"i'd\",\"i'll\",\"i'm\",\"i've\",\"if\",\"in\",\"into\",\"is\",\"isn't\",\"it\",\"it's\",\"its\",\"itself\",\"let's\",\"me\",\"more\",\"most\",\"mustn't\",\"my\",\"myself\",\"no\",\"nor\",\"not\",\"of\",\"off\",\"on\",\"once\",\"only\",\"or\",\"other\",\"ought\",\"our\",\"ours\",\"ourselves\",\"out\",\"over\",\"own\",\"same\",\"shan't\",\"she\",\"she'd\",\"she'll\",\"she's\",\"should\",\"shouldn't\",\"so\",\"some\",\"such\",\"than\",\"that\",\"that's\",\"the\",\"their\",\"theirs\",\"them\",\"themselves\",\"then\",\"there\",\"there's\",\"these\",\"they\",\"they'd\",\"they'll\",\"they're\",\"they've\",\"this\",\"those\",\"through\",\"to\",\"too\",\"under\",\"until\",\"up\",\"very\",\"was\",\"wasn't\",\"we\",\"we'd\",\"we'll\",\"we're\",\"we've\",\"were\",\"weren't\",\"what\",\"what's\",\"when\",\"when's\",\"where\",\"where's\",\"which\",\"while\",\"who\",\"who's\",\"whom\",\"why\",\"why's\",\"with\",\"won't\",\"would\",\"wouldn't\",\"you\",\"you'd\",\"you'll\",\"you're\",\"you've\",\"your\",\"yours\",\"yourself\",\"yourselves\")\n",
    "ENDINGS=(\"acy\", \"acl\", \"ance\", \"ence\", \"dom\", \"er\", \"or\", \"ism\", \"ist\", \"irt\", \"ty\", \"ment\", \"ness\", \"ship\", \"sion\", \"tion\", \"ate\", \"en\", \"ify\", \"fy\", \"ize\", \"ise\", \"able\", \"ible\", \"al\", \"esque\", \"ful\", \"ic\", \"ical\", \"ious\", \"ous\", \"ish\", \"ive\", \"less\", \"y\")\n",
    "\n",
    "def sanitize_query(query):\n",
    "    result = query\n",
    "    for c in string.punctuation:\n",
    "        result = result.replace(c, \"\")\n",
    "    result = result.lower().split()\n",
    "    result = stop_word_rem(result)\n",
    "    result = ending_rem(result)\n",
    "    return reduce(lambda s1, s2: s1 + \" \" + s2, result)\n",
    "\n",
    "def stop_word_rem(query):\n",
    "    return filter(lambda word: not word in STOP_WORDS, query)\n",
    "\n",
    "def ending_rem(query):\n",
    "    result = []\n",
    "    for word in query:\n",
    "        tmp_word = word\n",
    "        for end in ENDINGS:\n",
    "            if tmp_word != end:\n",
    "                tmp_word = tmp_word.replace(end, \"\")\n",
    "        result.append(word)\n",
    "    return result\n",
    "    \n",
    "print sanitize_query(\"wHere: are the cheEses\")\n",
    "print sanitize_query(\"For shoe, Polishing\")"
   ]
  },
  {
   "cell_type": "markdown",
   "metadata": {},
   "source": [
    "## Tests\n",
    "The output you get will depend on what words you included in your `stopwords` list, and what stems you listed in the `stems` list.\n",
    "\n",
    "For example, I'd expect\n",
    "      \n",
    "      where are the cheeses\n",
    "to become\n",
    "      \n",
    "      cheese\n",
    "      \n",
    "and \n",
    "\n",
    "    for shoe polishing \n",
    "to become\n",
    "\n",
    "    shoe polish"
   ]
  },
  {
   "cell_type": "markdown",
   "metadata": {},
   "source": [
    "## Extension (OPTIONAL)\n",
    "\n",
    "Work out how to remove any punctuation and make the search case-insensitive.\n"
   ]
  },
  {
   "cell_type": "markdown",
   "metadata": {},
   "source": [
    "### B.2: Showing and sorting lists\n",
    "For <font color=\"green\"> myshopfastr.com </font>, the app has to display a list of items to the user on their phone. Each item has multiple attributes, like price, weight, calories, and aisle position.\n",
    "\n",
    "Your task is (a) create the **data structure** which holds this information (b) be able to present this information flexibly; for example to show the items according to their price, or to order them by aisle to make checking them off as you go quicker.\n",
    "\n",
    "We'll store the information as a list of lists: e.g. we might have\n",
    "\n",
    "    [[\"Sainsbury's Organic Celery\", 2.99, 100, \"A1\"], [\"Sainsbury's Organic Peanut Butter\", 2.49, 100, \"C3\"]...]\n",
    "\n",
    "*NB: in practice a real system would be likely to use a **database** to store and sort this kind of information, but it would typically be returned to the app code as a list-of-lists.*\n",
    "\n",
    "#### Using key()\n",
    "You can sort a lists-of-lists just like any other list. What Python will do by default is sort by the first element of the \"internal\" lists. Try this example:"
   ]
  },
  {
   "cell_type": "code",
   "execution_count": 15,
   "metadata": {
    "collapsed": false
   },
   "outputs": [],
   "source": [
    "to_sort = [[\"b\", \"earth\"],  [\"c\", \"metal\"], [\"a\", \"fire\"], [\"d\", \"air\"]]\n",
    "# note that we will sort by the alphabetical order of the first element of the inner list\n",
    "print sorted(to_sort)"
   ]
  },
  {
   "cell_type": "markdown",
   "metadata": {},
   "source": [
    "But we need to able to sort by different attributes (e.g. by price or by aisle number). Python provides a parameter called `key` to tell `.sort()` or `sorted()` which element of the list to look at.\n",
    "\n",
    "`key` takes a **function** which transforms the element before it is used to check the sort order. For example, we can make Python look at the second element of a list:"
   ]
  },
  {
   "cell_type": "code",
   "execution_count": 16,
   "metadata": {
    "collapsed": false
   },
   "outputs": [],
   "source": [
    "def second_elt(l):\n",
    "    # remember that [1] means the second element.\n",
    "    return l[1]\n",
    "\n",
    "# now will be sorted by the ordering of the second element of the list\n",
    "print sorted(to_sort, key=second_elt)"
   ]
  },
  {
   "cell_type": "markdown",
   "metadata": {},
   "source": [
    "## Task\n",
    "You are given a set of lists of product data (below). \n",
    "\n",
    "1. Calculate a new list `weight_price`, with the price-per-weight for each shopping item.\n",
    "\n",
    "1. Combine all of the lists of product data into a single list-of-lists `product_data` as described above. \n",
    "\n",
    "1. Write a function `sort_shopping(shopping_list, n)` that returns a sorted list of items, which takes a number `n` and sorts the products by that column.\n",
    "\n",
    "1. Write a function that outputs each entry in the list on a new line, with each  attributed separated with the string `\\t`. This will tabulate the list nicely. \n"
   ]
  },
  {
   "cell_type": "code",
   "execution_count": 45,
   "metadata": {
    "collapsed": true
   },
   "outputs": [],
   "source": [
    "products = [\"shampoo\", \"conditioner\", \"hair wax\", \"shoe polish\", \"shower gel\", \"basic celery\"]\n",
    "prices = [2.99, 2.99, 5.00, 2.99, 4.00, 1.00]\n",
    "aisles = [\"A1\", \"A2\", \"A2\", \"D4\", \"G3\", \"E1\"]\n",
    "weights = [800, 800, 200, 100, 50, 100]"
   ]
  },
  {
   "cell_type": "code",
   "execution_count": 58,
   "metadata": {
    "collapsed": false
   },
   "outputs": [],
   "source": [
    "# Solution goes here\n",
    "def calc_weight_price(weights, products, prices):\n",
    "    weight_prices = []\n",
    "    for i, w in enumerate(weights):\n",
    "        weight_prices.append(list((products[i], prices[i], w, prices[i]/w)))\n",
    "    return weight_prices\n",
    "\n",
    "def sort_shopping(shopping_list, n):\n",
    "    return sorted(shopping_list, key = lambda l: l[n])\n",
    "\n",
    "def print_shopping(shopping_list):\n",
    "    for product, price, aisle, weight, weight_price in shopping_list:\n",
    "        print \"%s\\t%f\\t%s\\t%d\\t%f\" % (product, price, aisle, weight, weight_price)\n",
    "        \n",
    "product_data = calc_weight_price(weights, products, prices)\n",
    "for i in range(len(product_data)):\n",
    "    product_data[i].insert(2, aisles[i])\n"
   ]
  },
  {
   "cell_type": "code",
   "execution_count": 59,
   "metadata": {
    "collapsed": false
   },
   "outputs": [
    {
     "name": "stdout",
     "output_type": "stream",
     "text": [
      "shampoo\t2.990000\tA1\t800\t0.003738\n",
      "conditioner\t2.990000\tA2\t800\t0.003738\n",
      "hair wax\t5.000000\tA2\t200\t0.025000\n",
      "shoe polish\t2.990000\tD4\t100\t0.029900\n",
      "basic celery\t1.000000\tE1\t100\t0.010000\n",
      "shower gel\t4.000000\tG3\t50\t0.080000\n"
     ]
    }
   ],
   "source": [
    "print_shopping(sort_shopping(product_data, 2))\n"
   ]
  },
  {
   "cell_type": "markdown",
   "metadata": {},
   "source": [
    "## Tests\n",
    "`print_shopping(sort_shopping(product_data, 4))`  should give:\n",
    "\n",
    "    shampoo \t    2.99 \tA1 \t800 \t0.0037375 \t\n",
    "    conditioner \t2.99 \tA2 \t800 \t0.0037375 \t\n",
    "    basic celery \t1.0 \tE1 \t100 \t0.01 \t\n",
    "    hair wax \t    5.0 \tA2 \t200 \t0.025 \t\n",
    "    shoe polish \t2.99 \tD4 \t100 \t0.0299 \t\n",
    "    shower gel \t  4.0 \tG3 \t50 \t 0.08 \t\n",
    "    \n",
    "    \n",
    "`print_shopping(sort_shopping(product_data, 2))` should give:\n",
    "\n",
    "    shampoo \t    2.99 \tA1 \t800 \t0.0037375 \t\n",
    "    conditioner \t2.99 \tA2 \t800 \t0.0037375 \t\n",
    "    hair wax \t    5.0 \tA2 \t200 \t0.025 \t\n",
    "    shoe polish \t2.99 \tD4 \t100 \t0.0299 \t\n",
    "    basic celery \t1.0 \tE1 \t100 \t0.01 \t\n",
    "    shower gel \t  4.0 \tG3 \t50      0.08 \t\n",
    "\n"
   ]
  },
  {
   "cell_type": "markdown",
   "metadata": {
    "collapsed": true
   },
   "source": [
    "### B.3: The bootstrap\n",
    "Now that you're ready to deploy your \"amazing\" app, you've released a few different beta versions to test which sorting option works best as a default. Each user has rated the app with 1-5 stars. You are also the data scientist for the company, so you need to work out which version is better.\n",
    "\n",
    "You have two big lists of the star ratings users gave. You want to know if \"Version A\" with sort-by-prices as default, or \"Version B\" with sort-by-aisle as default is going to be a bigger hit, or if it doesn't make any difference a tall. Those of you who have studied statistics will know specialized **statistical tests** that you can run to measure this. \n",
    "\n",
    "But there are simple tests you can do if you have a computer to do many repetitive calculations. We'll use a simple technique called the **bootstrap test** to see whether the two versions of the app are really different.\n",
    "\n",
    "### Task\n",
    "There are three steps to the bootstrap test:\n",
    "1. Take a list of responses (here, the star ratings), then make a new list by **randomly drawing** elements from the original responses.  Elements from the original list can appear many times in the random list. The new random list must be the same length as the original list.\n",
    "1. Measure some value (called a `statistic`) of the new random list; here we'd like the **average** (mean) rating of the app. \n",
    "1. Apply this random new list creation many times, computing the statistic (mean) of each one, and collecting together a list of the resulting statistics (means).\n",
    "\n",
    "#### Coding steps\n",
    "To write your code:\n",
    "1. Write a function `mean(l)` computes the arithmetic mean of a list. This is our `statistic`.\n",
    "2. Write a function `random_draws(l)`, which creates a new list and fills it with random choices from the first list `l`. The length of the random list should be the same length as the original list `l`. **Note that this is not a shuffle, because elements could appear multiple times in the new random list**. You can use `random.choice()` to select a random element from a list. \n",
    "3. Write a function `bootstrap(l, n)` which calls `random_draws()` on the list `l` and then computes the mean of the random list. It should do this *n* times and stores the results of the mean calculations in a list. There should be *n* mean calculations.\n",
    "\n",
    "#### Tips\n",
    "Remember that to use functions from `random`,  it must be imported with\n",
    "\n",
    "    import random\n",
    "\n",
    "at the start of your solution.\n",
    "\n",
    "The code below the solution will run `bootstrap()` on the results for A and B and plot them -- you should be able to see clearly whether there is a difference or not. Try with version C as well (e.g. compare A and C)"
   ]
  },
  {
   "cell_type": "code",
   "execution_count": 2,
   "metadata": {
    "collapsed": false
   },
   "outputs": [],
   "source": [
    "# Solution goes here\n",
    "import random\n",
    "\n",
    "def mean(l):\n",
    "    return sum(l)/len(l)\n",
    "\n",
    "def random_draws(l):\n",
    "    result = []\n",
    "    for i in range(len(l)):\n",
    "        result.append(random.choice(l))\n",
    "    return result\n",
    "\n",
    "def bootstrap(l, n):\n",
    "    means = []\n",
    "    for i in range(n):\n",
    "        means.append(mean(l))\n",
    "    return means"
   ]
  },
  {
   "cell_type": "code",
   "execution_count": 3,
   "metadata": {
    "collapsed": false
   },
   "outputs": [],
   "source": [
    "## This is the raw data collected from the app. \n",
    "A = [1, 2, 4, 5, 1, 1, 3, 5, 5, 4, 1, 4, 1, 3, 3, 1, 5, 1, 1, 3, 3, 1, 2, 1, 5, 1, 5, 5, 2, 1, 3, 1, 1, 1, 2, 2, 1, 1, 5, 2, 3, 4, 1, 1, 3, 1, 1, 5, 1, 1, 1, 1, 1, 5, 1, 5, 1, 1, 1, 1, 1, 1, 2, 2, 1, 2, 2, 3, 1, 1, 1, 1, 5, 1, 1, 4, 1, 5, 2, 4, 2, 2, 1, 3, 2, 2, 4, 1, 5, 1, 1, 5, 1, 1, 1, 3, 1, 1, 1, 4, 1, 3, 1, 1, 2, 1, 3, 1, 5, 3, 5, 2, 1, 1, 1, 2, 2, 1, 3, 3, 5, 2, 2, 1, 3, 1, 2, 1, 3, 1, 1, 5, 5, 1, 3, 5, 2, 1, 1, 1, 3, 3, 1, 1, 1, 4, 1, 1, 3, 1]\n",
    "B = [5, 1, 1, 5, 5, 1, 4, 5, 5, 5, 1, 1, 5, 4, 5, 2, 1, 4, 2, 1, 1, 5, 5, 1, 5, 2, 1, 4, 2, 4, 1, 2, 1, 1, 5, 3, 3, 3, 4, 1, 1, 1, 1, 2, 4, 5, 1, 5, 5, 3, 4, 1, 5, 1, 4, 5, 1, 4, 1, 5, 1, 5, 2, 5, 5, 5, 1, 1, 1, 4, 3, 1, 1, 4, 5, 5, 5, 1, 1, 1, 5, 5, 5, 5, 1, 5, 1, 4, 1, 1, 1, 5, 4, 3, 1, 5, 2, 5, 1, 3, 4, 1, 1, 1, 3, 1, 1, 5, 5, 1, 2, 1, 5, 5, 5, 5, 5, 5, 5, 5, 5, 1, 1, 4, 5, 1, 5, 1, 3, 4, 4, 1, 1, 5, 4, 5, 1, 5, 5, 2, 5, 5, 4, 5, 5, 1, 3, 1, 3, 2]\n",
    "\n",
    "## We also have data from a version C, which has sort-by-weight as the default\n",
    "C = [5, 1, 5, 1, 3, 1, 4, 2, 4, 5, 1, 1, 4, 1, 1, 1, 4, 4, 2, 1, 1, 1, 2, 1, 2, 3, 2, 1, 1, 1, 1, 1, 5, 1, 1, 1, 5, 5, 5, 1, 2, 3, 2, 4, 1, 1, 3, 3, 1, 1, 2, 1, 1, 5, 2, 3, 1, 3, 3, 2, 1, 2, 2, 1, 1, 5, 3, 1, 1, 3, 1, 1, 5, 1, 1, 1, 3, 4, 2, 1, 1, 1, 1, 3, 2, 1, 1, 1, 1, 1, 3, 4, 2, 4, 1, 1, 5, 1, 4, 3, 5, 1, 1, 1, 5, 1, 5, 4, 1, 1, 5, 1, 1, 1, 1, 5, 2, 4, 1, 1, 3, 1, 1, 5, 1, 3, 2, 1, 2, 1, 1, 3, 1, 1, 1, 1, 1, 3, 5, 5, 1, 1, 4, 1, 5, 3, 1, 1, 3, 2]"
   ]
  },
  {
   "cell_type": "code",
   "execution_count": 5,
   "metadata": {
    "collapsed": false
   },
   "outputs": [
    {
     "data": {
      "text/plain": [
       "<matplotlib.legend.Legend at 0xb47de80>"
      ]
     },
     "execution_count": 5,
     "metadata": {},
     "output_type": "execute_result"
    },
    {
     "data": {
      "image/png": "[encoded data removed]",
      "text/plain": [
       "<matplotlib.figure.Figure at 0xa940278>"
      ]
     },
     "metadata": {},
     "output_type": "display_data"
    },
    {
     "data": {
      "image/png": "[encoded data removed]",
      "text/plain": [
       "<matplotlib.figure.Figure at 0xb3c1748>"
      ]
     },
     "metadata": {},
     "output_type": "display_data"
    }
   ],
   "source": [
    "## This code just plots a histogram of the values of the results\n",
    "## If the curves overlap a lot, then the difference probably\n",
    "## is not meaningful\n",
    "\n",
    "import matplotlib.pyplot as plt\n",
    "%matplotlib inline\n",
    "\n",
    "### Plot A versus B\n",
    "\n",
    "## plot histograms\n",
    "plt.hist(bootstrap(A,1000), bins=10)\n",
    "plt.hist(bootstrap(B,1000), bins=10)\n",
    "plt.xlim(1,5)\n",
    "\n",
    "## data scientists always label their graphs!\n",
    "plt.xlabel(\"App star rating\")\n",
    "plt.ylabel(\"Frequency\")\n",
    "plt.legend([\"Version A\", \"Version B\"])\n",
    "\n",
    "### Plot A versus C\n",
    "plt.figure()\n",
    "\n",
    "## plot histograms\n",
    "plt.hist(bootstrap(A,1000), bins=10)\n",
    "plt.hist(bootstrap(C,1000), bins=10)\n",
    "plt.xlim(1,5)\n",
    "\n",
    "## data scientists always label their graphs!\n",
    "plt.xlabel(\"App star rating\")\n",
    "plt.ylabel(\"Frequency\")\n",
    "plt.legend([\"Version A\", \"Version C\"])\n",
    "\n"
   ]
  },
  {
   "cell_type": "markdown",
   "metadata": {},
   "source": [
    "**If you managed this: Great! Now you have some pretty graphs show the venture capitalists and get another funding round sorted out :) **\n",
    "\n",
    "\n",
    "## (Optional) Further questions\n",
    "If you're interested:\n",
    "* Try plotting the histogram of the  original app ratings (e.g. `plt.hist(A, bins=10)`). Why is this not very helpful, whereas the bootstrap result is easy to interpret? \n",
    "* What happens if the bootstrap value is very small (e.g. bootstrap(A,2))? \n",
    "* Or very large?"
   ]
  },
  {
   "cell_type": "markdown",
   "metadata": {},
   "source": [
    "---------\n",
    "\n",
    "## C: Extended problems (OPTIONAL)\n",
    "These *extended* problems are optional for students who are keen to learn more. If you've finished the whole lab and want to explore these ideas in more depth, these problems and resources are intended to help you do that. \n",
    "\n",
    "## <font color=\"red\"> You do not need to make any attempt at any of this section to receive a tick! </font>\n",
    "\n",
    "These will take 30-60 minutes each.\n",
    "\n",
    "### C.1 Function lists\n",
    "You can put anything that you can put in a variable in a Python list. This includes functions. \n",
    "\n",
    "For example, imagine you had to build a little command set to drive a robot. But the robot's remote control unit can only send a numerical code for each function to be executed (e.g. 0=go forward, 1=turn left). \n",
    "\n",
    "If you put functions that did these operations in a list you can just index them and call them:"
   ]
  },
  {
   "cell_type": "code",
   "execution_count": 6,
   "metadata": {
    "collapsed": false
   },
   "outputs": [
    {
     "name": "stdout",
     "output_type": "stream",
     "text": [
      "forward\n",
      "left\n",
      "forward\n",
      "forward\n",
      "right\n"
     ]
    }
   ],
   "source": [
    "def forward():\n",
    "    print \"forward\"\n",
    "    \n",
    "def left():\n",
    "    print \"left\"\n",
    "    \n",
    "def right():    \n",
    "    print \"right\"\n",
    "    \n",
    "    \n",
    "# note that there is no following () after the functions\n",
    "# so they are not called, but instead a reference to them is put in the list\n",
    "fn_list = [forward, left, right]\n",
    "\n",
    "# this takes the first element of fn_list, then calls it using ()\n",
    "fn_list[0]()\n",
    "\n",
    "fn_list[1]()\n",
    "fn_list[0]()\n",
    "fn_list[0]()\n",
    "fn_list[2]()\n"
   ]
  },
  {
   "cell_type": "markdown",
   "metadata": {},
   "source": [
    "### Task\n",
    "Write a set of functions for the following commands, for a robot moving in 2D space (x and y) and put them in a list so that we have:\n",
    "\n",
    "    0: move forward by 1 unit, drawing a line from the previous position to the new one\n",
    "    1: turn left; make the new direction 60 degrees left of the previous\n",
    "    2: turn right; make the new direction 60 degrees right of the previous\n",
    "    3: remember; remember where we are and where we are facing;\n",
    "    4: return; return to the last place we remembered and remove it from the remembered list.\n",
    "    \n",
    "To do this, you will need to store where the robot currently is in 2D (hint: a list consisting of an x and y co-ordinate) and what way the robot is facing. Start with the robot facing upwards at position (0,0). Use a vector (dx,dy) to represent the direction the robot faces.\n",
    "\n",
    "You will also need to keep a list of places that have been remembered (and the direction the robot was facing) by command 3, and be able to return to them with command 4. Command 4 should also remove the remembered location from the list of  remembered locations (hint: how could you use `del` to do this?).\n",
    "\n",
    "Write a function `simulate()` to apply these commands to a list of numbers 0-4 and simulate the robot's movement.\n",
    "\n",
    "### Tips\n",
    "\n",
    "The command `line(ox,oy,x,y)` defined below will draw a line from (ox,oy) to (x,y).  The function `rotate()` to rotate a direction vector by a given angle is provided for you.\n",
    "\n",
    "\n",
    "        "
   ]
  },
  {
   "cell_type": "code",
   "execution_count": 8,
   "metadata": {
    "collapsed": true
   },
   "outputs": [],
   "source": [
    "import math\n",
    "\n",
    "def rotate(dx, dy, angle=60):\n",
    "    \"\"\"Takes a direction dx,dy and returns a new direction (dx_new, dy_new)\n",
    "    which is rotated by the given number of degrees\"\"\"\n",
    "    rad_angle = math.radians(angle)\n",
    "    dx_new = dx  * math.cos(rad_angle) + dy * math.sin(rad_angle)\n",
    "    dy_new = -dx * math.sin(rad_angle) + dy * math.cos(rad_angle)\n",
    "    return dx_new, dy_new\n",
    "    "
   ]
  },
  {
   "cell_type": "code",
   "execution_count": 9,
   "metadata": {
    "collapsed": false
   },
   "outputs": [],
   "source": [
    "def line(ox,oy,x,y):    \n",
    "    plt.plot([ox,x], [oy,y], 'k')\n",
    "    plt.plot([ox], [oy], 'ko')\n",
    "    plt.plot([x], [y], 'ro')\n",
    "    plt.xlim(-10,10)\n",
    "    plt.ylim(-10,10)\n",
    "    plt.axis(\"off\")"
   ]
  },
  {
   "cell_type": "code",
   "execution_count": 33,
   "metadata": {
    "collapsed": false
   },
   "outputs": [],
   "source": [
    "# Solution goes here\n",
    "def rem(rem_stk):\n",
    "    tmp = rem_stk.pop()\n",
    "    rem_stk.append(tmp)\n",
    "    rem_stk.append(tmp[:])\n",
    "    return rem_stk\n",
    "\n",
    "def ret(rem_stk):\n",
    "    rem_stk.pop()\n",
    "    return rem_stk\n",
    "\n",
    "def left(rem_stk):\n",
    "    data = rem_stk.pop()\n",
    "    data[1] = rotate(data[1][0], data[1][1], -60)\n",
    "    rem_stk.append(data)\n",
    "    return rem_stk\n",
    "\n",
    "def right(rem_stk):\n",
    "    data = rem_stk.pop()\n",
    "    data[1] = rotate(data[1][0], data[1][1])\n",
    "    rem_stk.append(data)\n",
    "    return rem_stk\n",
    "\n",
    "def forward(rem_stk):\n",
    "    data = rem_stk.pop()\n",
    "    tmp = data[0][:]\n",
    "    data[0] = (data[0][0] + data[1][0], data[0][1] + data[1][1])\n",
    "    line(tmp[0], tmp[1], data[0][0], data[0][1])\n",
    "    rem_stk.append(data)\n",
    "    return rem_stk\n",
    "\n",
    "FN_LIST = [forward, left, right, rem, ret]\n",
    "\n",
    "def simulate(order):\n",
    "    rem_stk = [[(0,0),(1,1)]]\n",
    "    \n",
    "    for i in order:\n",
    "        rem_stk = FN_LIST[i](rem_stk)"
   ]
  },
  {
   "cell_type": "code",
   "execution_count": 34,
   "metadata": {
    "collapsed": false
   },
   "outputs": [
    {
     "data": {
      "image/png": "[encoded data removed]",
      "text/plain": [
       "<matplotlib.figure.Figure at 0xb27f940>"
      ]
     },
     "metadata": {},
     "output_type": "display_data"
    }
   ],
   "source": [
    "## Test\n",
    "## should be a kind of bird shape\n",
    "simulate([0,0,0,3,2,0,0,2,0,4,3,1,0,0,1,0,4,0,0])    \n",
    " "
   ]
  },
  {
   "cell_type": "code",
   "execution_count": 35,
   "metadata": {
    "collapsed": false
   },
   "outputs": [
    {
     "data": {
      "image/png": "[encoded data removed]",
      "text/plain": [
       "<matplotlib.figure.Figure at 0xb293908>"
      ]
     },
     "metadata": {},
     "output_type": "display_data"
    }
   ],
   "source": [
    "# a hexagon\n",
    "simulate([0,1,0,1,0,1,0,1,0,1,0,1])  "
   ]
  },
  {
   "cell_type": "markdown",
   "metadata": {},
   "source": [
    "### C.2 Matrices\n",
    "Matrices are 2D arrays (rectangular arrays) of values and have lots of useful mathematical properties. You can represent these with nested lists:\n",
    "\n",
    "    [[1, 2, 3, 4],\n",
    "     [4, 5, 6, 7],\n",
    "     [0, 0, 0, 1]]\n",
    "     \n",
    "This is a 3x4 matrix  (3 rows, 4 columns). Each row always has the same number of columns. \n",
    "### Task\n",
    "We need to be able to do some basic mathematical operations on these matrices. Your problem is to write these functions. *All functions should return new matrices and not change the ones they are passed.*\n",
    "* `pretty_print(m)` should print out each element of m as a neat matrix. E.g. it should print [[1,2,3], [4,5,6]] as:\n",
    "        1  2  3\n",
    "        4  5  6\n",
    "\n",
    "Note for this that you can use a special formatting syntax to make the numbers line up:\n",
    "\n",
    "   print \"% 5d\" % n\n",
    "   \n",
    "will print an integer number with enough leading spaces to make it 5 characters long. \"% 5d\" means \"substitute [space character fill]  [to 5 characters]  \\<integer\\>\"\n",
    "\n",
    "* `add_scalar(m, a)` should add the number `a` to each element of matrix `m`\n",
    "* `mul_scalar(m, a)` should multiply each element of matrix `m` by the number `a`.\n",
    "* `add_matrix(m1, m2)` should add two matrices together. The matrices **must be the same size** for this to work.\n",
    "* `fill(rows, cols, n)` should create a new matrix with size `rows x cols` and fill each element with the number `n`.\n",
    "* `hstack(m1, m2)` should join matrices m1 and m2, so that m2 is to the *right* of m2. m1 and m2 must have the same number of *rows*. For example:    \n",
    "\n",
    "         [[1 2]     [[0 8 9]\n",
    "         [3 4]]      [9 1 4]]\n",
    "\n",
    "will become:\n",
    "\n",
    "         [[1 2 0 8 9]\n",
    "         [3 4 9 1 4]]\n",
    "         \n",
    "<font color=\"red\"> Note that I've omitted the commas for clarity here, you still need to put them in the code! </font>         \n",
    "\n",
    "* `vstack(m1, m2)` should join matrices m1 and m2, so that m2 is to the *bottom* of m2. m1 and m2 must have the same number of *columns*.\n",
    "\n",
    "* `transpose(m1)` (*trickier*). **Transposing** a matrix means exchanging the rows and columns. For example:\n",
    "  \n",
    "      [[1 2 3]\n",
    "       [4 5 6]\n",
    "       [7 8 9]]\n",
    "    \n",
    "will become:\n",
    "\n",
    "      [[1 4 7]\n",
    "       [2 5 8]\n",
    "       [3 6 9]]\n",
    "\n",
    "* `mul_matrix(m1, m2)` (*trickier*) should add multiply two matrices together using **matrix multiplication**. The matrix multiplication rule is given [here](https://www.mathsisfun.com/algebra/matrix-multiplying.html) if you don't know it.\n",
    "\n",
    "\n",
    "#### Caveats\n",
    "Nested lists aren't a very efficient way to represent or use lists; real matrix use will normally use specialised data structures to do operations extremely quickly."
   ]
  },
  {
   "cell_type": "code",
   "execution_count": 90,
   "metadata": {
    "collapsed": false
   },
   "outputs": [],
   "source": [
    "# Solution goes here\n",
    "def pretty_print(mat):\n",
    "    for row in mat:\n",
    "        for item in row:\n",
    "            print \"% 5d\" % item,\n",
    "        print\n",
    "    print\n",
    "        \n",
    "def add_scalar(mat, scalar):\n",
    "    result = []\n",
    "    for row in mat:\n",
    "        curr = []\n",
    "        for item in row:\n",
    "            curr.append(item + scalar)\n",
    "        result.append(curr)\n",
    "    return result\n",
    "\n",
    "def mul_scalar(mat, scalar):\n",
    "    result = []\n",
    "    for row in mat:\n",
    "        curr = []\n",
    "        for item in row:\n",
    "            curr.append(item * scalar)\n",
    "        result.append(curr)\n",
    "    return result\n",
    "\n",
    "def fill(rows, cols, n):\n",
    "    result = []\n",
    "    for y in range(rows):\n",
    "        curr = []\n",
    "        for x in range(cols):\n",
    "            curr.append(n)\n",
    "        result.append(curr)\n",
    "    return result\n",
    "\n",
    "def hstack(m1, m2):\n",
    "    result = []\n",
    "    for y in range(len(m1)):\n",
    "        result.append(m1[y] + m2[y])\n",
    "    return result\n",
    "\n",
    "def vstack(m1, m2):\n",
    "    result = []\n",
    "    result = m1 + m2\n",
    "    return result\n",
    "\n",
    "def transpose(mat):\n",
    "    result = []\n",
    "    for i in range(len(mat[0])):\n",
    "        result.append([None] * len(mat))\n",
    "    \n",
    "    for y, row in enumerate(mat):\n",
    "        for x, item in enumerate(row):\n",
    "            result[x][y] = item\n",
    "    return result\n",
    "\n",
    "def dot_product(vec1, vec2):\n",
    "    result = 0\n",
    "    \n",
    "    for i in range(len(vec1)):\n",
    "        result += vec1[i] * vec2[i]\n",
    "    return result\n",
    "\n",
    "def get_col(n, mat):\n",
    "    result = []\n",
    "    for row in mat:\n",
    "        result.append(row[n])\n",
    "    \n",
    "    return result\n",
    "        \n",
    "def mul_matrix(m1, m2):\n",
    "    result = []\n",
    "    for i in range(len(m1)):\n",
    "        result.append([None] * len(m2[0]))\n",
    "\n",
    "    if len(m1[0]) != len(m2):\n",
    "        return [[]]\n",
    "    else:\n",
    "        for m1_y, m1_row in enumerate(m1):\n",
    "            for m2_x in range(len(m2[0])):\n",
    "                m2_col = get_col(m2_x, m2)\n",
    "                result[m1_y][m2_x] = dot_product(m1_row, m2_col)\n",
    "    \n",
    "    return result"
   ]
  },
  {
   "cell_type": "code",
   "execution_count": 91,
   "metadata": {
    "collapsed": false
   },
   "outputs": [
    {
     "name": "stdout",
     "output_type": "stream",
     "text": [
      "    1     2     3\n",
      "    4     5     6\n",
      "    7     8     9\n",
      "\n",
      "    2     3     4\n",
      "    5     6     7\n",
      "    8     9    10\n",
      "\n",
      "    2     4     6\n",
      "    8    10    12\n",
      "   14    16    18\n",
      "\n",
      "    0     0     0     0\n",
      "    0     0     0     0\n",
      "    0     0     0     0\n",
      "\n",
      "    1     2     3     0     0     0     0\n",
      "    4     5     6     0     0     0     0\n",
      "    7     8     9     0     0     0     0\n",
      "\n",
      "    1     2     3\n",
      "    4     5     6\n",
      "    7     8     9\n",
      "    0     0     0\n",
      "    0     0     0\n",
      "    0     0     0\n",
      "    0     0     0\n",
      "\n",
      "    1     4     7\n",
      "    2     5     8\n",
      "    3     6     9\n",
      "\n",
      "    0     0     0     0\n",
      "    1     1     1     0\n",
      "    2     2     2     0\n",
      "\n",
      "    0     1     2\n",
      "    0     1     2\n",
      "    0     1     2\n",
      "    0     0     0\n",
      "\n",
      "    8     8     8     0\n",
      "   17    17    17     0\n",
      "   26    26    26     0\n",
      "\n",
      "    0\n",
      "\n"
     ]
    }
   ],
   "source": [
    "## Tests\n",
    "## All of the following should work correctly\n",
    "a = [[1,2,3], [4,5,6], [7,8,9]]\n",
    "pretty_print(a)\n",
    "pretty_print(add_scalar(a,1))\n",
    "pretty_print(mul_scalar(a,2))\n",
    "pretty_print(fill(3,4,0))\n",
    "pretty_print(hstack(a, fill(3,4,0)))\n",
    "pretty_print(vstack(a, fill(4,3,0)))\n",
    "pretty_print(transpose(a))\n",
    "b = [[0,0,0,0],[1,1,1,0],[2,2,2,0]]\n",
    "pretty_print(b)\n",
    "pretty_print(transpose(b))\n",
    "pretty_print(mul_matrix(a,b))\n",
    "pretty_print(mul_matrix(a,[[1,0,1]]))"
   ]
  },
  {
   "cell_type": "code",
   "execution_count": null,
   "metadata": {
    "collapsed": true
   },
   "outputs": [],
   "source": []
  }
 ],
 "metadata": {
  "kernelspec": {
   "display_name": "Python 2",
   "language": "python",
   "name": "python2"
  },
  "language_info": {
   "codemirror_mode": {
    "name": "ipython",
    "version": 2
   },
   "file_extension": ".py",
   "mimetype": "text/x-python",
   "name": "python",
   "nbconvert_exporter": "python",
   "pygments_lexer": "ipython2",
   "version": "2.7.10"
  }
 },
 "nbformat": 4,
 "nbformat_minor": 0
}
