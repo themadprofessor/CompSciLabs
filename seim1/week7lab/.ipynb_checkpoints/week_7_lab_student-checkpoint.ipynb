{
 "cells": [
  {
   "cell_type": "markdown",
   "metadata": {},
   "source": [
    "# Week 7 : Lab \n",
    " ## Data structures: Dictionaries and classes\n",
    " ##### CS1P - University of Glasgow - John Williamson - 2016"
   ]
  },
  {
   "cell_type": "code",
   "execution_count": 5,
   "metadata": {
    "collapsed": true
   },
   "outputs": [],
   "source": [
    "from __future__ import division   # make division work like Python 3.x"
   ]
  },
  {
   "cell_type": "markdown",
   "metadata": {},
   "source": []
  },
  {
   "cell_type": "markdown",
   "metadata": {},
   "source": [
    "\n",
    "## Lab exercise\n",
    "\n",
    "**You must make a reasonble attempt at this exercise to gain a tick for this work**.\n",
    "\n",
    "<font color=\"red\"> Remember to save your work frequently! </font>\n"
   ]
  },
  {
   "cell_type": "markdown",
   "metadata": {},
   "source": [
    "## Purpose of this lab\n",
    "This lab will exercise your skills in:\n",
    "\n",
    "* iterating over dictionaries\n",
    "* representing data as dictionaries\n",
    "* using dictionaries to package up arguments\n",
    "* writing adventure games\n"
   ]
  },
  {
   "cell_type": "markdown",
   "metadata": {},
   "source": [
    "\n",
    "## Before the lab\n",
    "* Complete at least the A exercises. \n"
   ]
  },
  {
   "cell_type": "markdown",
   "metadata": {},
   "source": [
    "## During the lab session\n",
    "* Complete the B exercise. This is a single, longer exercise this week, and will require some creativity on your part.\n"
   ]
  },
  {
   "cell_type": "markdown",
   "metadata": {},
   "source": [
    "## A. Quick problems\n",
    "These should take around 10 minutes each"
   ]
  },
  {
   "cell_type": "markdown",
   "metadata": {},
   "source": [
    "## A.1 Key value exchange\n",
    "Write a function `swap_dict()`, which returns a new dictionary with keys and values in a dictionary swapped. For example:\n",
    "\n",
    "    {\"a\":1, \"b\":2}\n",
    "    \n",
    "should become\n",
    "\n",
    "    {1:\"a\", 2:\"b\"}\n"
   ]
  },
  {
   "cell_type": "code",
   "execution_count": 2,
   "metadata": {
    "collapsed": true
   },
   "outputs": [],
   "source": [
    "# Solution goes here\n",
    "def swap_dict(dic):\n",
    "    return dict(zip(dic.values(), dic.keys()))"
   ]
  },
  {
   "cell_type": "code",
   "execution_count": 3,
   "metadata": {
    "collapsed": false
   },
   "outputs": [
    {
     "name": "stdout",
     "output_type": "stream",
     "text": [
      "All OK!\n"
     ]
    }
   ],
   "source": [
    "## Tests\n",
    "assert(swap_dict({\"a\":1, \"b\":2})=={1:\"a\", 2:\"b\"})\n",
    "assert(swap_dict({\"a\":1, \"b\":2, \"c\":3})=={1:\"a\", 2:\"b\", 3:\"c\"})\n",
    "\n",
    "fruit = {\"apple\":\"red\", \"lime\":\"green\", \"orange\":\"orange\", \"lemon\":\"yellow\"}\n",
    "assert(swap_dict(fruit)=={'orange': 'orange', 'green': 'lime', 'red': 'apple', \n",
    "                          'yellow': 'lemon'})\n",
    "\n",
    "print \"All OK!\""
   ]
  },
  {
   "cell_type": "markdown",
   "metadata": {},
   "source": [
    "## A.2  Word count\n",
    "Write a function that reads in `sentences.txt` and computes the number of times each word appears. Use `.lower()` to convert words to lowerspace. Don't worry about punctuation. Print out the word count neatly, one word per line.\n",
    "Sort the words by frequency (most frequent first). Don't print words that appear less than 6 times.\n",
    "\n",
    "Your output should start:\n",
    "\n",
    "    751 the\n",
    "    202 a\n",
    "    132 of\n",
    "    123 to"
   ]
  },
  {
   "cell_type": "code",
   "execution_count": 14,
   "metadata": {
    "collapsed": false,
    "scrolled": true
   },
   "outputs": [
    {
     "name": "stdout",
     "output_type": "stream",
     "text": [
      "751 the\n",
      "202 a\n",
      "132 of\n",
      "123 to\n",
      "118 and\n",
      "84 in\n",
      "81 is\n",
      "66 was\n",
      "58 on\n",
      "52 with\n",
      "35 for\n",
      "34 he\n",
      "32 it\n",
      "29 are\n",
      "29 from\n",
      "29 will\n",
      "25 his\n",
      "21 we\n",
      "20 at\n",
      "18 but\n",
      "18 were\n",
      "17 into\n",
      "16 they\n",
      "16 your\n",
      "16 you\n",
      "15 that\n",
      "15 when\n",
      "13 this\n",
      "13 by\n",
      "12 than\n",
      "12 be\n",
      "11 old\n",
      "11 high\n",
      "11 as\n",
      "10 she\n",
      "10 strong\n",
      "10 there\n",
      "10 these\n",
      "10 up\n",
      "9 fine\n",
      "9 before\n",
      "9 young\n",
      "9 small\n",
      "9 hard\n",
      "9 new\n",
      "9 red\n",
      "9 makes\n",
      "9 her\n",
      "9 two\n",
      "9 thin\n",
      "9 hot\n",
      "9 used\n",
      "8 both\n",
      "8 bright\n",
      "8 each\n",
      "8 round\n",
      "8 out\n",
      "8 or\n",
      "8 down\n",
      "8 way\n",
      "8 dull\n",
      "8 good\n",
      "8 sharp\n",
      "8 no\n",
      "8 most\n",
      "8 kept\n",
      "8 green\n",
      "7 its\n",
      "7 brown\n",
      "7 large\n",
      "7 tea\n",
      "7 best\n",
      "7 box\n",
      "7 last\n",
      "7 made\n",
      "7 take\n",
      "7 left\n",
      "6 all\n",
      "6 gold\n",
      "6 don't\n",
      "6 paper\n",
      "6 cut\n",
      "6 had\n",
      "6 get\n",
      "6 now\n",
      "6 like\n",
      "6 set\n",
      "6 see\n",
      "6 our\n",
      "6 blue\n",
      "6 men\n",
      "6 hung\n",
      "6 horse\n",
      "6 takes\n",
      "6 their\n",
      "6 white\n",
      "6 took\n",
      "6 wide\n",
      "6 have\n",
      "6 make\n",
      "6 write\n",
      "6 many\n",
      "6 third\n",
      "6 clear\n",
      "6 tall\n"
     ]
    }
   ],
   "source": [
    "# Solution goes here\n",
    "from collections import defaultdict\n",
    "from collections import OrderedDict\n",
    "import operator\n",
    "\n",
    "def count_words(line, dic):\n",
    "    words = line.lower().split()\n",
    "    for word in words:\n",
    "        dic[word] = dic[word] + 1\n",
    "    return dic\n",
    "\n",
    "def print_dict(dic):\n",
    "    for word, count in dic.iteritems():\n",
    "        print count, word\n",
    "\n",
    "with open(\"sentences.txt\") as f:\n",
    "    counts = defaultdict(int)\n",
    "    for line in f:\n",
    "        counts = count_words(line.strip(), counts)\n",
    "    \n",
    "    print_dict(OrderedDict(sorted({word: count for word, count in counts.iteritems() if count >= 6}.items(), key=operator.itemgetter(1), reverse = True)))"
   ]
  },
  {
   "cell_type": "markdown",
   "metadata": {},
   "source": [
    "\n",
    "## A.3 Pretty print\n",
    "\n",
    "Python's default printing of a dictionary is ugly. **Without using `pprint`** (which formats things quite differently), write a function `pretty_print()` to print a dictionary nicely, so that:\n",
    "\n",
    "    {\"monster\":{\"name\":\"Marilith\", \"alignment\":\"chaotic\", \n",
    "    \"hit_points\":20, \"speed\":12, \"armour\":-6, \n",
    "    \"resists\":[\"fire\", \"poision\"]}\n",
    "    \n",
    "is printed out as\n",
    "\n",
    "    monster:\n",
    "        name: Marilith\n",
    "        alignment: chaotic        \n",
    "        hit_points: 20\n",
    "        speed: 12\n",
    "        armour: -6\n",
    "        resists: fire, poision\n",
    "        \n",
    "Dictionaries should be printed using the format `key: value`, one key per line. The order of items does not matter.\n",
    "If a value is a dictionary, print each element of this dictionary on its own line, but indent the line by an extra four spaces, and so on. If the value is a list, print the list as a comma separated list (without square brackets). **Don't worry about dictionaries within lists; just print the element out directly without any special formatting; likewise for list of lists.**\n",
    "\n",
    "*Hint* This problem is easy to solve recursively, and trickier otherwise."
   ]
  },
  {
   "cell_type": "code",
   "execution_count": 22,
   "metadata": {
    "collapsed": false
   },
   "outputs": [
    {
     "name": "stdout",
     "output_type": "stream",
     "text": [
      "monster:\n",
      "    name: Marilith\n",
      "    armour: -6\n",
      "    resists: fire, poision\n",
      "    hit_points: 20\n",
      "    speed: 12\n",
      "    alignment: chaotic\n",
      "{'name': 'Marilith', 'armour': -6, 'resists': ['fire', 'poision'], 'hit_points': 20, 'speed': 12, 'alignment': 'chaotic'}\n"
     ]
    }
   ],
   "source": [
    "# Solution goes here\n",
    "def pretty_print(dic, indent=0):\n",
    "    for key, value in dic.iteritems():\n",
    "        print (\"    \" * indent) + key + \":\",\n",
    "        if isinstance(value, dict):\n",
    "            print\n",
    "            pretty_print(value, indent + 1)\n",
    "        if isinstance(value, list):\n",
    "            print \", \".join(value)\n",
    "        else:\n",
    "            print value\n",
    "        \n",
    "pretty_print({\"monster\":{\"name\":\"Marilith\", \"alignment\":\"chaotic\", \n",
    "\"hit_points\":20, \"speed\":12, \"armour\":-6, \n",
    "\"resists\":[\"fire\", \"poision\"]}})"
   ]
  },
  {
   "cell_type": "markdown",
   "metadata": {},
   "source": [
    "## A.5 kwargs\n",
    "Python has a clever syntax to allow a dictionary to be used in place of named parameters.\n",
    "For example, the code below uses named arguments (keyword arguments):"
   ]
  },
  {
   "cell_type": "code",
   "execution_count": null,
   "metadata": {
    "collapsed": false
   },
   "outputs": [],
   "source": [
    "def reaction(element_1, element_2, result):\n",
    "    print \"%s reacts with %s and %s happens\" % (element_1, element_2, result)\n",
    "reaction(element_1=\"oxygen\", element_2=\"iron\", result=\"rusting\")"
   ]
  },
  {
   "cell_type": "markdown",
   "metadata": {},
   "source": [
    "You can tell Python to use a dictionary to get the mappings of parameters and arguments, instead of writing them in the call directly. To do this, prefix the dictionary with `**`. This must be the last argument in an argument list. And the dictionary had better have the right names for all of the mandatory parameters."
   ]
  },
  {
   "cell_type": "code",
   "execution_count": null,
   "metadata": {
    "collapsed": false
   },
   "outputs": [],
   "source": [
    "dict_params = {\"element_1\":\"oxygen\", \"element_2\":\"hydrogen\", \"result\":\"an explosion+water\"}\n",
    "# now we use the parameter->argument mapping from the given dictionary instead\n",
    "reaction(**dict_params)"
   ]
  },
  {
   "cell_type": "markdown",
   "metadata": {},
   "source": [
    "We can do the same when receiving parameters. If we have a parameter called `**something` then something will become a dictionary which \"soaks up\" any remaining parameters."
   ]
  },
  {
   "cell_type": "code",
   "execution_count": 23,
   "metadata": {
    "collapsed": false
   },
   "outputs": [
    {
     "name": "stdout",
     "output_type": "stream",
     "text": [
      "{'element_1': 'iron', 'element_2': 'carbon', 'result': 'steel formation'}\n",
      "iron reacts with carbon and steel formation happens\n"
     ]
    }
   ],
   "source": [
    "def reaction_kwargs(**kwargs):\n",
    "    print kwargs # this is a dictionary representation of the parameter->argument mapping\n",
    "    print \"%s reacts with %s and %s happens\" % (kwargs[\"element_1\"], kwargs[\"element_2\"], kwargs[\"result\"])\n",
    "reaction_kwargs(element_1=\"iron\", element_2=\"carbon\", result=\"steel formation\")   "
   ]
  },
  {
   "cell_type": "markdown",
   "metadata": {},
   "source": [
    "## Task"
   ]
  },
  {
   "cell_type": "markdown",
   "metadata": {
    "collapsed": true
   },
   "source": [
    "Write a function `argument_table()` which can take any number of keyword arguments, and prints out a neat table of the keywords and their values. A header should show the total number of keyword arguments passed\n",
    "\n",
    "For example `argument_table(x=5, y=7, animal=\"jellyfish\")` should print:\n",
    "\n",
    "    Arguments: 3\n",
    "        x               5\n",
    "        y               5\n",
    "        animal          jellyfish\n",
    "    \n",
    "`argument_table(a=1, b=[1,2,3])` should print:\n",
    "\n",
    "    Arguments: 2\n",
    "        a               1\n",
    "        b               [1,2,3]\n",
    "    \n",
    "Use `.ljust()` to line up the strings neatly. Assume keys (i.e. parameter names) are no more than 30 characters long."
   ]
  },
  {
   "cell_type": "code",
   "execution_count": 29,
   "metadata": {
    "collapsed": false
   },
   "outputs": [
    {
     "name": "stdout",
     "output_type": "stream",
     "text": [
      "Arguments: 3\n",
      "    y                              7\n",
      "    x                              5\n",
      "    animal                         jellyfish\n"
     ]
    }
   ],
   "source": [
    "# Solution goes here\n",
    "def argument_table(**args):\n",
    "    print \"Arguments:\", len(args)\n",
    "    for key, value in args.iteritems():\n",
    "        print \"    \" + key.ljust(30), value\n",
    "\n",
    "argument_table(x=5, y=7, animal=\"jellyfish\")"
   ]
  },
  {
   "cell_type": "markdown",
   "metadata": {},
   "source": [
    "## B. An adventure game\n",
    "**This problem will require more independent work than previous exercises -- there is less detailed guidance.**\n",
    "\n",
    "**You will have to build a complete working program from scratch, without any support code.**\n",
    "\n",
    "-----------\n",
    "\n",
    "In the very old days, computers often had no graphics whatsoever (just text) or very limited graphical capabilities. People used to play **text adventure** games, like the famous Zork:\n",
    "\n",
    "\n",
    "    West of House\n",
    "    This is an open field west of a white house, \n",
    "    with a boarded front door.\n",
    "    There is a small mailbox here.\n",
    "    A rubber mat saying 'Welcome to Zork!' \n",
    "    lies by the door.\n",
    "\n",
    "    >go north\n",
    "    North of House\n",
    "    You are facing the north side of a white house.  \n",
    "    There is no door here, and all the windows are barred.\n",
    "    \n",
    "    >examine house\n",
    "    The house is a beautiful colonial house which \n",
    "    is painted white.  \n",
    "    It is clear that the owners must have \n",
    "    been extremely wealthy.\n",
    "\n",
    "The user's input is shown after the `>` in this transcript. (You can play [Zork online](http://iplayif.com/?story=http%3A%2F%2Fwww.ifarchive.org%2Fif-archive%2Fgames%2Fzcode%2Fzdungeon.z5))\n",
    "\n",
    "These games take text input from the user (**actions**) and display descriptions of what happens when you perform these actions. "
   ]
  },
  {
   "cell_type": "markdown",
   "metadata": {},
   "source": [
    "### Task\n",
    "Your task is to build a simple adventure game, *defining the game world using dictionaries.*\n",
    "\n",
    "### Outline\n",
    "* A game world has **rooms**. Each room has a description.\n",
    "* Rooms are connected to each other by **directions** (north, south, east, west, up, down).\n",
    "* A room can contain **objects**.\n",
    "* An **object** has a description.\n",
    "* The player has an **inventory** in which you can store **objects** and carry them around.\n",
    "* There are a set of **actions** the player can do.\n",
    "* Each **action** from the use consists of a verb and possibly followed by a noun separated by a space: \n",
    "    * `look` (verb=look)\n",
    "    * `go north`  (verb=go, noun=north)\n",
    "    * `take dog`  (verb=take, noun=dog)\n",
    "    * `drop dog`  (verb=drop, noun=dog)\n",
    "    * `quit` (verb = look)\n",
    "----\n",
    "\n",
    "* Note that the elements written in **bold** in the section above should be represented as *dictionaries* in your code. "
   ]
  },
  {
   "cell_type": "markdown",
   "metadata": {},
   "source": [
    "### Actions\n",
    "Your game must support the following actions:\n",
    "* *go [direction]* change the current room to the one connected by the given direction, if that's possible. \n",
    "* *examine [object]* print the description of the object, if it is in the room *or* in your inventory.\n",
    "* *inventory* print the objects you are carrying.\n",
    "* *exits* print the exits from this room (e.g. `north, south, up`).\n",
    "* *take [object]* Take an object from a room, if the object is there.\n",
    "* *drop [object]* Put an object from the players inventory down in a room.\n",
    "* *examine [object]* Print the description of an object in the room *or* your inventory.\n",
    "* *look* describe the room again.\n",
    "* *quit* stop playing.\n",
    "\n",
    "The description of the room should include all objects lying in it, and *the full description should be printed whenever you enter a room.*\n",
    "\n",
    "You will have to describe your game world using dictionaries. Consider this example world (you can use this to get started):"
   ]
  },
  {
   "cell_type": "code",
   "execution_count": 6,
   "metadata": {
    "collapsed": false
   },
   "outputs": [],
   "source": [
    "world = {\n",
    "        # these are the rooms in the world\n",
    "        \"rooms\":\n",
    "        {\n",
    "            \"dungeon\":\n",
    "                {\n",
    "                    \"description\":\"A cold dark room with a wooden hatch and a ladder leading up to it.\",\n",
    "                    \"exits\": {\"up\": \"guard_room\"},\n",
    "                    \"objects\":{\"carrot\":\"a fresh orange carrot\"},\n",
    "                },\n",
    "\n",
    "             \"guard_room\":\n",
    "                 {\n",
    "                     \"description\":\"A small stone chamber with a candle burning on an empty desk. The room smells of tallow and straw.\",\n",
    "                     \"objects\": {\"quill\":\"An old-fashioned quill pen\", \n",
    "                                \"parchment\":\"An oddly-stained parchment paper.\"},\n",
    "                     \"exits\" : {\"down\":\"dungeon\", \n",
    "                                \"north\":\"stone_corridor\"}\n",
    "                 },\n",
    "\n",
    "            \"stone_corridor\":\n",
    "                 {\n",
    "                     \"description\":\"A dank, narrow chamber of coarse rock. Thick veins of nitre run down the walls. This way is blocked.\",                 \n",
    "                     \"objects\" : {\"torch\":\"A charred torch\"},\n",
    "                     \"exits\" : {\"south\":\"guard_room\"}\n",
    "                 }\n",
    "        },\n",
    "        # this defines how the game will start off each time\n",
    "        \"start_room\": \"dungeon\",\n",
    "        \"start_inventory\" : {\"hood\":\"A worn hood made of coarse, greyish fabric.\"},\n",
    "    \n",
    "}\n"
   ]
  },
  {
   "cell_type": "markdown",
   "metadata": {},
   "source": [
    "Starting the game should print something like:\n",
    "\n",
    "    A cold dark room with a wooden hatch and a ladder \n",
    "    leading up to it.\n",
    "    There is a carrot here.\n",
    "        \n",
    "    >\n",
    "    \n",
    "And typing \"go up\" should print:\n",
    "\n",
    "    > go up\n",
    "    A small stone chamber with a candle burning on\n",
    "    an empty desk.\n",
    "    There is a quill and a parchment here.\n",
    "    "
   ]
  },
  {
   "cell_type": "markdown",
   "metadata": {},
   "source": [
    "The game should give responses along these lines:    \n",
    "    \n",
    "    >inventory\n",
    "    You are carrying:\n",
    "    hood\n",
    "    \n",
    "    >examine quill\n",
    "    An old-fashioned quill pen\n",
    "    \n",
    "    >examine hood\n",
    "    A worn hood made of coarse, greyish fabric.\n",
    "    \n",
    "    >take quill\n",
    "    You take the quill\n",
    "    \n",
    "    >take obelisk\n",
    "    I don't see an obelisk here.\n",
    "    \n",
    "    >go down\n",
    "    \n",
    "    A cold dark room with a wooden hatch and a ladder \n",
    "    leading up to it.\n",
    "    There is a carrot here.\n",
    "    \n",
    "    >drop quill\n",
    "    You drop the quill\n",
    "    \n",
    "    >look\n",
    "    A cold dark room with a wooden hatch and a ladder \n",
    "    leading up to it.\n",
    "    There is a carrot and a quill here.    \n",
    "    \n",
    "    >exits\n",
    "    You can go: up\n",
    "    \n",
    "    >quit\n",
    "    Thank you for playing!   "
   ]
  },
  {
   "cell_type": "markdown",
   "metadata": {},
   "source": [
    "Steps:\n",
    "\n",
    "* Write a simple function that takes user input\n",
    "* Split the user input using `split()` to separate words by spaces\n",
    "* Write functions to handle each of the actions (e.g. `def go(direction):...` )\n",
    "* Start with just `go`, and then add the others\n",
    "* Each action function should take an argument representing what the noun was, if there was one.\n",
    "* Map your functions using a dictionary of verb names to functions. Remember that functions are first-class in Python!\n",
    "* Use the first word to look up the right function to call.\n",
    "* Pass the noun as an argument (if required)."
   ]
  },
  {
   "cell_type": "markdown",
   "metadata": {},
   "source": [
    "### Hints\n",
    "* There should be a main `game()` function that reads user input and then performs the relevant commands, printing the output as needed. It should loop until the user enters `quit`.\n",
    "\n",
    "* Make sure you properly reset the inventory and starting room on each start, and always work on a **fresh, deep copy** of the game world definition, so that taking the carrot (for example) in one game doesn't remove it from the next time you play it.\n",
    "\n",
    "Remember, to deep copy a dictionary:"
   ]
  },
  {
   "cell_type": "code",
   "execution_count": null,
   "metadata": {
    "collapsed": true
   },
   "outputs": [],
   "source": [
    "import copy\n",
    "d = {\"a\":{\"b\":1}}\n",
    "deepcopy = copy.deepcopy(d)"
   ]
  },
  {
   "cell_type": "markdown",
   "metadata": {},
   "source": [
    "If you manage to get this working, then try making a more complete (or totally different) game world.        "
   ]
  },
  {
   "cell_type": "code",
   "execution_count": 11,
   "metadata": {
    "collapsed": false
   },
   "outputs": [
    {
     "name": "stdout",
     "output_type": "stream",
     "text": [
      "A cold dark room with a wooden hatch and a ladder leading up to it.\n",
      "There is: carrot\n",
      ">look\n",
      "A cold dark room with a wooden hatch and a ladder leading up to it.\n",
      "There is: carrot\n",
      ">go up\n",
      "A small stone chamber with a candle burning on an empty desk. The room smells of tallow and straw.\n",
      "There is: parchment and a quill\n",
      ">quit\n",
      "Thanks for playing!\n"
     ]
    },
    {
     "ename": "SystemExit",
     "evalue": "0",
     "output_type": "error",
     "traceback": [
      "An exception has occurred, use %tb to see the full traceback.\n",
      "\u001b[0;31mSystemExit\u001b[0m\u001b[0;31m:\u001b[0m 0\n"
     ]
    }
   ],
   "source": [
    "# Solution goes here\n",
    "import copy\n",
    "\n",
    "def go(world, room, inv, args):\n",
    "    if args[0] in world[\"rooms\"][room][\"exits\"].keys():\n",
    "        room = world[\"rooms\"][room][\"exits\"][args[0]]\n",
    "        look(world, room, inv, args)\n",
    "    else:\n",
    "        print \"You can't go\", args[0]\n",
    "    \n",
    "    return world, room, inv\n",
    "\n",
    "def examine(world, room, inv, args):\n",
    "    if args[0] in inv.keys():\n",
    "        print inv[args[0]]\n",
    "    elif args[0] in world[\"rooms\"][room][\"objects\"].keys():\n",
    "        print world[\"rooms\"][room][\"objects\"][args[0]]\n",
    "    else:\n",
    "        print args[0], \"is not in this room or your inventory.\"\n",
    "        \n",
    "    return world, room, inv\n",
    "\n",
    "def inventory(world, room, inv, args):\n",
    "    print \"You are carrying:\"\n",
    "    for item in inv.keys():\n",
    "        print item\n",
    "        \n",
    "    return world, room, inv\n",
    "\n",
    "def exits(world, room, inv, args):\n",
    "    print \"You can go:\",\n",
    "    for exit in world[\"rooms\"][room][\"exits\"].keys():\n",
    "        print exit,\n",
    "    \n",
    "    print\n",
    "    return world, room, inv\n",
    "\n",
    "def take(world, room, inv, args):\n",
    "    if args[0] in world[\"rooms\"][room][\"objects\"].keys():\n",
    "        item = world[\"rooms\"][room][\"objects\"][args[0]]\n",
    "        del world[\"rooms\"][room][\"objects\"][args[0]]\n",
    "        inv[args[0]] = item\n",
    "        print \"You take the\", args[0]\n",
    "    else:\n",
    "        print \"There is no\", args[0], \"in here.\"\n",
    "    \n",
    "    return world, room, inv\n",
    "\n",
    "def drop(world, room, inv, args):\n",
    "    if args[0] in inv.keys():\n",
    "        item = inv[args[0]]\n",
    "        del inv[args[0]]\n",
    "        world[\"rooms\"][room][\"objects\"][args[0]] = item\n",
    "        print \"You drop the\", args[0]\n",
    "    else:\n",
    "        print \"You don't have the\", args[0]\n",
    "    \n",
    "    return world, room, inv\n",
    "\n",
    "def look(world, room, inv, args):\n",
    "    print world[\"rooms\"][room][\"description\"]\n",
    "    print \"There is\", \" and a \".join(world[\"rooms\"][room][\"objects\"].keys())\n",
    "    return world, room, inv\n",
    "    \n",
    "def quit(world, room, inv, args):\n",
    "    print \"Thanks for playing!\"\n",
    "    import sys\n",
    "    sys.exit(0)\n",
    "\n",
    "COMMANDS = {\n",
    "    \"go\": go,\n",
    "    \"examine\": examine,\n",
    "    \"inventory\": inventory,\n",
    "    \"exits\": exits,\n",
    "    \"take\": take,\n",
    "    \"drop\": drop,\n",
    "    \"look\": look,\n",
    "    \"quit\": quit\n",
    "}\n",
    "    \n",
    "def get_command(prompt=\">\"):\n",
    "    cmd = raw_input(prompt).split()\n",
    "    while cmd[0] not in COMMANDS.keys():\n",
    "        print cmd[0], \"is not a valid command\"\n",
    "        \n",
    "    return cmd\n",
    "    \n",
    "def game():\n",
    "    my_world = copy.deepcopy(world)\n",
    "    curr_inv = my_world[\"start_inventory\"]\n",
    "    curr_room = my_world[\"start_room\"]\n",
    "    look(my_world, curr_room, curr_inv, None)\n",
    "    \n",
    "    while True:\n",
    "        cmd = get_command()\n",
    "        my_world, curr_room, curr_inv = COMMANDS[cmd[0]](my_world, curr_room, curr_inv, cmd[1:])\n",
    "        \n",
    "game()"
   ]
  },
  {
   "cell_type": "markdown",
   "metadata": {},
   "source": [
    "\n",
    "\n",
    "## Extended problems\n",
    "These *extended* problems are optional for students who are keen to learn more. If you've finished the whole lab and want to explore these ideas in more depth, these problems and resources are intended to help you do that. <font color=\"red\"> You do not need to attempt any of this section to receive a tick! </font>\n",
    "\n",
    "## C.1 Better adventure game\n",
    "You can't really do anything in the game in B.1 except wander about shuffling objects from room to room. \n",
    "\n",
    "To make it interesting, we need at least a few more things:\n",
    "* **World state**. We should be able to change things in the world (e.g. make a guard angry). \n",
    "* **Use**. We should be able to use objects on other objects with a new **use** action.\n",
    "* **Fixed objects**. We should be able to mark objects as fixed, so we can't take them, but can do stuff to them (like curtains we can set on fire, but not take with us).\n",
    "\n",
    "### World state\n",
    "A traditional way to represent world state is as a set of **flags** (values that can be True or False). For example, we might have:\n",
    "\n",
    "      flags = { \"guard_angry\": False, \n",
    "                \"escaped\":False, \n",
    "                \"tunnel_collapsed\": False }\n",
    "    \n",
    "at the start of a game. \n",
    "\n",
    "### Use\n",
    "We might make the `guard_angry` flag become True if you **use** a `cudgel` on the `guard`. You need to add a new **use** command. **use** needs to take **one** or **two** nouns so you can write things like:\n",
    "    \n",
    "    use trapdoor\n",
    "    use matches on curtains\n",
    "\n",
    "There should be a use table to list these, which maps object pairs to functions to call:\n",
    "\n",
    "    use = {\n",
    "            (\"trapdoor\", None) : open_trapdoor,\n",
    "            (\"matches\", \"curtains\"), start_fire\n",
    "          }\n",
    "          \n",
    "The functions should change the world state and print a message describing what has happened. You should also add functionality so that entering or leaving a room can change the world state by calling a function.  \n",
    "\n",
    "### Fixed objects\n",
    "To solve the last problem, create a dictionary that stores object properties like their \"fixedness\". Then look up the object in the dictionary whenever the user tries to **take** something.\n",
    "\n",
    "\n",
    "### Task\n",
    "Implement these changes, and **adjust the game world to use them.**\n",
    "\n",
    "You should be able to create a world where actions have persistent effects; the flags should for example change the effect of actions, or change the description of rooms.  Opening a window in a room might change the description of light entering it.\n",
    "\n",
    "You may also want to alter the exits available from rooms as a function of the world state; for example, flipping a lever might raise a drawbridge and cut off a possible exit (or lower it and create a new one.)\n",
    "\n",
    "Finally, consider allowing objects to appear when other objects are examined (\"examine binoculars\" -> \"you find a nifty lens!\" -> \"take lens\"). Again, use a dictionary to represent this.\n"
   ]
  },
  {
   "cell_type": "code",
   "execution_count": null,
   "metadata": {
    "collapsed": true
   },
   "outputs": [],
   "source": [
    "# Solution goes here\n",
    "import copy\n",
    "\n",
    "def go(world, room, inv, args):\n",
    "    if args[0] in world[\"rooms\"][room][\"exits\"].keys():\n",
    "        room = world[\"rooms\"][room][\"exits\"][args[0]]\n",
    "        look(world, room, inv, args)\n",
    "    else:\n",
    "        print \"You can't go\", args[0]\n",
    "    \n",
    "    return world, room, inv\n",
    "\n",
    "def examine(world, room, inv, args):\n",
    "    if args[0] in inv.keys():\n",
    "        print inv[args[0]]\n",
    "    elif args[0] in world[\"rooms\"][room][\"objects\"].keys():\n",
    "        print world[\"rooms\"][room][\"objects\"][args[0]]\n",
    "    else:\n",
    "        print args[0], \"is not in this room or your inventory.\"\n",
    "        \n",
    "    return world, room, inv\n",
    "\n",
    "def inventory(world, room, inv, args):\n",
    "    print \"You are carrying:\"\n",
    "    for item in inv.keys():\n",
    "        print item\n",
    "        \n",
    "    return world, room, inv\n",
    "\n",
    "def exits(world, room, inv, args):\n",
    "    print \"You can go:\",\n",
    "    for exit in world[\"rooms\"][room][\"exits\"].keys():\n",
    "        print exit,\n",
    "    \n",
    "    print\n",
    "    return world, room, inv\n",
    "\n",
    "def take(world, room, inv, args):\n",
    "    if args[0] in world[\"rooms\"][room][\"objects\"].keys():\n",
    "        item = world[\"rooms\"][room][\"objects\"][args[0]]\n",
    "        del world[\"rooms\"][room][\"objects\"][args[0]]\n",
    "        inv[args[0]] = item\n",
    "        print \"You take the\", args[0]\n",
    "    else:\n",
    "        print \"There is no\", args[0], \"in here.\"\n",
    "    \n",
    "    return world, room, inv\n",
    "\n",
    "def drop(world, room, inv, args):\n",
    "    if args[0] in inv.keys():\n",
    "        item = inv[args[0]]\n",
    "        del inv[args[0]]\n",
    "        world[\"rooms\"][room][\"objects\"][args[0]] = item\n",
    "        print \"You drop the\", args[0]\n",
    "    else:\n",
    "        print \"You don't have the\", args[0]\n",
    "    \n",
    "    return world, room, inv\n",
    "\n",
    "def look(world, room, inv, args):\n",
    "    print world[\"rooms\"][room][\"description\"]\n",
    "    print \"There is:\", world[\"rooms\"][room][\"objects\"].keys()\n",
    "    return world, room, inv\n",
    "    \n",
    "def quit(world, room, inv, args):\n",
    "    print \"Thanks for playing!\"\n",
    "    import sys\n",
    "    sys.exit(0)\n",
    "\n",
    "COMMANDS = {\n",
    "    \"go\": go,\n",
    "    \"examine\": examine,\n",
    "    \"inventory\": inventory,\n",
    "    \"exits\": exits,\n",
    "    \"take\": take,\n",
    "    \"drop\": drop,\n",
    "    \"look\": look,\n",
    "    \"quit\": quit\n",
    "}\n",
    "    \n",
    "def get_command(prompt=\">\"):\n",
    "    cmd = raw_input(prompt).split()\n",
    "    while cmd[0] not in COMMANDS.keys():\n",
    "        print cmd[0], \"is not a valid command\"\n",
    "        \n",
    "    return cmd\n",
    "    \n",
    "def game():\n",
    "    my_world = copy.deepcopy(world)\n",
    "    curr_inv = my_world[\"start_inventory\"]\n",
    "    curr_room = my_world[\"start_room\"]\n",
    "    look(my_world, curr_room, curr_inv, None)\n",
    "    \n",
    "    while True:\n",
    "        cmd = get_command()\n",
    "        my_world, curr_room, curr_inv = COMMANDS[cmd[0]](my_world, curr_room, curr_inv, cmd[1:])\n",
    "        \n",
    "game()"
   ]
  }
 ],
 "metadata": {
  "kernelspec": {
   "display_name": "Python [Root]",
   "language": "python",
   "name": "Python [Root]"
  },
  "language_info": {
   "codemirror_mode": {
    "name": "ipython",
    "version": 2
   },
   "file_extension": ".py",
   "mimetype": "text/x-python",
   "name": "python",
   "nbconvert_exporter": "python",
   "pygments_lexer": "ipython2",
   "version": "2.7.12"
  }
 },
 "nbformat": 4,
 "nbformat_minor": 0
}
