{
 "cells": [
  {
   "cell_type": "markdown",
   "metadata": {},
   "source": [
    " # Introduction to CS1P\n",
    " ##### CS1P - University of Glasgow - John Williamson - 2016\n",
    " \n",
    " ### These instructions are for students taking CS1P.\n",
    " #### **For CS1CT instructions, please turn the page over.**"
   ]
  },
  {
   "cell_type": "markdown",
   "metadata": {},
   "source": [
    "## A. Setting up your device to use your phone/tablet/laptop as a voting device\n",
    "### <font color=\"red\">This is essential to participate in lectures </font>\n",
    "\n",
    "All of the lectures will extensively use an online voting system in lectures. This uses your mobile device. Set up your device now so you can participate in lectures.\n",
    "\n",
    "* Go to `http://moodle2.gla.ac.uk/mod/page/view.php?id=58424`"
   ]
  },
  {
   "cell_type": "markdown",
   "metadata": {},
   "source": [
    "## B. Running Jupyter\n",
    "* Watch the video at **`youtu.be/JQouG0-zfyI`** which explains how to use the Jupyter notebook. Note that there are **captions**, you don't need to have audio.\n",
    "* Download and start up the Jupyter notebook **`week_0_lab.ipynb`** from Moodle, as explained in the video. \n",
    "* You will be looking at this document, but this time an interactive version inside your browser. Follow the instructions in the notebook.\n",
    "----------------\n",
    "\n",
    "<br><br><br><br><br>\n",
    "\n",
    "\n",
    "\n",
    "\n",
    "\n"
   ]
  },
  {
   "cell_type": "markdown",
   "metadata": {},
   "source": [
    "## C. *After* you've downloaded and brought up the notebook\n",
    "\n",
    "Follow each of the instructions. Make sure you do the numbered steps in **green**.\n",
    "\n",
    "### Cells\n",
    "\n",
    "The notebook is made up of **cells**. A cell is a snippet of code or text. You can break up code into cells as you wish. Each cell with code in it can be run on its own.\n",
    "\n",
    "* Click on a cell to highlight it (see the box appear around it?)\n",
    "* Press SHIFT-ENTER to run the code (hold SHIFT, then press ENTER).\n",
    "<br><br>\n",
    "\n",
    "<font color=\"green\"> **1) Try this on the cell below:** </font>\n"
   ]
  },
  {
   "cell_type": "code",
   "execution_count": 2,
   "metadata": {
    "collapsed": false,
    "nbgrader": {
     "grade": false,
     "locked": false,
     "solution": false
    }
   },
   "outputs": [
    {
     "name": "stdout",
     "output_type": "stream",
     "text": [
      "Moodle is slow\n"
     ]
    }
   ],
   "source": [
    "print \"Moodle is slow\""
   ]
  },
  {
   "cell_type": "markdown",
   "metadata": {},
   "source": [
    "After selecting the cell above and pressing SHIFT-ENTER. you should see:\n",
    "\n",
    "    In [1]: print \"Hello, world\"\n",
    "    Hello, world\n",
    "\n",
    "The line underneath is the **output** of the code you ran. All the code in the cell is run when you press SHIFT-ENTER. \n",
    "\n",
    "---\n",
    "### Editing\n",
    "You can edit a code cell just by clicking on it, and editing the text. Press SHIFT-ENTER to run it again. \n",
    "\n",
    "<font color=\"green\"> **2) Edit the code in the cell above to print out a different message, then run it again.** </font> "
   ]
  },
  {
   "cell_type": "markdown",
   "metadata": {},
   "source": [
    "### Text cells\n",
    "The instructions you are reading are also in cells, but these are **text cells**.\n",
    "If you *double*-click on these text cells you can edit them as well. Press SHIFT-ENTER to \"format\" the cell.\n",
    "\n",
    "<font color=\"green\" **3) Double-click on this cell. It will turn gray and the font will change. Edit this text to say something different. Then press SHIFT-ENTER to format it.** </font>"
   ]
  },
  {
   "cell_type": "markdown",
   "metadata": {},
   "source": [
    "### Navigation and editing\n",
    "\n",
    "* Editing *inside* cells works like a normal text form on a web page. \n",
    "\n",
    "<font color=\"green\">\n",
    "**4) Try typing `print \"Hello CS1P\"` in the box below, then pressing SHIFT-ENTER to run it.** </font>"
   ]
  },
  {
   "cell_type": "markdown",
   "metadata": {},
   "source": [
    "### Copy and paste"
   ]
  },
  {
   "cell_type": "code",
   "execution_count": 3,
   "metadata": {
    "collapsed": false
   },
   "outputs": [
    {
     "name": "stdout",
     "output_type": "stream",
     "text": [
      "Hello CS1P\n"
     ]
    }
   ],
   "source": [
    "print \"Hello CS1P\""
   ]
  },
  {
   "cell_type": "markdown",
   "metadata": {},
   "source": [
    "* You can cut, copy and paste entire cells using the toolbar or menu, or use `CTRL-X` (cut), `CTRL-C` (copy) and `CTRL-V` (paste). \n",
    "\n",
    "**5) Try copying the cell below that says \"copy me!\" and paste it twice below.**"
   ]
  },
  {
   "cell_type": "markdown",
   "metadata": {},
   "source": [
    "<h1> Copy me! </h1><h1> Copy me! </h1><h1> Copy me! </h1>"
   ]
  },
  {
   "cell_type": "markdown",
   "metadata": {},
   "source": [
    "### Adding new cells\n",
    "* You can insert new cells (e.g. to write code in) by using `Insert/Cell Above` or `Insert/Cell Below` from the menu. Or use the + button on the toolbar. \n",
    "\n",
    "<font color=\"green\"> **6) Insert a cell below, and enter `print \"hello from a new cell\"`** </font>"
   ]
  },
  {
   "cell_type": "code",
   "execution_count": 4,
   "metadata": {
    "collapsed": false
   },
   "outputs": [
    {
     "name": "stdout",
     "output_type": "stream",
     "text": [
      "hello from a new cell\n"
     ]
    }
   ],
   "source": [
    "print \"hello from a new cell\""
   ]
  },
  {
   "cell_type": "markdown",
   "metadata": {},
   "source": [
    "Sometimes you want to add a text cell, to write notes, for example. To do this, add a cell as before, then go to the `Cell` menu and select `Cell Type/Markdown`. To change the cell type back to code, go to `Cell/Cell Type/Code`.\n",
    "**7) Insert a text cell below. Put the text `# Title` in the cell. Notice that when you press SHIFT-ENTER the text will become a title line. This is caused by the leading # symbol."
   ]
  },
  {
   "cell_type": "markdown",
   "metadata": {},
   "source": [
    "### Saving\n",
    "\n",
    "* Remember to **save** regularly! Press `CTRL-S` to save, or use the menu option `File/Save and Checkpoint`\n",
    "\n",
    "**8) Save now!**\n",
    "\n",
    "**Always make sure you save all work in your Workspace folder. If you save anywhere else, it will disappear the next time you log in!**\n",
    "\n",
    "### Making copies of notebooks\n",
    "\n",
    "* You can make a copy of your work using `File/Make a Copy` (e.g. if you want to change something but have a \"good\" version to go back to). This can be useful, but don't go overboard creating dozens of versions of a notebook -- it will make it very hard for you to manage things! I'd recommend making a backup copy after completing each question in a lab.\n",
    "\n",
    "<font color=\"green\">  **9) Make a copy of this notebook. You can change the copies name by clicking on the title at the very top of the page (it will be `week_0_lab-Copy1` by default). Call it something else, like `week_0_lab_backup`. Save. ** </font>\n",
    "\n",
    "### Undo\n",
    "\n",
    "* You can undo typing inside cells (`Edit/Undo` or `CTRL-Z`) but be aware that undo works independently inside each cell (i.e. each cell maintains its own undo history).\n",
    "\n",
    "You **can** delete cells in Jupyter using the cut command. Please avoid doing this; the undo functionality can will bring last the cell back, **but** only the very **last** cell. Be careful when using cut!\n",
    "\n",
    "# <font color=\"red\"> Save often. Make backup copies.  </font>\n",
    "\n",
    "\n"
   ]
  },
  {
   "cell_type": "markdown",
   "metadata": {},
   "source": [
    "-----\n",
    "### Stopping and restarting\n",
    "You can make Python run for a very long time, for example if you create an infinite loop. No other cells can run while we are waiting.\n",
    "\n",
    "If this happens, you will see an asterisk `In [*]` beside the cell that is running. To stop it, click on the cell and press the stop button on the toolbar. \n",
    "\n",
    "<font color=\"green\"> **10) Run the cell below. It will run forever. Look for the asterisk, and then stop the cell.** </font>"
   ]
  },
  {
   "cell_type": "code",
   "execution_count": null,
   "metadata": {
    "collapsed": true
   },
   "outputs": [],
   "source": [
    "# infinite loop\n",
    "while 1:\n",
    "    pass"
   ]
  },
  {
   "cell_type": "markdown",
   "metadata": {},
   "source": [
    "### Variables\n",
    "When you run a cell, it changes the Python state. For example if you assign a value to a variable, the next cell you run will know about that value. \n",
    "\n",
    "<font color=\"green\"> **11) There are two cells below. Run them both. **</font>"
   ]
  },
  {
   "cell_type": "code",
   "execution_count": null,
   "metadata": {
    "collapsed": true
   },
   "outputs": [],
   "source": [
    "# greeting 1\n",
    "greeting = \"Hello, world\""
   ]
  },
  {
   "cell_type": "code",
   "execution_count": null,
   "metadata": {
    "collapsed": false
   },
   "outputs": [],
   "source": [
    "# print greeting\n",
    "# Python remembers the value of greeting from the last run cell.\n",
    "print greeting"
   ]
  },
  {
   "cell_type": "markdown",
   "metadata": {},
   "source": [
    "<font color=\"green\"> **12) Now run the cell below (`#greeting 2`), then run the `print greeting` cell again. Notice that the output changes. Try running the first greeting cell again. ** </font>\n",
    "\n",
    "Python runs each cell when you tell it, and remembers the values you set. The order the cells appear in the notebook isn't important -- it is the order in which you **run** the cells."
   ]
  },
  {
   "cell_type": "code",
   "execution_count": null,
   "metadata": {
    "collapsed": true
   },
   "outputs": [],
   "source": [
    "# greeting 2\n",
    "greeting = \"Is this thing on?\""
   ]
  },
  {
   "cell_type": "markdown",
   "metadata": {},
   "source": [
    "Occasionally you might want to reset the Python state back to what it was before any code ran -- to forget any variables you have stored. \n",
    "\n",
    "<br><font color=\"green\"> **12) Press the restart button on the toolbar, or go to the menu option `Kernel/Restart`. The contents of the notebook will not change. Now try running the `print greeting` cell above. You will get an error, because Python has forgotten the value. Run the `greeting 1` cell and then run the `print greeting cell`**. </font>"
   ]
  },
  {
   "cell_type": "markdown",
   "metadata": {},
   "source": [
    "----\n",
    "# D: A mock lab exercise"
   ]
  },
  {
   "cell_type": "markdown",
   "metadata": {
    "collapsed": true
   },
   "source": [
    "The CS1P lab exercises follow a common format. There will be a problem statement, followed by a cell to enter your solution in, and sometimes a \"testing\" cell you can run to see whether your solution is correct.\n",
    "\n",
    "### A.1 A very simple program\n",
    "In Python, we can assign a value to a variable using `=`. For example\n",
    "\n",
    "    n_albums = 314\n",
    "    avg_tracks_per_album = 9.5\n",
    "\n",
    "<font color=\"green\"> **1) Write a code in the cell below which assigns the value 301 to a variable called `avg_track_listens`. Then, run the cell below it.  **</font>"
   ]
  },
  {
   "cell_type": "code",
   "execution_count": null,
   "metadata": {
    "collapsed": true
   },
   "outputs": [],
   "source": [
    "## Solution\n",
    "avg_track_listens = 301"
   ]
  },
  {
   "cell_type": "code",
   "execution_count": null,
   "metadata": {
    "collapsed": false
   },
   "outputs": [],
   "source": [
    "## Tests\n",
    "assert(avg_track_listens==301)\n",
    "print \"All OK\""
   ]
  },
  {
   "cell_type": "markdown",
   "metadata": {},
   "source": [
    "What happens if the test detects a problem with your solution?\n",
    "\n",
    "<font color=\"green\"> **2) Change the avg_track_listens cell to set it to 50 and run both the solution and test cell again. You should see an error like:  **</font>"
   ]
  },
  {
   "cell_type": "markdown",
   "metadata": {},
   "source": [
    "       \n",
    "       AssertionError  Traceback (most recent call last)\n",
    "        <ipython-input-14-d794c349b3d8> in <module>()\n",
    "              1 ## Tests\n",
    "        ----> 2 assert(avg_track_listens==301)\n",
    "              3 print \"All OK\"\n",
    "\n",
    "        AssertionError:\n",
    "        \n",
    "There is a lot of junk, but the important part is the `---->` arrow. It tells you where the test failed. From this, you can tell what went wrong (in this case, `avg_track_listens` wasn't 301)."
   ]
  },
  {
   "cell_type": "markdown",
   "metadata": {},
   "source": [
    "# E: Optional: Jupyter on your own machine\n",
    "If you want to install the software for these labs on your own machine (e.g. your laptop), we recommend the [Anaconda Python installer](https://www.continuum.io/downloads). **Make sure you download the 2.7 version, as CS1P will use Python 2.7.**\n",
    "\n",
    "This will work on Windows, OS X and Linux."
   ]
  }
 ],
 "metadata": {
  "kernelspec": {
   "display_name": "Python 2",
   "language": "python",
   "name": "python2"
  },
  "language_info": {
   "codemirror_mode": {
    "name": "ipython",
    "version": 2
   },
   "file_extension": ".py",
   "mimetype": "text/x-python",
   "name": "python",
   "nbconvert_exporter": "python",
   "pygments_lexer": "ipython2",
   "version": "2.7.10"
  }
 },
 "nbformat": 4,
 "nbformat_minor": 0
}
