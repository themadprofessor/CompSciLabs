{
 "cells": [
  {
   "cell_type": "markdown",
   "metadata": {},
   "source": [
    "# Week 5 : Lab \n",
    " ## Interaction: File I/O and UI Controls\n",
    " ##### CS1P - University of Glasgow - John Williamson - 2016"
   ]
  },
  {
   "cell_type": "code",
   "execution_count": 8,
   "metadata": {
    "collapsed": false
   },
   "outputs": [],
   "source": [
    "## RUN ME FIRST\n",
    "import ipywidgets as widgets\n",
    "from IPython.display import display, HTML\n",
    "from __future__ import division   # make division work like Python 3.x\n",
    "# enable the plotting commands\n",
    "%matplotlib notebook\n",
    "import matplotlib.pyplot as plt\n",
    "from matplotlib import rcParams\n",
    "rcParams['figure.figsize'] = 6, 6"
   ]
  },
  {
   "cell_type": "markdown",
   "metadata": {},
   "source": []
  },
  {
   "cell_type": "markdown",
   "metadata": {},
   "source": [
    "\n",
    "## Lab exercise\n",
    "\n",
    "**You must make a reasonable attempt at this exercise to gain a tick for this work**.\n",
    "\n",
    "<font color=\"red\"> Remember to save your work frequently! </font>\n"
   ]
  },
  {
   "cell_type": "markdown",
   "metadata": {},
   "source": [
    "\n",
    "## Purpose of this lab\n",
    "This lab will familiarise you with:\n",
    "* reading line-oriented text files\n",
    "* handling events using callbacks\n",
    "* writing text files\n"
   ]
  },
  {
   "cell_type": "markdown",
   "metadata": {},
   "source": [
    "## Before the lab\n",
    "* Complete at least the A exercises.\n",
    "* You may want to read pages 115-120 of \"Think like a computer scientist\""
   ]
  },
  {
   "cell_type": "markdown",
   "metadata": {},
   "source": [
    "## During the lab session\n",
    "* Complete the B exercises.\n"
   ]
  },
  {
   "cell_type": "markdown",
   "metadata": {},
   "source": [
    "\n",
    "## A. Quick problems\n",
    "These should take less than 10 minutes each\n",
    "\n",
    "### A.1 Spellcheck\n",
    "* There is a dictionary of (lowercase) words in the file \"words.txt\". \n",
    "* There is one word per line.\n",
    "* Write a program that asks for a word from the user, and if the word is in the dictionary, prints \"Spelled OK\", otherwise prints \"Misspelled\"\n",
    "* Note: to get the string to work correctly, you must **strip** the newline off of it:\n",
    "\n",
    "        line = line.strip()\n",
    "        \n",
    "will return just the printable text of the line.\n"
   ]
  },
  {
   "cell_type": "code",
   "execution_count": 8,
   "metadata": {
    "collapsed": false
   },
   "outputs": [
    {
     "name": "stdout",
     "output_type": "stream",
     "text": [
      "Check spelling of word: doot\n",
      "Missplled\n"
     ]
    }
   ],
   "source": [
    "# Solution goes here\n",
    "def check_spelling(word, possible_words):\n",
    "    tmp = word + \"\\n\"\n",
    "    if tmp in possible_words:\n",
    "        return \"Spelled OK\"\n",
    "    else:\n",
    "        return \"Missplled\"\n",
    "\n",
    "with open(\"words.txt\") as words:\n",
    "    word = raw_input(\"Check spelling of word: \")\n",
    "    print check_spelling(word, words)"
   ]
  },
  {
   "cell_type": "markdown",
   "metadata": {},
   "source": [
    "### A.2 Colouring the notebook\n",
    "The code below generates a slider and displays it. It attaches an **observation** callback that is called when the value of the slider changes"
   ]
  },
  {
   "cell_type": "code",
   "execution_count": 9,
   "metadata": {
    "collapsed": false
   },
   "outputs": [
    {
     "name": "stdout",
     "output_type": "stream",
     "text": [
      "Slider now at: 1\n",
      "Slider now at: 2\n",
      "Slider now at: 3\n",
      "Slider now at: 4\n",
      "Slider now at: 5\n",
      "Slider now at: 6\n",
      "Slider now at: 7\n",
      "Slider now at: 8\n",
      "Slider now at: 9\n",
      "Slider now at: 10\n",
      "Slider now at: 9\n",
      "Slider now at: 8\n",
      "Slider now at: 6\n",
      "Slider now at: 4\n",
      "Slider now at: 1\n",
      "Slider now at: -10\n"
     ]
    }
   ],
   "source": [
    "def print_slider(slider):\n",
    "    # print the current value of a slider\n",
    "    # note that we must use the following code to *only* get the update events\n",
    "    # First, check if this is a value update callback\n",
    "    if slider[\"name\"]==\"value\":\n",
    "        # if so, get the new value of the slider\n",
    "        print \"Slider now at:\", slider[\"new\"]\n",
    "       \n",
    "# create a slider than can go from -10 to 10, in increments of 1\n",
    "slider = widgets.IntSlider(min=-10, max=10, step=1)\n",
    "\n",
    "# attach the callback to the slider\n",
    "# now, print_slider will be called when the slider is moved\n",
    "slider.observe(print_slider)\n",
    "display(slider)"
   ]
  },
  {
   "cell_type": "markdown",
   "metadata": {},
   "source": [
    "## Task \n",
    " The function `set_colour(r,g,b)` below can be used to change the colour of a the notebook background. It takes three values (red, green, blue) which have to range from 0 to 255. \n",
    " \n",
    "Create a set of three sliders, which range from 0 to 255. Display all three sliders and allow the notebook background colour to be adjusted interactively. *Note that you want to use three separate callbacks here.*"
   ]
  },
  {
   "cell_type": "code",
   "execution_count": 11,
   "metadata": {
    "collapsed": false
   },
   "outputs": [
    {
     "data": {
      "text/html": [
       "<script type=\"text/Javascript\">    \n",
       "        var dom_site = document.getElementById('site'); \n",
       "        dom_site.style.backgroundColor = '#000000';           \n",
       "        </script>"
      ],
      "text/plain": [
       "<IPython.core.display.HTML object>"
      ]
     },
     "metadata": {},
     "output_type": "display_data"
    }
   ],
   "source": [
    "## do run this cell to define the function.\n",
    "from nbcolour import set_colour\n",
    "\n",
    "# test: set the background to black\n",
    "set_colour(0,0,0)    "
   ]
  },
  {
   "cell_type": "code",
   "execution_count": 15,
   "metadata": {
    "collapsed": false
   },
   "outputs": [
    {
     "data": {
      "text/html": [
       "<script type=\"text/Javascript\">    \n",
       "        var dom_site = document.getElementById('site'); \n",
       "        dom_site.style.backgroundColor = '#010000';           \n",
       "        </script>"
      ],
      "text/plain": [
       "<IPython.core.display.HTML object>"
      ]
     },
     "metadata": {},
     "output_type": "display_data"
    },
    {
     "data": {
      "text/html": [
       "<script type=\"text/Javascript\">    \n",
       "        var dom_site = document.getElementById('site'); \n",
       "        dom_site.style.backgroundColor = '#040000';           \n",
       "        </script>"
      ],
      "text/plain": [
       "<IPython.core.display.HTML object>"
      ]
     },
     "metadata": {},
     "output_type": "display_data"
    },
    {
     "data": {
      "text/html": [
       "<script type=\"text/Javascript\">    \n",
       "        var dom_site = document.getElementById('site'); \n",
       "        dom_site.style.backgroundColor = '#050000';           \n",
       "        </script>"
      ],
      "text/plain": [
       "<IPython.core.display.HTML object>"
      ]
     },
     "metadata": {},
     "output_type": "display_data"
    },
    {
     "data": {
      "text/html": [
       "<script type=\"text/Javascript\">    \n",
       "        var dom_site = document.getElementById('site'); \n",
       "        dom_site.style.backgroundColor = '#080000';           \n",
       "        </script>"
      ],
      "text/plain": [
       "<IPython.core.display.HTML object>"
      ]
     },
     "metadata": {},
     "output_type": "display_data"
    },
    {
     "data": {
      "text/html": [
       "<script type=\"text/Javascript\">    \n",
       "        var dom_site = document.getElementById('site'); \n",
       "        dom_site.style.backgroundColor = '#090000';           \n",
       "        </script>"
      ],
      "text/plain": [
       "<IPython.core.display.HTML object>"
      ]
     },
     "metadata": {},
     "output_type": "display_data"
    },
    {
     "data": {
      "text/html": [
       "<script type=\"text/Javascript\">    \n",
       "        var dom_site = document.getElementById('site'); \n",
       "        dom_site.style.backgroundColor = '#0A0000';           \n",
       "        </script>"
      ],
      "text/plain": [
       "<IPython.core.display.HTML object>"
      ]
     },
     "metadata": {},
     "output_type": "display_data"
    },
    {
     "data": {
      "text/html": [
       "<script type=\"text/Javascript\">    \n",
       "        var dom_site = document.getElementById('site'); \n",
       "        dom_site.style.backgroundColor = '#0B0000';           \n",
       "        </script>"
      ],
      "text/plain": [
       "<IPython.core.display.HTML object>"
      ]
     },
     "metadata": {},
     "output_type": "display_data"
    },
    {
     "data": {
      "text/html": [
       "<script type=\"text/Javascript\">    \n",
       "        var dom_site = document.getElementById('site'); \n",
       "        dom_site.style.backgroundColor = '#0C0000';           \n",
       "        </script>"
      ],
      "text/plain": [
       "<IPython.core.display.HTML object>"
      ]
     },
     "metadata": {},
     "output_type": "display_data"
    },
    {
     "data": {
      "text/html": [
       "<script type=\"text/Javascript\">    \n",
       "        var dom_site = document.getElementById('site'); \n",
       "        dom_site.style.backgroundColor = '#0D0000';           \n",
       "        </script>"
      ],
      "text/plain": [
       "<IPython.core.display.HTML object>"
      ]
     },
     "metadata": {},
     "output_type": "display_data"
    },
    {
     "data": {
      "text/html": [
       "<script type=\"text/Javascript\">    \n",
       "        var dom_site = document.getElementById('site'); \n",
       "        dom_site.style.backgroundColor = '#0E0000';           \n",
       "        </script>"
      ],
      "text/plain": [
       "<IPython.core.display.HTML object>"
      ]
     },
     "metadata": {},
     "output_type": "display_data"
    },
    {
     "data": {
      "text/html": [
       "<script type=\"text/Javascript\">    \n",
       "        var dom_site = document.getElementById('site'); \n",
       "        dom_site.style.backgroundColor = '#0F0000';           \n",
       "        </script>"
      ],
      "text/plain": [
       "<IPython.core.display.HTML object>"
      ]
     },
     "metadata": {},
     "output_type": "display_data"
    },
    {
     "data": {
      "text/html": [
       "<script type=\"text/Javascript\">    \n",
       "        var dom_site = document.getElementById('site'); \n",
       "        dom_site.style.backgroundColor = '#100000';           \n",
       "        </script>"
      ],
      "text/plain": [
       "<IPython.core.display.HTML object>"
      ]
     },
     "metadata": {},
     "output_type": "display_data"
    },
    {
     "data": {
      "text/html": [
       "<script type=\"text/Javascript\">    \n",
       "        var dom_site = document.getElementById('site'); \n",
       "        dom_site.style.backgroundColor = '#100100';           \n",
       "        </script>"
      ],
      "text/plain": [
       "<IPython.core.display.HTML object>"
      ]
     },
     "metadata": {},
     "output_type": "display_data"
    },
    {
     "data": {
      "text/html": [
       "<script type=\"text/Javascript\">    \n",
       "        var dom_site = document.getElementById('site'); \n",
       "        dom_site.style.backgroundColor = '#100200';           \n",
       "        </script>"
      ],
      "text/plain": [
       "<IPython.core.display.HTML object>"
      ]
     },
     "metadata": {},
     "output_type": "display_data"
    },
    {
     "data": {
      "text/html": [
       "<script type=\"text/Javascript\">    \n",
       "        var dom_site = document.getElementById('site'); \n",
       "        dom_site.style.backgroundColor = '#100400';           \n",
       "        </script>"
      ],
      "text/plain": [
       "<IPython.core.display.HTML object>"
      ]
     },
     "metadata": {},
     "output_type": "display_data"
    },
    {
     "data": {
      "text/html": [
       "<script type=\"text/Javascript\">    \n",
       "        var dom_site = document.getElementById('site'); \n",
       "        dom_site.style.backgroundColor = '#100500';           \n",
       "        </script>"
      ],
      "text/plain": [
       "<IPython.core.display.HTML object>"
      ]
     },
     "metadata": {},
     "output_type": "display_data"
    },
    {
     "data": {
      "text/html": [
       "<script type=\"text/Javascript\">    \n",
       "        var dom_site = document.getElementById('site'); \n",
       "        dom_site.style.backgroundColor = '#100700';           \n",
       "        </script>"
      ],
      "text/plain": [
       "<IPython.core.display.HTML object>"
      ]
     },
     "metadata": {},
     "output_type": "display_data"
    },
    {
     "data": {
      "text/html": [
       "<script type=\"text/Javascript\">    \n",
       "        var dom_site = document.getElementById('site'); \n",
       "        dom_site.style.backgroundColor = '#100A00';           \n",
       "        </script>"
      ],
      "text/plain": [
       "<IPython.core.display.HTML object>"
      ]
     },
     "metadata": {},
     "output_type": "display_data"
    },
    {
     "data": {
      "text/html": [
       "<script type=\"text/Javascript\">    \n",
       "        var dom_site = document.getElementById('site'); \n",
       "        dom_site.style.backgroundColor = '#100B00';           \n",
       "        </script>"
      ],
      "text/plain": [
       "<IPython.core.display.HTML object>"
      ]
     },
     "metadata": {},
     "output_type": "display_data"
    },
    {
     "data": {
      "text/html": [
       "<script type=\"text/Javascript\">    \n",
       "        var dom_site = document.getElementById('site'); \n",
       "        dom_site.style.backgroundColor = '#100C00';           \n",
       "        </script>"
      ],
      "text/plain": [
       "<IPython.core.display.HTML object>"
      ]
     },
     "metadata": {},
     "output_type": "display_data"
    },
    {
     "data": {
      "text/html": [
       "<script type=\"text/Javascript\">    \n",
       "        var dom_site = document.getElementById('site'); \n",
       "        dom_site.style.backgroundColor = '#101600';           \n",
       "        </script>"
      ],
      "text/plain": [
       "<IPython.core.display.HTML object>"
      ]
     },
     "metadata": {},
     "output_type": "display_data"
    },
    {
     "data": {
      "text/html": [
       "<script type=\"text/Javascript\">    \n",
       "        var dom_site = document.getElementById('site'); \n",
       "        dom_site.style.backgroundColor = '#101700';           \n",
       "        </script>"
      ],
      "text/plain": [
       "<IPython.core.display.HTML object>"
      ]
     },
     "metadata": {},
     "output_type": "display_data"
    },
    {
     "data": {
      "text/html": [
       "<script type=\"text/Javascript\">    \n",
       "        var dom_site = document.getElementById('site'); \n",
       "        dom_site.style.backgroundColor = '#101900';           \n",
       "        </script>"
      ],
      "text/plain": [
       "<IPython.core.display.HTML object>"
      ]
     },
     "metadata": {},
     "output_type": "display_data"
    },
    {
     "data": {
      "text/html": [
       "<script type=\"text/Javascript\">    \n",
       "        var dom_site = document.getElementById('site'); \n",
       "        dom_site.style.backgroundColor = '#101904';           \n",
       "        </script>"
      ],
      "text/plain": [
       "<IPython.core.display.HTML object>"
      ]
     },
     "metadata": {},
     "output_type": "display_data"
    },
    {
     "data": {
      "text/html": [
       "<script type=\"text/Javascript\">    \n",
       "        var dom_site = document.getElementById('site'); \n",
       "        dom_site.style.backgroundColor = '#101909';           \n",
       "        </script>"
      ],
      "text/plain": [
       "<IPython.core.display.HTML object>"
      ]
     },
     "metadata": {},
     "output_type": "display_data"
    },
    {
     "data": {
      "text/html": [
       "<script type=\"text/Javascript\">    \n",
       "        var dom_site = document.getElementById('site'); \n",
       "        dom_site.style.backgroundColor = '#101910';           \n",
       "        </script>"
      ],
      "text/plain": [
       "<IPython.core.display.HTML object>"
      ]
     },
     "metadata": {},
     "output_type": "display_data"
    },
    {
     "data": {
      "text/html": [
       "<script type=\"text/Javascript\">    \n",
       "        var dom_site = document.getElementById('site'); \n",
       "        dom_site.style.backgroundColor = '#10191C';           \n",
       "        </script>"
      ],
      "text/plain": [
       "<IPython.core.display.HTML object>"
      ]
     },
     "metadata": {},
     "output_type": "display_data"
    },
    {
     "data": {
      "text/html": [
       "<script type=\"text/Javascript\">    \n",
       "        var dom_site = document.getElementById('site'); \n",
       "        dom_site.style.backgroundColor = '#101954';           \n",
       "        </script>"
      ],
      "text/plain": [
       "<IPython.core.display.HTML object>"
      ]
     },
     "metadata": {},
     "output_type": "display_data"
    },
    {
     "data": {
      "text/html": [
       "<script type=\"text/Javascript\">    \n",
       "        var dom_site = document.getElementById('site'); \n",
       "        dom_site.style.backgroundColor = '#1019DC';           \n",
       "        </script>"
      ],
      "text/plain": [
       "<IPython.core.display.HTML object>"
      ]
     },
     "metadata": {},
     "output_type": "display_data"
    },
    {
     "data": {
      "text/html": [
       "<script type=\"text/Javascript\">    \n",
       "        var dom_site = document.getElementById('site'); \n",
       "        dom_site.style.backgroundColor = '#1019E5';           \n",
       "        </script>"
      ],
      "text/plain": [
       "<IPython.core.display.HTML object>"
      ]
     },
     "metadata": {},
     "output_type": "display_data"
    },
    {
     "data": {
      "text/html": [
       "<script type=\"text/Javascript\">    \n",
       "        var dom_site = document.getElementById('site'); \n",
       "        dom_site.style.backgroundColor = '#0D19E5';           \n",
       "        </script>"
      ],
      "text/plain": [
       "<IPython.core.display.HTML object>"
      ]
     },
     "metadata": {},
     "output_type": "display_data"
    },
    {
     "data": {
      "text/html": [
       "<script type=\"text/Javascript\">    \n",
       "        var dom_site = document.getElementById('site'); \n",
       "        dom_site.style.backgroundColor = '#1119E5';           \n",
       "        </script>"
      ],
      "text/plain": [
       "<IPython.core.display.HTML object>"
      ]
     },
     "metadata": {},
     "output_type": "display_data"
    },
    {
     "data": {
      "text/html": [
       "<script type=\"text/Javascript\">    \n",
       "        var dom_site = document.getElementById('site'); \n",
       "        dom_site.style.backgroundColor = '#1A19E5';           \n",
       "        </script>"
      ],
      "text/plain": [
       "<IPython.core.display.HTML object>"
      ]
     },
     "metadata": {},
     "output_type": "display_data"
    },
    {
     "data": {
      "text/html": [
       "<script type=\"text/Javascript\">    \n",
       "        var dom_site = document.getElementById('site'); \n",
       "        dom_site.style.backgroundColor = '#2719E5';           \n",
       "        </script>"
      ],
      "text/plain": [
       "<IPython.core.display.HTML object>"
      ]
     },
     "metadata": {},
     "output_type": "display_data"
    },
    {
     "data": {
      "text/html": [
       "<script type=\"text/Javascript\">    \n",
       "        var dom_site = document.getElementById('site'); \n",
       "        dom_site.style.backgroundColor = '#A119E5';           \n",
       "        </script>"
      ],
      "text/plain": [
       "<IPython.core.display.HTML object>"
      ]
     },
     "metadata": {},
     "output_type": "display_data"
    },
    {
     "data": {
      "text/html": [
       "<script type=\"text/Javascript\">    \n",
       "        var dom_site = document.getElementById('site'); \n",
       "        dom_site.style.backgroundColor = '#B419E5';           \n",
       "        </script>"
      ],
      "text/plain": [
       "<IPython.core.display.HTML object>"
      ]
     },
     "metadata": {},
     "output_type": "display_data"
    },
    {
     "data": {
      "text/html": [
       "<script type=\"text/Javascript\">    \n",
       "        var dom_site = document.getElementById('site'); \n",
       "        dom_site.style.backgroundColor = '#E319E5';           \n",
       "        </script>"
      ],
      "text/plain": [
       "<IPython.core.display.HTML object>"
      ]
     },
     "metadata": {},
     "output_type": "display_data"
    },
    {
     "data": {
      "text/html": [
       "<script type=\"text/Javascript\">    \n",
       "        var dom_site = document.getElementById('site'); \n",
       "        dom_site.style.backgroundColor = '#E219E5';           \n",
       "        </script>"
      ],
      "text/plain": [
       "<IPython.core.display.HTML object>"
      ]
     },
     "metadata": {},
     "output_type": "display_data"
    },
    {
     "data": {
      "text/html": [
       "<script type=\"text/Javascript\">    \n",
       "        var dom_site = document.getElementById('site'); \n",
       "        dom_site.style.backgroundColor = '#E019E5';           \n",
       "        </script>"
      ],
      "text/plain": [
       "<IPython.core.display.HTML object>"
      ]
     },
     "metadata": {},
     "output_type": "display_data"
    },
    {
     "data": {
      "text/html": [
       "<script type=\"text/Javascript\">    \n",
       "        var dom_site = document.getElementById('site'); \n",
       "        dom_site.style.backgroundColor = '#DF19E5';           \n",
       "        </script>"
      ],
      "text/plain": [
       "<IPython.core.display.HTML object>"
      ]
     },
     "metadata": {},
     "output_type": "display_data"
    },
    {
     "data": {
      "text/html": [
       "<script type=\"text/Javascript\">    \n",
       "        var dom_site = document.getElementById('site'); \n",
       "        dom_site.style.backgroundColor = '#DD19E5';           \n",
       "        </script>"
      ],
      "text/plain": [
       "<IPython.core.display.HTML object>"
      ]
     },
     "metadata": {},
     "output_type": "display_data"
    },
    {
     "data": {
      "text/html": [
       "<script type=\"text/Javascript\">    \n",
       "        var dom_site = document.getElementById('site'); \n",
       "        dom_site.style.backgroundColor = '#D719E5';           \n",
       "        </script>"
      ],
      "text/plain": [
       "<IPython.core.display.HTML object>"
      ]
     },
     "metadata": {},
     "output_type": "display_data"
    },
    {
     "data": {
      "text/html": [
       "<script type=\"text/Javascript\">    \n",
       "        var dom_site = document.getElementById('site'); \n",
       "        dom_site.style.backgroundColor = '#D619E5';           \n",
       "        </script>"
      ],
      "text/plain": [
       "<IPython.core.display.HTML object>"
      ]
     },
     "metadata": {},
     "output_type": "display_data"
    },
    {
     "data": {
      "text/html": [
       "<script type=\"text/Javascript\">    \n",
       "        var dom_site = document.getElementById('site'); \n",
       "        dom_site.style.backgroundColor = '#D519E5';           \n",
       "        </script>"
      ],
      "text/plain": [
       "<IPython.core.display.HTML object>"
      ]
     },
     "metadata": {},
     "output_type": "display_data"
    },
    {
     "data": {
      "text/html": [
       "<script type=\"text/Javascript\">    \n",
       "        var dom_site = document.getElementById('site'); \n",
       "        dom_site.style.backgroundColor = '#D319E5';           \n",
       "        </script>"
      ],
      "text/plain": [
       "<IPython.core.display.HTML object>"
      ]
     },
     "metadata": {},
     "output_type": "display_data"
    },
    {
     "data": {
      "text/html": [
       "<script type=\"text/Javascript\">    \n",
       "        var dom_site = document.getElementById('site'); \n",
       "        dom_site.style.backgroundColor = '#D219E5';           \n",
       "        </script>"
      ],
      "text/plain": [
       "<IPython.core.display.HTML object>"
      ]
     },
     "metadata": {},
     "output_type": "display_data"
    },
    {
     "data": {
      "text/html": [
       "<script type=\"text/Javascript\">    \n",
       "        var dom_site = document.getElementById('site'); \n",
       "        dom_site.style.backgroundColor = '#D119E5';           \n",
       "        </script>"
      ],
      "text/plain": [
       "<IPython.core.display.HTML object>"
      ]
     },
     "metadata": {},
     "output_type": "display_data"
    },
    {
     "data": {
      "text/html": [
       "<script type=\"text/Javascript\">    \n",
       "        var dom_site = document.getElementById('site'); \n",
       "        dom_site.style.backgroundColor = '#CF19E5';           \n",
       "        </script>"
      ],
      "text/plain": [
       "<IPython.core.display.HTML object>"
      ]
     },
     "metadata": {},
     "output_type": "display_data"
    },
    {
     "data": {
      "text/html": [
       "<script type=\"text/Javascript\">    \n",
       "        var dom_site = document.getElementById('site'); \n",
       "        dom_site.style.backgroundColor = '#CD19E5';           \n",
       "        </script>"
      ],
      "text/plain": [
       "<IPython.core.display.HTML object>"
      ]
     },
     "metadata": {},
     "output_type": "display_data"
    },
    {
     "data": {
      "text/html": [
       "<script type=\"text/Javascript\">    \n",
       "        var dom_site = document.getElementById('site'); \n",
       "        dom_site.style.backgroundColor = '#CC19E5';           \n",
       "        </script>"
      ],
      "text/plain": [
       "<IPython.core.display.HTML object>"
      ]
     },
     "metadata": {},
     "output_type": "display_data"
    }
   ],
   "source": [
    "# Solution goes here\n",
    "CURR_R,CURR_G,CURR_B = 0,0,0\n",
    "\n",
    "def set_r(slider):\n",
    "    if slider[\"name\"] == \"value\":\n",
    "        global CURR_R\n",
    "        CURR_R = slider[\"new\"]\n",
    "        set_colour(CURR_R, CURR_G, CURR_B)\n",
    "\n",
    "def set_g(slider):\n",
    "    if slider[\"name\"] == \"value\":\n",
    "        global CURR_G\n",
    "        CURR_G = slider[\"new\"]\n",
    "        set_colour(CURR_R, CURR_G, CURR_B)\n",
    "        \n",
    "def set_b(slider):\n",
    "    if slider[\"name\"] == \"value\":\n",
    "        global CURR_B\n",
    "        CURR_B = slider[\"new\"]\n",
    "        set_colour(CURR_R, CURR_G, CURR_B)\n",
    "        \n",
    "r_slider = widgets.IntSlider(min=0, max=255, step=1)\n",
    "r_slider.observe(set_r)\n",
    "g_slider = widgets.IntSlider(min=0, max=255, step=1)\n",
    "g_slider.observe(set_g)\n",
    "b_slider = widgets.IntSlider(min=0, max=255, step=1)\n",
    "b_slider.observe(set_b)\n",
    "display(r_slider)\n",
    "display(g_slider)\n",
    "display(b_slider)"
   ]
  },
  {
   "cell_type": "markdown",
   "metadata": {},
   "source": [
    "### A.3 Buttons\n",
    "Modify the code below so that three buttons appear. Make each prints a *distinct* message out. **But** don't define any new callback functions  -- just write a modified `message` function. *There should only be one callback for all three buttons.*\n",
    "\n",
    "*Hint* What is the value of `s`? Also, remember what I did in the Week 5 video."
   ]
  },
  {
   "cell_type": "code",
   "execution_count": null,
   "metadata": {
    "collapsed": false
   },
   "outputs": [],
   "source": [
    "# modify this code to have three buttons. \n",
    "def message(s):\n",
    "    print \"You pressed my button!\"\n",
    "\n",
    "# make a button\n",
    "button = widgets.Button(description='Press!', width=2)\n",
    "\n",
    "# tell the button what to do when I click it\n",
    "button.on_click(message)\n",
    "\n",
    "# display the buttons in a row(here, just one button)\n",
    "# note that the argument to HBox() is a list of widgets to display\n",
    "display(widgets.HBox([button]))"
   ]
  },
  {
   "cell_type": "code",
   "execution_count": 17,
   "metadata": {
    "collapsed": false
   },
   "outputs": [
    {
     "name": "stdout",
     "output_type": "stream",
     "text": [
      "Doot\n",
      "Dooty\n",
      "Dooty McDootface\n"
     ]
    }
   ],
   "source": [
    "# Solution goes here\n",
    "def message(s):\n",
    "    print s.tooltip\n",
    "\n",
    "button_1 = widgets.Button(description='Press!', width=2, tooltip=\"Doot\")\n",
    "button_1.on_click(message)\n",
    "button_2 = widgets.Button(description='Press!', width=2, tooltip=\"Dooty\")\n",
    "button_2.on_click(message)\n",
    "button_3 = widgets.Button(description='Press!', width=2, tooltip=\"Dooty McDootface\")\n",
    "button_3.on_click(message)\n",
    "\n",
    "display(widgets.HBox([button_1, button_2, button_3]))"
   ]
  },
  {
   "cell_type": "markdown",
   "metadata": {},
   "source": [
    "### A.4 Matching lines in a file\n",
    "* Write a program which checks each line of text in a file to see if it begins with a given string.\n",
    "* You can use `long_string.startswith(\"pattern\")` to see if `pattern` occurs at the start of `long_string`.\n",
    "* If the line contains the string, print it out.\n",
    "\n",
    "Apply your program to the file `romeo_juliet.txt` looking for the pattern `\"  Rom.\"` (note there are two spaces at the start!) and writing the line to \"romeos_lines.txt\". This will only copy the *first* of Romeo's lines in any passage.\n",
    "\n",
    "Repeat this process to copy Juliet's (first) lines to \"juliets_lines.txt\".\n",
    "\n",
    "*Note that we did a very similar example in the lecture notes!*\n",
    "\n",
    "**Optional extension (slightly hard):**\n",
    "Make the code copy *all* of Romeo's (or Juliet's) lines, not just the first line in any block of dialogue. You will need to look at romeo_juliet.txt to see how you could find this from the structure of the file."
   ]
  },
  {
   "cell_type": "code",
   "execution_count": null,
   "metadata": {
    "collapsed": false
   },
   "outputs": [],
   "source": [
    "# Solution goes here\n",
    "def get_lines_starting_with(start, all_lines):\n",
    "    lines = []\n",
    "    \n",
    "    for line in all_lines:\n",
    "        if line.startswith(start):\n",
    "            lines.append(line)\n",
    "    return lines\n",
    "\n",
    "def get_lines(name, all_lines):\n",
    "    lines = []\n",
    "    is_same_person = False\n",
    "    start = \"  \" + name + \".\"\n",
    "    \n",
    "    for line in all_lines:\n",
    "        if line.startswith(start):\n",
    "            is_same_person = True\n",
    "        if not line.strip():\n",
    "            is_same_person = False\n",
    "        \n",
    "        if is_same_person:\n",
    "            lines.append(line[:-1])\n",
    "    return lines\n",
    "\n",
    "with open(\"romeo_juliet.txt\") as f:\n",
    "    for line in get_lines(\"Rom\", f):\n",
    "        print line"
   ]
  },
  {
   "cell_type": "markdown",
   "metadata": {
    "collapsed": false
   },
   "source": [
    "### A.5 Walking around\n",
    "\n",
    "**[This may take slightly longer than the other A exercises]**\n",
    "\n",
    "The **Dropdown** widget shows a list of options. Run the code below to see what it does."
   ]
  },
  {
   "cell_type": "code",
   "execution_count": null,
   "metadata": {
    "collapsed": false
   },
   "outputs": [],
   "source": [
    "def dropdown_changed(dropdown):    \n",
    "    # callback: check if the value changed, and if so, write it out\n",
    "    if dropdown[\"name\"]==\"value\":\n",
    "        print \"Dropdown is now \", dropdown[\"new\"]\n",
    "\n",
    "# three possible options: 1,2,3. Start off with 2.\n",
    "dropdown = widgets.Dropdown(options=['1', '2', '3'],value='2', description='Number:',)\n",
    "\n",
    "# set the callback. \n",
    "dropdown.observe(dropdown_changed)\n",
    "display(dropdown)"
   ]
  },
  {
   "cell_type": "markdown",
   "metadata": {},
   "source": [
    "There are two files called `passages.txt` and `rooms.txt`. Each is a list of types of rooms or passages, one word per line. Start by checking you can create a list of rooms and passages from these files. \n",
    "\n",
    "Then, create a simple interface with three dropdowns: one to select a first room, the second to select a passage, and third to select a second room. The options in the dropdown should be the lists loaded from these two files.\n",
    "\n",
    "**Use three separate callbacks for the dropdown menus**\n",
    "\n",
    "Finally, add a button that, when pressed, prints out a message like:\n",
    "\n",
    "    \"He went from the cellar to the kitchen via the fire pole\"\n",
    "    \"She went from the cloak room to the throne room via the dumbwaiter\"\n",
    "    \n",
    "substituting in the values chosen from the three dropdowns.     "
   ]
  },
  {
   "cell_type": "code",
   "execution_count": 54,
   "metadata": {
    "collapsed": false
   },
   "outputs": [
    {
     "name": "stdout",
     "output_type": "stream",
     "text": [
      "They went from the aerary to the avenue via the aerary\n",
      "They went from the corner office to the exit via the bathroom\n"
     ]
    }
   ],
   "source": [
    "# Solution goes here\n",
    "TRIP = [None, None, None]\n",
    "ORDER = [\"Room 1\", \"Passage\", \"Room 2\"]\n",
    "\n",
    "def get_trip_index(desc):\n",
    "    if desc not in ORDER:\n",
    "        raise ValueError(\"The given desc is not found in order!\")\n",
    "    else:\n",
    "        return ORDER.index(desc)\n",
    "\n",
    "def update(dropdown):\n",
    "    if dropdown[\"name\"] == \"value\":\n",
    "        index = get_trip_index(dropdown[\"owner\"].description)\n",
    "        TRIP[index] = dropdown[\"new\"]\n",
    "        \n",
    "def init_dropdown(desc, options):\n",
    "    dropdown = widgets.Dropdown(options=options, value=options[0], description=desc)\n",
    "    dropdown.observe(update)\n",
    "    display(dropdown)\n",
    "    TRIP[get_trip_index(desc)] = options[0]\n",
    "    \n",
    "def print_trip(dropdown):\n",
    "    print \"They went from the %s to the %s via the %s\" % tuple(TRIP)\n",
    "        \n",
    "with open(\"rooms.txt\") as rooms, open(\"passages.txt\") as passages:\n",
    "    r = map(lambda line: line.strip(), rooms.readlines())\n",
    "    init_dropdown(\"Room 1\", r[:])\n",
    "    init_dropdown(\"Passage\", map(lambda line: line.strip(), passages.readlines()))\n",
    "    init_dropdown(\"Room 2\", r)\n",
    "    \n",
    "button= widgets.Button(description='Print')\n",
    "button.on_click(print_trip)\n",
    "display(button)"
   ]
  },
  {
   "cell_type": "markdown",
   "metadata": {},
   "source": [
    "## B. Airline ticket sales\n",
    "<img src=\"imgs/runway.jpg\">\n",
    "*[Image credit: Bernal Saborio via flickr.com CC-BY-SA 2.0]*\n",
    "\n",
    "You have to implement an airline ticket search system for UK flights. \n",
    "\n",
    "You have been provided with a list of flight information in a file `prices.txt`, in the format (one entry per line)\n",
    "    \n",
    "       <start_airport>, <destination_airport>, <price>, \n",
    "       <duration>, <airline>\n",
    "       \n",
    "For example, a route from Helsinki to Berlin Tegel costing £250 and taking 104 minutes via *Germanwings* appears as:\n",
    "\n",
    "    HEL,TXL,250,104,Germanwings\n",
    "    \n",
    "You also have a file `location.txt` which has a list of entries:\n",
    "\n",
    "    <airport_code>, <country>, <latitude>, <longitude>\n",
    "    \n",
    "For example, the entry for Helsinki airport is:\n",
    "\n",
    "    HEL,Finland,60.317222,24.963333\n",
    "    \n",
    "----    \n",
    "This is not a toy example. The data for this exercise is real data, from [OpenFlights](http://www.openflights.org). The format used here is written in a slightly simplified form. The ticket price and flight duration are simulations. Latitude and longitude are the position of the airport on Earth. **Data for every flight in the world is provided.**\n",
    "\n",
    "You can look at these text files by clicking on them from the notebook file browser.\n",
    "\n",
    "### B.1 Reading cities\n",
    "The data includes all scheduled flights for the *entire world*. We just want to use the data for the UK.\n",
    "Read the `location.txt` data, and store a list of the airport information, only putting entries in the list where the *country* is the \"United Kingdom\". \n",
    "\n",
    "### Steps\n",
    "\n",
    "To read a line of text and split it into a list of components, you can use code like:\n",
    "\n",
    "    for line in file:\n",
    "        components = line.strip().split(\",\")\n",
    "        # do stuff with components -- it will be a list\n",
    "        \n",
    "which will convert each line of the file into a **list** of elements,\n",
    "one element per comma separated value. For example:\n",
    "\n",
    "    one,two,three\n",
    "    \n",
    "will become the list `[\"one\",\"two\",\"three\"]`"
   ]
  },
  {
   "cell_type": "code",
   "execution_count": 2,
   "metadata": {
    "collapsed": false
   },
   "outputs": [
    {
     "name": "stdout",
     "output_type": "stream",
     "text": [
      "['HEL', 'Finland', '60.317222', '24.963333']\n"
     ]
    }
   ],
   "source": [
    "# splits the string into a list of strings, splitting at each comma\n",
    "print \"HEL,Finland,60.317222,24.963333\".strip().split(\",\")"
   ]
  },
  {
   "cell_type": "markdown",
   "metadata": {},
   "source": [
    "Observe that you can use list indexing to select the relevant column of one row (one line) of data from the file. (e.g. `components[0]` would be the airport code)\n",
    "\n",
    "Note: to make the next part easier, you might want to create two lists; one a list of *just* the airport codes, and one with the full information for each airport.\n",
    "\n",
    "**Check your list of airports looks OK before continuing. There are 119 airports in the UK. The first UK Airport in the file is BFS and the last is QQW. **\n",
    "\n",
    "------\n",
    "\n",
    "Now read each line of `prices.txt`, and store each entry in a list, but only keep entries where *both* the start and destination airports are in your list of UK airports. \n",
    "\n",
    "Each sublist from prices list should have 5 entries, one for each of the 5 columns in prices.txt.\n",
    "\n",
    "**There should be 307 scheduled routes in the UK.** Many airports will have no scheduled flights (charter/private only). This is correct."
   ]
  },
  {
   "cell_type": "code",
   "execution_count": 9,
   "metadata": {
    "collapsed": false
   },
   "outputs": [
    {
     "name": "stdout",
     "output_type": "stream",
     "text": [
      "Number of prices for UK flights: 307\n"
     ]
    }
   ],
   "source": [
    "# Solution goes here\n",
    "def load_csv(file_name):\n",
    "    csv = []\n",
    "    with open(file_name) as f:\n",
    "        for line in f:\n",
    "            csv.append(line.strip().split(\",\"))\n",
    "\n",
    "    return csv\n",
    "\n",
    "def load_locations(file_name=\"location.txt\"):\n",
    "    return load_csv(file_name)\n",
    "\n",
    "def load_prices(file_name=\"prices.txt\"):\n",
    "    return load_csv(file_name)\n",
    "\n",
    "def get_all_price_country(country, locations=load_locations(), prices=load_prices()):\n",
    "    locs = []\n",
    "    result = []\n",
    "    \n",
    "    for loc in locations:\n",
    "        if loc[1] == country:\n",
    "            locs.append(loc[0])\n",
    "    \n",
    "    for price in prices:\n",
    "        if price[0] in locs and price[1] in locs:\n",
    "            result.append(price)\n",
    "    \n",
    "    return result\n",
    "\n",
    "print \"Number of prices for UK flights:\", len(get_all_price_country(\"United Kingdom\"))"
   ]
  },
  {
   "cell_type": "markdown",
   "metadata": {},
   "source": [
    "### B.2 Plotting cities and routes\n",
    "You can plot points on a map of the UK using the code below. Create a function that will show all airports and all routes in the UK using the lists you have read.\n",
    "\n",
    "#### Plotting\n",
    "To do this, note that you can plot a red circle at a given `x,y` location using \n",
    "\n",
    "    plt.plot(x,y,'ro')\n",
    "    \n",
    "Because we are drawing on a map, `x` and `y` mean `longitude` and `latitude`.\n",
    "\n",
    "You can plot a faint red line between two points `[x1,y1]` and `[x2,y2]` using:\n",
    "\n",
    "    plt.plot([x1, y1], [y1, y2], 'r-', alpha=0.25)\n",
    "       \n",
    "*Note: the route between two points on a globe is not really a straight line (it is a great circle section) -- **but** for small distances like within the UK it is acceptable to draw a straight line instead of the true curve.*\n",
    "\n",
    "### Strings\n",
    "Note that you have read in a **string** from the file. This means all of the entries in your list of airports are strings. You will have a list of airports that has elements that look like this (print it out to check!):\n",
    "    \n",
    "    ['BFS', 'United Kingdom', '54.6575', '-6.215833']\n",
    "    \n",
    "Notice that the last two numbers are actually strings, not floats -- you can tell because of the quotes. You will need to convert them to floats when you use them to plot the airport location. (hint: remember `float()`)\n",
    "\n",
    "If you do this correctly, the result will look like this:\n",
    "<img src=\"imgs/result_airports.png\">\n",
    "\n",
    "**If you get the airport locations in completely the wrong place (i.e. somewhere nowhere near the drawing of the UK), you have latitude and longitude reversed; `plot` expects the arguments in the *opposite* order to the way they are stored in the airport location file.**\n",
    "\n",
    "To complete the next part (B.3), you will need to be able to specify certain routes to be drawn or not drawn. Think about how to make the drawing of routes into a function, and how to *parameterise* it to allow different routes to be selected according to some criteria.\n",
    "    "
   ]
  },
  {
   "cell_type": "code",
   "execution_count": null,
   "metadata": {
    "collapsed": false,
    "scrolled": true
   },
   "outputs": [],
   "source": [
    "# copy this into your solution\n",
    "import coast\n",
    "# create a new figure to draw on\n",
    "plt.figure()\n",
    "\n",
    "## You can change draw_map to take parameters...\n",
    "def draw_map():    \n",
    "    # draw the coast outline\n",
    "    coast.draw()\n",
    "    \n",
    "    ## YOUR DRAWING CODE HERE\n",
    "    \n",
    "    # force the map to be redrawn\n",
    "    plt.gcf().canvas.draw()\n",
    "draw_map()    \n"
   ]
  },
  {
   "cell_type": "code",
   "execution_count": 10,
   "metadata": {
    "collapsed": false
   },
   "outputs": [
    {
     "data": {
      "application/javascript": [
       "/* Put everything inside the global mpl namespace */\n",
       "window.mpl = {};\n",
       "\n",
       "mpl.get_websocket_type = function() {\n",
       "    if (typeof(WebSocket) !== 'undefined') {\n",
       "        return WebSocket;\n",
       "    } else if (typeof(MozWebSocket) !== 'undefined') {\n",
       "        return MozWebSocket;\n",
       "    } else {\n",
       "        alert('Your browser does not have WebSocket support.' +\n",
       "              'Please try Chrome, Safari or Firefox ≥ 6. ' +\n",
       "              'Firefox 4 and 5 are also supported but you ' +\n",
       "              'have to enable WebSockets in about:config.');\n",
       "    };\n",
       "}\n",
       "\n",
       "mpl.figure = function(figure_id, websocket, ondownload, parent_element) {\n",
       "    this.id = figure_id;\n",
       "\n",
       "    this.ws = websocket;\n",
       "\n",
       "    this.supports_binary = (this.ws.binaryType != undefined);\n",
       "\n",
       "    if (!this.supports_binary) {\n",
       "        var warnings = document.getElementById(\"mpl-warnings\");\n",
       "        if (warnings) {\n",
       "            warnings.style.display = 'block';\n",
       "            warnings.textContent = (\n",
       "                \"This browser does not support binary websocket messages. \" +\n",
       "                    \"Performance may be slow.\");\n",
       "        }\n",
       "    }\n",
       "\n",
       "    this.imageObj = new Image();\n",
       "\n",
       "    this.context = undefined;\n",
       "    this.message = undefined;\n",
       "    this.canvas = undefined;\n",
       "    this.rubberband_canvas = undefined;\n",
       "    this.rubberband_context = undefined;\n",
       "    this.format_dropdown = undefined;\n",
       "\n",
       "    this.image_mode = 'full';\n",
       "\n",
       "    this.root = $('<div/>');\n",
       "    this._root_extra_style(this.root)\n",
       "    this.root.attr('style', 'display: inline-block');\n",
       "\n",
       "    $(parent_element).append(this.root);\n",
       "\n",
       "    this._init_header(this);\n",
       "    this._init_canvas(this);\n",
       "    this._init_toolbar(this);\n",
       "\n",
       "    var fig = this;\n",
       "\n",
       "    this.waiting = false;\n",
       "\n",
       "    this.ws.onopen =  function () {\n",
       "            fig.send_message(\"supports_binary\", {value: fig.supports_binary});\n",
       "            fig.send_message(\"send_image_mode\", {});\n",
       "            fig.send_message(\"refresh\", {});\n",
       "        }\n",
       "\n",
       "    this.imageObj.onload = function() {\n",
       "            if (fig.image_mode == 'full') {\n",
       "                // Full images could contain transparency (where diff images\n",
       "                // almost always do), so we need to clear the canvas so that\n",
       "                // there is no ghosting.\n",
       "                fig.context.clearRect(0, 0, fig.canvas.width, fig.canvas.height);\n",
       "            }\n",
       "            fig.context.drawImage(fig.imageObj, 0, 0);\n",
       "            fig.waiting = false;\n",
       "        };\n",
       "\n",
       "    this.imageObj.onunload = function() {\n",
       "        this.ws.close();\n",
       "    }\n",
       "\n",
       "    this.ws.onmessage = this._make_on_message_function(this);\n",
       "\n",
       "    this.ondownload = ondownload;\n",
       "}\n",
       "\n",
       "mpl.figure.prototype._init_header = function() {\n",
       "    var titlebar = $(\n",
       "        '<div class=\"ui-dialog-titlebar ui-widget-header ui-corner-all ' +\n",
       "        'ui-helper-clearfix\"/>');\n",
       "    var titletext = $(\n",
       "        '<div class=\"ui-dialog-title\" style=\"width: 100%; ' +\n",
       "        'text-align: center; padding: 3px;\"/>');\n",
       "    titlebar.append(titletext)\n",
       "    this.root.append(titlebar);\n",
       "    this.header = titletext[0];\n",
       "}\n",
       "\n",
       "\n",
       "\n",
       "mpl.figure.prototype._canvas_extra_style = function(canvas_div) {\n",
       "\n",
       "}\n",
       "\n",
       "\n",
       "mpl.figure.prototype._root_extra_style = function(canvas_div) {\n",
       "\n",
       "}\n",
       "\n",
       "mpl.figure.prototype._init_canvas = function() {\n",
       "    var fig = this;\n",
       "\n",
       "    var canvas_div = $('<div/>');\n",
       "\n",
       "    canvas_div.attr('style', 'position: relative; clear: both; outline: 0');\n",
       "\n",
       "    function canvas_keyboard_event(event) {\n",
       "        return fig.key_event(event, event['data']);\n",
       "    }\n",
       "\n",
       "    canvas_div.keydown('key_press', canvas_keyboard_event);\n",
       "    canvas_div.keyup('key_release', canvas_keyboard_event);\n",
       "    this.canvas_div = canvas_div\n",
       "    this._canvas_extra_style(canvas_div)\n",
       "    this.root.append(canvas_div);\n",
       "\n",
       "    var canvas = $('<canvas/>');\n",
       "    canvas.addClass('mpl-canvas');\n",
       "    canvas.attr('style', \"left: 0; top: 0; z-index: 0; outline: 0\")\n",
       "\n",
       "    this.canvas = canvas[0];\n",
       "    this.context = canvas[0].getContext(\"2d\");\n",
       "\n",
       "    var rubberband = $('<canvas/>');\n",
       "    rubberband.attr('style', \"position: absolute; left: 0; top: 0; z-index: 1;\")\n",
       "\n",
       "    var pass_mouse_events = true;\n",
       "\n",
       "    canvas_div.resizable({\n",
       "        start: function(event, ui) {\n",
       "            pass_mouse_events = false;\n",
       "        },\n",
       "        resize: function(event, ui) {\n",
       "            fig.request_resize(ui.size.width, ui.size.height);\n",
       "        },\n",
       "        stop: function(event, ui) {\n",
       "            pass_mouse_events = true;\n",
       "            fig.request_resize(ui.size.width, ui.size.height);\n",
       "        },\n",
       "    });\n",
       "\n",
       "    function mouse_event_fn(event) {\n",
       "        if (pass_mouse_events)\n",
       "            return fig.mouse_event(event, event['data']);\n",
       "    }\n",
       "\n",
       "    rubberband.mousedown('button_press', mouse_event_fn);\n",
       "    rubberband.mouseup('button_release', mouse_event_fn);\n",
       "    // Throttle sequential mouse events to 1 every 20ms.\n",
       "    rubberband.mousemove('motion_notify', mouse_event_fn);\n",
       "\n",
       "    rubberband.mouseenter('figure_enter', mouse_event_fn);\n",
       "    rubberband.mouseleave('figure_leave', mouse_event_fn);\n",
       "\n",
       "    canvas_div.on(\"wheel\", function (event) {\n",
       "        event = event.originalEvent;\n",
       "        event['data'] = 'scroll'\n",
       "        if (event.deltaY < 0) {\n",
       "            event.step = 1;\n",
       "        } else {\n",
       "            event.step = -1;\n",
       "        }\n",
       "        mouse_event_fn(event);\n",
       "    });\n",
       "\n",
       "    canvas_div.append(canvas);\n",
       "    canvas_div.append(rubberband);\n",
       "\n",
       "    this.rubberband = rubberband;\n",
       "    this.rubberband_canvas = rubberband[0];\n",
       "    this.rubberband_context = rubberband[0].getContext(\"2d\");\n",
       "    this.rubberband_context.strokeStyle = \"#000000\";\n",
       "\n",
       "    this._resize_canvas = function(width, height) {\n",
       "        // Keep the size of the canvas, canvas container, and rubber band\n",
       "        // canvas in synch.\n",
       "        canvas_div.css('width', width)\n",
       "        canvas_div.css('height', height)\n",
       "\n",
       "        canvas.attr('width', width);\n",
       "        canvas.attr('height', height);\n",
       "\n",
       "        rubberband.attr('width', width);\n",
       "        rubberband.attr('height', height);\n",
       "    }\n",
       "\n",
       "    // Set the figure to an initial 600x600px, this will subsequently be updated\n",
       "    // upon first draw.\n",
       "    this._resize_canvas(600, 600);\n",
       "\n",
       "    // Disable right mouse context menu.\n",
       "    $(this.rubberband_canvas).bind(\"contextmenu\",function(e){\n",
       "        return false;\n",
       "    });\n",
       "\n",
       "    function set_focus () {\n",
       "        canvas.focus();\n",
       "        canvas_div.focus();\n",
       "    }\n",
       "\n",
       "    window.setTimeout(set_focus, 100);\n",
       "}\n",
       "\n",
       "mpl.figure.prototype._init_toolbar = function() {\n",
       "    var fig = this;\n",
       "\n",
       "    var nav_element = $('<div/>')\n",
       "    nav_element.attr('style', 'width: 100%');\n",
       "    this.root.append(nav_element);\n",
       "\n",
       "    // Define a callback function for later on.\n",
       "    function toolbar_event(event) {\n",
       "        return fig.toolbar_button_onclick(event['data']);\n",
       "    }\n",
       "    function toolbar_mouse_event(event) {\n",
       "        return fig.toolbar_button_onmouseover(event['data']);\n",
       "    }\n",
       "\n",
       "    for(var toolbar_ind in mpl.toolbar_items) {\n",
       "        var name = mpl.toolbar_items[toolbar_ind][0];\n",
       "        var tooltip = mpl.toolbar_items[toolbar_ind][1];\n",
       "        var image = mpl.toolbar_items[toolbar_ind][2];\n",
       "        var method_name = mpl.toolbar_items[toolbar_ind][3];\n",
       "\n",
       "        if (!name) {\n",
       "            // put a spacer in here.\n",
       "            continue;\n",
       "        }\n",
       "        var button = $('<button/>');\n",
       "        button.addClass('ui-button ui-widget ui-state-default ui-corner-all ' +\n",
       "                        'ui-button-icon-only');\n",
       "        button.attr('role', 'button');\n",
       "        button.attr('aria-disabled', 'false');\n",
       "        button.click(method_name, toolbar_event);\n",
       "        button.mouseover(tooltip, toolbar_mouse_event);\n",
       "\n",
       "        var icon_img = $('<span/>');\n",
       "        icon_img.addClass('ui-button-icon-primary ui-icon');\n",
       "        icon_img.addClass(image);\n",
       "        icon_img.addClass('ui-corner-all');\n",
       "\n",
       "        var tooltip_span = $('<span/>');\n",
       "        tooltip_span.addClass('ui-button-text');\n",
       "        tooltip_span.html(tooltip);\n",
       "\n",
       "        button.append(icon_img);\n",
       "        button.append(tooltip_span);\n",
       "\n",
       "        nav_element.append(button);\n",
       "    }\n",
       "\n",
       "    var fmt_picker_span = $('<span/>');\n",
       "\n",
       "    var fmt_picker = $('<select/>');\n",
       "    fmt_picker.addClass('mpl-toolbar-option ui-widget ui-widget-content');\n",
       "    fmt_picker_span.append(fmt_picker);\n",
       "    nav_element.append(fmt_picker_span);\n",
       "    this.format_dropdown = fmt_picker[0];\n",
       "\n",
       "    for (var ind in mpl.extensions) {\n",
       "        var fmt = mpl.extensions[ind];\n",
       "        var option = $(\n",
       "            '<option/>', {selected: fmt === mpl.default_extension}).html(fmt);\n",
       "        fmt_picker.append(option)\n",
       "    }\n",
       "\n",
       "    // Add hover states to the ui-buttons\n",
       "    $( \".ui-button\" ).hover(\n",
       "        function() { $(this).addClass(\"ui-state-hover\");},\n",
       "        function() { $(this).removeClass(\"ui-state-hover\");}\n",
       "    );\n",
       "\n",
       "    var status_bar = $('<span class=\"mpl-message\"/>');\n",
       "    nav_element.append(status_bar);\n",
       "    this.message = status_bar[0];\n",
       "}\n",
       "\n",
       "mpl.figure.prototype.request_resize = function(x_pixels, y_pixels) {\n",
       "    // Request matplotlib to resize the figure. Matplotlib will then trigger a resize in the client,\n",
       "    // which will in turn request a refresh of the image.\n",
       "    this.send_message('resize', {'width': x_pixels, 'height': y_pixels});\n",
       "}\n",
       "\n",
       "mpl.figure.prototype.send_message = function(type, properties) {\n",
       "    properties['type'] = type;\n",
       "    properties['figure_id'] = this.id;\n",
       "    this.ws.send(JSON.stringify(properties));\n",
       "}\n",
       "\n",
       "mpl.figure.prototype.send_draw_message = function() {\n",
       "    if (!this.waiting) {\n",
       "        this.waiting = true;\n",
       "        this.ws.send(JSON.stringify({type: \"draw\", figure_id: this.id}));\n",
       "    }\n",
       "}\n",
       "\n",
       "\n",
       "mpl.figure.prototype.handle_save = function(fig, msg) {\n",
       "    var format_dropdown = fig.format_dropdown;\n",
       "    var format = format_dropdown.options[format_dropdown.selectedIndex].value;\n",
       "    fig.ondownload(fig, format);\n",
       "}\n",
       "\n",
       "\n",
       "mpl.figure.prototype.handle_resize = function(fig, msg) {\n",
       "    var size = msg['size'];\n",
       "    if (size[0] != fig.canvas.width || size[1] != fig.canvas.height) {\n",
       "        fig._resize_canvas(size[0], size[1]);\n",
       "        fig.send_message(\"refresh\", {});\n",
       "    };\n",
       "}\n",
       "\n",
       "mpl.figure.prototype.handle_rubberband = function(fig, msg) {\n",
       "    var x0 = msg['x0'];\n",
       "    var y0 = fig.canvas.height - msg['y0'];\n",
       "    var x1 = msg['x1'];\n",
       "    var y1 = fig.canvas.height - msg['y1'];\n",
       "    x0 = Math.floor(x0) + 0.5;\n",
       "    y0 = Math.floor(y0) + 0.5;\n",
       "    x1 = Math.floor(x1) + 0.5;\n",
       "    y1 = Math.floor(y1) + 0.5;\n",
       "    var min_x = Math.min(x0, x1);\n",
       "    var min_y = Math.min(y0, y1);\n",
       "    var width = Math.abs(x1 - x0);\n",
       "    var height = Math.abs(y1 - y0);\n",
       "\n",
       "    fig.rubberband_context.clearRect(\n",
       "        0, 0, fig.canvas.width, fig.canvas.height);\n",
       "\n",
       "    fig.rubberband_context.strokeRect(min_x, min_y, width, height);\n",
       "}\n",
       "\n",
       "mpl.figure.prototype.handle_figure_label = function(fig, msg) {\n",
       "    // Updates the figure title.\n",
       "    fig.header.textContent = msg['label'];\n",
       "}\n",
       "\n",
       "mpl.figure.prototype.handle_cursor = function(fig, msg) {\n",
       "    var cursor = msg['cursor'];\n",
       "    switch(cursor)\n",
       "    {\n",
       "    case 0:\n",
       "        cursor = 'pointer';\n",
       "        break;\n",
       "    case 1:\n",
       "        cursor = 'default';\n",
       "        break;\n",
       "    case 2:\n",
       "        cursor = 'crosshair';\n",
       "        break;\n",
       "    case 3:\n",
       "        cursor = 'move';\n",
       "        break;\n",
       "    }\n",
       "    fig.rubberband_canvas.style.cursor = cursor;\n",
       "}\n",
       "\n",
       "mpl.figure.prototype.handle_message = function(fig, msg) {\n",
       "    fig.message.textContent = msg['message'];\n",
       "}\n",
       "\n",
       "mpl.figure.prototype.handle_draw = function(fig, msg) {\n",
       "    // Request the server to send over a new figure.\n",
       "    fig.send_draw_message();\n",
       "}\n",
       "\n",
       "mpl.figure.prototype.handle_image_mode = function(fig, msg) {\n",
       "    fig.image_mode = msg['mode'];\n",
       "}\n",
       "\n",
       "mpl.figure.prototype.updated_canvas_event = function() {\n",
       "    // Called whenever the canvas gets updated.\n",
       "    this.send_message(\"ack\", {});\n",
       "}\n",
       "\n",
       "// A function to construct a web socket function for onmessage handling.\n",
       "// Called in the figure constructor.\n",
       "mpl.figure.prototype._make_on_message_function = function(fig) {\n",
       "    return function socket_on_message(evt) {\n",
       "        if (evt.data instanceof Blob) {\n",
       "            /* FIXME: We get \"Resource interpreted as Image but\n",
       "             * transferred with MIME type text/plain:\" errors on\n",
       "             * Chrome.  But how to set the MIME type?  It doesn't seem\n",
       "             * to be part of the websocket stream */\n",
       "            evt.data.type = \"image/png\";\n",
       "\n",
       "            /* Free the memory for the previous frames */\n",
       "            if (fig.imageObj.src) {\n",
       "                (window.URL || window.webkitURL).revokeObjectURL(\n",
       "                    fig.imageObj.src);\n",
       "            }\n",
       "\n",
       "            fig.imageObj.src = (window.URL || window.webkitURL).createObjectURL(\n",
       "                evt.data);\n",
       "            fig.updated_canvas_event();\n",
       "            return;\n",
       "        }\n",
       "        else if (typeof evt.data === 'string' && evt.data.slice(0, 21) == \"data:image/png;base64\") {\n",
       "            fig.imageObj.src = evt.data;\n",
       "            fig.updated_canvas_event();\n",
       "            return;\n",
       "        }\n",
       "\n",
       "        var msg = JSON.parse(evt.data);\n",
       "        var msg_type = msg['type'];\n",
       "\n",
       "        // Call the  \"handle_{type}\" callback, which takes\n",
       "        // the figure and JSON message as its only arguments.\n",
       "        try {\n",
       "            var callback = fig[\"handle_\" + msg_type];\n",
       "        } catch (e) {\n",
       "            console.log(\"No handler for the '\" + msg_type + \"' message type: \", msg);\n",
       "            return;\n",
       "        }\n",
       "\n",
       "        if (callback) {\n",
       "            try {\n",
       "                // console.log(\"Handling '\" + msg_type + \"' message: \", msg);\n",
       "                callback(fig, msg);\n",
       "            } catch (e) {\n",
       "                console.log(\"Exception inside the 'handler_\" + msg_type + \"' callback:\", e, e.stack, msg);\n",
       "            }\n",
       "        }\n",
       "    };\n",
       "}\n",
       "\n",
       "// from http://stackoverflow.com/questions/1114465/getting-mouse-location-in-canvas\n",
       "mpl.findpos = function(e) {\n",
       "    //this section is from http://www.quirksmode.org/js/events_properties.html\n",
       "    var targ;\n",
       "    if (!e)\n",
       "        e = window.event;\n",
       "    if (e.target)\n",
       "        targ = e.target;\n",
       "    else if (e.srcElement)\n",
       "        targ = e.srcElement;\n",
       "    if (targ.nodeType == 3) // defeat Safari bug\n",
       "        targ = targ.parentNode;\n",
       "\n",
       "    // jQuery normalizes the pageX and pageY\n",
       "    // pageX,Y are the mouse positions relative to the document\n",
       "    // offset() returns the position of the element relative to the document\n",
       "    var x = e.pageX - $(targ).offset().left;\n",
       "    var y = e.pageY - $(targ).offset().top;\n",
       "\n",
       "    return {\"x\": x, \"y\": y};\n",
       "};\n",
       "\n",
       "mpl.figure.prototype.mouse_event = function(event, name) {\n",
       "    var canvas_pos = mpl.findpos(event)\n",
       "\n",
       "    if (name === 'button_press')\n",
       "    {\n",
       "        this.canvas.focus();\n",
       "        this.canvas_div.focus();\n",
       "    }\n",
       "\n",
       "    var x = canvas_pos.x;\n",
       "    var y = canvas_pos.y;\n",
       "\n",
       "    this.send_message(name, {x: x, y: y, button: event.button,\n",
       "                             step: event.step});\n",
       "\n",
       "    /* This prevents the web browser from automatically changing to\n",
       "     * the text insertion cursor when the button is pressed.  We want\n",
       "     * to control all of the cursor setting manually through the\n",
       "     * 'cursor' event from matplotlib */\n",
       "    event.preventDefault();\n",
       "    return false;\n",
       "}\n",
       "\n",
       "mpl.figure.prototype._key_event_extra = function(event, name) {\n",
       "    // Handle any extra behaviour associated with a key event\n",
       "}\n",
       "\n",
       "mpl.figure.prototype.key_event = function(event, name) {\n",
       "\n",
       "    // Prevent repeat events\n",
       "    if (name == 'key_press')\n",
       "    {\n",
       "        if (event.which === this._key)\n",
       "            return;\n",
       "        else\n",
       "            this._key = event.which;\n",
       "    }\n",
       "    if (name == 'key_release')\n",
       "        this._key = null;\n",
       "\n",
       "    var value = '';\n",
       "    if (event.ctrlKey && event.which != 17)\n",
       "        value += \"ctrl+\";\n",
       "    if (event.altKey && event.which != 18)\n",
       "        value += \"alt+\";\n",
       "    if (event.shiftKey && event.which != 16)\n",
       "        value += \"shift+\";\n",
       "\n",
       "    value += 'k';\n",
       "    value += event.which.toString();\n",
       "\n",
       "    this._key_event_extra(event, name);\n",
       "\n",
       "    this.send_message(name, {key: value});\n",
       "    return false;\n",
       "}\n",
       "\n",
       "mpl.figure.prototype.toolbar_button_onclick = function(name) {\n",
       "    if (name == 'download') {\n",
       "        this.handle_save(this, null);\n",
       "    } else {\n",
       "        this.send_message(\"toolbar_button\", {name: name});\n",
       "    }\n",
       "};\n",
       "\n",
       "mpl.figure.prototype.toolbar_button_onmouseover = function(tooltip) {\n",
       "    this.message.textContent = tooltip;\n",
       "};\n",
       "mpl.toolbar_items = [[\"Home\", \"Reset original view\", \"fa fa-home icon-home\", \"home\"], [\"Back\", \"Back to  previous view\", \"fa fa-arrow-left icon-arrow-left\", \"back\"], [\"Forward\", \"Forward to next view\", \"fa fa-arrow-right icon-arrow-right\", \"forward\"], [\"\", \"\", \"\", \"\"], [\"Pan\", \"Pan axes with left mouse, zoom with right\", \"fa fa-arrows icon-move\", \"pan\"], [\"Zoom\", \"Zoom to rectangle\", \"fa fa-square-o icon-check-empty\", \"zoom\"], [\"\", \"\", \"\", \"\"], [\"Download\", \"Download plot\", \"fa fa-floppy-o icon-save\", \"download\"]];\n",
       "\n",
       "mpl.extensions = [\"eps\", \"jpeg\", \"pdf\", \"png\", \"ps\", \"raw\", \"svg\", \"tif\"];\n",
       "\n",
       "mpl.default_extension = \"png\";var comm_websocket_adapter = function(comm) {\n",
       "    // Create a \"websocket\"-like object which calls the given IPython comm\n",
       "    // object with the appropriate methods. Currently this is a non binary\n",
       "    // socket, so there is still some room for performance tuning.\n",
       "    var ws = {};\n",
       "\n",
       "    ws.close = function() {\n",
       "        comm.close()\n",
       "    };\n",
       "    ws.send = function(m) {\n",
       "        //console.log('sending', m);\n",
       "        comm.send(m);\n",
       "    };\n",
       "    // Register the callback with on_msg.\n",
       "    comm.on_msg(function(msg) {\n",
       "        //console.log('receiving', msg['content']['data'], msg);\n",
       "        // Pass the mpl event to the overriden (by mpl) onmessage function.\n",
       "        ws.onmessage(msg['content']['data'])\n",
       "    });\n",
       "    return ws;\n",
       "}\n",
       "\n",
       "mpl.mpl_figure_comm = function(comm, msg) {\n",
       "    // This is the function which gets called when the mpl process\n",
       "    // starts-up an IPython Comm through the \"matplotlib\" channel.\n",
       "\n",
       "    var id = msg.content.data.id;\n",
       "    // Get hold of the div created by the display call when the Comm\n",
       "    // socket was opened in Python.\n",
       "    var element = $(\"#\" + id);\n",
       "    var ws_proxy = comm_websocket_adapter(comm)\n",
       "\n",
       "    function ondownload(figure, format) {\n",
       "        window.open(figure.imageObj.src);\n",
       "    }\n",
       "\n",
       "    var fig = new mpl.figure(id, ws_proxy,\n",
       "                           ondownload,\n",
       "                           element.get(0));\n",
       "\n",
       "    // Call onopen now - mpl needs it, as it is assuming we've passed it a real\n",
       "    // web socket which is closed, not our websocket->open comm proxy.\n",
       "    ws_proxy.onopen();\n",
       "\n",
       "    fig.parent_element = element.get(0);\n",
       "    fig.cell_info = mpl.find_output_cell(\"<div id='\" + id + \"'></div>\");\n",
       "    if (!fig.cell_info) {\n",
       "        console.error(\"Failed to find cell for figure\", id, fig);\n",
       "        return;\n",
       "    }\n",
       "\n",
       "    var output_index = fig.cell_info[2]\n",
       "    var cell = fig.cell_info[0];\n",
       "\n",
       "};\n",
       "\n",
       "mpl.figure.prototype.handle_close = function(fig, msg) {\n",
       "    // Update the output cell to use the data from the current canvas.\n",
       "    fig.push_to_output();\n",
       "    var dataURL = fig.canvas.toDataURL();\n",
       "    // Re-enable the keyboard manager in IPython - without this line, in FF,\n",
       "    // the notebook keyboard shortcuts fail.\n",
       "    IPython.keyboard_manager.enable()\n",
       "    $(fig.parent_element).html('<img src=\"' + dataURL + '\">');\n",
       "    fig.send_message('closing', {});\n",
       "    fig.ws.close()\n",
       "}\n",
       "\n",
       "mpl.figure.prototype.push_to_output = function(remove_interactive) {\n",
       "    // Turn the data on the canvas into data in the output cell.\n",
       "    var dataURL = this.canvas.toDataURL();\n",
       "    this.cell_info[1]['text/html'] = '<img src=\"' + dataURL + '\">';\n",
       "}\n",
       "\n",
       "mpl.figure.prototype.updated_canvas_event = function() {\n",
       "    // Tell IPython that the notebook contents must change.\n",
       "    IPython.notebook.set_dirty(true);\n",
       "    this.send_message(\"ack\", {});\n",
       "    var fig = this;\n",
       "    // Wait a second, then push the new image to the DOM so\n",
       "    // that it is saved nicely (might be nice to debounce this).\n",
       "    setTimeout(function () { fig.push_to_output() }, 1000);\n",
       "}\n",
       "\n",
       "mpl.figure.prototype._init_toolbar = function() {\n",
       "    var fig = this;\n",
       "\n",
       "    var nav_element = $('<div/>')\n",
       "    nav_element.attr('style', 'width: 100%');\n",
       "    this.root.append(nav_element);\n",
       "\n",
       "    // Define a callback function for later on.\n",
       "    function toolbar_event(event) {\n",
       "        return fig.toolbar_button_onclick(event['data']);\n",
       "    }\n",
       "    function toolbar_mouse_event(event) {\n",
       "        return fig.toolbar_button_onmouseover(event['data']);\n",
       "    }\n",
       "\n",
       "    for(var toolbar_ind in mpl.toolbar_items){\n",
       "        var name = mpl.toolbar_items[toolbar_ind][0];\n",
       "        var tooltip = mpl.toolbar_items[toolbar_ind][1];\n",
       "        var image = mpl.toolbar_items[toolbar_ind][2];\n",
       "        var method_name = mpl.toolbar_items[toolbar_ind][3];\n",
       "\n",
       "        if (!name) { continue; };\n",
       "\n",
       "        var button = $('<button class=\"btn btn-default\" href=\"#\" title=\"' + name + '\"><i class=\"fa ' + image + ' fa-lg\"></i></button>');\n",
       "        button.click(method_name, toolbar_event);\n",
       "        button.mouseover(tooltip, toolbar_mouse_event);\n",
       "        nav_element.append(button);\n",
       "    }\n",
       "\n",
       "    // Add the status bar.\n",
       "    var status_bar = $('<span class=\"mpl-message\" style=\"text-align:right; float: right;\"/>');\n",
       "    nav_element.append(status_bar);\n",
       "    this.message = status_bar[0];\n",
       "\n",
       "    // Add the close button to the window.\n",
       "    var buttongrp = $('<div class=\"btn-group inline pull-right\"></div>');\n",
       "    var button = $('<button class=\"btn btn-mini btn-danger\" href=\"#\" title=\"Close figure\"><i class=\"fa fa-times icon-remove icon-large\"></i></button>');\n",
       "    button.click(function (evt) { fig.handle_close(fig, {}); } );\n",
       "    button.mouseover('Close figure', toolbar_mouse_event);\n",
       "    buttongrp.append(button);\n",
       "    var titlebar = this.root.find($('.ui-dialog-titlebar'));\n",
       "    titlebar.prepend(buttongrp);\n",
       "}\n",
       "\n",
       "\n",
       "mpl.figure.prototype._canvas_extra_style = function(el){\n",
       "    // this is important to make the div 'focusable\n",
       "    el.attr('tabindex', 0)\n",
       "    // reach out to IPython and tell the keyboard manager to turn it's self\n",
       "    // off when our div gets focus\n",
       "\n",
       "    // location in version 3\n",
       "    if (IPython.notebook.keyboard_manager) {\n",
       "        IPython.notebook.keyboard_manager.register_events(el);\n",
       "    }\n",
       "    else {\n",
       "        // location in version 2\n",
       "        IPython.keyboard_manager.register_events(el);\n",
       "    }\n",
       "\n",
       "}\n",
       "\n",
       "mpl.figure.prototype._key_event_extra = function(event, name) {\n",
       "    var manager = IPython.notebook.keyboard_manager;\n",
       "    if (!manager)\n",
       "        manager = IPython.keyboard_manager;\n",
       "\n",
       "    // Check for shift+enter\n",
       "    if (event.shiftKey && event.which == 13) {\n",
       "        this.canvas_div.blur();\n",
       "        event.shiftKey = false;\n",
       "        // Send a \"J\" for go to next cell\n",
       "        event.which = 74;\n",
       "        event.keyCode = 74;\n",
       "        manager.command_mode();\n",
       "        manager.handle_keydown(event);\n",
       "    }\n",
       "}\n",
       "\n",
       "mpl.figure.prototype.handle_save = function(fig, msg) {\n",
       "    fig.ondownload(fig, null);\n",
       "}\n",
       "\n",
       "\n",
       "mpl.find_output_cell = function(html_output) {\n",
       "    // Return the cell and output element which can be found *uniquely* in the notebook.\n",
       "    // Note - this is a bit hacky, but it is done because the \"notebook_saving.Notebook\"\n",
       "    // IPython event is triggered only after the cells have been serialised, which for\n",
       "    // our purposes (turning an active figure into a static one), is too late.\n",
       "    var cells = IPython.notebook.get_cells();\n",
       "    var ncells = cells.length;\n",
       "    for (var i=0; i<ncells; i++) {\n",
       "        var cell = cells[i];\n",
       "        if (cell.cell_type === 'code'){\n",
       "            for (var j=0; j<cell.output_area.outputs.length; j++) {\n",
       "                var data = cell.output_area.outputs[j];\n",
       "                if (data.data) {\n",
       "                    // IPython >= 3 moved mimebundle to data attribute of output\n",
       "                    data = data.data;\n",
       "                }\n",
       "                if (data['text/html'] == html_output) {\n",
       "                    return [cell, data, j];\n",
       "                }\n",
       "            }\n",
       "        }\n",
       "    }\n",
       "}\n",
       "\n",
       "// Register the function which deals with the matplotlib target/channel.\n",
       "// The kernel may be null if the page has been refreshed.\n",
       "if (IPython.notebook.kernel != null) {\n",
       "    IPython.notebook.kernel.comm_manager.register_target('matplotlib', mpl.mpl_figure_comm);\n",
       "}\n"
      ],
      "text/plain": [
       "<IPython.core.display.Javascript object>"
      ]
     },
     "metadata": {},
     "output_type": "display_data"
    },
    {
     "data": {
      "text/html": [
       "<img src=\"data:image/png;base64,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\">"
      ],
      "text/plain": [
       "<IPython.core.display.HTML object>"
      ]
     },
     "metadata": {},
     "output_type": "display_data"
    }
   ],
   "source": [
    "# Solution goes here\n",
    "\n",
    "# copy this into your solution\n",
    "import coast\n",
    "# create a new figure to draw on\n",
    "plt.figure()\n",
    "\n",
    "## You can change draw_map to take parameters...\n",
    "def draw_map(routes):    \n",
    "    # draw the coast outline\n",
    "    coast.draw()\n",
    "    \n",
    "    ## YOUR DRAWING CODE HERE\n",
    "    \n",
    "    for route in routes:\n",
    "        start = route[0]\n",
    "        end = route[1]\n",
    "        plt.plot(start[0], start[1], 'ro')\n",
    "        plt.plot(end[0], end[1], 'ro')\n",
    "        plt.plot([start[0],end[0]], [start[1],end[1]], 'r-', alpha=0.25)\n",
    "    \n",
    "    # force the map to be redrawn\n",
    "    plt.gcf().canvas.draw()\n",
    "\n",
    "def price_to_route(price, locations):\n",
    "    start = price[0]\n",
    "    end = price[1]\n",
    "    \n",
    "    for loc in locations:\n",
    "        if loc[0] == start:\n",
    "            start = (float(loc[3]), float(loc[2]))\n",
    "        elif loc[0] == end:\n",
    "            end = (float(loc[3]), float(loc[2]))\n",
    "    \n",
    "    return (start, end)\n",
    "    \n",
    "routes = []\n",
    "locations = load_locations()\n",
    "all_prices = get_all_price_country(\"United Kingdom\", locations=locations)\n",
    "\n",
    "for price in all_prices:\n",
    "    routes.append(price_to_route(price, locations))\n",
    "\n",
    "draw_map(routes)"
   ]
  },
  {
   "cell_type": "markdown",
   "metadata": {},
   "source": [
    "### B.3 Filtering and selecting routes\n",
    "*Note that you have already done all of the techniques necessary to complete this part in the A section!. **Also, it is easiest to put this code all in the solution box for B.2***\n",
    "\n",
    "\n",
    "1. Create a drop-down box where you can select a starting airport.\n",
    "\n",
    "2. Add an option for \"any\" to the start of the dropdown to represent any airport.\n",
    "\n",
    "3. Create a slider that sets a maximum price of a route, from 0 to £400. Use the step parameter to make the price adjustable in £50 increments.\n",
    "\n",
    "4. Make the callbacks for the drop-down box and the slider update the route map to show only routes going from the selected start position which are less than the maximum price, allowing for \"any\" to go from any possible airport (as long as it is cheap enough). You may need to alter your solution to B.2 to do this.\n",
    "\n",
    "Be aware that updating the map might take a second or two -- be patient when scrubbing the slider back and forth.\n",
    "\n",
    "**Think about how you are going to draw all the routes that satisfy both criteria! How will the drawing code know which routes to draw? Your callbacks should be calling draw_map() to update the map after *each* change.** "
   ]
  },
  {
   "cell_type": "code",
   "execution_count": 13,
   "metadata": {
    "collapsed": false
   },
   "outputs": [],
   "source": [
    "# Solution goes here\n",
    "ALL_LOCATIONS = load_locations()\n",
    "ALL_PRICES = load_prices()\n",
    "SELECTED_LOC = \"Any\"\n",
    "SELECTED_MAX_PRICE = 0\n",
    "\n",
    "def update_map(prices):\n",
    "    routes = []\n",
    "    for price in prices:\n",
    "        routes.append(price_to_route(price, ALL_LOCATIONS))\n",
    "    \n",
    "    draw_map(routes)\n",
    "\n",
    "def get_flitered_prices():\n",
    "    prices = []\n",
    "    if SELECTED_LOC == \"Any\":\n",
    "        prices = ALL_PRICES\n",
    "    else:\n",
    "        prices = filter(lambda price: price[0] == SELECTED_LOC, ALL_PRICES)\n",
    "    \n",
    "    prices = filter(lambda price: int(price[2]) <= SELECTED_MAX_PRICE, prices)\n",
    "    return prices\n",
    "    \n",
    "def dropdown_changed(dropdown):\n",
    "    if dropdown[\"name\"] == \"value\":\n",
    "        global SELECTED_LOC\n",
    "        SELECTED_LOC = dropdown[\"new\"]\n",
    "        #update_map(get_flitered_prices())\n",
    "        \n",
    "def slider_changed(slider):\n",
    "    if slider[\"name\"] == \"value\":\n",
    "        global SELECTED_MAX_PRICE\n",
    "        SELECTED_MAX_PRICE = slider[\"new\"]\n",
    "        #update_map(get_flitered_prices())\n",
    "        \n",
    "def button_clicked(button):\n",
    "    update_map(get_flitered_prices())\n",
    "    \n",
    "def print_prices(button):\n",
    "    with open(\"%s_%d_ticket.txt\" % (SELECTED_LOC, SELECTED_MAX_PRICE), \"w\") as f:\n",
    "        prices  = get_flitered_prices()\n",
    "        for price in prices:\n",
    "            f.write(\"Flight: %s to %s\\nCarrier: %s\\nDuration: %s\\nTotal Cost: £%s\\n\\n\" % (price[0], price[1], price[4], price[3], price[2]))\n",
    "\n",
    "#SELECTED_LOC's default value is the value which will be added to the beginning of the list and be the default value\n",
    "codes = map(lambda loc: loc[0], ALL_LOCATIONS)\n",
    "codes.insert(0, SELECTED_LOC)\n",
    "dropdown = widgets.Dropdown(options=codes, value=SELECTED_LOC, description='Starting Airport:',)\n",
    "slider = widgets.IntSlider(min=0, max=400, step=50)\n",
    "button = widgets.Button(description='Press!')\n",
    "print_but = widgets.Button(description='Print')\n",
    "\n",
    "dropdown.observe(dropdown_changed)\n",
    "slider.observe(slider_changed)\n",
    "button.on_click(button_clicked)\n",
    "print_but.on_click(print_prices)\n",
    "display(dropdown)\n",
    "display(slider)\n",
    "display(button)\n",
    "display(print_but)"
   ]
  },
  {
   "cell_type": "markdown",
   "metadata": {},
   "source": [
    "### B.4 Writing out the routes\n",
    "<img src=\"imgs/ticket_stub.jpg\">\n",
    "*[Image credit:  hirotomo t via flickr.com CC-BY-SA 2.0]*\n",
    "\n",
    "1. Add a button called \"Print Ticket\" to your B.3 solution.\n",
    "2. When it is pressed, write a set of routes out to a file called `<airport>_<price>_ticket.txt` where `<airport>`  should be the code for the airport we are starting from, and `<price>` is the max price set by the slider. It should contain all of the routes from that airport that are less than the set price (i.e. all that are shown on the map).\n",
    "For example, if the slider is set to £200 and the airport is set to GLA, you should write to `GLA_200_ticket.txt`\n",
    "3. Write the matching routes out to the file. Each route should look like:\n",
    "    \n",
    "        Flight: <airport_1> to <airport_2>\n",
    "        Carrier: <airline>        \n",
    "        Duration: <duration> minutes        \n",
    "        Total Cost: £<price>\n",
    "        \n",
    "There should be one of these route entries per possible route from the airport. There should be a newline between each route.\n",
    "\n",
    "Check that your written out route information looks correct by finding the file in Windows Explorer and opening it.\n",
    "\n",
    "Remember to open the file in the correct mode to be able to write to it!"
   ]
  },
  {
   "cell_type": "markdown",
   "metadata": {},
   "source": [
    "\n",
    "\n",
    "## C. Extended problems\n",
    "These *extended* problems are optional for students who are keen to learn more. If you've finished the whole lab and want to explore these ideas in more depth, these problems and resources are intended to help you do that. \n",
    "\n",
    "<font color=\"red\"> You do not need to attempt any of this section to receive a tick! </font>\n",
    "\n",
    "## C.1 Cheapest route\n",
    "**WARNING: This section is more challenging than previous C exercises. Attempt at your own risk!**\n",
    "\n",
    "Write a program that takes two airports as input from the user and prints out the *cheapest route*  to get between them. This could include any number of intermediate airports.  The output should include each intermediate airport and the price of each leg of the journey.\n",
    "\n",
    "For example there is no route at all between LSI and LAX, but you can go LSI->GLA->LHR->LAX. There may be cheaper routes that get you there for less money.\n",
    "\n",
    "### Steps\n",
    "\n",
    "1. Get this working for the UK airports first. Test it for a few airport pairs and verify you are finding valid routes.\n",
    "1. Then, extend it to the whole world.\n",
    "\n",
    "### How?\n",
    "This is a **shortest path** question. \n",
    "\n",
    "We can consider the problem as a **graph**, in the sense of a set of vertices connected together by edges. This is a very powerful way of representing many problems.\n",
    "\n",
    "<img src=\"imgs/dijkstra_animation.gif\">\n",
    "\n",
    "In formal notation, if we consider a graph $G=\\{V,E\\}$ to consist of vertices $V=\\{v_1, v_2, \\dots\\}$ and edges $E=\\{e_1, e_2, \\dots\\}$, where each edge $e_i$ has an associated **weight** $w_i$, we want to be able to find a route between a vertex $v_j$ and another vertex $v_k$ that minimises the sum of the edge weights we need to traverse to get there. The total weight of a path through the graph from $v_j$ to $v_k$ is given by by the sum of the edge weights in between $\\sum_i w_i$.\n",
    "\n",
    "#### Airports as graphs\n",
    "In our example, the *vertices* of the graph are the *airports*; the *edges* are the *routes*; and the *weights* are the *prices* of the flights between each airport. A path from one airport to another is a path on the graph, and its total cost is the sum of the prices of each leg of the route.\n",
    "\n",
    "### Dijkstra\n",
    "[Dijkstra's algorithm](https://en.wikipedia.org/wiki/Dijkstra%27s_algorithm) lets us *efficiently* compute shortest paths in any general graph. To solve this problem, you will need to implement Dijkstra's algorithm. \n",
    "\n",
    "Look this up on the Web; the Wikipedia page is a good introduction, but there are many other tutorials you can follow. Start with the simplest version of Dijkstra's algorithm and work from there; the first algorithm given in the \"Pseudocode\" section of the Wikipedia page is relatively easy to implement.\n",
    "\n",
    "### Computation time\n",
    "Note: this search will take a second or two to run on the full world data. It should be pretty instantaneous for the UK only data.\n",
    "\n",
    "### Output\n",
    "Your output for a route like LTN->LGW should look like this:\n",
    "\n",
    "    Cheapest route  LTN->EDI->LGW\n",
    "    Total cost: £423\n",
    "\n",
    "    Detailed breakdown:\n",
    "    LTN->EDI £283\n",
    "    EDI->LGW £140\n"
   ]
  },
  {
   "cell_type": "code",
   "execution_count": null,
   "metadata": {
    "collapsed": true
   },
   "outputs": [],
   "source": [
    "# Solution goes here"
   ]
  },
  {
   "cell_type": "code",
   "execution_count": null,
   "metadata": {
    "collapsed": false
   },
   "outputs": [],
   "source": [
    "get_route(uk_airport_information, uk_routes, 'LTN', 'LGW')    "
   ]
  },
  {
   "cell_type": "code",
   "execution_count": null,
   "metadata": {
    "collapsed": true
   },
   "outputs": [],
   "source": [
    "# Solution goes here"
   ]
  },
  {
   "cell_type": "code",
   "execution_count": null,
   "metadata": {
    "collapsed": false
   },
   "outputs": [],
   "source": [
    "get_route(world_airports, world_routes, 'JOS', 'LSI')    "
   ]
  },
  {
   "cell_type": "markdown",
   "metadata": {},
   "source": [
    "## C.2 Multi-stop\n",
    "Allow the search to find routes that include any number of specified stops. For example, I could go find a route that goes from EDI->GLA via JFK, including any number of intermdiate airports. This is sometimes called an \"open jaw\" ticket (don't ask me why!)."
   ]
  },
  {
   "cell_type": "code",
   "execution_count": null,
   "metadata": {
    "collapsed": false
   },
   "outputs": [],
   "source": [
    "# Solution goes here"
   ]
  },
  {
   "cell_type": "code",
   "execution_count": null,
   "metadata": {
    "collapsed": true
   },
   "outputs": [],
   "source": []
  }
 ],
 "metadata": {
  "kernelspec": {
   "display_name": "Python 2",
   "language": "python",
   "name": "python2"
  },
  "language_info": {
   "codemirror_mode": {
    "name": "ipython",
    "version": 2
   },
   "file_extension": ".py",
   "mimetype": "text/x-python",
   "name": "python",
   "nbconvert_exporter": "python",
   "pygments_lexer": "ipython2",
   "version": "2.7.10"
  }
 },
 "nbformat": 4,
 "nbformat_minor": 0
}
