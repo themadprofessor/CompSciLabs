{
 "cells": [
  {
   "cell_type": "markdown",
   "metadata": {},
   "source": [
    "# Week 5 : Lab \n",
    " ## Interaction: File I/O and UI Controls\n",
    " ##### CS1P - University of Glasgow - John Williamson - 2016"
   ]
  },
  {
   "cell_type": "code",
   "execution_count": 1,
   "metadata": {
    "collapsed": true
   },
   "outputs": [],
   "source": [
    "## RUN ME FIRST\n",
    "import ipywidgets as widgets\n",
    "from IPython.display import display, HTML\n",
    "from __future__ import division   # make division work like Python 3.x\n",
    "# enable the plotting commands\n",
    "%matplotlib notebook\n",
    "import matplotlib.pyplot as plt\n",
    "from matplotlib import rcParams\n",
    "rcParams['figure.figsize'] = 6, 6"
   ]
  },
  {
   "cell_type": "markdown",
   "metadata": {},
   "source": []
  },
  {
   "cell_type": "markdown",
   "metadata": {},
   "source": [
    "\n",
    "## Lab exercise\n",
    "\n",
    "**You must make a reasonable attempt at this exercise to gain a tick for this work**.\n",
    "\n",
    "<font color=\"red\"> Remember to save your work frequently! </font>\n"
   ]
  },
  {
   "cell_type": "markdown",
   "metadata": {},
   "source": [
    "\n",
    "## Purpose of this lab\n",
    "This lab will familiarise you with:\n",
    "* reading line-oriented text files\n",
    "* handling events using callbacks\n",
    "* writing text files\n"
   ]
  },
  {
   "cell_type": "markdown",
   "metadata": {},
   "source": [
    "## Before the lab\n",
    "* Complete at least the A exercises.\n",
    "* You may want to read pages 115-120 of \"Think like a computer scientist\""
   ]
  },
  {
   "cell_type": "markdown",
   "metadata": {},
   "source": [
    "## During the lab session\n",
    "* Complete the B exercises.\n"
   ]
  },
  {
   "cell_type": "markdown",
   "metadata": {},
   "source": [
    "\n",
    "## A. Quick problems\n",
    "These should take less than 10 minutes each\n",
    "\n",
    "### A.1 Spellcheck\n",
    "* There is a dictionary of (lowercase) words in the file \"words.txt\". \n",
    "* There is one word per line.\n",
    "* Write a program that asks for a word from the user, and if the word is in the dictionary, prints \"Spelled OK\", otherwise prints \"Misspelled\"\n",
    "* Note: to get the string to work correctly, you must **strip** the newline off of it:\n",
    "\n",
    "        line = line.strip()\n",
    "        \n",
    "will return just the printable text of the line.\n"
   ]
  },
  {
   "cell_type": "code",
   "execution_count": 8,
   "metadata": {
    "collapsed": false
   },
   "outputs": [
    {
     "name": "stdout",
     "output_type": "stream",
     "text": [
      "Check spelling of word: doot\n",
      "Missplled\n"
     ]
    }
   ],
   "source": [
    "# Solution goes here\n",
    "def check_spelling(word, possible_words):\n",
    "    tmp = word + \"\\n\"\n",
    "    if tmp in possible_words:\n",
    "        return \"Spelled OK\"\n",
    "    else:\n",
    "        return \"Missplled\"\n",
    "\n",
    "with open(\"words.txt\") as words:\n",
    "    word = raw_input(\"Check spelling of word: \")\n",
    "    print check_spelling(word, words)"
   ]
  },
  {
   "cell_type": "markdown",
   "metadata": {},
   "source": [
    "### A.2 Colouring the notebook\n",
    "The code below generates a slider and displays it. It attaches an **observation** callback that is called when the value of the slider changes"
   ]
  },
  {
   "cell_type": "code",
   "execution_count": 9,
   "metadata": {
    "collapsed": false
   },
   "outputs": [
    {
     "name": "stdout",
     "output_type": "stream",
     "text": [
      "Slider now at: 1\n",
      "Slider now at: 2\n",
      "Slider now at: 3\n",
      "Slider now at: 4\n",
      "Slider now at: 5\n",
      "Slider now at: 6\n",
      "Slider now at: 7\n",
      "Slider now at: 8\n",
      "Slider now at: 9\n",
      "Slider now at: 10\n",
      "Slider now at: 9\n",
      "Slider now at: 8\n",
      "Slider now at: 6\n",
      "Slider now at: 4\n",
      "Slider now at: 1\n",
      "Slider now at: -10\n"
     ]
    }
   ],
   "source": [
    "def print_slider(slider):\n",
    "    # print the current value of a slider\n",
    "    # note that we must use the following code to *only* get the update events\n",
    "    # First, check if this is a value update callback\n",
    "    if slider[\"name\"]==\"value\":\n",
    "        # if so, get the new value of the slider\n",
    "        print \"Slider now at:\", slider[\"new\"]\n",
    "       \n",
    "# create a slider than can go from -10 to 10, in increments of 1\n",
    "slider = widgets.IntSlider(min=-10, max=10, step=1)\n",
    "\n",
    "# attach the callback to the slider\n",
    "# now, print_slider will be called when the slider is moved\n",
    "slider.observe(print_slider)\n",
    "display(slider)"
   ]
  },
  {
   "cell_type": "markdown",
   "metadata": {},
   "source": [
    "## Task \n",
    " The function `set_colour(r,g,b)` below can be used to change the colour of a the notebook background. It takes three values (red, green, blue) which have to range from 0 to 255. \n",
    " \n",
    "Create a set of three sliders, which range from 0 to 255. Display all three sliders and allow the notebook background colour to be adjusted interactively. *Note that you want to use three separate callbacks here.*"
   ]
  },
  {
   "cell_type": "code",
   "execution_count": 11,
   "metadata": {
    "collapsed": false
   },
   "outputs": [
    {
     "data": {
      "text/html": [
       "<script type=\"text/Javascript\">    \n",
       "        var dom_site = document.getElementById('site'); \n",
       "        dom_site.style.backgroundColor = '#000000';           \n",
       "        </script>"
      ],
      "text/plain": [
       "<IPython.core.display.HTML object>"
      ]
     },
     "metadata": {},
     "output_type": "display_data"
    }
   ],
   "source": [
    "## do run this cell to define the function.\n",
    "from nbcolour import set_colour\n",
    "\n",
    "# test: set the background to black\n",
    "set_colour(0,0,0)    "
   ]
  },
  {
   "cell_type": "code",
   "execution_count": 15,
   "metadata": {
    "collapsed": false
   },
   "outputs": [
    {
     "data": {
      "text/html": [
       "<script type=\"text/Javascript\">    \n",
       "        var dom_site = document.getElementById('site'); \n",
       "        dom_site.style.backgroundColor = '#010000';           \n",
       "        </script>"
      ],
      "text/plain": [
       "<IPython.core.display.HTML object>"
      ]
     },
     "metadata": {},
     "output_type": "display_data"
    },
    {
     "data": {
      "text/html": [
       "<script type=\"text/Javascript\">    \n",
       "        var dom_site = document.getElementById('site'); \n",
       "        dom_site.style.backgroundColor = '#040000';           \n",
       "        </script>"
      ],
      "text/plain": [
       "<IPython.core.display.HTML object>"
      ]
     },
     "metadata": {},
     "output_type": "display_data"
    },
    {
     "data": {
      "text/html": [
       "<script type=\"text/Javascript\">    \n",
       "        var dom_site = document.getElementById('site'); \n",
       "        dom_site.style.backgroundColor = '#050000';           \n",
       "        </script>"
      ],
      "text/plain": [
       "<IPython.core.display.HTML object>"
      ]
     },
     "metadata": {},
     "output_type": "display_data"
    },
    {
     "data": {
      "text/html": [
       "<script type=\"text/Javascript\">    \n",
       "        var dom_site = document.getElementById('site'); \n",
       "        dom_site.style.backgroundColor = '#080000';           \n",
       "        </script>"
      ],
      "text/plain": [
       "<IPython.core.display.HTML object>"
      ]
     },
     "metadata": {},
     "output_type": "display_data"
    },
    {
     "data": {
      "text/html": [
       "<script type=\"text/Javascript\">    \n",
       "        var dom_site = document.getElementById('site'); \n",
       "        dom_site.style.backgroundColor = '#090000';           \n",
       "        </script>"
      ],
      "text/plain": [
       "<IPython.core.display.HTML object>"
      ]
     },
     "metadata": {},
     "output_type": "display_data"
    },
    {
     "data": {
      "text/html": [
       "<script type=\"text/Javascript\">    \n",
       "        var dom_site = document.getElementById('site'); \n",
       "        dom_site.style.backgroundColor = '#0A0000';           \n",
       "        </script>"
      ],
      "text/plain": [
       "<IPython.core.display.HTML object>"
      ]
     },
     "metadata": {},
     "output_type": "display_data"
    },
    {
     "data": {
      "text/html": [
       "<script type=\"text/Javascript\">    \n",
       "        var dom_site = document.getElementById('site'); \n",
       "        dom_site.style.backgroundColor = '#0B0000';           \n",
       "        </script>"
      ],
      "text/plain": [
       "<IPython.core.display.HTML object>"
      ]
     },
     "metadata": {},
     "output_type": "display_data"
    },
    {
     "data": {
      "text/html": [
       "<script type=\"text/Javascript\">    \n",
       "        var dom_site = document.getElementById('site'); \n",
       "        dom_site.style.backgroundColor = '#0C0000';           \n",
       "        </script>"
      ],
      "text/plain": [
       "<IPython.core.display.HTML object>"
      ]
     },
     "metadata": {},
     "output_type": "display_data"
    },
    {
     "data": {
      "text/html": [
       "<script type=\"text/Javascript\">    \n",
       "        var dom_site = document.getElementById('site'); \n",
       "        dom_site.style.backgroundColor = '#0D0000';           \n",
       "        </script>"
      ],
      "text/plain": [
       "<IPython.core.display.HTML object>"
      ]
     },
     "metadata": {},
     "output_type": "display_data"
    },
    {
     "data": {
      "text/html": [
       "<script type=\"text/Javascript\">    \n",
       "        var dom_site = document.getElementById('site'); \n",
       "        dom_site.style.backgroundColor = '#0E0000';           \n",
       "        </script>"
      ],
      "text/plain": [
       "<IPython.core.display.HTML object>"
      ]
     },
     "metadata": {},
     "output_type": "display_data"
    },
    {
     "data": {
      "text/html": [
       "<script type=\"text/Javascript\">    \n",
       "        var dom_site = document.getElementById('site'); \n",
       "        dom_site.style.backgroundColor = '#0F0000';           \n",
       "        </script>"
      ],
      "text/plain": [
       "<IPython.core.display.HTML object>"
      ]
     },
     "metadata": {},
     "output_type": "display_data"
    },
    {
     "data": {
      "text/html": [
       "<script type=\"text/Javascript\">    \n",
       "        var dom_site = document.getElementById('site'); \n",
       "        dom_site.style.backgroundColor = '#100000';           \n",
       "        </script>"
      ],
      "text/plain": [
       "<IPython.core.display.HTML object>"
      ]
     },
     "metadata": {},
     "output_type": "display_data"
    },
    {
     "data": {
      "text/html": [
       "<script type=\"text/Javascript\">    \n",
       "        var dom_site = document.getElementById('site'); \n",
       "        dom_site.style.backgroundColor = '#100100';           \n",
       "        </script>"
      ],
      "text/plain": [
       "<IPython.core.display.HTML object>"
      ]
     },
     "metadata": {},
     "output_type": "display_data"
    },
    {
     "data": {
      "text/html": [
       "<script type=\"text/Javascript\">    \n",
       "        var dom_site = document.getElementById('site'); \n",
       "        dom_site.style.backgroundColor = '#100200';           \n",
       "        </script>"
      ],
      "text/plain": [
       "<IPython.core.display.HTML object>"
      ]
     },
     "metadata": {},
     "output_type": "display_data"
    },
    {
     "data": {
      "text/html": [
       "<script type=\"text/Javascript\">    \n",
       "        var dom_site = document.getElementById('site'); \n",
       "        dom_site.style.backgroundColor = '#100400';           \n",
       "        </script>"
      ],
      "text/plain": [
       "<IPython.core.display.HTML object>"
      ]
     },
     "metadata": {},
     "output_type": "display_data"
    },
    {
     "data": {
      "text/html": [
       "<script type=\"text/Javascript\">    \n",
       "        var dom_site = document.getElementById('site'); \n",
       "        dom_site.style.backgroundColor = '#100500';           \n",
       "        </script>"
      ],
      "text/plain": [
       "<IPython.core.display.HTML object>"
      ]
     },
     "metadata": {},
     "output_type": "display_data"
    },
    {
     "data": {
      "text/html": [
       "<script type=\"text/Javascript\">    \n",
       "        var dom_site = document.getElementById('site'); \n",
       "        dom_site.style.backgroundColor = '#100700';           \n",
       "        </script>"
      ],
      "text/plain": [
       "<IPython.core.display.HTML object>"
      ]
     },
     "metadata": {},
     "output_type": "display_data"
    },
    {
     "data": {
      "text/html": [
       "<script type=\"text/Javascript\">    \n",
       "        var dom_site = document.getElementById('site'); \n",
       "        dom_site.style.backgroundColor = '#100A00';           \n",
       "        </script>"
      ],
      "text/plain": [
       "<IPython.core.display.HTML object>"
      ]
     },
     "metadata": {},
     "output_type": "display_data"
    },
    {
     "data": {
      "text/html": [
       "<script type=\"text/Javascript\">    \n",
       "        var dom_site = document.getElementById('site'); \n",
       "        dom_site.style.backgroundColor = '#100B00';           \n",
       "        </script>"
      ],
      "text/plain": [
       "<IPython.core.display.HTML object>"
      ]
     },
     "metadata": {},
     "output_type": "display_data"
    },
    {
     "data": {
      "text/html": [
       "<script type=\"text/Javascript\">    \n",
       "        var dom_site = document.getElementById('site'); \n",
       "        dom_site.style.backgroundColor = '#100C00';           \n",
       "        </script>"
      ],
      "text/plain": [
       "<IPython.core.display.HTML object>"
      ]
     },
     "metadata": {},
     "output_type": "display_data"
    },
    {
     "data": {
      "text/html": [
       "<script type=\"text/Javascript\">    \n",
       "        var dom_site = document.getElementById('site'); \n",
       "        dom_site.style.backgroundColor = '#101600';           \n",
       "        </script>"
      ],
      "text/plain": [
       "<IPython.core.display.HTML object>"
      ]
     },
     "metadata": {},
     "output_type": "display_data"
    },
    {
     "data": {
      "text/html": [
       "<script type=\"text/Javascript\">    \n",
       "        var dom_site = document.getElementById('site'); \n",
       "        dom_site.style.backgroundColor = '#101700';           \n",
       "        </script>"
      ],
      "text/plain": [
       "<IPython.core.display.HTML object>"
      ]
     },
     "metadata": {},
     "output_type": "display_data"
    },
    {
     "data": {
      "text/html": [
       "<script type=\"text/Javascript\">    \n",
       "        var dom_site = document.getElementById('site'); \n",
       "        dom_site.style.backgroundColor = '#101900';           \n",
       "        </script>"
      ],
      "text/plain": [
       "<IPython.core.display.HTML object>"
      ]
     },
     "metadata": {},
     "output_type": "display_data"
    },
    {
     "data": {
      "text/html": [
       "<script type=\"text/Javascript\">    \n",
       "        var dom_site = document.getElementById('site'); \n",
       "        dom_site.style.backgroundColor = '#101904';           \n",
       "        </script>"
      ],
      "text/plain": [
       "<IPython.core.display.HTML object>"
      ]
     },
     "metadata": {},
     "output_type": "display_data"
    },
    {
     "data": {
      "text/html": [
       "<script type=\"text/Javascript\">    \n",
       "        var dom_site = document.getElementById('site'); \n",
       "        dom_site.style.backgroundColor = '#101909';           \n",
       "        </script>"
      ],
      "text/plain": [
       "<IPython.core.display.HTML object>"
      ]
     },
     "metadata": {},
     "output_type": "display_data"
    },
    {
     "data": {
      "text/html": [
       "<script type=\"text/Javascript\">    \n",
       "        var dom_site = document.getElementById('site'); \n",
       "        dom_site.style.backgroundColor = '#101910';           \n",
       "        </script>"
      ],
      "text/plain": [
       "<IPython.core.display.HTML object>"
      ]
     },
     "metadata": {},
     "output_type": "display_data"
    },
    {
     "data": {
      "text/html": [
       "<script type=\"text/Javascript\">    \n",
       "        var dom_site = document.getElementById('site'); \n",
       "        dom_site.style.backgroundColor = '#10191C';           \n",
       "        </script>"
      ],
      "text/plain": [
       "<IPython.core.display.HTML object>"
      ]
     },
     "metadata": {},
     "output_type": "display_data"
    },
    {
     "data": {
      "text/html": [
       "<script type=\"text/Javascript\">    \n",
       "        var dom_site = document.getElementById('site'); \n",
       "        dom_site.style.backgroundColor = '#101954';           \n",
       "        </script>"
      ],
      "text/plain": [
       "<IPython.core.display.HTML object>"
      ]
     },
     "metadata": {},
     "output_type": "display_data"
    },
    {
     "data": {
      "text/html": [
       "<script type=\"text/Javascript\">    \n",
       "        var dom_site = document.getElementById('site'); \n",
       "        dom_site.style.backgroundColor = '#1019DC';           \n",
       "        </script>"
      ],
      "text/plain": [
       "<IPython.core.display.HTML object>"
      ]
     },
     "metadata": {},
     "output_type": "display_data"
    },
    {
     "data": {
      "text/html": [
       "<script type=\"text/Javascript\">    \n",
       "        var dom_site = document.getElementById('site'); \n",
       "        dom_site.style.backgroundColor = '#1019E5';           \n",
       "        </script>"
      ],
      "text/plain": [
       "<IPython.core.display.HTML object>"
      ]
     },
     "metadata": {},
     "output_type": "display_data"
    },
    {
     "data": {
      "text/html": [
       "<script type=\"text/Javascript\">    \n",
       "        var dom_site = document.getElementById('site'); \n",
       "        dom_site.style.backgroundColor = '#0D19E5';           \n",
       "        </script>"
      ],
      "text/plain": [
       "<IPython.core.display.HTML object>"
      ]
     },
     "metadata": {},
     "output_type": "display_data"
    },
    {
     "data": {
      "text/html": [
       "<script type=\"text/Javascript\">    \n",
       "        var dom_site = document.getElementById('site'); \n",
       "        dom_site.style.backgroundColor = '#1119E5';           \n",
       "        </script>"
      ],
      "text/plain": [
       "<IPython.core.display.HTML object>"
      ]
     },
     "metadata": {},
     "output_type": "display_data"
    },
    {
     "data": {
      "text/html": [
       "<script type=\"text/Javascript\">    \n",
       "        var dom_site = document.getElementById('site'); \n",
       "        dom_site.style.backgroundColor = '#1A19E5';           \n",
       "        </script>"
      ],
      "text/plain": [
       "<IPython.core.display.HTML object>"
      ]
     },
     "metadata": {},
     "output_type": "display_data"
    },
    {
     "data": {
      "text/html": [
       "<script type=\"text/Javascript\">    \n",
       "        var dom_site = document.getElementById('site'); \n",
       "        dom_site.style.backgroundColor = '#2719E5';           \n",
       "        </script>"
      ],
      "text/plain": [
       "<IPython.core.display.HTML object>"
      ]
     },
     "metadata": {},
     "output_type": "display_data"
    },
    {
     "data": {
      "text/html": [
       "<script type=\"text/Javascript\">    \n",
       "        var dom_site = document.getElementById('site'); \n",
       "        dom_site.style.backgroundColor = '#A119E5';           \n",
       "        </script>"
      ],
      "text/plain": [
       "<IPython.core.display.HTML object>"
      ]
     },
     "metadata": {},
     "output_type": "display_data"
    },
    {
     "data": {
      "text/html": [
       "<script type=\"text/Javascript\">    \n",
       "        var dom_site = document.getElementById('site'); \n",
       "        dom_site.style.backgroundColor = '#B419E5';           \n",
       "        </script>"
      ],
      "text/plain": [
       "<IPython.core.display.HTML object>"
      ]
     },
     "metadata": {},
     "output_type": "display_data"
    },
    {
     "data": {
      "text/html": [
       "<script type=\"text/Javascript\">    \n",
       "        var dom_site = document.getElementById('site'); \n",
       "        dom_site.style.backgroundColor = '#E319E5';           \n",
       "        </script>"
      ],
      "text/plain": [
       "<IPython.core.display.HTML object>"
      ]
     },
     "metadata": {},
     "output_type": "display_data"
    },
    {
     "data": {
      "text/html": [
       "<script type=\"text/Javascript\">    \n",
       "        var dom_site = document.getElementById('site'); \n",
       "        dom_site.style.backgroundColor = '#E219E5';           \n",
       "        </script>"
      ],
      "text/plain": [
       "<IPython.core.display.HTML object>"
      ]
     },
     "metadata": {},
     "output_type": "display_data"
    },
    {
     "data": {
      "text/html": [
       "<script type=\"text/Javascript\">    \n",
       "        var dom_site = document.getElementById('site'); \n",
       "        dom_site.style.backgroundColor = '#E019E5';           \n",
       "        </script>"
      ],
      "text/plain": [
       "<IPython.core.display.HTML object>"
      ]
     },
     "metadata": {},
     "output_type": "display_data"
    },
    {
     "data": {
      "text/html": [
       "<script type=\"text/Javascript\">    \n",
       "        var dom_site = document.getElementById('site'); \n",
       "        dom_site.style.backgroundColor = '#DF19E5';           \n",
       "        </script>"
      ],
      "text/plain": [
       "<IPython.core.display.HTML object>"
      ]
     },
     "metadata": {},
     "output_type": "display_data"
    },
    {
     "data": {
      "text/html": [
       "<script type=\"text/Javascript\">    \n",
       "        var dom_site = document.getElementById('site'); \n",
       "        dom_site.style.backgroundColor = '#DD19E5';           \n",
       "        </script>"
      ],
      "text/plain": [
       "<IPython.core.display.HTML object>"
      ]
     },
     "metadata": {},
     "output_type": "display_data"
    },
    {
     "data": {
      "text/html": [
       "<script type=\"text/Javascript\">    \n",
       "        var dom_site = document.getElementById('site'); \n",
       "        dom_site.style.backgroundColor = '#D719E5';           \n",
       "        </script>"
      ],
      "text/plain": [
       "<IPython.core.display.HTML object>"
      ]
     },
     "metadata": {},
     "output_type": "display_data"
    },
    {
     "data": {
      "text/html": [
       "<script type=\"text/Javascript\">    \n",
       "        var dom_site = document.getElementById('site'); \n",
       "        dom_site.style.backgroundColor = '#D619E5';           \n",
       "        </script>"
      ],
      "text/plain": [
       "<IPython.core.display.HTML object>"
      ]
     },
     "metadata": {},
     "output_type": "display_data"
    },
    {
     "data": {
      "text/html": [
       "<script type=\"text/Javascript\">    \n",
       "        var dom_site = document.getElementById('site'); \n",
       "        dom_site.style.backgroundColor = '#D519E5';           \n",
       "        </script>"
      ],
      "text/plain": [
       "<IPython.core.display.HTML object>"
      ]
     },
     "metadata": {},
     "output_type": "display_data"
    },
    {
     "data": {
      "text/html": [
       "<script type=\"text/Javascript\">    \n",
       "        var dom_site = document.getElementById('site'); \n",
       "        dom_site.style.backgroundColor = '#D319E5';           \n",
       "        </script>"
      ],
      "text/plain": [
       "<IPython.core.display.HTML object>"
      ]
     },
     "metadata": {},
     "output_type": "display_data"
    },
    {
     "data": {
      "text/html": [
       "<script type=\"text/Javascript\">    \n",
       "        var dom_site = document.getElementById('site'); \n",
       "        dom_site.style.backgroundColor = '#D219E5';           \n",
       "        </script>"
      ],
      "text/plain": [
       "<IPython.core.display.HTML object>"
      ]
     },
     "metadata": {},
     "output_type": "display_data"
    },
    {
     "data": {
      "text/html": [
       "<script type=\"text/Javascript\">    \n",
       "        var dom_site = document.getElementById('site'); \n",
       "        dom_site.style.backgroundColor = '#D119E5';           \n",
       "        </script>"
      ],
      "text/plain": [
       "<IPython.core.display.HTML object>"
      ]
     },
     "metadata": {},
     "output_type": "display_data"
    },
    {
     "data": {
      "text/html": [
       "<script type=\"text/Javascript\">    \n",
       "        var dom_site = document.getElementById('site'); \n",
       "        dom_site.style.backgroundColor = '#CF19E5';           \n",
       "        </script>"
      ],
      "text/plain": [
       "<IPython.core.display.HTML object>"
      ]
     },
     "metadata": {},
     "output_type": "display_data"
    },
    {
     "data": {
      "text/html": [
       "<script type=\"text/Javascript\">    \n",
       "        var dom_site = document.getElementById('site'); \n",
       "        dom_site.style.backgroundColor = '#CD19E5';           \n",
       "        </script>"
      ],
      "text/plain": [
       "<IPython.core.display.HTML object>"
      ]
     },
     "metadata": {},
     "output_type": "display_data"
    },
    {
     "data": {
      "text/html": [
       "<script type=\"text/Javascript\">    \n",
       "        var dom_site = document.getElementById('site'); \n",
       "        dom_site.style.backgroundColor = '#CC19E5';           \n",
       "        </script>"
      ],
      "text/plain": [
       "<IPython.core.display.HTML object>"
      ]
     },
     "metadata": {},
     "output_type": "display_data"
    }
   ],
   "source": [
    "# Solution goes here\n",
    "CURR_R,CURR_G,CURR_B = 0,0,0\n",
    "\n",
    "def set_r(slider):\n",
    "    if slider[\"name\"] == \"value\":\n",
    "        global CURR_R\n",
    "        CURR_R = slider[\"new\"]\n",
    "        set_colour(CURR_R, CURR_G, CURR_B)\n",
    "\n",
    "def set_g(slider):\n",
    "    if slider[\"name\"] == \"value\":\n",
    "        global CURR_G\n",
    "        CURR_G = slider[\"new\"]\n",
    "        set_colour(CURR_R, CURR_G, CURR_B)\n",
    "        \n",
    "def set_b(slider):\n",
    "    if slider[\"name\"] == \"value\":\n",
    "        global CURR_B\n",
    "        CURR_B = slider[\"new\"]\n",
    "        set_colour(CURR_R, CURR_G, CURR_B)\n",
    "        \n",
    "r_slider = widgets.IntSlider(min=0, max=255, step=1)\n",
    "r_slider.observe(set_r)\n",
    "g_slider = widgets.IntSlider(min=0, max=255, step=1)\n",
    "g_slider.observe(set_g)\n",
    "b_slider = widgets.IntSlider(min=0, max=255, step=1)\n",
    "b_slider.observe(set_b)\n",
    "display(r_slider)\n",
    "display(g_slider)\n",
    "display(b_slider)"
   ]
  },
  {
   "cell_type": "markdown",
   "metadata": {},
   "source": [
    "### A.3 Buttons\n",
    "Modify the code below so that three buttons appear. Make each prints a *distinct* message out. **But** don't define any new callback functions  -- just write a modified `message` function. *There should only be one callback for all three buttons.*\n",
    "\n",
    "*Hint* What is the value of `s`? Also, remember what I did in the Week 5 video."
   ]
  },
  {
   "cell_type": "code",
   "execution_count": null,
   "metadata": {
    "collapsed": false
   },
   "outputs": [],
   "source": [
    "# modify this code to have three buttons. \n",
    "def message(s):\n",
    "    print \"You pressed my button!\"\n",
    "\n",
    "# make a button\n",
    "button = widgets.Button(description='Press!', width=2)\n",
    "\n",
    "# tell the button what to do when I click it\n",
    "button.on_click(message)\n",
    "\n",
    "# display the buttons in a row(here, just one button)\n",
    "# note that the argument to HBox() is a list of widgets to display\n",
    "display(widgets.HBox([button]))"
   ]
  },
  {
   "cell_type": "code",
   "execution_count": 17,
   "metadata": {
    "collapsed": false
   },
   "outputs": [
    {
     "name": "stdout",
     "output_type": "stream",
     "text": [
      "Doot\n",
      "Dooty\n",
      "Dooty McDootface\n"
     ]
    }
   ],
   "source": [
    "# Solution goes here\n",
    "def message(s):\n",
    "    print s.tooltip\n",
    "\n",
    "button_1 = widgets.Button(description='Press!', width=2, tooltip=\"Doot\")\n",
    "button_1.on_click(message)\n",
    "button_2 = widgets.Button(description='Press!', width=2, tooltip=\"Dooty\")\n",
    "button_2.on_click(message)\n",
    "button_3 = widgets.Button(description='Press!', width=2, tooltip=\"Dooty McDootface\")\n",
    "button_3.on_click(message)\n",
    "\n",
    "display(widgets.HBox([button_1, button_2, button_3]))"
   ]
  },
  {
   "cell_type": "markdown",
   "metadata": {},
   "source": [
    "### A.4 Matching lines in a file\n",
    "* Write a program which checks each line of text in a file to see if it begins with a given string.\n",
    "* You can use `long_string.startswith(\"pattern\")` to see if `pattern` occurs at the start of `long_string`.\n",
    "* If the line contains the string, print it out.\n",
    "\n",
    "Apply your program to the file `romeo_juliet.txt` looking for the pattern `\"  Rom.\"` (note there are two spaces at the start!) and writing the line to \"romeos_lines.txt\". This will only copy the *first* of Romeo's lines in any passage.\n",
    "\n",
    "Repeat this process to copy Juliet's (first) lines to \"juliets_lines.txt\".\n",
    "\n",
    "*Note that we did a very similar example in the lecture notes!*\n",
    "\n",
    "**Optional extension (slightly hard):**\n",
    "Make the code copy *all* of Romeo's (or Juliet's) lines, not just the first line in any block of dialogue. You will need to look at romeo_juliet.txt to see how you could find this from the structure of the file."
   ]
  },
  {
   "cell_type": "code",
   "execution_count": null,
   "metadata": {
    "collapsed": false
   },
   "outputs": [],
   "source": [
    "# Solution goes here\n",
    "def get_lines_starting_with(start, all_lines):\n",
    "    lines = []\n",
    "    \n",
    "    for line in all_lines:\n",
    "        if line.startswith(start):\n",
    "            lines.append(line)\n",
    "    return lines\n",
    "\n",
    "def get_lines(name, all_lines):\n",
    "    lines = []\n",
    "    is_same_person = False\n",
    "    start = \"  \" + name + \".\"\n",
    "    \n",
    "    for line in all_lines:\n",
    "        if line.startswith(start):\n",
    "            is_same_person = True\n",
    "        if not line.strip():\n",
    "            is_same_person = False\n",
    "        \n",
    "        if is_same_person:\n",
    "            lines.append(line[:-1])\n",
    "    return lines\n",
    "\n",
    "with open(\"romeo_juliet.txt\") as f:\n",
    "    for line in get_lines(\"Rom\", f):\n",
    "        print line"
   ]
  },
  {
   "cell_type": "markdown",
   "metadata": {
    "collapsed": false
   },
   "source": [
    "### A.5 Walking around\n",
    "\n",
    "**[This may take slightly longer than the other A exercises]**\n",
    "\n",
    "The **Dropdown** widget shows a list of options. Run the code below to see what it does."
   ]
  },
  {
   "cell_type": "code",
   "execution_count": null,
   "metadata": {
    "collapsed": false
   },
   "outputs": [],
   "source": [
    "def dropdown_changed(dropdown):    \n",
    "    # callback: check if the value changed, and if so, write it out\n",
    "    if dropdown[\"name\"]==\"value\":\n",
    "        print \"Dropdown is now \", dropdown[\"new\"]\n",
    "\n",
    "# three possible options: 1,2,3. Start off with 2.\n",
    "dropdown = widgets.Dropdown(options=['1', '2', '3'],value='2', description='Number:',)\n",
    "\n",
    "# set the callback. \n",
    "dropdown.observe(dropdown_changed)\n",
    "display(dropdown)"
   ]
  },
  {
   "cell_type": "markdown",
   "metadata": {},
   "source": [
    "There are two files called `passages.txt` and `rooms.txt`. Each is a list of types of rooms or passages, one word per line. Start by checking you can create a list of rooms and passages from these files. \n",
    "\n",
    "Then, create a simple interface with three dropdowns: one to select a first room, the second to select a passage, and third to select a second room. The options in the dropdown should be the lists loaded from these two files.\n",
    "\n",
    "**Use three separate callbacks for the dropdown menus**\n",
    "\n",
    "Finally, add a button that, when pressed, prints out a message like:\n",
    "\n",
    "    \"He went from the cellar to the kitchen via the fire pole\"\n",
    "    \"She went from the cloak room to the throne room via the dumbwaiter\"\n",
    "    \n",
    "substituting in the values chosen from the three dropdowns.     "
   ]
  },
  {
   "cell_type": "code",
   "execution_count": 54,
   "metadata": {
    "collapsed": false
   },
   "outputs": [
    {
     "name": "stdout",
     "output_type": "stream",
     "text": [
      "They went from the aerary to the avenue via the aerary\n",
      "They went from the corner office to the exit via the bathroom\n"
     ]
    }
   ],
   "source": [
    "# Solution goes here\n",
    "TRIP = [None, None, None]\n",
    "ORDER = [\"Room 1\", \"Passage\", \"Room 2\"]\n",
    "\n",
    "def get_trip_index(desc):\n",
    "    if desc not in ORDER:\n",
    "        raise ValueError(\"The given desc is not found in order!\")\n",
    "    else:\n",
    "        return ORDER.index(desc)\n",
    "\n",
    "def update(dropdown):\n",
    "    if dropdown[\"name\"] == \"value\":\n",
    "        index = get_trip_index(dropdown[\"owner\"].description)\n",
    "        TRIP[index] = dropdown[\"new\"]\n",
    "        \n",
    "def init_dropdown(desc, options):\n",
    "    dropdown = widgets.Dropdown(options=options, value=options[0], description=desc)\n",
    "    dropdown.observe(update)\n",
    "    display(dropdown)\n",
    "    TRIP[get_trip_index(desc)] = options[0]\n",
    "    \n",
    "def print_trip(dropdown):\n",
    "    print \"They went from the %s to the %s via the %s\" % tuple(TRIP)\n",
    "        \n",
    "with open(\"rooms.txt\") as rooms, open(\"passages.txt\") as passages:\n",
    "    r = map(lambda line: line.strip(), rooms.readlines())\n",
    "    init_dropdown(\"Room 1\", r[:])\n",
    "    init_dropdown(\"Passage\", map(lambda line: line.strip(), passages.readlines()))\n",
    "    init_dropdown(\"Room 2\", r)\n",
    "    \n",
    "button= widgets.Button(description='Print')\n",
    "button.on_click(print_trip)\n",
    "display(button)"
   ]
  },
  {
   "cell_type": "markdown",
   "metadata": {},
   "source": [
    "## B. Airline ticket sales\n",
    "<img src=\"imgs/runway.jpg\">\n",
    "*[Image credit: Bernal Saborio via flickr.com CC-BY-SA 2.0]*\n",
    "\n",
    "You have to implement an airline ticket search system for UK flights. \n",
    "\n",
    "You have been provided with a list of flight information in a file `prices.txt`, in the format (one entry per line)\n",
    "    \n",
    "       <start_airport>, <destination_airport>, <price>, \n",
    "       <duration>, <airline>\n",
    "       \n",
    "For example, a route from Helsinki to Berlin Tegel costing £250 and taking 104 minutes via *Germanwings* appears as:\n",
    "\n",
    "    HEL,TXL,250,104,Germanwings\n",
    "    \n",
    "You also have a file `location.txt` which has a list of entries:\n",
    "\n",
    "    <airport_code>, <country>, <latitude>, <longitude>\n",
    "    \n",
    "For example, the entry for Helsinki airport is:\n",
    "\n",
    "    HEL,Finland,60.317222,24.963333\n",
    "    \n",
    "----    \n",
    "This is not a toy example. The data for this exercise is real data, from [OpenFlights](http://www.openflights.org). The format used here is written in a slightly simplified form. The ticket price and flight duration are simulations. Latitude and longitude are the position of the airport on Earth. **Data for every flight in the world is provided.**\n",
    "\n",
    "You can look at these text files by clicking on them from the notebook file browser.\n",
    "\n",
    "### B.1 Reading cities\n",
    "The data includes all scheduled flights for the *entire world*. We just want to use the data for the UK.\n",
    "Read the `location.txt` data, and store a list of the airport information, only putting entries in the list where the *country* is the \"United Kingdom\". \n",
    "\n",
    "### Steps\n",
    "\n",
    "To read a line of text and split it into a list of components, you can use code like:\n",
    "\n",
    "    for line in file:\n",
    "        components = line.strip().split(\",\")\n",
    "        # do stuff with components -- it will be a list\n",
    "        \n",
    "which will convert each line of the file into a **list** of elements,\n",
    "one element per comma separated value. For example:\n",
    "\n",
    "    one,two,three\n",
    "    \n",
    "will become the list `[\"one\",\"two\",\"three\"]`"
   ]
  },
  {
   "cell_type": "code",
   "execution_count": null,
   "metadata": {
    "collapsed": false
   },
   "outputs": [],
   "source": [
    "# splits the string into a list of strings, splitting at each comma\n",
    "print \"HEL,Finland,60.317222,24.963333\".strip().split(\",\")"
   ]
  },
  {
   "cell_type": "markdown",
   "metadata": {},
   "source": [
    "Observe that you can use list indexing to select the relevant column of one row (one line) of data from the file. (e.g. `components[0]` would be the airport code)\n",
    "\n",
    "Note: to make the next part easier, you might want to create two lists; one a list of *just* the airport codes, and one with the full information for each airport.\n",
    "\n",
    "**Check your list of airports looks OK before continuing. There are 119 airports in the UK. The first UK Airport in the file is BFS and the last is QQW. **\n",
    "\n",
    "------\n",
    "\n",
    "Now read each line of `prices.txt`, and store each entry in a list, but only keep entries where *both* the start and destination airports are in your list of UK airports. \n",
    "\n",
    "Each sublist from prices list should have 5 entries, one for each of the 5 columns in prices.txt.\n",
    "\n",
    "**There should be 307 scheduled routes in the UK.** Many airports will have no scheduled flights (charter/private only). This is correct."
   ]
  },
  {
   "cell_type": "code",
   "execution_count": null,
   "metadata": {
    "collapsed": false
   },
   "outputs": [],
   "source": [
    "# Solution goes here"
   ]
  },
  {
   "cell_type": "markdown",
   "metadata": {},
   "source": [
    "### B.2 Plotting cities and routes\n",
    "You can plot points on a map of the UK using the code below. Create a function that will show all airports and all routes in the UK using the lists you have read.\n",
    "\n",
    "#### Plotting\n",
    "To do this, note that you can plot a red circle at a given `x,y` location using \n",
    "\n",
    "    plt.plot(x,y,'ro')\n",
    "    \n",
    "Because we are drawing on a map, `x` and `y` mean `longitude` and `latitude`.\n",
    "\n",
    "You can plot a faint red line between two points `[x1,y1]` and `[x2,y2]` using:\n",
    "\n",
    "    plt.plot([x1, y1], [y1, y2], 'r-', alpha=0.25)\n",
    "       \n",
    "*Note: the route between two points on a globe is not really a straight line (it is a great circle section) -- **but** for small distances like within the UK it is acceptable to draw a straight line instead of the true curve.*\n",
    "\n",
    "### Strings\n",
    "Note that you have read in a **string** from the file. This means all of the entries in your list of airports are strings. You will have a list of airports that has elements that look like this (print it out to check!):\n",
    "    \n",
    "    ['BFS', 'United Kingdom', '54.6575', '-6.215833']\n",
    "    \n",
    "Notice that the last two numbers are actually strings, not floats -- you can tell because of the quotes. You will need to convert them to floats when you use them to plot the airport location. (hint: remember `float()`)\n",
    "\n",
    "If you do this correctly, the result will look like this:\n",
    "<img src=\"imgs/result_airports.png\">\n",
    "\n",
    "**If you get the airport locations in completely the wrong place (i.e. somewhere nowhere near the drawing of the UK), you have latitude and longitude reversed; `plot` expects the arguments in the *opposite* order to the way they are stored in the airport location file.**\n",
    "\n",
    "To complete the next part (B.3), you will need to be able to specify certain routes to be drawn or not drawn. Think about how to make the drawing of routes into a function, and how to *parameterise* it to allow different routes to be selected according to some criteria.\n",
    "    "
   ]
  },
  {
   "cell_type": "code",
   "execution_count": null,
   "metadata": {
    "collapsed": false,
    "scrolled": true
   },
   "outputs": [],
   "source": [
    "# copy this into your solution\n",
    "import coast\n",
    "# create a new figure to draw on\n",
    "plt.figure()\n",
    "\n",
    "## You can change draw_map to take parameters...\n",
    "def draw_map():    \n",
    "    # draw the coast outline\n",
    "    coast.draw()\n",
    "    \n",
    "    ## YOUR DRAWING CODE HERE\n",
    "    \n",
    "    # force the map to be redrawn\n",
    "    plt.gcf().canvas.draw()\n",
    "draw_map()    \n"
   ]
  },
  {
   "cell_type": "code",
   "execution_count": null,
   "metadata": {
    "collapsed": false
   },
   "outputs": [],
   "source": [
    "# Solution goes here"
   ]
  },
  {
   "cell_type": "markdown",
   "metadata": {},
   "source": [
    "### B.3 Filtering and selecting routes\n",
    "*Note that you have already done all of the techniques necessary to complete this part in the A section!. **Also, it is easiest to put this code all in the solution box for B.2***\n",
    "\n",
    "\n",
    "1. Create a drop-down box where you can select a starting airport.\n",
    "\n",
    "2. Add an option for \"any\" to the start of the dropdown to represent any airport.\n",
    "\n",
    "3. Create a slider that sets a maximum price of a route, from 0 to £400. Use the step parameter to make the price adjustable in £50 increments.\n",
    "\n",
    "4. Make the callbacks for the drop-down box and the slider update the route map to show only routes going from the selected start position which are less than the maximum price, allowing for \"any\" to go from any possible airport (as long as it is cheap enough). You may need to alter your solution to B.2 to do this.\n",
    "\n",
    "Be aware that updating the map might take a second or two -- be patient when scrubbing the slider back and forth.\n",
    "\n",
    "**Think about how you are going to draw all the routes that satisfy both criteria! How will the drawing code know which routes to draw? Your callbacks should be calling draw_map() to update the map after *each* change.** "
   ]
  },
  {
   "cell_type": "code",
   "execution_count": null,
   "metadata": {
    "collapsed": false
   },
   "outputs": [],
   "source": [
    "# Solution goes here"
   ]
  },
  {
   "cell_type": "markdown",
   "metadata": {},
   "source": [
    "### B.4 Writing out the routes\n",
    "<img src=\"imgs/ticket_stub.jpg\">\n",
    "*[Image credit:  hirotomo t via flickr.com CC-BY-SA 2.0]*\n",
    "\n",
    "1. Add a button called \"Print Ticket\" to your B.3 solution.\n",
    "2. When it is pressed, write a set of routes out to a file called `<airport>_<price>_ticket.txt` where `<airport>`  should be the code for the airport we are starting from, and `<price>` is the max price set by the slider. It should contain all of the routes from that airport that are less than the set price (i.e. all that are shown on the map).\n",
    "For example, if the slider is set to £200 and the airport is set to GLA, you should write to `GLA_200_ticket.txt`\n",
    "3. Write the matching routes out to the file. Each route should look like:\n",
    "    \n",
    "        Flight: <airport_1> to <airport_2>\n",
    "        Carrier: <airline>        \n",
    "        Duration: <duration> minutes        \n",
    "        Total Cost: £<price>\n",
    "        \n",
    "There should be one of these route entries per possible route from the airport. There should be a newline between each route.\n",
    "\n",
    "Check that your written out route information looks correct by finding the file in Windows Explorer and opening it.\n",
    "\n",
    "Remember to open the file in the correct mode to be able to write to it!"
   ]
  },
  {
   "cell_type": "markdown",
   "metadata": {},
   "source": [
    "\n",
    "\n",
    "## C. Extended problems\n",
    "These *extended* problems are optional for students who are keen to learn more. If you've finished the whole lab and want to explore these ideas in more depth, these problems and resources are intended to help you do that. \n",
    "\n",
    "<font color=\"red\"> You do not need to attempt any of this section to receive a tick! </font>\n",
    "\n",
    "## C.1 Cheapest route\n",
    "**WARNING: This section is more challenging than previous C exercises. Attempt at your own risk!**\n",
    "\n",
    "Write a program that takes two airports as input from the user and prints out the *cheapest route*  to get between them. This could include any number of intermediate airports.  The output should include each intermediate airport and the price of each leg of the journey.\n",
    "\n",
    "For example there is no route at all between LSI and LAX, but you can go LSI->GLA->LHR->LAX. There may be cheaper routes that get you there for less money.\n",
    "\n",
    "### Steps\n",
    "\n",
    "1. Get this working for the UK airports first. Test it for a few airport pairs and verify you are finding valid routes.\n",
    "1. Then, extend it to the whole world.\n",
    "\n",
    "### How?\n",
    "This is a **shortest path** question. \n",
    "\n",
    "We can consider the problem as a **graph**, in the sense of a set of vertices connected together by edges. This is a very powerful way of representing many problems.\n",
    "\n",
    "<img src=\"imgs/dijkstra_animation.gif\">\n",
    "\n",
    "In formal notation, if we consider a graph $G=\\{V,E\\}$ to consist of vertices $V=\\{v_1, v_2, \\dots\\}$ and edges $E=\\{e_1, e_2, \\dots\\}$, where each edge $e_i$ has an associated **weight** $w_i$, we want to be able to find a route between a vertex $v_j$ and another vertex $v_k$ that minimises the sum of the edge weights we need to traverse to get there. The total weight of a path through the graph from $v_j$ to $v_k$ is given by by the sum of the edge weights in between $\\sum_i w_i$.\n",
    "\n",
    "#### Airports as graphs\n",
    "In our example, the *vertices* of the graph are the *airports*; the *edges* are the *routes*; and the *weights* are the *prices* of the flights between each airport. A path from one airport to another is a path on the graph, and its total cost is the sum of the prices of each leg of the route.\n",
    "\n",
    "### Dijkstra\n",
    "[Dijkstra's algorithm](https://en.wikipedia.org/wiki/Dijkstra%27s_algorithm) lets us *efficiently* compute shortest paths in any general graph. To solve this problem, you will need to implement Dijkstra's algorithm. \n",
    "\n",
    "Look this up on the Web; the Wikipedia page is a good introduction, but there are many other tutorials you can follow. Start with the simplest version of Dijkstra's algorithm and work from there; the first algorithm given in the \"Pseudocode\" section of the Wikipedia page is relatively easy to implement.\n",
    "\n",
    "### Computation time\n",
    "Note: this search will take a second or two to run on the full world data. It should be pretty instantaneous for the UK only data.\n",
    "\n",
    "### Output\n",
    "Your output for a route like LTN->LGW should look like this:\n",
    "\n",
    "    Cheapest route  LTN->EDI->LGW\n",
    "    Total cost: £423\n",
    "\n",
    "    Detailed breakdown:\n",
    "    LTN->EDI £283\n",
    "    EDI->LGW £140\n"
   ]
  },
  {
   "cell_type": "code",
   "execution_count": null,
   "metadata": {
    "collapsed": true
   },
   "outputs": [],
   "source": [
    "# Solution goes here"
   ]
  },
  {
   "cell_type": "code",
   "execution_count": null,
   "metadata": {
    "collapsed": false
   },
   "outputs": [],
   "source": [
    "get_route(uk_airport_information, uk_routes, 'LTN', 'LGW')    "
   ]
  },
  {
   "cell_type": "code",
   "execution_count": null,
   "metadata": {
    "collapsed": true
   },
   "outputs": [],
   "source": [
    "# Solution goes here"
   ]
  },
  {
   "cell_type": "code",
   "execution_count": null,
   "metadata": {
    "collapsed": false
   },
   "outputs": [],
   "source": [
    "get_route(world_airports, world_routes, 'JOS', 'LSI')    "
   ]
  },
  {
   "cell_type": "markdown",
   "metadata": {},
   "source": [
    "## C.2 Multi-stop\n",
    "Allow the search to find routes that include any number of specified stops. For example, I could go find a route that goes from EDI->GLA via JFK, including any number of intermdiate airports. This is sometimes called an \"open jaw\" ticket (don't ask me why!)."
   ]
  },
  {
   "cell_type": "code",
   "execution_count": null,
   "metadata": {
    "collapsed": false
   },
   "outputs": [],
   "source": [
    "# Solution goes here"
   ]
  },
  {
   "cell_type": "code",
   "execution_count": null,
   "metadata": {
    "collapsed": true
   },
   "outputs": [],
   "source": []
  }
 ],
 "metadata": {
  "kernelspec": {
   "display_name": "Python [Root]",
   "language": "python",
   "name": "Python [Root]"
  },
  "language_info": {
   "codemirror_mode": {
    "name": "ipython",
    "version": 2
   },
   "file_extension": ".py",
   "mimetype": "text/x-python",
   "name": "python",
   "nbconvert_exporter": "python",
   "pygments_lexer": "ipython2",
   "version": "2.7.12"
  }
 },
 "nbformat": 4,
 "nbformat_minor": 0
}
