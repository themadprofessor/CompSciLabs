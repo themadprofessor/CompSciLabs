{
 "cells": [
  {
   "cell_type": "markdown",
   "metadata": {},
   "source": [
    "## CS1P Lab Exam 2016/2017\n",
    "\n",
    "### Ensure you have **carefully** read the printed instructions.\n",
    "\n",
    "<a href=\"lab_exam_instructions.ipynb\"> Click here to view these instructions online </a>\n",
    "<font color=\"red\"> Do not add additional cells or remove any cells from this notebook. </font>\n",
    "\n",
    "**Before you start**, put your name and matric number in the cell below."
   ]
  },
  {
   "cell_type": "code",
   "execution_count": null,
   "metadata": {
    "collapsed": true
   },
   "outputs": [],
   "source": [
    "####################################################\n",
    "# Name: XXXXXXXXXX\n",
    "# Matric. number:  XXXXXXXXXX\n",
    "####################################################\n",
    "# CODE #"
   ]
  },
  {
   "cell_type": "markdown",
   "metadata": {},
   "source": [
    "## Code\n",
    "Complete your solution by modifying the three cells below."
   ]
  },
  {
   "cell_type": "code",
   "execution_count": null,
   "metadata": {
    "collapsed": true
   },
   "outputs": [],
   "source": [
    "######### Compress goes here    "
   ]
  },
  {
   "cell_type": "code",
   "execution_count": null,
   "metadata": {
    "collapsed": false
   },
   "outputs": [],
   "source": [
    "########## Decompress goes here"
   ]
  },
  {
   "cell_type": "code",
   "execution_count": null,
   "metadata": {
    "collapsed": true
   },
   "outputs": [],
   "source": [
    "########### Testing\n",
    "# Put any of your own testing in this cell"
   ]
  },
  {
   "cell_type": "markdown",
   "metadata": {},
   "source": [
    "------------------------\n",
    "\n",
    "## Tests\n",
    "The following cells will help test if your code is working correctly.\n",
    "\n",
    "Note that there will be other tests applied **after submission** which you will not see. **DO NOT REMOVE OR ALTER THESE CELLS**"
   ]
  },
  {
   "cell_type": "code",
   "execution_count": 3,
   "metadata": {
    "collapsed": false
   },
   "outputs": [
    {
     "name": "stdout",
     "output_type": "stream",
     "text": [
      "Printing test failed\n",
      "Printing test OK\n"
     ]
    },
    {
     "name": "stderr",
     "output_type": "stream",
     "text": [
      "Traceback (most recent call last):\n",
      "  File \"<ipython-input-3-267bd3124c35>\", line 4, in <module>\n",
      "    print compress(\"abcd\")[0]\n",
      "NameError: name 'compress' is not defined\n"
     ]
    }
   ],
   "source": [
    "# TEST #\n",
    "## This should run without errors\n",
    "import traceback # note that this import is permitted\n",
    "try:\n",
    "    print compress(\"abcd\")[0]\n",
    "    print compress(\"01234\")[0]\n",
    "    print compress(\"aaaaaaaa\")[0]    \n",
    "except:\n",
    "    traceback.print_exc()\n",
    "    print \"Printing test failed\"\n",
    "print \"Printing test OK\""
   ]
  },
  {
   "cell_type": "code",
   "execution_count": 5,
   "metadata": {
    "collapsed": false
   },
   "outputs": [
    {
     "name": "stdout",
     "output_type": "stream",
     "text": [
      "Failed decompress/compress  testing on aaaaaa\n"
     ]
    },
    {
     "name": "stderr",
     "output_type": "stream",
     "text": [
      "Traceback (most recent call last):\n",
      "  File \"<ipython-input-5-a88c0313d7de>\", line 8, in <module>\n",
      "    if decompress(*compress(string))!=string:\n",
      "NameError: name 'decompress' is not defined\n"
     ]
    }
   ],
   "source": [
    "test_strings = [\"aaaaaa\", \"abcracdabra\", \n",
    "                \"Independence day\",\n",
    "               \"The quick brown fox jumped over the lazy dog\",\n",
    "               \"b\", \"........\", \"-=-==-=-===-=-====\",\n",
    "               \"\\x00\\x01\\x02\\x02\\x02\\x00\",\n",
    "                \"A rose is a rose is a rose\"]\n",
    "try:\n",
    "    for string in test_strings:    \n",
    "        if decompress(*compress(string))!=string:\n",
    "            print \"Failed decompress/compress  testing on %s\" % string\n",
    "            break\n",
    "    print \"All decompress/compress tests passed OK\"\n",
    "except:\n",
    "    traceback.print_exc()\n",
    "    print \"Failed decompress/compress  testing on %s\" % string\n"
   ]
  },
  {
   "cell_type": "code",
   "execution_count": 6,
   "metadata": {
    "collapsed": false
   },
   "outputs": [
    {
     "name": "stdout",
     "output_type": "stream",
     "text": [
      "Length tests failed\n"
     ]
    },
    {
     "name": "stderr",
     "output_type": "stream",
     "text": [
      "Traceback (most recent call last):\n",
      "  File \"<ipython-input-6-e12dee97501e>\", line 2, in <module>\n",
      "    assert(len(compress(\"abcdef\")[0])==6)\n",
      "NameError: name 'compress' is not defined\n"
     ]
    }
   ],
   "source": [
    "try:\n",
    "    assert(len(compress(\"abcdef\")[0])==6)\n",
    "    assert(len(compress(\"aaaaaa\")[0])==3)\n",
    "    assert(len(compress(\"aaaaaaba\")[0])==5)\n",
    "    assert(len(compress(\"hlo helo hello heeeellllooo\")[0])==18)\n",
    "    assert(len(compress(\"::string:: ::strength:: ///\")[0])==20)\n",
    "    print \"Length tests passed OK\"\n",
    "except:\n",
    "    traceback.print_exc()\n",
    "    print \"Length tests failed\""
   ]
  },
  {
   "cell_type": "code",
   "execution_count": 9,
   "metadata": {
    "collapsed": false
   },
   "outputs": [
    {
     "name": "stdout",
     "output_type": "stream",
     "text": [
      "Compression coding test failed\n"
     ]
    },
    {
     "name": "stderr",
     "output_type": "stream",
     "text": [
      "Traceback (most recent call last):\n",
      "  File \"<ipython-input-9-6a6f654c95c4>\", line 5, in <module>\n",
      "    assert(compress(\"abcd\")[0]==[97, 98, 99, 100])\n",
      "NameError: name 'compress' is not defined\n"
     ]
    }
   ],
   "source": [
    "# These tests may fail if you have used a different encoding\n",
    "# Failure on this specific test does not necessarily imply your solution\n",
    "# is incorrect\n",
    "try:\n",
    "    assert(compress(\"abcd\")[0]==[97, 98, 99, 100])\n",
    "    assert(compress(\"01234\")[0]==[48, 49, 50, 51, 52])\n",
    "    assert(compress(\"0123401\")[0]==[48, 49, 50, 51, 52, 128])\n",
    "    assert(compress(\"aaaaaaaa\")[0]==[97, 128, 129, 128])\n",
    "    assert(compress(\"hello hello hello\")[0]==[104, 101, 108, 108, 111, 32, 128, 130, 132, 134, 131])\n",
    "    print \"All tests passed OK\"\n",
    "except:\n",
    "    traceback.print_exc()\n",
    "    print \"Compression coding test failed\""
   ]
  },
  {
   "cell_type": "code",
   "execution_count": 10,
   "metadata": {
    "collapsed": false
   },
   "outputs": [
    {
     "name": "stdout",
     "output_type": "stream",
     "text": [
      "Secret testing failed\n"
     ]
    },
    {
     "name": "stderr",
     "output_type": "stream",
     "text": [
      "Traceback (most recent call last):\n",
      "  File \"<ipython-input-10-bd1789b4a76f>\", line 12, in <module>\n",
      "    compressed, codebook = compress(test)\n",
      "NameError: name 'compress' is not defined\n"
     ]
    }
   ],
   "source": [
    "################################################################\n",
    "#                       TESTING\n",
    "################################################################\n",
    "# Verify that this cell runs correctly\n",
    "# This will be used to test your code against a hidden test set\n",
    "import traceback\n",
    "try:\n",
    "    with open(\"secret_test.txt\") as f:\n",
    "        with open(\"secret_test_output.txt\", \"w\") as out_f:\n",
    "            for line in f:\n",
    "                test = line.strip()\n",
    "                compressed, codebook = compress(test)\n",
    "                out_f.write(\"%s\\t%s\\t%s\\n\" % (len(compressed), decompress(compressed, codebook), decompress(compressed,codebook)==test))\n",
    "        print \"Secret testing works OK\"        \n",
    "except:    \n",
    "    traceback.print_exc()\n",
    "    print \"Secret testing failed\"\n"
   ]
  },
  {
   "cell_type": "code",
   "execution_count": null,
   "metadata": {
    "collapsed": true
   },
   "outputs": [],
   "source": []
  }
 ],
 "metadata": {
  "kernelspec": {
   "display_name": "Python [Root]",
   "language": "python",
   "name": "Python [Root]"
  },
  "language_info": {
   "codemirror_mode": {
    "name": "ipython",
    "version": 2
   },
   "file_extension": ".py",
   "mimetype": "text/x-python",
   "name": "python",
   "nbconvert_exporter": "python",
   "pygments_lexer": "ipython2",
   "version": "2.7.12"
  }
 },
 "nbformat": 4,
 "nbformat_minor": 0
}
