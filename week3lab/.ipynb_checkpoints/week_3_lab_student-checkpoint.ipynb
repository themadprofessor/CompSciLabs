{
 "cells": [
  {
   "cell_type": "markdown",
   "metadata": {},
   "source": [
    "# Week 3 : Lab \n",
    " ## Abstraction: Functions, parameters, arguments and scope\n",
    " ##### CS1P - University of Glasgow - John Williamson - 2016"
   ]
  },
  {
   "cell_type": "code",
   "execution_count": 1,
   "metadata": {
    "collapsed": true
   },
   "outputs": [],
   "source": [
    "from __future__ import division   # make division work like Python 3.x"
   ]
  },
  {
   "cell_type": "markdown",
   "metadata": {},
   "source": []
  },
  {
   "cell_type": "markdown",
   "metadata": {},
   "source": [
    "\n",
    "## Lab exercise\n",
    "**You must make a reasonble attempt at this exercise to gain a tick for this work**.\n",
    "\n",
    "<font color=\"red\"> Remember to save your work frequently! </font>\n"
   ]
  },
  {
   "cell_type": "markdown",
   "metadata": {},
   "source": [
    "\n",
    "## Purpose of this lab\n",
    "This lab will familiarise you with:\n",
    "* Functions\n",
    "* Returning values\n",
    "* Parameterisation and default parameters\n",
    "* Recursion.\n"
   ]
  },
  {
   "cell_type": "markdown",
   "metadata": {},
   "source": [
    "\n",
    "## Before the lab\n",
    "\n",
    "* Attempt at least the A problems.\n",
    "* Read Chapter 3 of Think Like a Computer Scientist\n",
    "\n"
   ]
  },
  {
   "cell_type": "markdown",
   "metadata": {},
   "source": [
    "## A. Quick Problems\n",
    "### A.1 Bolts\n",
    "<img src=\"imgs/bolts.jpg\">\n",
    "*[Photo credit: J Carriage Bolts via flickr.com CC-BY-SA]*\n",
    "\n",
    "A certain type of bolt (the thing you screw a nut onto) weighs `(0.1 * radius) ** 2 * length` grams. \n",
    "\n",
    "You see a very dull report on bolts being coded by a junior programmer like this:\n",
    "\n",
    "    print \"The radius of an M6 bolt is 6mm and has diameter 12mm. A 20mm M6 bolt weighs 7.2 grams\"\n",
    "    \n",
    "    print \"The radius of an M8 bolt is 8mm and has diameter 16mm. A 20mm M8 bolt weighs 12.8 grams\"\n",
    "    \n",
    "    print \"The radius of an M6 bolt is 6mm and has diameter 12mm. A 40mm M6 bolt weighs 14.4 grams\"\n",
    "\n",
    "To avoid this copy-and-pasting, write a function that prints out the bolt report given the bolt size (e.g. 6, 8) and length (e.g. 20, 40). \n",
    "\n",
    "Replicate the report above without the repetition of code."
   ]
  },
  {
   "cell_type": "code",
   "execution_count": 3,
   "metadata": {
    "collapsed": false
   },
   "outputs": [
    {
     "name": "stdout",
     "output_type": "stream",
     "text": [
      "The radius of M6 bolt is 6mm and has diameter 12mm. A 20mm M6 bolt weighs 7.200000 grams\n",
      "The radius of M8 bolt is 8mm and has diameter 16mm. A 20mm M8 bolt weighs 12.800000 grams\n",
      "The radius of M6 bolt is 6mm and has diameter 12mm. A 40mm M6 bolt weighs 14.400000 grams\n"
     ]
    }
   ],
   "source": [
    "# Solution goes here\n",
    "def print_bolt(radius, length):\n",
    "    diameter = 2 * radius\n",
    "    weight = (0.1 * radius) ** 2 * length\n",
    "    print \"The radius of M%d bolt is %dmm and has diameter %dmm. A %dmm M%d bolt weighs %f grams\" % (radius, radius, diameter, length, radius, weight)\n",
    "\n",
    "print_bolt(6, 20)\n",
    "print_bolt(8, 20)\n",
    "print_bolt(6, 40)"
   ]
  },
  {
   "cell_type": "markdown",
   "metadata": {},
   "source": [
    "### A.2 Default parameters\n",
    "Write a function `repstr` that takes a positional parameter `n` and an **optional keyword parameter** `char` and **returns** `n` repetitions of `char`, with `char` being `#` if not specified."
   ]
  },
  {
   "cell_type": "code",
   "execution_count": 5,
   "metadata": {
    "collapsed": false
   },
   "outputs": [],
   "source": [
    "# Solution goes here\n",
    "def repstr(n,char='#'):\n",
    "    return char * n"
   ]
  },
  {
   "cell_type": "code",
   "execution_count": 6,
   "metadata": {
    "collapsed": false
   },
   "outputs": [
    {
     "name": "stdout",
     "output_type": "stream",
     "text": [
      "All OK!\n"
     ]
    }
   ],
   "source": [
    "## Tests\n",
    "assert(repstr(5)=='#####')\n",
    "assert(repstr(5, 'O')=='OOOOO')\n",
    "assert(repstr(1, char='-')=='-')\n",
    "assert(repstr(5, char='*')=='*****')\n",
    "assert(repstr(2, char='--')=='----')\n",
    "print \"All OK!\""
   ]
  },
  {
   "cell_type": "markdown",
   "metadata": {},
   "source": [
    "### A.3 Rotate\n",
    "Write a function `rotate(s)` that returns a string with the first character moved to the end. You can get all characters of a string except the first using `my_string[1:]`. If you're not sure what this means, try using this syntax before trying the rest of the exercise.\n",
    "\n",
    "Write another function `all_rotates(s)`, which calls `rotate` `len(s)` times, printing each result, updating the string as it goes. The output for `steel` should be:\n",
    "\n",
    "    steel\n",
    "    teels\n",
    "    eelst\n",
    "    elste\n",
    "    lstee\n",
    "    \n",
    "    "
   ]
  },
  {
   "cell_type": "code",
   "execution_count": 19,
   "metadata": {
    "collapsed": false
   },
   "outputs": [
    {
     "name": "stdout",
     "output_type": "stream",
     "text": [
      "steel\n",
      "teels\n",
      "eelst\n",
      "elste\n",
      "lstee\n"
     ]
    }
   ],
   "source": [
    "# Solution goes here\n",
    "def rotate(s):\n",
    "    return (s[1:] + s[0])\n",
    "\n",
    "s = \"steel\"\n",
    "print s\n",
    "for i in range(4):\n",
    "    s = rotate(s)\n",
    "    print s"
   ]
  },
  {
   "cell_type": "markdown",
   "metadata": {},
   "source": [
    "## A.4 Refactor\n",
    "\n",
    "Take the code below, and **refactor** it into a simpler form. This means to rewrite it by rearranging it to make it clearer and shorter. Functions make it easy to do this. Try to eliminate repetition and make clear the intention of the code, without relying so heavily on comments. **The code should explain itself**."
   ]
  },
  {
   "cell_type": "code",
   "execution_count": 31,
   "metadata": {
    "collapsed": false
   },
   "outputs": [
    {
     "name": "stdout",
     "output_type": "stream",
     "text": [
      "pay: 22.1671521719\n",
      "income: 331.020447581\n",
      "unit_cost_1 36.1222246934\n",
      "unit_cost_2 54.1833370401\n",
      "unit_cost_3 72.2444493868\n",
      "We can afford to make 8 units of unit type 1\n",
      "We can afford to make 5 units of unit type 2\n",
      "We can afford to make 4 units of unit type 3\n"
     ]
    }
   ],
   "source": [
    "years = 20\n",
    "## Work out how many units of three different kinds of item we can produce, given\n",
    "## that the cost of production increases with inflation, \n",
    "## the cost of staff pay increases over time,\n",
    "## and the income of the company producing the items increases over time\n",
    "\n",
    "growth_rate = 0.005\n",
    "income = 100\n",
    "# compute new income rate\n",
    "# growth rate is per month\n",
    "for i in range(years*12):\n",
    "    income = income * (1+growth_rate) \n",
    "    \n",
    "unit_cost_1 = 20    \n",
    "inflation = 0.03\n",
    "# Compute unit cost for each item, accounting for inflation\n",
    "# inflation is annual\n",
    "for i in range(years):\n",
    "    unit_cost_1 = unit_cost_1 * (1+inflation)\n",
    "    \n",
    "unit_cost_2 = 30 \n",
    "for i in range(years):\n",
    "    unit_cost_2 = unit_cost_2 * (1+inflation)    \n",
    "    \n",
    "unit_cost_3 = 40 \n",
    "for i in range(years):\n",
    "    unit_cost_3 = unit_cost_3 * (1+inflation)      \n",
    "    \n",
    "# Compute ataff pay costs \n",
    "pay = 10\n",
    "pay_increase = 0.01\n",
    "# pay increases are quarterly\n",
    "for i in range(years*4):\n",
    "    pay = pay * (1+pay_increase)\n",
    "\n",
    "print \"pay:\", pay\n",
    "print \"income:\", income\n",
    "print \"unit_cost_1\", unit_cost_1\n",
    "print \"unit_cost_2\", unit_cost_2\n",
    "print \"unit_cost_3\", unit_cost_3\n",
    "\n",
    "units_producable = (income - pay) / unit_cost_1\n",
    "print \"We can afford to make %d units of unit type 1\" % units_producable    \n",
    "\n",
    "units_producable = (income - pay) / unit_cost_2\n",
    "print \"We can afford to make %d units of unit type 2\" % units_producable    \n",
    "\n",
    "units_producable = (income - pay) / unit_cost_3\n",
    "print \"We can afford to make %d units of unit type 3\" % units_producable    \n",
    "\n"
   ]
  },
  {
   "cell_type": "code",
   "execution_count": 39,
   "metadata": {
    "collapsed": false
   },
   "outputs": [
    {
     "name": "stdout",
     "output_type": "stream",
     "text": [
      "pay: 22.1671521719\n",
      "income: 331.020447581\n",
      "unit_cost_1 36.1222246934\n",
      "unit_cost_2 54.1833370401\n",
      "unit_cost_3 72.2444493868\n",
      "We can afford to make 2 units of unit type 1\n",
      "We can afford to make 1 units of unit type 2\n",
      "We can afford to make 1 units of unit type 3\n"
     ]
    }
   ],
   "source": [
    "# Solution goes here\n",
    "def comp_growth(time, initial, growth):\n",
    "    result = initial\n",
    "    for i in range(time):\n",
    "        result = result * (1 + growth)\n",
    "    return result\n",
    "\n",
    "def comp_units_count(income, pay, cost):\n",
    "    return (income - pay) / cost\n",
    "\n",
    "years = 20\n",
    "income = 100\n",
    "growth_rate = 0.005\n",
    "\n",
    "unit_cost_1 = 20\n",
    "unit_cost_2 = 30\n",
    "unit_cost_3 = 40\n",
    "inflation = 0.03\n",
    "\n",
    "pay = 10\n",
    "pay_increase = 0.01\n",
    "\n",
    "final_income = comp_growth(years * 12, income, growth_rate)\n",
    "final_unit_cost_1 = comp_growth(years, unit_cost_1, inflation)\n",
    "final_unit_cost_2 = comp_growth(years, unit_cost_2, inflation)\n",
    "final_unit_cost_3 = comp_growth(years, unit_cost_3, inflation)\n",
    "final_pay = comp_growth(years * 4, pay, pay_increase)\n",
    "\n",
    "print \"pay:\", final_pay\n",
    "print \"income:\", final_income\n",
    "print \"unit_cost_1\", final_unit_cost_1\n",
    "print \"unit_cost_2\", final_unit_cost_2\n",
    "print \"unit_cost_3\", final_unit_cost_3\n",
    "\n",
    "print \"We can afford to make %d units of unit type 1\" % comp_units_count(income, pay, final_unit_cost_1)\n",
    "print \"We can afford to make %d units of unit type 2\" % comp_units_count(income, pay, final_unit_cost_2)\n",
    "print \"We can afford to make %d units of unit type 3\" % comp_units_count(income, pay, final_unit_cost_3)"
   ]
  },
  {
   "cell_type": "markdown",
   "metadata": {},
   "source": [
    "### A.5 Recursive loop\n",
    "Rewrite:\n",
    "\n",
    "    for i in range(10):\n",
    "        print i\n",
    "        \n",
    "using recursion instead of `for`.  Check that you get the same output as the loop above. Don't make an off-by-one error!"
   ]
  },
  {
   "cell_type": "code",
   "execution_count": 37,
   "metadata": {
    "collapsed": false
   },
   "outputs": [
    {
     "name": "stdout",
     "output_type": "stream",
     "text": [
      "0\n",
      "1\n",
      "2\n",
      "3\n",
      "4\n"
     ]
    }
   ],
   "source": [
    "# Solution goes here\n",
    "def rec_print(i):\n",
    "    if i > 0:\n",
    "        rec_print(i-1)\n",
    "        print i-1\n",
    "\n",
    "rec_print(5)"
   ]
  },
  {
   "cell_type": "markdown",
   "metadata": {},
   "source": []
  },
  {
   "cell_type": "markdown",
   "metadata": {},
   "source": [
    "## B. A tattoo parlour\n",
    "You've joined a company opening a new \"digital tattoo\" parlour. \n",
    "\n",
    "<img src=\"imgs/tattoo.jpg\">\n",
    "*[Image credit: Blast 707 Photography via flickr.com CC-BY 2.0]*\n",
    "\n",
    "As part of this, you've been tasked with developing a range of new customised tattoos for each client. The parlour is a rather dodgy operation and works on a shoestring budget, so you need to be able to knock together complicated-looking tattoo designs with very little effort.\n",
    "\n",
    "You need to build up the tattoo from two parts:\n",
    "* a mandala (a circular design with repeated shapes)\n",
    "* some lettering\n",
    "\n",
    "To make it possible to franchise the business quickly, you have to assume the tattoo artist has no idea what he or she is doing. But the tattooist will be capable drawing simple things like lines, and inking in regions.  You just have to tell the artist how to put these together into a design you can charge money for. \n",
    "\n",
    "When you've finished, you should be able to quickly turn out beautiful tattoos like this:\n",
    "<img src=\"imgs/cheap_tats.png\">"
   ]
  },
  {
   "cell_type": "markdown",
   "metadata": {},
   "source": [
    "## B.1 Geometric design\n",
    "\n",
    "There are a few commands you can use to control the tattoo operation. These are the **API** (application programmers interface), which tells you what functions are available. You can create a tattooist with\n",
    "\n",
    "    t = Tattoist() # make a new tattoo artist\n",
    "    \n",
    "And then you can use the following functions.\n",
    "\n",
    "* `t.move_to(x,y)` move the tattoo gun `x` units right and `y` units up\n",
    "*  `t.line_to(x,y)` as `move_to`, but inks a line between the old and new points\n",
    "* `t.rotate(angle)` rotates **all future inking** by `angle` degrees.\n",
    "* `t.scale(scale)` scales **all future inking** by the given `scale` factor. 1.0=unchanged, 2.0=double size, 0.5=half size, etc.\n",
    "* `t.begin_ink()`   start a inked-in region. All `line_to` and `move_to` commands will now define a region to be filled in until `end_ink()` occurs.\n",
    "* `t.end_ink()`   end an inked-in region, closing the shape, and applying the ink to shade it.   \n",
    "*  `t.store()` remember where we are and which way we are facing, and what the scaling is.\n",
    "*  `t.recall()`  restore the last stored position, direction and scale.\n",
    "    \n",
    "    \n",
    "## Dimensions\n",
    "Note that the size of the space you have to work with is from (-100,-100) to (100,100)."
   ]
  },
  {
   "cell_type": "code",
   "execution_count": 26,
   "metadata": {
    "collapsed": false
   },
   "outputs": [],
   "source": [
    "## MAKE SURE YOU RUN THIS CELL!\n",
    "import tattoo\n",
    "%matplotlib inline\n",
    "tattoo = reload(tattoo)\n",
    "from tattoo import Tattooist, get_shape, load_font\n",
    "import random"
   ]
  },
  {
   "cell_type": "markdown",
   "metadata": {},
   "source": [
    "For example, the following code draws a single line:"
   ]
  },
  {
   "cell_type": "code",
   "execution_count": 27,
   "metadata": {
    "collapsed": false
   },
   "outputs": [],
   "source": [
    "t = Tattooist()\n",
    "t.line_to(50,0)"
   ]
  },
  {
   "cell_type": "code",
   "execution_count": 30,
   "metadata": {
    "collapsed": false
   },
   "outputs": [],
   "source": [
    "# four line segments\n",
    "t = Tattooist()\n",
    "# note that these movements are *relative*\n",
    "t.store() # remember where we were\n",
    "t.line_to(50,0)\n",
    "t.line_to(0,50)\n",
    "t.line_to(50,0)\n",
    "t.recall() # jump back to where we last stored\n",
    "t.line_to(-20,-20)"
   ]
  },
  {
   "cell_type": "markdown",
   "metadata": {},
   "source": [
    "## A hexagon\n",
    "This code draws a filled in hexagon (how does this work?). Make sure you understand what is going on in this example before going further. **Try modifying it to draw a square instead of a hexagon.**"
   ]
  },
  {
   "cell_type": "code",
   "execution_count": 31,
   "metadata": {
    "collapsed": false,
    "scrolled": true
   },
   "outputs": [],
   "source": [
    "hex_size = 50\n",
    "t = Tattooist()\n",
    "\n",
    "t.move_to(hex_size,0)\n",
    "t.begin_ink()\n",
    "for i in range(6):    \n",
    "    t.line_to(0, hex_size)\n",
    "    t.rotate(60)\n",
    "t.end_ink()    "
   ]
  },
  {
   "cell_type": "markdown",
   "metadata": {},
   "source": [
    "## Task 1\n",
    "Write a function which inks in a shape. There are a bunch of shapes provided for you. Use `get_shape()` to get a shape. For example, \n",
    "    \n",
    "        get_shape(\"circle\")\n",
    "        \n",
    "returns the points to draw a circle. There is a list of available shapes below.\n",
    "\n",
    "Each is a list of x,y pairs specifying the `line_to` commands to draw to make up the shape.\n",
    "\n",
    "You can iterate through all of the points in a shape using a loop like:\n",
    "\n",
    "    for x,y in shape:\n",
    "        # do stuff\n",
    "        \n",
    "#### Available shapes        \n",
    "The following shapes are available:\n",
    "* hexagon\n",
    "* bullet\n",
    "* spike\n",
    "* star5\n",
    "* star6\n",
    "* circle\n",
    "* ellipse\n",
    "* dash\n",
    "* teardrop\n",
    "* roundhex\n",
    "* roundstar6\n",
    "* tribal_1\n",
    "* tribal_2\n",
    "* tribal_3\n",
    "* tribal_4    \n",
    "    \n",
    "    \n",
    "### NOTE\n",
    "Your drawing function should take the **Tattooist** to do the drawing as a parameter. Don't rely on global variables to pass in the tattooist value."
   ]
  },
  {
   "cell_type": "code",
   "execution_count": 41,
   "metadata": {
    "collapsed": false
   },
   "outputs": [],
   "source": [
    "# Solution goes here"
   ]
  },
  {
   "cell_type": "markdown",
   "metadata": {},
   "source": [
    "### Task 2: Mandala\n",
    "A **mandala** is a circular design, which has a number of repeated shapes arranged radially around a point. A mandala consists of a number of **rings**. Each ring has a certain radius, and a number of repeated shapes, as well as a *scale* which changes how big the individual shapes are.\n",
    "\n",
    "<img src=\"imgs/mandala.png\" width=\"300px\">\n",
    "\n",
    "This **mandala** uses only ellipses, but varies the number of repetitions and the scale of the ellipses in three different **rings**.\n",
    "\n",
    "\n",
    "A **mandala** is just a set of **mandala rings**.\n",
    "\n",
    "\n",
    "* Write a function `mandala_ring()` that can draw a mandala ring. Parameterise it so that you can control the radius, shape, shape scale and number of shapes in each ring.\n",
    "\n",
    "Remember that `rotate()` and `scale()` change all future drawing commands. You need to use store() and recall() to restore the position to what it was after drawing a mandala element!"
   ]
  },
  {
   "cell_type": "code",
   "execution_count": 33,
   "metadata": {
    "collapsed": false
   },
   "outputs": [],
   "source": [
    "# Solution goes here"
   ]
  },
  {
   "cell_type": "markdown",
   "metadata": {
    "collapsed": true
   },
   "source": [
    "### Task 3: Full mandala\n",
    "Then, write a function which can draw an entire mandala. Decide how to parameterise this function to allow mandalas of different designs to be drawn.\n",
    "\n",
    "You may wish to use random numbers (or another function) to decide how to draw each ring. Remember that you can use \n",
    "\n",
    "    random.uniform(min, max)\n",
    "    \n",
    "to generate a random number between `min` and `max`. (e.g. `random.uniform(0,1)` will return a value between 0 and 1)\n",
    "\n",
    "Your function should call `mandala_ring()`!"
   ]
  },
  {
   "cell_type": "code",
   "execution_count": 34,
   "metadata": {
    "collapsed": false
   },
   "outputs": [],
   "source": [
    "# Solution goes here"
   ]
  },
  {
   "cell_type": "markdown",
   "metadata": {},
   "source": [
    "## B.2 Text\n",
    "There is a handy function which provides letters that you can tell the tattooist to draw. Unfortunately, all they give is a sequence of line coordinates for each letter, and whether you should move without inking, or ink the line. You have to tell the tattooist each individual line to ink to make up the letter.\n",
    "\n",
    "Luckily, the template for letters is very easy to work with. You can find the next `line_to` or `move_to` command to use with a simple `for` loop (we will see how this works in the next lecture):\n",
    "\n",
    "    for x, y, pen in letter_coords:\n",
    "        # do something\n",
    "        \n",
    "If `pen` is True, then draw a line; otherwise, you should move without drawing a line. After drawing a letter, the drawing position will be in the right place to draw the next letter. \n",
    "\n",
    "*You can't fill in these letters -- just outline them.*\n",
    "\n",
    "To load a font, use `myfont = font.load(font_name)`, as below. You can then get the sequence of coordinates (`letter_coords`) for a given letter with syntax like `myfont['k']` to get the outline for `k`."
   ]
  },
  {
   "cell_type": "code",
   "execution_count": 35,
   "metadata": {
    "collapsed": false
   },
   "outputs": [],
   "source": [
    "myfont = load_font(\"futural\") # simple font\n",
    "print \"k\", myfont['k'] # the outline for k\n",
    "# this is a list of (x,y,pen) groups\n",
    "ch = 'o'\n",
    "print \"o\", myfont[ch] # the outline for the variable ch (here, 'o')"
   ]
  },
  {
   "cell_type": "markdown",
   "metadata": {},
   "source": [
    "## Task\n",
    "* Write a function to outline one letter.\n",
    "\n",
    "* Then, write a function which will draw an entire string onto the tattoo, starting at the current position. Remember you can iterate through the characters of a string using `for`. The function should take a parameter telling the tattooist where to start inking in the lettering.\n",
    "\n",
    "* You can use t.scale() to change the size of all future drawing. For example, t.scale(2.0) will double the current drawing size. Add an *optional* parameter to your function to allow the scale of the text to be specified.\n",
    "\n",
    "You can choose from a number of fonts:\n",
    "* **futural** Simple clean font\n",
    "* **scripts** Script font\n",
    "* **timesr** Serif font\n",
    "* **gothicger** Heavy gothic font\n",
    "* **japanses** Japanaese characters\n",
    "\n",
    "(if you look in the `hershey-fonts` directory you can find more font names you can use)."
   ]
  },
  {
   "cell_type": "code",
   "execution_count": 36,
   "metadata": {
    "collapsed": false
   },
   "outputs": [],
   "source": [
    "# Solution goes here"
   ]
  },
  {
   "cell_type": "markdown",
   "metadata": {},
   "source": [
    "## B.3 All together\n",
    "Draw all of the elements at once to generate the final tattoo form. Write a single function `generate_tattoo()` which can generate the whole tattoo. It should take parameters specifying the mandala design, and the position, font and content of the text to be written on.\n",
    "\n",
    "Think about how you can give control over the design while keeping the number of parameters under control."
   ]
  },
  {
   "cell_type": "code",
   "execution_count": 40,
   "metadata": {
    "collapsed": false
   },
   "outputs": [],
   "source": [
    "# Solution goes here"
   ]
  },
  {
   "cell_type": "markdown",
   "metadata": {},
   "source": [
    "## Extension (OPTIONAL)\n",
    "* Add an optional parameter to your function, which if set, draws the text around a circle outside of the mandala.\n",
    "* Allow the text to be centered. *Hint*: The only way to do this is to iterate through the drawing coordinates for a sequence of text, and find out how big it is going to be, then shift back by half of that before drawing it.\n",
    "* The code you have written does not respect newlines in the text. Modify it so the tattoo text can be split over multiple lines by putting the newlines in the input string."
   ]
  },
  {
   "cell_type": "markdown",
   "metadata": {},
   "source": [
    "-------------\n",
    "\n",
    "# C Extended problems\n",
    "These *extended* problems are optional for students who are keen to learn more. If you've finished the whole lab and want to explore these ideas in more depth, these problems and resources are intended to help you do that. <font color=\"red\"> You do not need to attempt any of this section to receive a tick! </font>\n"
   ]
  },
  {
   "cell_type": "markdown",
   "metadata": {},
   "source": [
    "# C.1 Variable arguments\n",
    "We know how to pass a fixed number of arguments to a function, and we can make some or all of those optional."
   ]
  },
  {
   "cell_type": "code",
   "execution_count": null,
   "metadata": {
    "collapsed": true
   },
   "outputs": [],
   "source": [
    "\n",
    "def fn(a, b=0):\n",
    "    return a + b\n",
    "\n",
    "fn(10, 10) # fine b=10\n",
    "fn(10) # fine b=0"
   ]
  },
  {
   "cell_type": "markdown",
   "metadata": {},
   "source": [
    "But what if we didn't know how many arguments we wanted to send in advance? Python allows **unpacking** to pass a variable number of arguments to a function. The `*` symbol can be used before a parameter name to \"collect up\" all left-over arguments into a list:"
   ]
  },
  {
   "cell_type": "code",
   "execution_count": 24,
   "metadata": {
    "collapsed": false
   },
   "outputs": [],
   "source": [
    "def print_all(*args):\n",
    "    # args is now a *list* of all the arguments\n",
    "    for arg in args:\n",
    "        print arg,\n",
    "    print\n",
    "        \n",
    "print_all(1)\n",
    "print_all(1,2,3)\n",
    "print_all(\"variable\", \"argument\")"
   ]
  },
  {
   "cell_type": "markdown",
   "metadata": {},
   "source": [
    "We can have a mix of positional and variable arguments. But note that `*args` must come **after** any fixed positional arguments."
   ]
  },
  {
   "cell_type": "code",
   "execution_count": 25,
   "metadata": {
    "collapsed": false
   },
   "outputs": [],
   "source": [
    "def print_all_prefix(prefix, *args):\n",
    "    for arg in args:\n",
    "        print prefix, arg, \n",
    "    print\n",
    "    \n",
    "print_all_prefix(\">\",1)\n",
    "print_all_prefix(\">\",1,2,3)\n"
   ]
  },
  {
   "cell_type": "markdown",
   "metadata": {},
   "source": [
    "Similarly, we can pass a list or sequence of values to any function by using `*args`. In this case, the `*` appears in the call. The receiver does not need to have specified `*args`; as long as the number of arguments matches the expected number of parameters, everything works fine:"
   ]
  },
  {
   "cell_type": "code",
   "execution_count": 26,
   "metadata": {
    "collapsed": false
   },
   "outputs": [],
   "source": [
    "def fn_two(a,b):\n",
    "    print a + b\n",
    "    \n",
    "fn_two(*[1,2]) # exactly the same as fn(1,2)\n",
    "\n",
    "arg_list = [\"man\", \"glue\", \"gran\"]\n",
    "print_all_prefix(\"super\", *arg_list)"
   ]
  },
  {
   "cell_type": "markdown",
   "metadata": {},
   "source": [
    "## Task\n",
    "Use this knowledge to write three functions (equivalents are built into Python already, but write these yourself):\n",
    "\n",
    "       # returns a list of the given values\n",
    "       map_fn(fn, *args)  transformed by fn\n",
    "       \n",
    "       # just calls fn with args as the parameter list\n",
    "       apply_fn(fn, *args) \n",
    "       \n",
    "       # assuming fn is a function with two arguments,\n",
    "       # repeatedly calls fn on the current value and the\n",
    "       # next value from args until all values are consumed\n",
    "       reduce_fn(fn, *args) "
   ]
  },
  {
   "cell_type": "code",
   "execution_count": 42,
   "metadata": {
    "collapsed": true
   },
   "outputs": [],
   "source": [
    "# Solution goes here"
   ]
  },
  {
   "cell_type": "code",
   "execution_count": 43,
   "metadata": {
    "collapsed": false
   },
   "outputs": [],
   "source": [
    "## Tests\n",
    "\n",
    "def make_super(x): \n",
    "    return \"super\"+x\n",
    "\n",
    "def concat(x,y):\n",
    "    return x+y\n",
    "\n",
    "def nth(n, *args):\n",
    "    return [arg[n] for arg in args]\n",
    "\n",
    "\n",
    "assert(map_fn(make_super, \"man\", \"glue\", \"gran\")==[\"superman\", \"superglue\", \"supergran\"])\n",
    "# should return [\"superman\", \"superglue\", \"supergran\"]\n",
    "\n",
    "assert(apply_fn(nth, 1, \"five\", \"six\", \"seven\")==['i','i','e'])\n",
    "# should return [\"i\",\"i\",\"e\"]\n",
    "\n",
    "assert(reduce_fn(concat, \"-==\", \"[-]\", \"==-\")=='-==[-]==-')\n",
    "# should return \"-==[-]==-\""
   ]
  },
  {
   "cell_type": "markdown",
   "metadata": {},
   "source": [
    "## **kwargs\n",
    "If you're interested in reading further, look up how to use `**kwargs` to pass and receive *keyword* arguments to functions using *dictionaries*.\n",
    "\n",
    "`*args` and `**kwargs` are very useful when you need to propagate some parameters from a \"wrapper\" function into code that actually performed the operation."
   ]
  },
  {
   "cell_type": "markdown",
   "metadata": {},
   "source": [
    "# C.2 Mutual recursion\n",
    "We've seen simple recursion, when a function makes a call to itself. But we can have **mutual recursion**, where one function calls another, which calls the first one back, and so on. The data gets passed back and forth via parameters and return values like a ping-pong ball in a table tennis match.\n",
    "\n",
    "## Task\n",
    "The following example can be solved easily with iteration or simple recursion. But try writing in a mutually recusive form.\n",
    "\n",
    "The Collatz sequence is a sequence of values given by the rule, starting from a number *n*:\n",
    "* if n is == 1, stop\n",
    "* otherwise, if n is even, half it\n",
    "* otherwise n = n*3+1\n",
    "\n",
    "Write three functions `collatz()`, `half()` and `tripleadd()` which do the following:\n",
    "* `collatz` if n!=1, prints n and calls either `half()` or `tripleadd()`\n",
    "* `half` halves `n` and calls `collatz()`\n",
    "* `tripleadd` computes `3n+1` and then calls `collatz()`\n",
    "\n",
    "**`collatz()` should not have a return statement in it!**\n",
    "\n"
   ]
  },
  {
   "cell_type": "code",
   "execution_count": 50,
   "metadata": {
    "collapsed": false
   },
   "outputs": [],
   "source": [
    "# Solution goes here"
   ]
  },
  {
   "cell_type": "markdown",
   "metadata": {},
   "source": [
    "## Extension\n",
    "Plot the number of iterations taken to get to 1 as a function of the starting value *n*. \n",
    "\n",
    "You can check your graph against the one here http://paulbourke.net/fractals/oneness/ (called *oneness* in this context). And consider this xkcd comic: https://xkcd.com/710/ :)"
   ]
  }
 ],
 "metadata": {
  "kernelspec": {
   "display_name": "Python [Root]",
   "language": "python",
   "name": "Python [Root]"
  },
  "language_info": {
   "codemirror_mode": {
    "name": "ipython",
    "version": 2
   },
   "file_extension": ".py",
   "mimetype": "text/x-python",
   "name": "python",
   "nbconvert_exporter": "python",
   "pygments_lexer": "ipython2",
   "version": "2.7.12"
  }
 },
 "nbformat": 4,
 "nbformat_minor": 0
}
