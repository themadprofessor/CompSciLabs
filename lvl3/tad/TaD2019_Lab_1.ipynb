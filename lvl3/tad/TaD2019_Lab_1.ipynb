{
 "cells": [
  {
   "cell_type": "markdown",
   "metadata": {
    "colab_type": "text",
    "id": "1suGewMzIKsC"
   },
   "source": [
    "# Lab 1\n",
    "\n",
    "The aims of the lab are to:\n",
    "*   Introduce you to colab, verify that you're setup with the correct python packages\n",
    "*   Introduce you to NLTK and Pandas libraries\n",
    "*   Learn to perform text processing using NLTK: tokenization, normalization, and segmentation of text \n",
    "*   Calculate basic collection statistics of a corpus of text\n",
    "*   Become familiar with the structure of the Reddit data collection\n",
    "\n",
    "\n",
    "\n"
   ]
  },
  {
   "cell_type": "markdown",
   "metadata": {
    "colab_type": "text",
    "id": "7656mUzX1dVz"
   },
   "source": [
    "## Colab Introduction\n",
    "\n",
    "\n",
    "Colab is an improved(?) Jupyter Notebook.  It is used internally by engineers and researchers at Google to prototype and share experimental results. \n",
    "\n",
    "It supports:\n",
    "\n",
    "1. Text Cells with [Markdown](https://github.com/adam-p/markdown-here/wiki/Markdown-Cheatsheet) formatting\n",
    "2. Code Cells\n",
    "3. Notebook stores code, output, and execution order\n",
    "4. Tab and Tab + Tab Autocomplete\n",
    "5. IPython Help Features\n",
    "6. IPython Magics (`%%`)\n",
    "\n",
    "### Additional Features\n",
    "\n",
    "- collaborative editing\n",
    "- history \n",
    "- comments\n",
    "- executed code history\n",
    "- Shift+click multiple cell selection\n",
    "- searchable code snipetts + table of contents\n",
    "- scratchpad (⌘/Ctrl + Alt + N)\n",
    "\n",
    "### Keyboard Shortcuts\n",
    "| Command | Action |\n",
    "| ---- | ----: |\n",
    "|⌘/Ctrl+Enter | Run Selected Cell |\n",
    "|Shift+Enter| Run Cell and Select Next |\n",
    "|Alt+Enter| Run cell and insert new cell|\n",
    "|⌘/Ctrl+M I | Interrupt Execution |\n",
    "\n",
    "- You can open the command Palette to see all shortcuts by going to Tools --> Command palette.\n",
    "\n",
    "### Summary of tips\n",
    "- Use TAB to autocomplete an expression. \n",
    "- You can also execute the code with a ? to get the doc strings\n",
    "- In Jupyter / Colab you can execute shell commands using `!`, example: \"!ls\" to list the current files.\n",
    "\n",
    "\n",
    "*Note:* Occassionally colab may hang or crash (due to cloud flakiness or (sometimes) bad code).  You can control the execution using the Runtime menu to reboot and start fresh.  To resume where you left off you can click \"Run before\" and it will run all cells before the one currently selected.\n",
    "\n",
    "\n",
    "*Note:* You can use Colab with a cloud VM or connect to a local Jupyter instance.\n",
    "\n"
   ]
  },
  {
   "cell_type": "markdown",
   "metadata": {
    "colab_type": "text",
    "id": "1-Xg8pM7q1_E"
   },
   "source": [
    "### Getting help example\n",
    "\n",
    "Let's get some help with the Pandas library we'll be using later.  The DataFrame is the main data collection representation in Pandas, so it's important to learn what's possible to do with it. "
   ]
  },
  {
   "cell_type": "code",
   "execution_count": 1,
   "metadata": {
    "colab": {},
    "colab_type": "code",
    "id": "ifQeh56Kq0SM"
   },
   "outputs": [],
   "source": [
    "import pandas as pd\n",
    "\n",
    "# Show the method signature and documentation\n",
    "pd.DataFrame?\n",
    "\n"
   ]
  },
  {
   "cell_type": "code",
   "execution_count": 2,
   "metadata": {
    "colab": {},
    "colab_type": "code",
    "id": "fS4Cnp1AdCa0"
   },
   "outputs": [],
   "source": [
    "# Show method source\n",
    "??pd.DataFrame"
   ]
  },
  {
   "cell_type": "markdown",
   "metadata": {
    "colab_type": "text",
    "id": "4wCSSml2q5Mz"
   },
   "source": [
    "### Executing local commands\n",
    "We can look at the local VM environment properties available in CoLab VM (or local environment).  \n",
    "\n",
    "#### Your task : \n",
    "In the code cell below, create shell commands (one per line) to Inspect the linux version (uname), current directory (pwd), the amount of space (df), and amount of disk (vmstat -s). The output will be printed in the notebook."
   ]
  },
  {
   "cell_type": "code",
   "execution_count": 3,
   "metadata": {
    "colab": {},
    "colab_type": "code",
    "id": "tYxbwlfA4mWm"
   },
   "outputs": [
    {
     "name": "stdout",
     "output_type": "stream",
     "text": [
      "Linux\n",
      "\n",
      "/home/stuart/prog/CompSciLabs/lvl3/tad\n",
      "\n",
      "Filesystem     1K-blocks      Used Available Use% Mounted on\n",
      "dev              8140588         0   8140588   0% /dev\n",
      "run              8185832     23292   8162540   1% /run\n",
      "/dev/sda3      470560768 189479256 277726312  41% /\n",
      "tmpfs            8185832     37756   8148076   1% /dev/shm\n",
      "tmpfs            8185832         0   8185832   0% /sys/fs/cgroup\n",
      "tmpfs            8185832         0   8185832   0% /tmp\n",
      "/dev/loop0         89088     89088         0 100% /var/lib/snapd/snap/core/4917\n",
      "/dev/loop1         89088     89088         0 100% /var/lib/snapd/snap/core/4830\n",
      "/dev/sda1         522224     84284    437940  17% /boot\n",
      "tmpfs            1637164        24   1637140   1% /run/user/1000\n",
      "\n",
      "     16371664 K total memory\n",
      "      1773136 K used memory\n",
      "      2792240 K active memory\n",
      "      1725020 K inactive memory\n",
      "     11485292 K free memory\n",
      "         4732 K buffer memory\n",
      "      3108504 K swap cache\n",
      "     17301500 K total swap\n",
      "            0 K used swap\n",
      "     17301500 K free swap\n",
      "        77778 non-nice user cpu ticks\n",
      "          285 nice user cpu ticks\n",
      "        26005 system cpu ticks\n",
      "      1528595 idle cpu ticks\n",
      "        12787 IO-wait cpu ticks\n",
      "         4853 IRQ cpu ticks\n",
      "         3458 softirq cpu ticks\n",
      "            0 stolen cpu ticks\n",
      "      1713400 pages paged in\n",
      "      1565597 pages paged out\n",
      "            0 pages swapped in\n",
      "            0 pages swapped out\n",
      "      4809130 interrupts\n",
      "     11949027 CPU context switches\n",
      "   1548767522 boot time\n",
      "        21978 forks\n",
      "\n"
     ]
    }
   ],
   "source": [
    "# YOUR CODE HERE\n",
    "import subprocess\n",
    "print(subprocess.run(['uname'], capture_output=True).stdout.decode('utf-8'))\n",
    "print(subprocess.run(['pwd'], capture_output=True).stdout.decode('utf-8'))\n",
    "print(subprocess.run(['df'], capture_output=True).stdout.decode('utf-8'))\n",
    "print(subprocess.run(['vmstat', '-s'], capture_output=True).stdout.decode('utf-8'))"
   ]
  },
  {
   "cell_type": "markdown",
   "metadata": {
    "colab_type": "text",
    "id": "rd2TwN0u2vWW"
   },
   "source": [
    "## Setup \n",
    "\n",
    "#### Your task:####\n",
    "Just run the cells below, and verify that the output is as expected. If anything looks wrong, weird, or crashes, contact the course staff. We don't want library issues to get in the way of the real work! "
   ]
  },
  {
   "cell_type": "code",
   "execution_count": 4,
   "metadata": {
    "colab": {
     "base_uri": "https://localhost:8080/",
     "height": 187
    },
    "colab_type": "code",
    "id": "LHP4WSZGIKsD",
    "outputId": "5cd74d94-451c-44c9-d4d6-393c075f03d1"
   },
   "outputs": [
    {
     "name": "stdout",
     "output_type": "stream",
     "text": [
      "3.7.2 (default, Jan 10 2019, 23:51:51) \n",
      "[GCC 8.2.1 20181127]\n",
      "numpy version 1.15.2 is\n",
      "OK\n",
      "matplotlib version 3.0.0 is\n",
      "OK\n",
      "pandas version 0.23.4 is\n",
      "OK\n",
      "nltk version 3.4 is\n",
      "OK\n"
     ]
    }
   ],
   "source": [
    "import sys\n",
    "print(sys.version)\n",
    "\n",
    "# Version checks\n",
    "import importlib\n",
    "def version_check(libname, min_version):\n",
    "    m = importlib.import_module(libname)\n",
    "    print (\"%s version %s is\" % (libname, m.__version__))\n",
    "    print (\"OK\" if m.__version__ >= min_version \n",
    "           else \"out-of-date. Please upgrade!\")\n",
    "    \n",
    "version_check(\"numpy\", \"1.14\")\n",
    "version_check(\"matplotlib\", \"1.6\")\n",
    "version_check(\"pandas\", \"0.22\")\n",
    "version_check(\"nltk\", \"3.2\")"
   ]
  },
  {
   "cell_type": "markdown",
   "metadata": {
    "colab_type": "text",
    "id": "HOBISPPkBfUY"
   },
   "source": [
    "# Load and process Reddit data\n",
    "In this part of the lab we'll introduce the Reddit data. You will learn how to load and operate on it using the Pandas data library. "
   ]
  },
  {
   "cell_type": "markdown",
   "metadata": {
    "colab_type": "text",
    "id": "napJywoXLO7u"
   },
   "source": [
    "## Reddit Data\n",
    "\n",
    "Social media analysis is an important application of text processing.  Throughout the course we'll be using data from the popular social media website Reddit. The full contents of Reddit is freely available ([full dump](https://files.pushshift.io/reddit/comments/)). For this course we'll be using a cleaned and annotated subset of the data. Note that although it has been 'cleaned', it is still 'raw' forum data. \n",
    "\n",
    "For convenience, we've stored as [JSON](https://www.json.org/) objects. A description of the data fields is below. \n",
    "\n",
    "**Terminology**\n",
    "\n",
    "The main unit of processing is a reddit *thread*; it represents a discussion topic with a unique URL. The thread contains metadata as well as the *posts* within it. A *post* is a single user entry in a thread. A post has the *body*, its *author*, it's position in the thread, as well as other metadata. \n",
    "\n",
    "\n",
    "**Thread fields**\n",
    "*   url - reddit URL of the thread\n",
    "*   title - title of the thread, as written by the first poster\n",
    "*   is_self_post - True if the first post in the thread is a self-post (text addressed to the reddit community as opposed to an external link)\n",
    "*   subreddit - the subreddit of the thread\n",
    "*   posts - a list of all posts in the thread\n",
    "\n",
    "**Post fields**\n",
    "*   id - post ID, reddit ID of the current post\n",
    "*   body - the body of the post (text + link markup)\n",
    "*   in_reply_to - parent ID, reddit ID of the parent post, or the post that the current post is in reply to\n",
    "*   post_depth - the number of replies the current post is from the initial post\n",
    "*   is_first_post - True if the current post is the initial post\n",
    "\n",
    "Let's download the data.  It should only take a fraction of a second since we're transferring data in the Google cloud. Downloading it locally will take longer.\n"
   ]
  },
  {
   "cell_type": "code",
   "execution_count": 5,
   "metadata": {
    "colab": {
     "base_uri": "https://localhost:8080/",
     "height": 68
    },
    "colab_type": "code",
    "id": "OyYm3gDwJKQ-",
    "outputId": "0a360b22-6ed7-496b-b848-512d76912f50"
   },
   "outputs": [],
   "source": [
    "# The name of the local file.\n",
    "local_file = \"coarse_discourse_dump_reddit.json\"\n",
    "\n",
    "\n",
    "# Below uses the Google cloud API utilities to copy the file. \n",
    "# This library is available in colab, but is not installed on lab machines.\n",
    "#!gsutil cp gs://textasdata/coarse_discourse_dump_reddit.json $local_file\n",
    "  \n",
    "# An alternative curl command when running locally as a backup\n",
    "#!curl -o $local_file https://storage.googleapis.com/tad2018/coarse_discourse_dump_reddit.json\n"
   ]
  },
  {
   "cell_type": "markdown",
   "metadata": {
    "colab_type": "text",
    "id": "yDOn1-DsMC2O"
   },
   "source": [
    "We can directly read the Reddit JSON data into a pandas DataFrame.\n",
    "\n",
    "Let's print out a sample of the first few reddit threads using the head() function.\n"
   ]
  },
  {
   "cell_type": "code",
   "execution_count": 6,
   "metadata": {
    "colab": {},
    "colab_type": "code",
    "id": "qS6FVs_cImTi"
   },
   "outputs": [],
   "source": [
    "threads = pd.read_json(path_or_buf=local_file, lines=True)\n"
   ]
  },
  {
   "cell_type": "markdown",
   "metadata": {
    "colab_type": "text",
    "id": "ph3_qktAqcvD"
   },
   "source": [
    "#### Your task: \n",
    "Use head() to print out the top of the threads DataFrame.  Note: in CoLab the result of the last line in a code block is automatically printed."
   ]
  },
  {
   "cell_type": "code",
   "execution_count": 7,
   "metadata": {
    "colab": {},
    "colab_type": "code",
    "id": "sFZ5-oRBVLpb"
   },
   "outputs": [
    {
     "name": "stdout",
     "output_type": "stream",
     "text": [
      "   is_self_post                                              posts  \\\n",
      "0           1.0  [{'body': '4/7/13  \n",
      "\n",
      "7/27/12  \n",
      "\n",
      "http://www.imd...   \n",
      "1           1.0  [{'body': '**January 16th 3 Sets:** \n",
      "Went out ...   \n",
      "2           1.0  [{'body': 'I love cheese cake! I love both mak...   \n",
      "3           1.0  [{'body': 'I can't find them anywhere! I just ...   \n",
      "4           1.0  [{'body': 'Hey there, I just discovered this s...   \n",
      "5           1.0  [{'body': '', 'author': 'MyMotivation', 'url':...   \n",
      "6           1.0  [{'body': 'Should I do NPCs with fast exp or d...   \n",
      "7           1.0  [{'body': 'This morning I got my first RS acco...   \n",
      "8           1.0  [{'body': 'To be honest, there aren't really t...   \n",
      "9           1.0  [{'body': 'So I have a YouTube channel with 40...   \n",
      "\n",
      "          subreddit                                              title  \\\n",
      "0  100movies365days                            DTX120: #87 - Nashville   \n",
      "1           100sets            Male, 23 years old. Going for 100 sets!   \n",
      "2      1200isplenty                   122cal black currant cheesecake!   \n",
      "3              1911                   Need help finding a Springfield!   \n",
      "4              1911                        Help with a possible trade?   \n",
      "5         2007scape                  Good Youtubers to watch for 2007?   \n",
      "6         2007scape                                Training or slayer?   \n",
      "7         2007scape                                     Never give up.   \n",
      "8         2007scape                                         New skill?   \n",
      "9         2007scape  Recording OSRS with fraps/alternative - need h...   \n",
      "\n",
      "                                                 url  \n",
      "0  https://www.reddit.com/r/100movies365days/comm...  \n",
      "1  https://www.reddit.com/r/100sets/comments/omv7...  \n",
      "2  https://www.reddit.com/r/1200isplenty/comments...  \n",
      "3  https://www.reddit.com/r/1911/comments/16h61h/...  \n",
      "4  https://www.reddit.com/r/1911/comments/35igzp/...  \n",
      "5  https://www.reddit.com/r/2007scape/comments/19...  \n",
      "6  https://www.reddit.com/r/2007scape/comments/1u...  \n",
      "7  https://www.reddit.com/r/2007scape/comments/20...  \n",
      "8  https://www.reddit.com/r/2007scape/comments/25...  \n",
      "9  https://www.reddit.com/r/2007scape/comments/27...  \n"
     ]
    }
   ],
   "source": [
    "print(threads.head(10))"
   ]
  },
  {
   "cell_type": "markdown",
   "metadata": {
    "colab_type": "text",
    "id": "IieBIuj_R1A8"
   },
   "source": [
    "You should see the first five threads with the fields discussed above. "
   ]
  },
  {
   "cell_type": "markdown",
   "metadata": {
    "colab_type": "text",
    "id": "MYlNgsos4xTa"
   },
   "source": [
    "\n",
    "## An aside on Pandas\n",
    "\n",
    "Pandas is a widely used Python-standard library for dealing with data. It processes data in a DataFrame, which you can think of as a relational table with columns. Our focus in TaD is not on Pandas or relational data. However, Pandas provides a convenient framework for processing and manipulating all kinds of data (including text). We will use it to store and operate on the Reddit data.\n"
   ]
  },
  {
   "cell_type": "markdown",
   "metadata": {
    "colab_type": "text",
    "id": "DRAlfeFQgrN8"
   },
   "source": [
    "### Iteration\n",
    "\n",
    "To iterate through DataFrame's row in pandas one can use:\n",
    "\n",
    "- DataFrame.iterrows() or DataFrame.itertuples()\n",
    "\n",
    "*Question* Which is faster? \n",
    " - We will time them using timeit\n",
    " - We will demonstrate how to use iteration with a \"for comprehension\".  If you don't remember for comprehensions, we suggest you review the Python tutorial linked in Moodle. \n",
    " \n",
    "#### Your Task\n",
    "Execute the code below and read it to understand how it works. In particular, notice the selection of fields from the DataFrame.\n"
   ]
  },
  {
   "cell_type": "code",
   "execution_count": 8,
   "metadata": {
    "colab": {},
    "colab_type": "code",
    "id": "svp1GxJkVPAB"
   },
   "outputs": [
    {
     "name": "stdout",
     "output_type": "stream",
     "text": [
      "https://www.reddit.com/r/100movies365days/comments/1bx6qw/dtx120_87_nashville/ 100movies365days\n",
      "https://www.reddit.com/r/100sets/comments/omv7p/male_23_years_old_going_for_100_sets/ 100sets\n",
      "https://www.reddit.com/r/1200isplenty/comments/259tbh/122cal_black_currant_cheesecake/ 1200isplenty\n",
      "https://www.reddit.com/r/1911/comments/16h61h/need_help_finding_a_springfield/ 1911\n",
      "https://www.reddit.com/r/1911/comments/35igzp/help_with_a_possible_trade/ 1911\n",
      "Now with itertuples.\n",
      "https://www.reddit.com/r/100movies365days/comments/1bx6qw/dtx120_87_nashville/ 100movies365days\n",
      "https://www.reddit.com/r/100sets/comments/omv7p/male_23_years_old_going_for_100_sets/ 100sets\n",
      "https://www.reddit.com/r/1200isplenty/comments/259tbh/122cal_black_currant_cheesecake/ 1200isplenty\n",
      "https://www.reddit.com/r/1911/comments/16h61h/need_help_finding_a_springfield/ 1911\n",
      "https://www.reddit.com/r/1911/comments/35igzp/help_with_a_possible_trade/ 1911\n",
      "58.7 ms ± 4.74 ms per loop (mean ± std. dev. of 7 runs, 10 loops each)\n",
      "3.34 ms ± 124 µs per loop (mean ± std. dev. of 7 runs, 100 loops each)\n"
     ]
    }
   ],
   "source": [
    "# Note the use of itertools which has many useful iteration utilities.\n",
    "from itertools import islice\n",
    "\n",
    "N = 5\n",
    "\n",
    "# Print the first N rows using both methods. \n",
    "\n",
    "# Iterrows\n",
    "for index, thread in islice(threads.iterrows(), N) :\n",
    "    print(thread[\"url\"], thread[\"subreddit\"])\n",
    "\n",
    "# Itertuples\n",
    "print (\"Now with itertuples.\")\n",
    "for thread in islice(threads.itertuples(index=True, name='Pandas'), N):\n",
    "    print(getattr(thread, \"url\"), getattr(thread, \"subreddit\"))\n",
    "\n",
    "N = 1000 # We need a bigger N to show iteration time difference.\n",
    "# Iterrows\n",
    "time1 = %timeit [thread[\"url\"] for index, thread in islice(threads.iterrows(), N)]\n",
    "\n",
    "# You could do the same with \n",
    "time2 = %timeit [getattr(thread, \"url\") for thread in islice(threads.itertuples(index=True, name='Pandas'), N)]    \n",
    "       \n"
   ]
  },
  {
   "cell_type": "markdown",
   "metadata": {
    "colab_type": "text",
    "id": "4xkP8kIymlsA"
   },
   "source": [
    "You should find that itertuples is roughly 20x faster; it just creates a tuple and  rather than a full Pandas Series object (see below). "
   ]
  },
  {
   "cell_type": "markdown",
   "metadata": {
    "colab_type": "text",
    "id": "lraRbpSaHiew"
   },
   "source": [
    "On your own you may consider skimming the documentation on [Pandas datastructures](https://pandas.pydata.org/pandas-docs/stable/dsintro.html). \n",
    "\n",
    "\n",
    "We can index into a DataFrame, by asking for particular rows:\n",
    "\n",
    "\n",
    "*   `iloc` allows us to ask for particular row(s) indexed by (integer) position\n",
    "*   `loc` allows us to ask for particular row(s) indexed by a label.\n",
    "\n",
    "By default, the labels are automatically assigned, starting from 0, so the two statements are identical for us.\n",
    "\n",
    "Each row of a DataFrame is a [Series](https://pandas.pydata.org/pandas-docs/stable/dsintro.html#series), a one dimensional labelled array holding any data type.\n"
   ]
  },
  {
   "cell_type": "markdown",
   "metadata": {
    "colab_type": "text",
    "id": "13u5yKflTmha"
   },
   "source": [
    "**Task:** Execute the code below to see an example of this in action. "
   ]
  },
  {
   "cell_type": "code",
   "execution_count": 9,
   "metadata": {
    "colab": {},
    "colab_type": "code",
    "id": "-zl_Lv4DHq3L"
   },
   "outputs": [
    {
     "name": "stdout",
     "output_type": "stream",
     "text": [
      "<class 'pandas.core.frame.DataFrame'>\n",
      "is_self_post                                                    1\n",
      "posts           [{'body': '4/7/13  \n",
      "\n",
      "7/27/12  \n",
      "\n",
      "http://www.imd...\n",
      "subreddit                                        100movies365days\n",
      "title                                     DTX120: #87 - Nashville\n",
      "url             https://www.reddit.com/r/100movies365days/comm...\n",
      "Name: 0, dtype: object\n",
      "is_self_post                                                    1\n",
      "posts           [{'body': '**January 16th 3 Sets:** \n",
      "Went out ...\n",
      "subreddit                                                 100sets\n",
      "title                     Male, 23 years old. Going for 100 sets!\n",
      "url             https://www.reddit.com/r/100sets/comments/omv7...\n",
      "Name: 1, dtype: object\n"
     ]
    },
    {
     "data": {
      "text/plain": [
       "pandas.core.series.Series"
      ]
     },
     "execution_count": 9,
     "metadata": {},
     "output_type": "execute_result"
    }
   ],
   "source": [
    "# See the type of pandas threads object\n",
    "print(type(threads))\n",
    "\n",
    "print(threads.iloc[0])\n",
    "\n",
    "print(threads.loc[1])\n",
    "\n",
    "# See the type of pandas for a single thread (a row)\n",
    "type(threads.iloc[0])\n"
   ]
  },
  {
   "cell_type": "markdown",
   "metadata": {
    "colab_type": "text",
    "id": "NaoBpDgEJKxm"
   },
   "source": [
    "We can use Pandas to print basic statistics on the threads that are built-in (count, describe, etc..)\n",
    "\n"
   ]
  },
  {
   "cell_type": "markdown",
   "metadata": {
    "colab_type": "text",
    "id": "C8AQ-F1_UVR6"
   },
   "source": [
    "## Collection statistics"
   ]
  },
  {
   "cell_type": "markdown",
   "metadata": {
    "colab_type": "text",
    "id": "zw-7N0YArqjc"
   },
   "source": [
    "Let's learn more about the Reddit collection statistics. \n",
    "\n",
    "#### Your Task\n",
    "Use count() on the threads object to print a count distribution. \n",
    "- Note: count() gives count values for each column in the frame independently."
   ]
  },
  {
   "cell_type": "code",
   "execution_count": 10,
   "metadata": {
    "colab": {},
    "colab_type": "code",
    "id": "FoUXuFxiJbYs"
   },
   "outputs": [
    {
     "name": "stdout",
     "output_type": "stream",
     "text": [
      "is_self_post    8794\n",
      "posts           9401\n",
      "subreddit       9401\n",
      "title           9401\n",
      "url             9401\n",
      "dtype: int64\n"
     ]
    }
   ],
   "source": [
    "print(threads.count())"
   ]
  },
  {
   "cell_type": "markdown",
   "metadata": {
    "colab_type": "text",
    "id": "yLdhtT4FZyuC"
   },
   "source": [
    "We should have 9401 threads. \n",
    "- Do all columns have the same count? What does this tell us about the collection? \n",
    "\n",
    "Now, let's dig in and explores more statistics on the threads by their subreddit.\n",
    "\n",
    "First, let's select all of the values of the *subreddit* column and inspect it's type.\n"
   ]
  },
  {
   "cell_type": "code",
   "execution_count": 11,
   "metadata": {
    "colab": {
     "base_uri": "https://localhost:8080/",
     "height": 34
    },
    "colab_type": "code",
    "id": "3SE8n0CIItbC",
    "outputId": "079f3132-5d8e-4052-db00-81aafe5453c5"
   },
   "outputs": [
    {
     "name": "stdout",
     "output_type": "stream",
     "text": [
      "<class 'pandas.core.series.Series'>\n"
     ]
    }
   ],
   "source": [
    "# Select a column of the dataframe\n",
    "subreddits = threads['subreddit']\n",
    "print(type(subreddits))"
   ]
  },
  {
   "cell_type": "markdown",
   "metadata": {
    "colab_type": "text",
    "id": "HKNRjOR9sQ97"
   },
   "source": [
    "It's a Series, a row in a DataFrame. We will use a useful function on the Series object, [value_counts](https://pandas.pydata.org/pandas-docs/stable/generated/pandas.Series.value_counts.html) to group and count the values for the *subreddit* series.\n",
    "\n",
    "#### Your task:\n",
    "Use value_counts on the *subreddits* variable.\n",
    " - Print a statistical summary of the data using .describe() \n",
    " - Use head() to print out the top 5 subreddits with their counts"
   ]
  },
  {
   "cell_type": "code",
   "execution_count": 12,
   "metadata": {
    "colab": {},
    "colab_type": "code",
    "id": "Lvnaci6YVD1b"
   },
   "outputs": [
    {
     "name": "stdout",
     "output_type": "stream",
     "text": [
      "count    2842.000000\n",
      "mean        3.307882\n",
      "std        11.295643\n",
      "min         1.000000\n",
      "25%         1.000000\n",
      "50%         1.000000\n",
      "75%         3.000000\n",
      "max       418.000000\n",
      "Name: subreddit, dtype: float64\n",
      "askreddit            418\n",
      "leagueoflegends      244\n",
      "buildapc             168\n",
      "explainlikeimfive     96\n",
      "trees                 86\n",
      "Name: subreddit, dtype: int64\n"
     ]
    }
   ],
   "source": [
    "# YOUR CODE HERE\n",
    "subreddit_counts = subreddits.value_counts()\n",
    "print(subreddit_counts.describe())\n",
    "print(subreddit_counts.head(5))"
   ]
  },
  {
   "cell_type": "markdown",
   "metadata": {
    "colab_type": "text",
    "id": "wEKElyq4RG3W"
   },
   "source": [
    "- What information is provided by the describe() function? \n",
    "- What does this statistical summary tell you about the frequency distrubution of threads in subreddits?  Consider what was discussed in lecture 2 about word distributions; this distribution follows a similar pattern. This is typical of real-world text data and will have important ramifications later in the course."
   ]
  },
  {
   "cell_type": "markdown",
   "metadata": {
    "colab_type": "text",
    "id": "9Qz0aYNbaFeC"
   },
   "source": [
    "We also create a simple bar graph to visualize the most popular sub-reddits in the data. \n",
    "\n",
    "The code below creates a simple bar graph of the top 20 sub-reddits by thread frequency."
   ]
  },
  {
   "cell_type": "code",
   "execution_count": 13,
   "metadata": {
    "colab": {},
    "colab_type": "code",
    "id": "rSdEA210Vgge"
   },
   "outputs": [
    {
     "name": "stdout",
     "output_type": "stream",
     "text": [
      "AxesSubplot(0.125,0.125;0.775x0.755)\n"
     ]
    },
    {
     "data": {
      "image/png": "[encoded data removed]",
      "text/plain": [
       "<Figure size 432x288 with 1 Axes>"
      ]
     },
     "metadata": {
      "needs_background": "light"
     },
     "output_type": "display_data"
    }
   ],
   "source": [
    "# Note: need this for Jupyter on local machines to work\n",
    "%matplotlib inline\n",
    "\n",
    "top_subbreddits = subreddit_counts.nlargest(20).plot.bar()\n",
    "print(top_subbreddits)"
   ]
  },
  {
   "cell_type": "markdown",
   "metadata": {
    "colab_type": "text",
    "id": "0kDjxHcGtt3a"
   },
   "source": [
    "### Reddit data by posts"
   ]
  },
  {
   "cell_type": "markdown",
   "metadata": {
    "colab_type": "text",
    "id": "TTdQPAttaRMK"
   },
   "source": [
    "Above we looked at statistics at the level of whole threads. \n",
    "\n",
    "Threads are meaningful units, but processing them can be unwieldy.  In many cases it's easier to operate at the post level because these contain the text. They are also shorter more manageable chunks of text. To do this, we will flatten the threads to make each post it's own row in the DataFrame. Below is some code the reads in the JSON data into a list and creates a frame where each row is a post (with their source thread metadata). "
   ]
  },
  {
   "cell_type": "code",
   "execution_count": 14,
   "metadata": {
    "colab": {},
    "colab_type": "code",
    "id": "9mEQjNIGKjZU"
   },
   "outputs": [
    {
     "name": "stdout",
     "output_type": "stream",
     "text": [
      "110595\n"
     ]
    }
   ],
   "source": [
    "# The reddit thread structure is nested in the posts in a new content.\n",
    "# Read the file as json and create a new posts dataframe.\n",
    "import json\n",
    "\n",
    "# We will append to a list that we will convert to a DataFrame.\n",
    "posts = list()\n",
    "\n",
    "with open(local_file) as jsonfile:\n",
    "  for i, line in enumerate(jsonfile):\n",
    "    thread = json.loads(line)\n",
    "    # Keep information about the source thread where the post comes from.\n",
    "    for post in thread['posts']:\n",
    "      posts.append((thread['subreddit'], thread['title'], post['id'], \n",
    "                    thread['url'], post.get('author', \"\"), \n",
    "                    post.get('body', \"\")))\n",
    "print(len(posts))\n",
    "\n",
    "# A post data as a DataFrame, we could also keep it as a list of tuples.\n",
    "labels = ['subreddit', 'title', 'id', 'url', 'author', 'body']\n",
    "post_frame = pd.DataFrame(posts, columns=labels)"
   ]
  },
  {
   "cell_type": "markdown",
   "metadata": {
    "colab_type": "text",
    "id": "58FUFdnIWL8w"
   },
   "source": [
    "The output is the number of posts.  It should be about 110k posts."
   ]
  },
  {
   "cell_type": "markdown",
   "metadata": {
    "colab_type": "text",
    "id": "pcJw6uCEazgM"
   },
   "source": [
    "#### Your task\n",
    "Print out the *head* of the posts frame object.  Inspect the output to see what's in the frame and make sure it seems reasonable to you."
   ]
  },
  {
   "cell_type": "code",
   "execution_count": 15,
   "metadata": {
    "colab": {},
    "colab_type": "code",
    "id": "vWnd9X8aWYy0"
   },
   "outputs": [
    {
     "name": "stdout",
     "output_type": "stream",
     "text": [
      "          subreddit                                    title          id  \\\n",
      "0  100movies365days                  DTX120: #87 - Nashville   t3_1bx6qw   \n",
      "1  100movies365days                  DTX120: #87 - Nashville  t1_c9b2nyd   \n",
      "2  100movies365days                  DTX120: #87 - Nashville  t1_c9b30i1   \n",
      "3  100movies365days                  DTX120: #87 - Nashville  t1_c9b6sj0   \n",
      "4           100sets  Male, 23 years old. Going for 100 sets!  t1_c3igqif   \n",
      "\n",
      "                                                 url     author  \\\n",
      "0  https://www.reddit.com/r/100movies365days/comm...     DTX120   \n",
      "1  https://www.reddit.com/r/100movies365days/comm...  mcgrewf10   \n",
      "2  https://www.reddit.com/r/100movies365days/comm...     DTX120   \n",
      "3  https://www.reddit.com/r/100movies365days/comm...  mcgrewf10   \n",
      "4  https://www.reddit.com/r/100sets/comments/omv7...   Keatonus   \n",
      "\n",
      "                                                body  \n",
      "0  4/7/13  \\n\\n7/27/12  \\n\\nhttp://www.imdb.com/t...  \n",
      "1  I've wanted to watch this for a long time. I w...  \n",
      "2  You strike me as the type who would appreciate...  \n",
      "3  Yeah, I've always heard that Altman was famous...  \n",
      "4  **January 16th 3 Sets:** \\nWent out shopping w...  \n"
     ]
    }
   ],
   "source": [
    "print(post_frame.head())"
   ]
  },
  {
   "cell_type": "markdown",
   "metadata": {
    "colab_type": "text",
    "id": "RTjDwSXcbIfb"
   },
   "source": [
    "#### Your task\n",
    "Let's examine the question of how posts relate to threads. Each post has the thread it came from, defined by its URL.  Select the URLs and count the values.  Print out the statistical summary using describe.  *Hint:* We did something similar for the sub-reddits. "
   ]
  },
  {
   "cell_type": "code",
   "execution_count": 16,
   "metadata": {
    "colab": {},
    "colab_type": "code",
    "id": "VNghQt_0Xef8"
   },
   "outputs": [
    {
     "name": "stdout",
     "output_type": "stream",
     "text": [
      "count    9401.000000\n",
      "mean       11.764174\n",
      "std         9.215183\n",
      "min         1.000000\n",
      "25%         5.000000\n",
      "50%         8.000000\n",
      "75%        14.000000\n",
      "max        41.000000\n",
      "Name: url, dtype: float64\n"
     ]
    }
   ],
   "source": [
    "print(post_frame['url'].value_counts().describe())"
   ]
  },
  {
   "cell_type": "markdown",
   "metadata": {
    "colab_type": "text",
    "id": "uno8qoyDXEHv"
   },
   "source": [
    "- Critically look at these statistics.  \n",
    "- What is the shortest thread, longest thread?\n",
    "- How many posts are in a 'typical' thread? \n",
    "- Do they seem reasonable? What does it tell you about threads?  "
   ]
  },
  {
   "cell_type": "markdown",
   "metadata": {
    "colab_type": "text",
    "id": "rMsrN746IJtr"
   },
   "source": [
    "#### Your task \n",
    "- Create a bar plot of the top 10 authors of reddit posts.\n",
    "\n",
    "*Note:* Not all posts have authors. As a first step you need to `replace` all empty values in the frame with a numpy nan value `np.nan`, after doing this pandas will filter them out automatically."
   ]
  },
  {
   "cell_type": "code",
   "execution_count": 17,
   "metadata": {
    "colab": {},
    "colab_type": "code",
    "id": "0QQV6brnwxiO"
   },
   "outputs": [
    {
     "data": {
      "text/plain": [
       "<matplotlib.axes._subplots.AxesSubplot at 0x7fc84198b668>"
      ]
     },
     "execution_count": 17,
     "metadata": {},
     "output_type": "execute_result"
    },
    {
     "data": {
      "image/png": "[encoded data removed]",
      "text/plain": [
       "<Figure size 432x288 with 1 Axes>"
      ]
     },
     "metadata": {
      "needs_background": "light"
     },
     "output_type": "display_data"
    }
   ],
   "source": [
    "import numpy as np \n",
    "\n",
    "post_frame['author'].replace('', np.nan).value_counts().head(10).plot.bar()"
   ]
  },
  {
   "cell_type": "code",
   "execution_count": null,
   "metadata": {
    "colab": {},
    "colab_type": "code",
    "id": "WVNXNpRaXlAm"
   },
   "outputs": [],
   "source": []
  },
  {
   "cell_type": "markdown",
   "metadata": {
    "colab_type": "text",
    "id": "CEIvkIJpI4sn"
   },
   "source": [
    "## Text processing of reddit posts"
   ]
  },
  {
   "cell_type": "markdown",
   "metadata": {
    "colab_type": "text",
    "id": "B6Turx6-IdLD"
   },
   "source": [
    "We will now take our first steps processing the reddit posts as text.  We will apply an NLTK text processing pipeline to the posts. \n",
    "\n"
   ]
  },
  {
   "cell_type": "markdown",
   "metadata": {
    "colab_type": "text",
    "id": "NcVR1_CLIKsL"
   },
   "source": [
    "### NLTK\n",
    "\n",
    "[NLTK](http://www.nltk.org/) is a large compilation of Python NLP packages. It includes implementations of a number of classic NLP models, as well as utilities for working with linguistic data structures, preprocessing text, and managing corpora. NLTK is included with Anaconda.  "
   ]
  },
  {
   "cell_type": "markdown",
   "metadata": {
    "colab_type": "text",
    "id": "aK25xu89Uu3w"
   },
   "source": [
    "NLTK is just one many text processing libraries. Later in the course we will try out [spaCy](https://spacy.io/).\n",
    "\n",
    "First, let's import the library."
   ]
  },
  {
   "cell_type": "code",
   "execution_count": 18,
   "metadata": {
    "colab": {},
    "colab_type": "code",
    "id": "v5b9IoSdPZRg"
   },
   "outputs": [],
   "source": [
    "import nltk\n"
   ]
  },
  {
   "cell_type": "markdown",
   "metadata": {
    "colab_type": "text",
    "id": "Gplq-_aryY5y"
   },
   "source": [
    "\n",
    "### Step 1: Tokenization\n",
    "We will try tokenization ourselves using NLTK's tokenizers. You may find the the documentation of the  [tokenize package](https://www.nltk.org/api/nltk.tokenize.html) informative.\n",
    "\n",
    "#### Your task\n",
    "Tokenize the body field of a post using a Regular Expression and Treebank tokenizer (recall this as a standard tokenizer from Penn Treebank discussed in Lecture 1) and compare them:\n",
    "1.  Import the Regular Exp Tokenizer from NLTK.  \n",
    "2.  Create a regular expression tokenizer that that uses a simple pattern -- a sequence of one or more \"word characters\". (You might need to use a search engine to help identify the right pattern to do this.)\n",
    "3.  Create a tokenizer that tokenizes using the (Penn) Treebank Word tokenizer. Find the right tokenizer in the package documentation.  You may look at what other tokenizers are available.\n",
    "4. Tokenize the sample post below using each of the tokenizers and print the resulting tokens for each.\n",
    "5. Inspect and compare the output of the tokenizers.\n",
    "\n"
   ]
  },
  {
   "cell_type": "code",
   "execution_count": 19,
   "metadata": {
    "colab": {
     "base_uri": "https://localhost:8080/",
     "height": 88
    },
    "colab_type": "code",
    "id": "-3UGSl8Ix_CG",
    "outputId": "c04805ac-540d-4f64-91a3-b7f07fb23daa"
   },
   "outputs": [
    {
     "name": "stdout",
     "output_type": "stream",
     "text": [
      "I love cheese cake! I love both making and eating it, so I'm sad to see that they usually have the most crazy calorie counts, and I don't see many low cal recipes for them especially not ones that can work for many different people (for instance, I see a lot that require sugar free Jell-O, cool whip, Neufchatel cream cheese, very specific items that aren't available everywhere).\n",
      "\n",
      "[So here is a reciped I made!](http://imgur.com/a/z6VbS) it's very delicious, and I hope others will enjoy it too :)\n"
     ]
    }
   ],
   "source": [
    "# A sample post to tokenize. \n",
    "\n",
    "# Get the body text of a post from the data frame.\n",
    "text = post_frame.iloc[10]['body']\n",
    "print(text)"
   ]
  },
  {
   "cell_type": "code",
   "execution_count": 20,
   "metadata": {
    "colab": {},
    "colab_type": "code",
    "id": "ck7Uv38BZwKK"
   },
   "outputs": [
    {
     "name": "stdout",
     "output_type": "stream",
     "text": [
      "['I', 'love', 'cheese', 'cake', 'I', 'love', 'both', 'making', 'and', 'eating', 'it', 'so', 'I', 'm', 'sad', 'to', 'see', 'that', 'they', 'usually', 'have', 'the', 'most', 'crazy', 'calorie', 'counts', 'and', 'I', 'don', 't', 'see', 'many', 'low', 'cal', 'recipes', 'for', 'them', 'especially', 'not', 'ones', 'that', 'can', 'work', 'for', 'many', 'different', 'people', 'for', 'instance', 'I', 'see', 'a', 'lot', 'that', 'require', 'sugar', 'free', 'Jell', 'O', 'cool', 'whip', 'Neufchatel', 'cream', 'cheese', 'very', 'specific', 'items', 'that', 'aren', 't', 'available', 'everywhere', 'So', 'here', 'is', 'a', 'reciped', 'I', 'made', 'http', 'imgur', 'com', 'a', 'z6VbS', 'it', 's', 'very', 'delicious', 'and', 'I', 'hope', 'others', 'will', 'enjoy', 'it', 'too']\n",
      "['I', 'love', 'cheese', 'cake', '!', 'I', 'love', 'both', 'making', 'and', 'eating', 'it', ',', 'so', 'I', \"'m\", 'sad', 'to', 'see', 'that', 'they', 'usually', 'have', 'the', 'most', 'crazy', 'calorie', 'counts', ',', 'and', 'I', 'do', \"n't\", 'see', 'many', 'low', 'cal', 'recipes', 'for', 'them', 'especially', 'not', 'ones', 'that', 'can', 'work', 'for', 'many', 'different', 'people', '(', 'for', 'instance', ',', 'I', 'see', 'a', 'lot', 'that', 'require', 'sugar', 'free', 'Jell-O', ',', 'cool', 'whip', ',', 'Neufchatel', 'cream', 'cheese', ',', 'very', 'specific', 'items', 'that', 'are', \"n't\", 'available', 'everywhere', ')', '.', '[', 'So', 'here', 'is', 'a', 'reciped', 'I', 'made', '!', ']', '(', 'http', ':', '//imgur.com/a/z6VbS', ')', 'it', \"'s\", 'very', 'delicious', ',', 'and', 'I', 'hope', 'others', 'will', 'enjoy', 'it', 'too', ':', ')']\n"
     ]
    }
   ],
   "source": [
    "# YOUR CODE HERE\n",
    "from nltk.tokenize import RegexpTokenizer\n",
    "from nltk.tokenize.treebank import TreebankWordTokenizer\n",
    "word_regex = r'\\w+'\n",
    "reg_tokenizer = RegexpTokenizer(word_regex)\n",
    "tree_tokenizer = TreebankWordTokenizer()\n",
    "\n",
    "print(reg_tokenizer.tokenize(text))\n",
    "print(tree_tokenizer.tokenize(text))"
   ]
  },
  {
   "cell_type": "markdown",
   "metadata": {
    "colab_type": "text",
    "id": "W2Dd8qIJZa-j"
   },
   "source": [
    "### Tokenization matters\n",
    "Tokenization is a critical first choice in developing text applications.  Below are some questions to consider when comparing the tokenizers.\n",
    "\n",
    "- What are the key differences between the tokenizers?\n",
    "- How do they treat punctuation?\n",
    "- What happens to the link + URL?\n",
    "- What is a 'good' vs a 'bad' okenizer?  \n",
    "- How would you critically select one to use in an application? \n",
    "\n",
    "Are either of these tokenizers perfect? Consider how you would change the tokenizer to make it effective for the Reddit data. "
   ]
  },
  {
   "cell_type": "markdown",
   "metadata": {
    "colab_type": "text",
    "id": "uvqKgWz2afgq"
   },
   "source": [
    "#### Your task\n",
    "Create  a simple *tokenize* function that uses the regular expression tokenizer.  The function takes a string and returns the output of the tokenizer. \n",
    "\n",
    "- Click SHOW CODE on the cell below to see the regular expression tokenizer (it's hidden because it's part of the answer to the previous task). Execute the cell so that you can use this tokenizer in your function.\n",
    "\n"
   ]
  },
  {
   "cell_type": "code",
   "execution_count": 21,
   "metadata": {
    "cellView": "form",
    "colab": {},
    "colab_type": "code",
    "id": "RaW1TjfQapNq"
   },
   "outputs": [],
   "source": [
    "#@title\n",
    "from nltk.tokenize import RegexpTokenizer\n",
    "regexp_tokenizer = RegexpTokenizer(r'\\w+')"
   ]
  },
  {
   "cell_type": "code",
   "execution_count": 22,
   "metadata": {
    "colab": {},
    "colab_type": "code",
    "id": "u5ZU7Rdacj0Q"
   },
   "outputs": [],
   "source": [
    "def tokenize(s):\n",
    "    return regexp_tokenizer.tokenize(s)"
   ]
  },
  {
   "cell_type": "markdown",
   "metadata": {
    "colab_type": "text",
    "id": "XSYr7NP7Vm8J"
   },
   "source": [
    "Let's now use our tokenizer on all the posts on Reddit! \n",
    "- We use a powerful feature of Pandas called *apply* that executes a function that's passed as a parameter to every element of the series (similar to a Map operation).  \n",
    "- We pass in the tokenize function to apply. \n",
    "\n",
    "Execute the code below. Note: this may take a minute to operate on all posts.\n"
   ]
  },
  {
   "cell_type": "code",
   "execution_count": 23,
   "metadata": {
    "colab": {},
    "colab_type": "code",
    "id": "M1MxcjK4VlR7"
   },
   "outputs": [],
   "source": [
    "\n",
    "# This tokenizes the body posts and creates vector of tokens for each post.\n",
    "# Note: This selections the body column from the posts only. \n",
    "all_posts_tokenized = post_frame.body.apply(tokenize)"
   ]
  },
  {
   "cell_type": "markdown",
   "metadata": {
    "colab_type": "text",
    "id": "xcf9LbAhywIr"
   },
   "source": [
    "The result is a Pandas series that contains the tokens for each post. \n",
    "\n",
    "For analysis, let's flatten the tokens into a single value. \n",
    "\n"
   ]
  },
  {
   "cell_type": "code",
   "execution_count": 24,
   "metadata": {
    "colab": {},
    "colab_type": "code",
    "id": "kX2UKTpRyp1D"
   },
   "outputs": [
    {
     "name": "stdout",
     "output_type": "stream",
     "text": [
      "['It', 'was', 'only', 'a', 'few', 'minutes', 'into', 'Robert', 'Altman', 's', 'homespun', 'epic', 'Nashville', 'that', 'I', 'got', 'the', 'feeling', 'I', 'was', 'watching', 'a', 'great', 'movie', 'By', 'the', 'end', 'it', 'could', 'not', 'be', 'denied', 'Now', 'I', 'm', 'sure', 'it', 'helps', 'that', 'I', 'm', 'a', 'musician', 'since', 'this', 'created', 'an', 'immediate', 'connection', 'to', 'the', 'subject', 'matter', 'I', 'spent', 'a', 'portion', 'of', 'the', 'movie', 'with', 'my', 'Telecaster', 'in', 'my', 'lap', 'trying', 'to', 'play', 'along', 'with', 'the', 'characters', 'who', 'all', 'seem', 'to', 'be', 'really', 'playing', 'and', 'singing', 'these', 'songs', 'However', 'I', 'also']\n"
     ]
    }
   ],
   "source": [
    "import itertools\n",
    "# A single variable with the (flattened) tokens from all posts.\n",
    "flat_tokens = list(itertools.chain.from_iterable(all_posts_tokenized))\n",
    "\n",
    "print(flat_tokens[13:100])"
   ]
  },
  {
   "cell_type": "markdown",
   "metadata": {
    "colab_type": "text",
    "id": "7z3aWHkjWe5w"
   },
   "source": [
    "## Token collection statistics"
   ]
  },
  {
   "cell_type": "markdown",
   "metadata": {
    "colab_type": "text",
    "id": "DJ9wa7K6dvpM"
   },
   "source": [
    "Now that we have all the tokens in the flat_tokens variable, let's use it to compute token statistics we talked about in lecture. "
   ]
  },
  {
   "cell_type": "markdown",
   "metadata": {
    "colab_type": "text",
    "id": "WlPkMj7DTI5e"
   },
   "source": [
    "#### Your task\n",
    "Write come code to print the following values:\n",
    "- What is the total number of tokens (N)?\n",
    "- What is the average length of a post in tokens? *Hint: *How do you find the total number of posts? "
   ]
  },
  {
   "cell_type": "code",
   "execution_count": 25,
   "metadata": {
    "colab": {},
    "colab_type": "code",
    "id": "23li44bwd83W"
   },
   "outputs": [
    {
     "name": "stdout",
     "output_type": "stream",
     "text": [
      "139060\n",
      "43.569573669695735\n"
     ]
    }
   ],
   "source": [
    "toks = set(flat_tokens)\n",
    "print(len(toks))\n",
    "print(len(flat_tokens)/len(post_frame))"
   ]
  },
  {
   "cell_type": "markdown",
   "metadata": {
    "colab_type": "text",
    "id": "XJb269-E57Qv"
   },
   "source": [
    "- There should be roughly 4.8 million tokens. \n",
    "- Does this seem like a reasonable average length of a post?\n",
    "\n",
    "#### Optional task\n",
    "- On all_posts_tokenized compute the length of each token.  Compute statistics beyond the mean (min, max, stddev, median, etc...)\n"
   ]
  },
  {
   "cell_type": "markdown",
   "metadata": {
    "colab_type": "text",
    "id": "j0_d57cEejS6"
   },
   "source": [
    "Next, let's inspect the tokens in the collection."
   ]
  },
  {
   "cell_type": "markdown",
   "metadata": {
    "colab_type": "text",
    "id": "VL7XsanwD3er"
   },
   "source": [
    "#### Your Task\n",
    "\n",
    "- Print out the 50 most frequent (common) tokens in the reddit collection with their term frequencies (TF). \n",
    "  \n",
    "Use the python [collections.Counter](https://docs.python.org/2/library/collections.html) library. See it's documentation for examples on how to use it."
   ]
  },
  {
   "cell_type": "code",
   "execution_count": 30,
   "metadata": {
    "colab": {},
    "colab_type": "code",
    "id": "rVRXT6U9e7vP"
   },
   "outputs": [
    {
     "name": "stdout",
     "output_type": "stream",
     "text": [
      "[('the', 162200), ('I', 137575), ('to', 122895), ('a', 110515), ('and', 98354), ('of', 72920), ('it', 70231), ('you', 68680), ('is', 57887), ('that', 56688), ('in', 53523), ('for', 46052), ('s', 40413), ('t', 38912), ('on', 33674), ('with', 32394), ('have', 32326), ('be', 32252), ('but', 29672), ('my', 25573), ('are', 24557), ('this', 24416), ('not', 23056), ('as', 23035), ('was', 22998), ('can', 22684), ('or', 22010), ('your', 19884), ('like', 19430), ('if', 19205), ('just', 19118), ('they', 18441), ('at', 17676), ('so', 17605), ('would', 15776), ('m', 15756), ('me', 15547), ('get', 15219), ('do', 15035), ('all', 14302), ('from', 14301), ('out', 14151), ('about', 14089), ('up', 13859), ('The', 13621), ('will', 13531), ('one', 13442), ('It', 13346), ('com', 13169), ('an', 13148)]\n"
     ]
    }
   ],
   "source": [
    "from collections import Counter \n",
    "\n",
    "count = Counter()\n",
    "for t in flat_tokens:\n",
    "    count[t] += 1\n",
    "\n",
    "print(count.most_common(50))"
   ]
  },
  {
   "cell_type": "markdown",
   "metadata": {
    "colab_type": "text",
    "id": "moEaXn_gFNpl"
   },
   "source": [
    "Look at the other functions on the Counter object.  It's a very useful library for keeping track of counts. We'll be using it again in the future. "
   ]
  },
  {
   "cell_type": "markdown",
   "metadata": {
    "colab_type": "text",
    "id": "1ITIvzgu6dd5"
   },
   "source": [
    "### Step 2: Text Normalization\n",
    "\n",
    "In this section we will apply simple text normalization. We will write a function that takes raw tokens and normalizes them."
   ]
  },
  {
   "cell_type": "markdown",
   "metadata": {
    "colab_type": "text",
    "id": "SNev_-8J16nH"
   },
   "source": [
    "#### Your task\n",
    "\n",
    "Define a python function called *normalize* that:\n",
    "- Takes a sequence of *tokens* as input \n",
    "- Returns a list of *normalized tokens*\n",
    "- The function should perform the following normalization: lowercasing (basic String operation) and stem the tokens using the PorterStemmer (see also the [NLTK stem package](https://www.nltk.org/api/nltk.stem.html))."
   ]
  },
  {
   "cell_type": "code",
   "execution_count": 31,
   "metadata": {
    "colab": {},
    "colab_type": "code",
    "id": "0ORFJKkGfeZQ"
   },
   "outputs": [],
   "source": [
    "from nltk.stem import PorterStemmer\n",
    "stemmer = PorterStemmer()\n",
    "def normalize(toks):\n",
    "    return list(map(lambda x: stemmer.stem(x.lower()), toks))"
   ]
  },
  {
   "cell_type": "markdown",
   "metadata": {
    "colab_type": "text",
    "id": "h-HMHiXNAckU"
   },
   "source": [
    "#### Apply the normalize function to the flat tokens. \n",
    "This may take a 1-2 minutes to run over the entire collection (it is over almost 5 million tokens)."
   ]
  },
  {
   "cell_type": "code",
   "execution_count": 32,
   "metadata": {
    "colab": {},
    "colab_type": "code",
    "id": "emCgRILUASPy"
   },
   "outputs": [
    {
     "name": "stdout",
     "output_type": "stream",
     "text": [
      "['it', 'wa', 'onli', 'a', 'few', 'minut', 'into', 'robert', 'altman', 's', 'homespun', 'epic', 'nashvil', 'that', 'i', 'got', 'the', 'feel', 'i', 'wa', 'watch', 'a', 'great', 'movi', 'by', 'the', 'end', 'it', 'could', 'not', 'be', 'deni', 'now', 'i', 'm', 'sure', 'it', 'help', 'that', 'i', 'm', 'a', 'musician', 'sinc', 'thi', 'creat', 'an', 'immedi', 'connect', 'to', 'the', 'subject', 'matter', 'i', 'spent', 'a', 'portion', 'of', 'the', 'movi', 'with', 'my', 'telecast', 'in', 'my', 'lap', 'tri', 'to', 'play', 'along', 'with', 'the', 'charact', 'who', 'all', 'seem', 'to', 'be', 'realli', 'play', 'and', 'sing', 'these', 'song', 'howev', 'i', 'also']\n"
     ]
    }
   ],
   "source": [
    "normalized_tokens = normalize(flat_tokens)\n",
    "print(normalized_tokens[13:100])"
   ]
  },
  {
   "cell_type": "markdown",
   "metadata": {
    "colab_type": "text",
    "id": "5cZOfNIQ_vTn"
   },
   "source": [
    "### Collect information on the vocabulary. "
   ]
  },
  {
   "cell_type": "markdown",
   "metadata": {
    "colab_type": "text",
    "id": "AxR8PyAN_7tT"
   },
   "source": [
    "#### Your task\n",
    "Fill in the blanks in the code below to compute the statistics for the normalized tokens. \n",
    "\n",
    "Tip: Python has built-in set() function to create distinctify the values."
   ]
  },
  {
   "cell_type": "code",
   "execution_count": 33,
   "metadata": {
    "colab": {},
    "colab_type": "code",
    "id": "Tn37bEQAWZkY"
   },
   "outputs": [
    {
     "name": "stdout",
     "output_type": "stream",
     "text": [
      "1000\n",
      "139060\n",
      "4818577\n"
     ]
    }
   ],
   "source": [
    "# Set of unique tokens (from flat_tokens)\n",
    "B = toks\n",
    "\n",
    "# Set of unique normalized tokens --> the vocabulary\n",
    "V = normalized_tokens\n",
    "\n",
    "# |N| - number of all tokens\n",
    "print (N)\n",
    "\n",
    "# |B|\n",
    "print(len(B))\n",
    "\n",
    "# |V| \n",
    "print(len(V))"
   ]
  },
  {
   "cell_type": "markdown",
   "metadata": {
    "colab_type": "text",
    "id": "AVZBM7ZfBAQ9"
   },
   "source": [
    "There should be approximately 140k unique raw tokens and about 86k normalized tokens. The vocabulary is significantly smaller than the number of unique raw tokens."
   ]
  },
  {
   "cell_type": "markdown",
   "metadata": {
    "colab_type": "text",
    "id": "zNMZ3XO_hpA0"
   },
   "source": [
    "Let's inspect the most frequent normalized tokens.  Click SHOW CODE and execute the cell. "
   ]
  },
  {
   "cell_type": "code",
   "execution_count": 35,
   "metadata": {
    "cellView": "form",
    "colab": {},
    "colab_type": "code",
    "id": "xxl-HBDtXM5g"
   },
   "outputs": [
    {
     "data": {
      "text/plain": [
       "[('the', 176168),\n",
       " ('i', 146888),\n",
       " ('to', 124145),\n",
       " ('a', 113949),\n",
       " ('and', 102501),\n",
       " ('it', 88464),\n",
       " ('you', 77820),\n",
       " ('of', 73510),\n",
       " ('that', 62454),\n",
       " ('is', 60014),\n",
       " ('in', 56363),\n",
       " ('for', 48310),\n",
       " ('s', 40905),\n",
       " ('t', 39430),\n",
       " ('be', 37745),\n",
       " ('have', 35837),\n",
       " ('on', 34540),\n",
       " ('but', 34372),\n",
       " ('with', 33210),\n",
       " ('thi', 29957),\n",
       " ('my', 29500),\n",
       " ('if', 28524),\n",
       " ('are', 25486),\n",
       " ('not', 25462),\n",
       " ('as', 25383),\n",
       " ('can', 23929),\n",
       " ('or', 23415),\n",
       " ('wa', 23377),\n",
       " ('so', 22410),\n",
       " ('they', 22292),\n",
       " ('like', 22210),\n",
       " ('just', 21497),\n",
       " ('your', 21236),\n",
       " ('get', 20548),\n",
       " ('do', 19679),\n",
       " ('at', 18744),\n",
       " ('what', 16972),\n",
       " ('would', 16367),\n",
       " ('there', 16276),\n",
       " ('m', 16050),\n",
       " ('me', 15914),\n",
       " ('one', 15873),\n",
       " ('http', 15796),\n",
       " ('all', 15624),\n",
       " ('he', 15451),\n",
       " ('from', 14850),\n",
       " ('will', 14613),\n",
       " ('out', 14346),\n",
       " ('about', 14284),\n",
       " ('up', 14226)]"
      ]
     },
     "execution_count": 35,
     "metadata": {},
     "output_type": "execute_result"
    }
   ],
   "source": [
    "#@title\n",
    "import collections\n",
    "normalized_word_count = collections.Counter(normalized_tokens)\n",
    "normalized_word_count.most_common(50)"
   ]
  },
  {
   "cell_type": "markdown",
   "metadata": {
    "colab_type": "text",
    "id": "fmy1iZjvkhvE"
   },
   "source": [
    "Congratulations! We now have the basic vocabulary (V) as discussed in Lecture 1. "
   ]
  },
  {
   "cell_type": "markdown",
   "metadata": {
    "colab_type": "text",
    "id": "9Ui5S-3OKvEU"
   },
   "source": [
    "** Stopwords **\n",
    "\n",
    "The most common words are functional words, often referred to as 'stop words' because they don't convey meaningful information for 'aboutness' as discussed in lecture.  In many applications we remove stopwords to remove 'noise', but in other cases they may be important to keep. You should be able to justify your decisions for when (and what) words are 'stop words'.\n",
    "\n",
    "\n",
    "** Application example **\n",
    "\n",
    "One example of where stopwords are very important is [automatic language identification](https://en.wikipedia.org/wiki/Language_identification). Language ID is a type of text classification task that we'll discuss later in the course.  In this case the words are important because stop words are not shared in common across languages, usually.  We can therefore identify text based on it's expected usage patterns of these words.  "
   ]
  },
  {
   "cell_type": "markdown",
   "metadata": {
    "colab_type": "text",
    "id": "AYKnsoyVYlbY"
   },
   "source": [
    "### Text processing summary\n",
    " At this point we've done the most important parts of text processing and normalization. We have the building blocks that we can build upon to represent text in the future. \n",
    "\n",
    "However, you could do more effective text processing by improving the tokenization and normalization functions. Consider a few possibilities:\n",
    " - What about URLs?\n",
    " - What about improved handling of contractions (e.g. what's)\n",
    " - What about removing Stopwords as part of normalization?\n",
    " - What about removing 'junk' tokens that are too long or too short to be meaningful?\n",
    " - What about pruning the vocabulary to remove rare tokens?\n"
   ]
  },
  {
   "cell_type": "markdown",
   "metadata": {
    "colab_type": "text",
    "id": "yXr9Q5uRit_5"
   },
   "source": [
    "### Summary\n",
    "\n",
    "You've made good progress in this lab.  We have:\n",
    "- Introduced Colab\n",
    "- Learned basic libraries: Pandas, Counter, itertools, NLTK basic\n",
    "- Performed basic text processing: tokenization and normalization\n",
    "- Examined the structure of the Reddit dataset at the thread and post level\n",
    "- Computed collection statistics on the tokens, including creating a vocabulary\n",
    "\n",
    "In the next lab we will use these basics to represent text with one-hot encoding and bag-of-words representations and use these representations to look at post similarity and clustering. "
   ]
  },
  {
   "cell_type": "markdown",
   "metadata": {
    "colab_type": "text",
    "id": "UMltdfxuV0Dd"
   },
   "source": [
    "# Finished\n",
    "Well done!\n",
    "\n",
    "Please can you complete the feedback form for this lab on Moodle: https://moodle.gla.ac.uk/mod/feedback/view.php?id=1104426\n",
    "\n"
   ]
  },
  {
   "cell_type": "code",
   "execution_count": null,
   "metadata": {},
   "outputs": [],
   "source": []
  }
 ],
 "metadata": {
  "colab": {
   "collapsed_sections": [],
   "name": "TaD2019 Lab 1.ipynb",
   "provenance": [],
   "version": "0.3.2"
  },
  "kernelspec": {
   "display_name": "Python 3",
   "language": "python",
   "name": "python3"
  },
  "language_info": {
   "codemirror_mode": {
    "name": "ipython",
    "version": 3
   },
   "file_extension": ".py",
   "mimetype": "text/x-python",
   "name": "python",
   "nbconvert_exporter": "python",
   "pygments_lexer": "ipython3",
   "version": "3.7.2"
  }
 },
 "nbformat": 4,
 "nbformat_minor": 1
}
