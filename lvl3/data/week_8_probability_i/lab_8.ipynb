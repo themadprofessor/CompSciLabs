{
 "cells": [
  {
   "cell_type": "markdown",
   "metadata": {
    "deletable": false,
    "editable": false,
    "nbgrader": {
     "checksum": "4f07f49574a8963c9b87cf8947d7fb36",
     "grade": false,
     "grade_id": "cell-513963dffd022dec",
     "locked": true,
     "schema_version": 1,
     "solution": false
    }
   },
   "source": [
    "# Data Fundamentals (H)\n",
    "John H. Williamson -- Session 2018/2019\n",
    "\n",
    "----\n",
    "<font color=\"red\"> Read the submission instructions at the bottom of this notebook **carefully** before submitting </font> \n",
    "\n",
    "**This submission must be your own work; you will have to make a Declaration of Originality on submission.**\n",
    "\n",
    "Note that marks shown when tests pass are **provisional** and could change after grading."
   ]
  },
  {
   "cell_type": "code",
   "execution_count": 3,
   "metadata": {},
   "outputs": [],
   "source": [
    "NAME = \"Stuart Reilly\" ## fill these in \n",
    "STUDENT_ID = \"2258082\"  ## e.g. 2222222"
   ]
  },
  {
   "cell_type": "markdown",
   "metadata": {},
   "source": [
    "---"
   ]
  },
  {
   "cell_type": "markdown",
   "metadata": {
    "deletable": false,
    "editable": false,
    "nbgrader": {
     "checksum": "0bcdf432fd9d7f38cddb8802dbccf38a",
     "grade": false,
     "grade_id": "cell-648321103c548cc1",
     "locked": true,
     "schema_version": 1,
     "solution": false
    }
   },
   "source": [
    "## Lab 8: Assessed\n",
    "# Introduction to probability"
   ]
  },
  {
   "cell_type": "markdown",
   "metadata": {
    "deletable": false,
    "editable": false,
    "nbgrader": {
     "checksum": "2991745de17d7cb7e6e73a3b57f72154",
     "grade": false,
     "grade_id": "cell-643252aefebdec11",
     "locked": true,
     "schema_version": 1,
     "solution": false
    }
   },
   "source": [
    "\n",
    "### Notes\n",
    "It is recommended to keep the lecture notes open while doing this lab exercise.\n",
    "\n",
    "**This exercise is assessed**. Make sure you upload your solution by the deadline. See the notes at the bottom of this notebook for submission guidance. The exercise is marked out of 40.\n",
    "\n",
    "Unlike other DF(H) labs, the material in this lab is **examinable**. You should understand this material fully. Full solutions will be posted for study if you do not manage to complete the lab.\n",
    "\n",
    "You will need to know the following logarithm identities in this lab:\n",
    "* $\\log(a)+\\log(b) = \\log(ab)$ \n",
    "* $\\log(a)-\\log(b) = \\log(a/b),\\  b\\neq 0$\n",
    "\n",
    "$$\\newcommand{\\vec}[1]{ {\\bf #1}} \n",
    "\\newcommand{\\real}{\\mathbb{R}}\n",
    "\\DeclareMathOperator*{\\argmin}{arg\\,min}\n",
    "\\vec{x}\\real\n",
    "$$"
   ]
  },
  {
   "cell_type": "code",
   "execution_count": 4,
   "metadata": {
    "deletable": false,
    "editable": false,
    "nbgrader": {
     "checksum": "ee911e0d76c111c55c70db95941ee551",
     "grade": false,
     "grade_id": "cell-15b8846b731db842",
     "locked": true,
     "schema_version": 1,
     "solution": false
    }
   },
   "outputs": [
    {
     "name": "stdout",
     "output_type": "stream",
     "text": [
      "Everything imported OK\n"
     ]
    }
   ],
   "source": [
    "# Standard imports\n",
    "# Make sure you run this cell!\n",
    "from __future__ import print_function, division\n",
    "import numpy as np  # NumPy\n",
    "import scipy.stats \n",
    "\n",
    "from jhwutils.checkarr import array_hash, check_hash\n",
    "import jhwutils.image_audio as ia\n",
    "import jhwutils.tick as tick\n",
    "\n",
    "# Set up Matplotlib\n",
    "import matplotlib as mpl   \n",
    "import matplotlib.pyplot as plt\n",
    "%matplotlib inline\n",
    "print(\"Everything imported OK\")\n",
    "plt.rc('figure', figsize=(8.0, 4.0), dpi=140)\n",
    "np.random.seed(1000)"
   ]
  },
  {
   "cell_type": "markdown",
   "metadata": {},
   "source": [
    "## Purpose of this lab\n",
    "After doing this lab you should know:\n",
    "\n",
    "* what  Markov chains are\n",
    "* how Markov chains can be used to model sequences\n",
    "* how Markov chains can be learned, simulated and tested against data\n"
   ]
  },
  {
   "cell_type": "markdown",
   "metadata": {},
   "source": []
  },
  {
   "cell_type": "markdown",
   "metadata": {},
   "source": [
    "# Tutorial: discrete random variables\n",
    "This tutorial (re)introduces the ideas of \n",
    "* simulation by sampling; \n",
    "* estimation using the empirical distribution; \n",
    "* and likelihood and likelihood ratios.\n",
    "\n",
    "### Discrete simulation\n",
    "**Simulation** of a random occurrence can be achieved by sampling from a distribution. For example, sampling a number of *biased* coin tosses can be achieved by drawing a random number uniformly in the range (0.0 ,1.0) and then *thresholding* at a specific cutoff to assign one portion to \"heads\" (0) and one portion to \"tails\" (1). For example, we might generate 100 values randomly from 0-1\n"
   ]
  },
  {
   "cell_type": "code",
   "execution_count": 5,
   "metadata": {},
   "outputs": [
    {
     "name": "stdout",
     "output_type": "stream",
     "text": [
      "[0.65358959 0.11500694 0.95028286 0.4821914  0.87247454 0.21233268\n",
      " 0.04070962 0.39719446 0.2331322  0.84174072 0.20708234 0.74246953\n",
      " 0.39215413 0.18225652 0.74353941 0.06958208 0.8853372  0.9526444\n",
      " 0.93114343 0.41543095 0.02898166 0.98202748 0.33963768 0.70668719\n",
      " 0.36187707 0.0351059  0.85505825 0.65725351 0.76568299 0.55408724\n",
      " 0.88509294 0.90419762 0.0104217  0.07455674 0.24462921 0.13330475\n",
      " 0.6979251  0.39820488 0.88312219 0.18100751 0.43249917 0.0181432\n",
      " 0.69143786 0.46969065 0.12822219 0.89133705 0.91820362 0.07312099\n",
      " 0.04544794 0.4385729  0.60172093 0.31022703 0.68190824 0.20901315\n",
      " 0.5196043  0.56598883 0.44116739 0.13755616 0.21354319 0.13337189\n",
      " 0.3222967  0.23388712 0.52749816 0.56597116 0.43822528 0.32187262\n",
      " 0.55964081 0.86534558 0.84728288 0.10781717 0.31631948 0.40947866\n",
      " 0.68708901 0.70223529 0.44619794 0.42032208 0.80263059 0.53861757\n",
      " 0.92350049 0.06190754 0.36758345 0.97039877 0.69910395 0.89097558\n",
      " 0.25355272 0.72552711 0.20349443 0.53751182 0.236943   0.43649216\n",
      " 0.79802451 0.30840916 0.62151663 0.43964812 0.91332371 0.6586859\n",
      " 0.65363145 0.35845778 0.52294157 0.04508731]\n"
     ]
    }
   ],
   "source": [
    "uniform_numbers = np.random.uniform(0,1,100)\n",
    "print(uniform_numbers)"
   ]
  },
  {
   "cell_type": "markdown",
   "metadata": {},
   "source": [
    "We could then define a threshold. If we set this to 0.5, roughly half of the values should be below and half above. This is an unbiased coin flip.  If we set the threshold to 0.1, roughly 10% of values will be below the threshold and 90% will be above. This is *biased* towards one output."
   ]
  },
  {
   "cell_type": "code",
   "execution_count": 6,
   "metadata": {},
   "outputs": [
    {
     "name": "stdout",
     "output_type": "stream",
     "text": [
      "47\n"
     ]
    }
   ],
   "source": [
    "print(np.sum(uniform_numbers>0.5)) # how many samples greater than 0.5?"
   ]
  },
  {
   "cell_type": "code",
   "execution_count": 7,
   "metadata": {},
   "outputs": [
    {
     "name": "stdout",
     "output_type": "stream",
     "text": [
      "89\n"
     ]
    }
   ],
   "source": [
    "print(np.sum(uniform_numbers>0.1)) # how many greater than 0.1?"
   ]
  },
  {
   "cell_type": "markdown",
   "metadata": {},
   "source": [
    "We can use this to write a function to sample a \"biased\" coin, returning an array of `0` or `1` for `heads` or `tails`:"
   ]
  },
  {
   "cell_type": "code",
   "execution_count": 8,
   "metadata": {},
   "outputs": [],
   "source": [
    "# 10 numbers, in range [0,1]\n",
    "def toss_coin(n, bias=0.5):\n",
    "    coin_tosses = np.random.uniform(0,1, (n))\n",
    "    return np.where(coin_tosses<bias, 0, 1)"
   ]
  },
  {
   "cell_type": "code",
   "execution_count": 9,
   "metadata": {},
   "outputs": [
    {
     "name": "stdout",
     "output_type": "stream",
     "text": [
      "Fair       \t\t [0 1 0 1 1 1 1 0 1 1 1 0 0 0 1 0 0 1 0 1 1 1 0 0 0 1 1 0 0 1 1 0]\n",
      "Biased towards 0\t [0 0 0 1 0 0 0 0 0 0 0 0 0 0 1 0 0 0 1 0 0 0 0 0 0 1 1 0 0 0 1 1]\n",
      "Biased towards 1\t [1 0 1 1 1 1 1 1 1 0 1 1 1 1 1 1 1 1 1 1 1 1 1 1 1 1 1 1 1 1 1 1]\n"
     ]
    }
   ],
   "source": [
    "    \n",
    "# fair toss: bias = 0.5\n",
    "print(\"Fair       \\t\\t\", toss_coin(32, bias=0.5))\n",
    "\n",
    "# biased to 0s: bias = 0.85\n",
    "print(\"Biased towards 0\\t\", toss_coin(32, bias=0.85))\n",
    "\n",
    "# biased to 1s: bias = 0.1\n",
    "print(\"Biased towards 1\\t\", toss_coin(32, bias=0.1))"
   ]
  },
  {
   "cell_type": "markdown",
   "metadata": {},
   "source": [
    "### Discrete estimation\n",
    "**Estimation** of the distribution of a discrete random variable can be computed using the **empirical distribution**. This is just the count of the number of specific outcomes seen divided by the total number of trials. If we have a biased coin, we can estimate how biased it is by computing the empirical probability mass function:\n",
    "\n",
    "$$P(X=0) = \\frac{N_0} {N_0+N_1},\\quad P(X=1) = \\frac{N_1} {N_0+N_1},$$\n",
    "\n",
    "where $P(X=0)$ is the probability of getting a 0, $N_0$ is the number of zeros seen, and $N= N_0+N_1$ is the number of tosses performed. The same argument applies for $P(X=1)$.\n",
    "This estimate will be better as $N$ increases.\n"
   ]
  },
  {
   "cell_type": "code",
   "execution_count": 10,
   "metadata": {},
   "outputs": [
    {
     "name": "stdout",
     "output_type": "stream",
     "text": [
      "N=     5\tN_1=   1\test. bias:0.8000\ttrue bias:0.9000\n",
      "N=    10\tN_1=   3\test. bias:0.7000\ttrue bias:0.9000\n",
      "N=    50\tN_1=   4\test. bias:0.9200\ttrue bias:0.9000\n",
      "N=   500\tN_1=  53\test. bias:0.8940\ttrue bias:0.9000\n",
      "N=  1000\tN_1= 111\test. bias:0.8890\ttrue bias:0.9000\n",
      "N=  5000\tN_1= 500\test. bias:0.9000\ttrue bias:0.9000\n",
      "N= 10000\tN_1= 994\test. bias:0.9006\ttrue bias:0.9000\n",
      "N= 50000\tN_1=5115\test. bias:0.8977\ttrue bias:0.9000\n"
     ]
    }
   ],
   "source": [
    "bias = 0.9 # you can try adjusting this to confirm there \n",
    "#  is nothing special here\n",
    "\n",
    "for n in (5,10,50,500,1000, 5000, 10000, 50000):\n",
    "    tosses = toss_coin(n, bias)\n",
    "    # NB: np.sum(tosses) is a count of the number\n",
    "    # of 1s seen, if the values are only 0 or 1\n",
    "    n1 = np.sum(tosses)\n",
    "    est_bias = n1 / n  \n",
    "    print(\"N=%6d\\tN_1=%4d\\test. bias:%.4f\\ttrue bias:%.4f\" % ( n, n1, 1.0-est_bias, bias))"
   ]
  },
  {
   "cell_type": "markdown",
   "metadata": {},
   "source": [
    "### Likelihood testing\n",
    "We can also compute how likely a collection of observations $x_1, x_2, \\dots$ was to have been generated from a specific distribution if we know the **likelihood function** for that distribution.\n",
    "\n",
    "The likelihood of a collection of values, *assuming they are independent*, is just the product of the likelihood of each value:\n",
    "\n",
    "$$\\mathcal{L}(x_1, x_2, \\dots, x_n) = \\mathcal{L}(x_1)\\mathcal{L}(x_2)\\dots\\mathcal{L}(x_n) = \\prod_{i=1}^n f_X(x_i),$$\n",
    "\n",
    "where $f_X(x)$ is the PMF or PDF that describes the distribution; the likelihood function for a specific observation. \n",
    "\n",
    "We can write $\\mathcal{L}(\\theta|x)$ to explicitly include the parameters $\\theta$ of the distribution; for example the bias of the coin is the only parameter in the coin tossing example. This should be read as the the likelihood of the parameter $\\theta$ given the data $x$.\n",
    "\n",
    "Be careful: when working out likelihoods we *postulate* a process that might be generating data, and see how closely the observations we see \"look like\" they came from that process. We can use this to compare the likelihood of two sequences having been generated by a **known, hypothesised distribution that might have been generating them**."
   ]
  },
  {
   "cell_type": "code",
   "execution_count": 11,
   "metadata": {},
   "outputs": [],
   "source": [
    "# toss a coin 10 times\n",
    "fair_coins = toss_coin(10, 0.5)"
   ]
  },
  {
   "cell_type": "code",
   "execution_count": 12,
   "metadata": {},
   "outputs": [],
   "source": [
    "# compute likelihood of seeing a head or a tail\n",
    "# given a specific bias\n",
    "def lik_coin(coin, bias):\n",
    "    if coin==0:\n",
    "        return bias\n",
    "    else:\n",
    "        return (1-bias)"
   ]
  },
  {
   "cell_type": "code",
   "execution_count": 13,
   "metadata": {},
   "outputs": [],
   "source": [
    "# compute likelihood of the entire sequence\n",
    "def likelihood(lik_fn, observations):\n",
    "    lik = 1.0\n",
    "    for obs in observations:\n",
    "        lik = lik * lik_fn(obs)\n",
    "    return lik"
   ]
  },
  {
   "cell_type": "code",
   "execution_count": 14,
   "metadata": {},
   "outputs": [
    {
     "name": "stdout",
     "output_type": "stream",
     "text": [
      "Likelihood from fair coin model 0.0009765625\n",
      "Likelihood under a biased coin model 5.314409999999997e-05\n"
     ]
    }
   ],
   "source": [
    "# compute likelihood under the assumption\n",
    "# that we have a fair coin toss\n",
    "# (what actually generated this sequence)\n",
    "l_fair = likelihood(lambda x: lik_coin(x, 0.5), fair_coins)\n",
    "\n",
    "# compute likelihood for unfair coin toss\n",
    "# with 90% bias towards choosing a 0 (head)\n",
    "l_bias_0 = likelihood(lambda x: lik_coin(x, 0.9), fair_coins)\n",
    "\n",
    "print(\"Likelihood from fair coin model\", l_fair)\n",
    "print(\"Likelihood under a biased coin model\", l_bias_0)"
   ]
  },
  {
   "cell_type": "markdown",
   "metadata": {},
   "source": [
    "### Likelihood ratios\n",
    "We can compare to likelihood using the **likelihood ratio**. This gives us a measure\n",
    "of how (relatively) likely a set of observations was to have been generated by one postulated model than another."
   ]
  },
  {
   "cell_type": "code",
   "execution_count": 15,
   "metadata": {},
   "outputs": [
    {
     "name": "stdout",
     "output_type": "stream",
     "text": [
      "[0 1 0 1 1 0 1 0 0 0]\n",
      "This sequence is\n",
      "18.375746319911347 times more likely to have been generated \n",
      "by a fair coin toss than a 90% biased coin toss\n"
     ]
    }
   ],
   "source": [
    "# compute ratio of likelihoods\n",
    "print(fair_coins)\n",
    "bias_ratio = (l_fair/l_bias_0)\n",
    "print(\"\"\"This sequence is\n",
    "{t} times more likely to have been generated \n",
    "by a fair coin toss than a 90% biased coin toss\"\"\".format(t=bias_ratio))"
   ]
  },
  {
   "cell_type": "markdown",
   "metadata": {},
   "source": [
    "## Important notes\n",
    "In real applications, we would have to work with the **logarithm** of the **likelihood** (**log-likelihood**) instead of likelihoods, to avoid numerical underflow."
   ]
  },
  {
   "cell_type": "markdown",
   "metadata": {},
   "source": [
    "# Assessed portion: Markov processes\n",
    "A **stochastic process** or a **random process** is a process that evolves over *time* in an (partially) unpredictable way. The altitude of an aircraft might be modelled as a stochastic process. Although the altitude is controlled to keep it relatively steady during level flight, fluctuations due to turbulence shift the altitude randomly. This randomness can vary; in smooth air the process might be very stable and predictable, but become increasingly random in rough, turbulent air. The position of the aircraft in one moment depends on where it was a moment before, but with some element of randomness.\n",
    "\n",
    "Unlike the coin tosses, where each toss was *independent* of the one before, **stochastic processes** capture dependence over time.\n",
    "\n",
    "\n",
    "<img src=\"imgs/turbulence.png\">\n",
    "\n",
    "*[Original Image by Sergey Kustov [from Wikimedia Commons](https://commons.wikimedia.org/wiki/Category:Featured_pictures_of_aircraft#/media/File:Aeroflot_Airbus_A330_Kustov.jpg) CC-BY-SA 3.0]*\n",
    "\n",
    "## Markov process\n",
    "A **Markov process** is a particularly simple kind of **stochastic process**. A **Markov process** is any stochastic process that preserves the **Markov property**:\n",
    "\n",
    "### Markov property\n",
    "\n",
    ">The distribution of the state at time $t$ depends **only** on the state at the previous time $t-1$. No other history influences the behaviour of the system. \n",
    "\n",
    "Sequential samples from a Markov process are **not** independent; each sample depends on the prior sample (and *only* on the prior sample).  These models are tractable to do computations with, and we can often approximate a stochastic process which might have long-term dependencies with a Markov process with a single step dependency.\n",
    "\n",
    "### Evolution over time\n",
    "\n",
    "We consider the process to evolve one time step after the other, so we have a state at time $t=0, t=1, \\dots$, represented by a random variable $X_t$, which takes on values $x_1, x_2, x_3, \\dots$ at each time step.\n",
    "\n",
    "The evolution of Markov process is described by a single conditional probability distribution, $P(\\vec{X}_t=x_t|x_{t-1})$, the **transition distribution**. It defines what values could occur in one time step, depending on those on the previous time step. Markov processes can have **discrete states** (i.e. their state transitions involve discrete random variables) or **continuous states** (continuous random variables). We will only deal with discrete time, discrete state Markov processes: Markov chains in DF(H)."
   ]
  },
  {
   "cell_type": "markdown",
   "metadata": {},
   "source": [
    "## Discrete time, discrete state: Markov chains"
   ]
  },
  {
   "cell_type": "markdown",
   "metadata": {},
   "source": [
    " \n",
    "### Gilbert model for flickering lights\n",
    "Consider the problem of modeling the gentle flickering of an LED candle:"
   ]
  },
  {
   "cell_type": "markdown",
   "metadata": {},
   "source": [
    "<img src=\"imgs/candle.jpg\"> <br><br>*[[Image](https://flickr.com/photos/syntheticaperture/2667040501 \"0806B06 - LED Candle Experiment\") by [syntheticaperture](https://flickr.com/people/syntheticaperture) shared [CC BY](https://creativecommons.org/licenses/by/2.0/)]*"
   ]
  },
  {
   "cell_type": "markdown",
   "metadata": {},
   "source": [
    "*[This problem is inspired by the [analysis on cpldcpu's blog](https://cpldcpu.com/2013/12/08/hacking-a-candleflicker-led/), even if the modelling is rather different here]*\n",
    "\n",
    "The candle light has a simple microcontroller, which updates the LED state every hundredth of a second (100Hz). Choosing a purely random light state for each frame is unsatisfying -- no matter how you choose the random distribution, the result is always \"too fast\". Because each frame is independent, there is no sense of continuity. The result is unusable.\n",
    "\n",
    "The solution is to model this as a **stochastic process**; and a powerful way of simplifying that model so it can be made amenable to computational analysis that is to represent the process as a Markov process. This problem is a *discrete* Markov process, because there are two light states: *on* and *off* (we'll assume the light can't be partially on). Discrete Markov processes are known as **Markov chains. **\n",
    "\n",
    "We can do several things with any Markov chain:\n",
    "* we can **sample** processes from the chain (e.g. we can simulate the candle behaviour)\n",
    "* we can **estimate** or **infer** parameters from data (we can work out how the Markov chain was configured by observing)\n",
    "* we can compute the **likelihood** of observations under an assumed model (e.g. we can see whether a LED candle we observe is likely to be of brand X or brand Y)\n",
    "\n",
    "### Gilbert model\n",
    "\n",
    "A very simple Markov chain is the **Gilbert model**, which can be used to model \"sticky\" processes.  It is often used for simulating \"bursty\" network traffic, for example. This model has just two states $0$ and $1$ or $A$ and $B$, and the condition probability distribution gives the probability of transitions between these two states.\n",
    "\n",
    "<img src=\"imgs/gilbert.png\">\n",
    "\n",
    "The conditional probability can be written as a simple table:\n",
    "\n",
    "        |   | 0    | 1    |\n",
    "        |---|------|------|\n",
    "        | 0 | 1-p1 | p1   |\n",
    "        | 1 | p2   | 1-p2 |\n",
    "\n",
    "Because the total probability leaving from any given state must be 1.0, we only need two numbers $p_1$ and $p_2$ to fully determine the Markov chain for the Gilbert model.\n",
    "\n",
    "The model can be seen as a process with a **transition distribution** $p(S_i|S_{i-1})$, where $S_i$ is the random variable representing the state at time $i$ (for a Gilbert model, the state is either 0 or 1). The state at time $i$ depends only on the state at the previous time step.\n",
    "\n",
    "Writing out every possible combination in full:\n",
    "$$\\begin{align*}P(S_i=0|S_{i-1}=0) &= 1-p_1\\\\\n",
    "P(S_i=0|S_{i-1}=1) &= p_2\\\\\n",
    "P(S_i=1|S_{i-1}=0) &= p_1\\\\\n",
    "P(S_i=1|S_{i-1}=1) &= 1-p_2\\\\\\end{align*}$$\n",
    "\n",
    "Once we observe a previous state, we know the distribution over the following state.\n",
    "\n",
    "## Simulation\n",
    "Let's simulate the Gilbert model first of all. Write a function `gilbert(state, p1, p2)` which will take a previous state (either 0 or 1), and two transition probabilities $p_1$ and $p_2$, and return the next state of the Markov chain.\n",
    "\n",
    "You can see this is a biased coin toss, where the bias depends on the the result of the last coin toss.\n"
   ]
  },
  {
   "cell_type": "code",
   "execution_count": 16,
   "metadata": {
    "deletable": false,
    "nbgrader": {
     "checksum": "1d1959b10f8767bf88798275c28cb39a",
     "grade": false,
     "grade_id": "cell-8d9832adeefd1eaa",
     "locked": false,
     "schema_version": 1,
     "solution": true
    }
   },
   "outputs": [],
   "source": [
    "\n",
    "def gilbert(state, p1,p2):\n",
    "    # YOUR CODE HERE\n",
    "    # return the new state\n",
    "    rand = np.random.rand();\n",
    "    if state == 0:\n",
    "        if rand < 1-p1:\n",
    "            state = 0\n",
    "        else:\n",
    "            state = 1\n",
    "    else:\n",
    "        if rand < 1-p2:\n",
    "            state = 1\n",
    "        else:\n",
    "            state = 0\n",
    "        \n",
    "    return state"
   ]
  },
  {
   "cell_type": "code",
   "execution_count": 17,
   "metadata": {},
   "outputs": [],
   "source": [
    "# run the simulation for a number steps\n",
    "def gilbert_simulate(p1, p2, iters):\n",
    "    state = 0    \n",
    "    states = []\n",
    "    for i in range(iters):\n",
    "        state = gilbert(state, p1, p2)\n",
    "        states.append(state)\n",
    "    return states"
   ]
  },
  {
   "cell_type": "code",
   "execution_count": 18,
   "metadata": {
    "deletable": false,
    "editable": false,
    "nbgrader": {
     "checksum": "6be841703703f12cf1cea1d061bec13f",
     "grade": true,
     "grade_id": "cell-745956e5d05429e0",
     "locked": true,
     "points": 6,
     "schema_version": 1,
     "solution": false
    }
   },
   "outputs": [
    {
     "data": {
      "text/html": [
       "<h3> <!--{id:\"CORRECTMARK\", marks:\"5\"}--> <font color=\"green\"> ✓ [5 marks] </font> </h3>"
      ],
      "text/plain": [
       "<IPython.core.display.HTML object>"
      ]
     },
     "metadata": {},
     "output_type": "display_data"
    }
   ],
   "source": [
    "np.random.seed(2018)\n",
    "\n",
    "with tick.marks(5):\n",
    "    test_states = gilbert_simulate(0.5, 0.05, 10000)\n",
    "    assert(np.abs(np.mean(test_states)-0.9123)<0.01)\n",
    "    assert(np.abs(np.std(test_states)-0.2828)<0.01)"
   ]
  },
  {
   "cell_type": "code",
   "execution_count": 19,
   "metadata": {},
   "outputs": [],
   "source": [
    "def candle_gif(states):\n",
    "    # \"visual simulator\"\n",
    "    gif = np.zeros((len(states),32,32,3))\n",
    "    x = 0\n",
    "    for i,s in enumerate(states):\n",
    "        gif[i, :, :, :] = s*0.25\n",
    "        gif[i, 8:24,8:24, :] = s        \n",
    "    ia.show_gif(gif, width=\"64px\", duration=0.5)\n",
    "    \n",
    "# plot the result\n",
    "def plot_gilbert(states, p1, p2):\n",
    "    fig = plt.figure()\n",
    "    ax = fig.add_subplot(1,1,1)\n",
    "    ax.step(np.arange(len(states)), states)\n",
    "    ax.set_title(\"Gilbert model, p1=%.4f, p2=%.4f\" % (p1,p2))\n",
    "    ax.set_xlabel(\"Steps\")\n",
    "    ax.set_ylabel(\"State\")\n",
    "    ax.set_frame_on(False)    \n",
    "    ax.set_yticks([0,1])"
   ]
  },
  {
   "cell_type": "code",
   "execution_count": 20,
   "metadata": {},
   "outputs": [
    {
     "data": {
      "image/png": "[encoded data removed]",
      "text/plain": [
       "<Figure size 432x288 with 1 Axes>"
      ]
     },
     "metadata": {
      "needs_background": "light"
     },
     "output_type": "display_data"
    }
   ],
   "source": [
    "# simulate and plot    \n",
    "p1, p2 = 0.3, 0.03\n",
    "np.random.seed(2018)\n",
    "states = gilbert_simulate(p1,p2, iters=500)\n",
    "plot_gilbert(states, p1, p2)"
   ]
  },
  {
   "cell_type": "code",
   "execution_count": 21,
   "metadata": {},
   "outputs": [
    {
     "data": {
      "image/png": "[encoded data removed]",
      "text/plain": [
       "<IPython.core.display.Image object>"
      ]
     },
     "metadata": {
      "image/png": {
       "width": "64px"
      }
     },
     "output_type": "display_data"
    }
   ],
   "source": [
    "# show a low-fi simulation of this candle\n",
    "candle_gif(states)"
   ]
  },
  {
   "cell_type": "markdown",
   "metadata": {},
   "source": [
    "Your result will be random, but should look something like this (long periods of 1, with a few intermittent bursts of 0).\n",
    "<img src=\"imgs/gilbert_simulate.png\">\n"
   ]
  },
  {
   "cell_type": "markdown",
   "metadata": {},
   "source": [
    "### Estimation\n",
    "We  already saw how to estimate the distribution of a discrete random variable from observed data. \n",
    "\n",
    "\n",
    "In this case, where we have a dependency on the previous time step, we just need to compute the empirical distribution of the probability of sequential pairs of states, $P(S_i=s_i, S_{i+1}=s_{i+1})$, as in the letter bigrams in the Unit 8 lecture. From this, we can compute the conditional probabilities directly:\n",
    "\n",
    "$$P(s_i | s_{i-1}) = \\frac{P(s_i, s_{i-1})}{P(s_{i-1})} = \\frac{P(s_i, s_{i-1})}{\\sum_{s} P(s, s_{i-1})}$$\n",
    "\n",
    "We can apply this to the sequence we generated, and test that we can recover the parameters that generated the observations.\n",
    "\n",
    "Write a function to estimate `p1` and `p2` given a set of observed states. You should be able to verify that the results you get back are close to the original simulation parameters for any simulation you run.\n",
    "\n",
    "You may find it helpful to print out intermediate joint or conditional matrices to help debug this code.\n"
   ]
  },
  {
   "cell_type": "code",
   "execution_count": 22,
   "metadata": {
    "deletable": false,
    "nbgrader": {
     "checksum": "46da4418be4a3584a33cc9055d378787",
     "grade": false,
     "grade_id": "cell-2ff6a91a7c7be033",
     "locked": false,
     "schema_version": 1,
     "solution": true
    }
   },
   "outputs": [],
   "source": [
    "def estimate_gilbert_probabilities(states):\n",
    "    \"\"\"\n",
    "        Parameters:\n",
    "            states: list of states [0 or 1]\n",
    "        Returns:\n",
    "            p1, p2: estimated probabilities of the \n",
    "            Gilbert model that generated this sequence\n",
    "    \"\"\"\n",
    "    # YOUR CODE HERE\n",
    "    probs = np.zeros((2,2))\n",
    "    for i in range(1, len(states)):\n",
    "        probs[states[i],states[i-1]] += 1\n",
    "\n",
    "    zero_total = probs[0,0] + probs[1,0]\n",
    "    one_total = probs[0,1] + probs[1,1]\n",
    "    probs[0,0] = probs[0,0] / zero_total\n",
    "    probs[0,1] = 1 - probs[0,0]\n",
    "    probs[1,1] = probs[1,1] / one_total\n",
    "    probs[1,0] = 1 - probs[1,1]\n",
    "    return probs[0,1], probs[1,0] "
   ]
  },
  {
   "cell_type": "code",
   "execution_count": 23,
   "metadata": {
    "deletable": false,
    "editable": false,
    "nbgrader": {
     "checksum": "fb6a0c786c9566304d6a6c5ac118b019",
     "grade": true,
     "grade_id": "cell-3bec2cdf2ad6a063",
     "locked": true,
     "points": 8,
     "schema_version": 1,
     "solution": false
    }
   },
   "outputs": [
    {
     "name": "stdout",
     "output_type": "stream",
     "text": [
      "\n",
      "    Estimated transition table\n",
      "    ------------------------------\n",
      "          0       1\n",
      "    0   0.79   0.21\n",
      "    1   0.02   0.98\n",
      "\n",
      "\n",
      "    Estimated transition table\n",
      "    ------------------------------\n",
      "          0       1\n",
      "    0   0.50   0.50\n",
      "    1   0.50   0.50\n",
      "\n",
      "\n",
      "    Estimated transition table\n",
      "    ------------------------------\n",
      "          0       1\n",
      "    0   0.10   0.90\n",
      "    1   0.09   0.91\n",
      "\n",
      "\n",
      "    Estimated transition table\n",
      "    ------------------------------\n",
      "          0       1\n",
      "    0   0.95   0.05\n",
      "    1   0.05   0.95\n",
      "\n",
      "\n",
      "    Estimated transition table\n",
      "    ------------------------------\n",
      "          0       1\n",
      "    0   0.30   0.70\n",
      "    1   0.10   0.90\n",
      "\n"
     ]
    },
    {
     "data": {
      "text/html": [
       "<h3> <!--{id:\"CORRECTMARK\", marks:\"8\"}--> <font color=\"green\"> ✓ [8 marks] </font> </h3>"
      ],
      "text/plain": [
       "<IPython.core.display.HTML object>"
      ]
     },
     "metadata": {},
     "output_type": "display_data"
    }
   ],
   "source": [
    "np.random.seed(2018)\n",
    "def report_results(p1, p2):\n",
    "    print(\"\"\"\n",
    "    Estimated transition table\n",
    "    ------------------------------\n",
    "          0       1\n",
    "    0   {p11:.2f}   {p1:.2f}\n",
    "    1   {p2:.2f}   {p21:.2f}\n",
    "\"\"\".format(p1=p1, p2=p2, p21=1-p2, p11=1-p1))\n",
    "    \n",
    "with tick.marks(8):\n",
    "    for p1, p2 in [[0.2, 0.02], [0.5, 0.5], [0.9, 0.09],\n",
    "                  [0.05, 0.05], [0.7, 0.1]]:    \n",
    "        test_states = gilbert_simulate(p1, p2, iters=50000)    \n",
    "        assert(len(test_states)==50000)            \n",
    "        est_p1, est_p2 = estimate_gilbert_probabilities(test_states)            \n",
    "        report_results(est_p1, est_p2)\n",
    "        assert(np.abs(p1-est_p1)<0.02 and np.abs(p2-est_p2)<0.05)"
   ]
  },
  {
   "cell_type": "markdown",
   "metadata": {},
   "source": [
    "We can verify that simulating with the probabilities observed from a simulation results in a quantitatively similar visual effect."
   ]
  },
  {
   "cell_type": "code",
   "execution_count": 24,
   "metadata": {},
   "outputs": [
    {
     "data": {
      "text/plain": [
       "Text(0.5, 1.0, 'Re-simulation from estimated parameters 0.308, 0.026')"
      ]
     },
     "execution_count": 24,
     "metadata": {},
     "output_type": "execute_result"
    },
    {
     "data": {
      "image/png": "[encoded data removed]",
      "text/plain": [
       "<Figure size 432x288 with 1 Axes>"
      ]
     },
     "metadata": {
      "needs_background": "light"
     },
     "output_type": "display_data"
    },
    {
     "data": {
      "image/png": "[encoded data removed]",
      "text/plain": [
       "<Figure size 432x288 with 1 Axes>"
      ]
     },
     "metadata": {
      "needs_background": "light"
     },
     "output_type": "display_data"
    }
   ],
   "source": [
    "# simulate\n",
    "p1, p2 = 0.3, 0.03\n",
    "np.random.seed(2018)\n",
    "states = gilbert_simulate(p1, p2, iters=500)\n",
    "plot_gilbert(states, p1, p2)\n",
    "\n",
    "plt.gca().set_title(\"Simulation from known parameters %.2f, %.2f\" % (p1, p2))\n",
    "\n",
    "est_p1, est_p2 = estimate_gilbert_probabilities(states)\n",
    "\n",
    "est_states = gilbert_simulate(est_p1, est_p2, iters=500)\n",
    "plot_gilbert(est_states, est_p1, est_p2)\n",
    "plt.gca().set_title(\"Re-simulation from estimated parameters %.3f, %.3f\" % (est_p1, est_p2))"
   ]
  },
  {
   "cell_type": "code",
   "execution_count": 25,
   "metadata": {},
   "outputs": [
    {
     "data": {
      "image/png": "[encoded data removed]",
      "text/plain": [
       "<IPython.core.display.Image object>"
      ]
     },
     "metadata": {
      "image/png": {
       "width": "64px"
      }
     },
     "output_type": "display_data"
    },
    {
     "data": {
      "image/png": "[encoded data removed]",
      "text/plain": [
       "<IPython.core.display.Image object>"
      ]
     },
     "metadata": {
      "image/png": {
       "width": "64px"
      }
     },
     "output_type": "display_data"
    }
   ],
   "source": [
    "# check the candles look similar enough in simulation\n",
    "candle_gif(states)\n",
    "candle_gif(est_states)"
   ]
  },
  {
   "cell_type": "markdown",
   "metadata": {},
   "source": [
    "### Likelihood\n",
    "This **looks** qualitatively similar. We can precisely state that quantification using probability.\n",
    "\n",
    "#### A bit of espionage\n",
    "Imagine we want to conduct some industrial espionage (\"market research\") and work out which shops are being supplied with which brand of LED candle. There are candle modules from two companies, *RelaxiLight Inc.*, and *FlickerVision*. We have observations from lab studies of two examples of these candles.\n",
    "\n",
    "We see a candle on the shelf in a hardware store. We take the candle home and measure the light emitted from it. Is it a *RelaxiLight* or a *FlickerVision*?"
   ]
  },
  {
   "cell_type": "markdown",
   "metadata": {},
   "source": [
    "The question we want to ask is: given a sequence of observations, how likely is that the sequence was generated by one model or another? This is answerable via Bayes' Rule:\n",
    "$$P(A|B) = \\frac{P(B|A)P(A)}{P(B)},$$\n",
    "where $A$ is the choice of candle model, and $B$ is the sequence of observations. This seems pretty abstract. We can break it down:\n",
    "\n",
    "* $P(A)$ This is just the prior probability of the model. For example, if we know that 40% of all candles we might see are from RelaxiLight Inc., and 60% are from FlickerVision, we would have prior probability $P(A=\\text{RelaxiLight})=0.4$.\n",
    "\n",
    "* $P(B|A)$ is the **likelihood** of the observations. We can compute this from a sequence of observations $s_1, s_2, \\dots$ as:\n",
    "$$\\prod_i P(s_i),$$ where $S_i$ is the random variable representing the light state. Our \"state\" is really the conditional probability of the current state given the previous\n",
    "light state. Because we are dealing with a Markov process we can't compute the likelihood of a state without already knowing the previous state and the transition distribution:\n",
    "$$\\prod_i P(S_{i}=s_i|s_{i-1})$$\n",
    "\n",
    "* $P(B)$ is hard to work out in general. We could sum over the possible states of A (here, it might just be RelaxiLight and FlickerVision), but this gets harder as the number of states of $A$ increases.\n",
    "\n",
    "Luckily, this last point to do with $P(B)$ doesn't matter if all we want to do is to **compare** two possible models, since we just need the ratio \n",
    "$\\frac{P(A_1|B)}{P(A_2|B)}$ to do this comparison. $P(B)$ cancels out in this expression and doesn't affect the results.\n",
    "\n",
    "In practice, we need to use **log probabilities** to avoid floating-point underflow when multiplying many small probabilities together."
   ]
  },
  {
   "cell_type": "markdown",
   "metadata": {},
   "source": [
    "## Step 1. Load the data, estimate the parameters\n",
    "* The data for observations from a known *RelaxiLight Inc.* candle  is in `data/relaxlight.txt`\n",
    "* The data for observations from a known *FlickerVision* candle is in `data/flickervision.txt`\n",
    "* The data for five unknown candles (the ones bought in the shops) is in `data/candle_<n>.txt`, for $n=1,2,3,4,5$\n",
    "\n",
    "All of this data is just a single, long array of 0s and 1s (0 if the candle was off, 1 if it were on).\n",
    "\n",
    "These are all standard RelaxiLight or FlickerVision candles; except for one, which is a slightly *defective* RelaxiLight or FlickerVision candle.\n",
    "\n",
    "* Load known data into arrays `relaxilight` and `flickervision`. \n",
    "* Load the other five datasets into a 5xN matrix `unknown_candles` (all of the datasets are the same length)\n",
    "\n",
    "These can be loaded directly with `np.loadtxt()`. Note that you **must** convert the array type to `int32` on loading for `estimate_gilbert_probabilities` to work"
   ]
  },
  {
   "cell_type": "code",
   "execution_count": 26,
   "metadata": {
    "deletable": false,
    "nbgrader": {
     "checksum": "8f3087abba8c1f943b9b65e6b1a99460",
     "grade": false,
     "grade_id": "cell-f775cd2c27d04603",
     "locked": false,
     "schema_version": 1,
     "solution": true
    }
   },
   "outputs": [],
   "source": [
    "# YOUR CODE HERE\n",
    "relaxilight = np.loadtxt('data/relaxilight.txt', dtype=np.int32)\n",
    "flickervision = np.loadtxt('data/flickervision.txt', dtype=np.int32)\n",
    "unknown = []\n",
    "for i in range(1, 6):\n",
    "    unknown.append(np.loadtxt('data/candle_{0}.txt'.format(i), dtype=np.int32))\n",
    "unknown_candles = np.stack(unknown)"
   ]
  },
  {
   "cell_type": "code",
   "execution_count": 27,
   "metadata": {
    "deletable": false,
    "editable": false,
    "nbgrader": {
     "checksum": "c717e68c77b665092a96e6ecddb5a62b",
     "grade": true,
     "grade_id": "cell-beb15ba0a734686c",
     "locked": true,
     "points": 5,
     "schema_version": 1,
     "solution": false
    }
   },
   "outputs": [
    {
     "name": "stdout",
     "output_type": "stream",
     "text": [
      "((5000,), 9858416.20250862)\n",
      "((5000,), 5990789.984156581)\n",
      "((5, 500), 2122668.150594955)\n"
     ]
    },
    {
     "data": {
      "text/html": [
       "<h3> <!--{id:\"CORRECTMARK\", marks:\"5\"}--> <font color=\"green\"> ✓ [5 marks] </font> </h3>"
      ],
      "text/plain": [
       "<IPython.core.display.HTML object>"
      ]
     },
     "metadata": {},
     "output_type": "display_data"
    }
   ],
   "source": [
    "print(array_hash(relaxilight))\n",
    "print(array_hash(flickervision))\n",
    "print(array_hash(unknown_candles))\n",
    "with tick.marks(5):\n",
    "    assert(check_hash(relaxilight, ((5000,), 9858416.2025086209)))\n",
    "    assert(check_hash(flickervision, ((5000,), 5990789.9841565806)))\n",
    "    assert(check_hash(unknown_candles, ((5, 500), 2122668.1505949548)))\n",
    "    assert(relaxilight.dtype==np.int32)\n",
    "    assert(flickervision.dtype==np.int32)\n",
    "    assert(unknown_candles.dtype==np.int32)\n"
   ]
  },
  {
   "cell_type": "markdown",
   "metadata": {},
   "source": [
    "* Estimate the parameters for the **known** RelaxiLight Inc. and FlickerVision candles, using the function you defined above.\n",
    "* Store the parameters in `relaxi_p1`, `relaxi_p2` and `flicker_p1` and `flicker_p2`"
   ]
  },
  {
   "cell_type": "code",
   "execution_count": 28,
   "metadata": {
    "deletable": false,
    "nbgrader": {
     "checksum": "dc0c06ab64e85e38adf812e76d937963",
     "grade": false,
     "grade_id": "cell-cba33f0cea12f409",
     "locked": false,
     "schema_version": 1,
     "solution": true
    }
   },
   "outputs": [],
   "source": [
    "# YOUR CODE HERE\n",
    "relaxi_p1, relaxi_p2 = estimate_gilbert_probabilities(relaxilight)\n",
    "flicker_p1, flicker_p2 = estimate_gilbert_probabilities(flickervision)"
   ]
  },
  {
   "cell_type": "code",
   "execution_count": 29,
   "metadata": {
    "deletable": false,
    "editable": false,
    "nbgrader": {
     "checksum": "2696dc3868f205a1d6bbf0e02763080a",
     "grade": true,
     "grade_id": "cell-0d52c8286c31f324",
     "locked": true,
     "points": 5,
     "schema_version": 1,
     "solution": false
    }
   },
   "outputs": [
    {
     "name": "stdout",
     "output_type": "stream",
     "text": [
      "[0.09533898 0.02219482 0.23864959 0.25392238]\n"
     ]
    },
    {
     "data": {
      "text/html": [
       "<h3> <!--{id:\"CORRECTMARK\", marks:\"4\"}--> <font color=\"green\"> ✓ [4 marks] </font> </h3>"
      ],
      "text/plain": [
       "<IPython.core.display.HTML object>"
      ]
     },
     "metadata": {},
     "output_type": "display_data"
    }
   ],
   "source": [
    "ps = np.array([relaxi_p1, relaxi_p2, flicker_p1, flicker_p2])\n",
    "print(ps)\n",
    "with tick.marks(4):\n",
    "    assert(np.sum(np.abs(ps - [ 0.09533898,  0.02219482,  0.23864959,  0.25392238]))<0.1)"
   ]
  },
  {
   "cell_type": "markdown",
   "metadata": {},
   "source": [
    "### Step 2. Log-likelihood\n",
    "Write a function that will compute the **log-likelihood** of a sequence given `p1` and `p2`. The easy way to approach this is to create a 2x2 conditional probability table for every possible pair of states, like the one in the first Gilbert example, and index into it as you iterate over the sequence of states.\n",
    "\n",
    "Note that log-likelihoods will always be negative or zero.\n",
    "    "
   ]
  },
  {
   "cell_type": "code",
   "execution_count": 32,
   "metadata": {
    "deletable": false,
    "nbgrader": {
     "checksum": "6d3fa9b94bb57cb1976b21d2cdc2a006",
     "grade": false,
     "grade_id": "cell-64c66820cd35142b",
     "locked": false,
     "schema_version": 1,
     "solution": true
    }
   },
   "outputs": [],
   "source": [
    "def log_likelihood(seq, p1, p2):\n",
    "    # YOUR CODE HERE\n",
    "    probs = np.array([[1 - p1, p1], [p2, 1 - p2]])\n",
    "    res = 0.0\n",
    "    \n",
    "    for i in range(1, len(seq)):\n",
    "        res += np.log(probs[seq[i-1], seq[i]])\n",
    "    return res"
   ]
  },
  {
   "cell_type": "code",
   "execution_count": 33,
   "metadata": {
    "deletable": false,
    "editable": false,
    "nbgrader": {
     "checksum": "ac495729e4677fd6f241f78dc3d5158a",
     "grade": true,
     "grade_id": "cell-19ae760a5031a10e",
     "locked": true,
     "points": 6,
     "schema_version": 1,
     "solution": false
    }
   },
   "outputs": [
    {
     "data": {
      "text/html": [
       "<h3> <!--{id:\"CORRECTMARK\", marks:\"6\"}--> <font color=\"green\"> ✓ [6 marks] </font> </h3>"
      ],
      "text/plain": [
       "<IPython.core.display.HTML object>"
      ]
     },
     "metadata": {},
     "output_type": "display_data"
    }
   ],
   "source": [
    "\n",
    "with tick.marks(6):\n",
    "    assert(np.abs(log_likelihood([0,1,0,1], 0.5, 0.5) - -2.07944154168)<0.1)\n",
    "    assert(np.abs(log_likelihood([0,1,1,1], 0.5, 0.2) - -1.13943428319)<0.1)\n",
    "    assert(np.abs(log_likelihood([1,1,1,1], 0.5, 0.2) - -0.669430653943)<0.1)\n"
   ]
  },
  {
   "cell_type": "markdown",
   "metadata": {},
   "source": [
    "### Step 3. Ratio test\n",
    "25% of all candles on the market are RelaxiLight, and 75% of all candles are FlickerVision (flickery candles are cheap to produce!).\n",
    "\n",
    "* Compute  the log probability ratio $$\\log \\left[ \\frac{P(A_1|B)}{P(A_2|B)} \\right]$$ that each of the five candles is to be a FlickerVision ($A_1$)over a RelaxiLight ($A_2$), storing the result in an array `candle_log_probs`. The log probability ratio includes both the likelihood and the prior.\n",
    "\n",
    "* Create an array `is_flickervision` that has one entry for each unknown candle, 0 if the candle is most likely to be RelaxiLight, and 1 if the candle is most likely to be FlickerVision.\n",
    "\n"
   ]
  },
  {
   "cell_type": "code",
   "execution_count": 42,
   "metadata": {
    "deletable": false,
    "nbgrader": {
     "checksum": "57bc62601f6d8078c09840519589dcf6",
     "grade": false,
     "grade_id": "cell-b16674b0e28babd7",
     "locked": false,
     "schema_version": 1,
     "solution": true
    }
   },
   "outputs": [],
   "source": [
    "# YOUR CODE HERE\n",
    "candle_log_probs = []\n",
    "for n in range(5):\n",
    "    candle_log_probs.append(log_likelihood(unknown_candles[n], estimate_gilbert_probabilities(flickervision)[0], estimate_gilbert_probabilities(flickervision)[1])+np.log(0.75) - log_likelihood(unknown_candles[n], estimate_gilbert_probabilities(relaxilight)[0], estimate_gilbert_probabilities(relaxilight)[1])-np.log(0.25))\n",
    "candle_log_probs = np.array(candle_log_probs)    "
   ]
  },
  {
   "cell_type": "code",
   "execution_count": 46,
   "metadata": {
    "deletable": false,
    "nbgrader": {
     "checksum": "499da16b3dfa07f6b3ce72ee413b9652",
     "grade": false,
     "grade_id": "cell-d6458d1da8342b4f",
     "locked": false,
     "schema_version": 1,
     "solution": true
    }
   },
   "outputs": [],
   "source": [
    "# YOUR CODE HERE\n",
    "is_flickervision = []\n",
    "for n in range(5):\n",
    "    is_flickervision.append(np.where(candle_log_probs[n] < 0.75, 0, 1))\n",
    "is_flickervision = np.array(is_flickervision)    "
   ]
  },
  {
   "cell_type": "code",
   "execution_count": 47,
   "metadata": {
    "deletable": false,
    "editable": false,
    "nbgrader": {
     "checksum": "983c4aaf45505b26c31f9bd01bddfb8e",
     "grade": true,
     "grade_id": "cell-ef4fd4578b0d0a9d",
     "locked": true,
     "points": 5,
     "schema_version": 1,
     "solution": false
    }
   },
   "outputs": [
    {
     "name": "stdout",
     "output_type": "stream",
     "text": [
      "[-91.71633843 119.87678557 -74.07528499 -97.79321901 140.20061013]\n"
     ]
    },
    {
     "data": {
      "text/html": [
       "<h3> <!--{id:\"CORRECTMARK\", marks:\"5\"}--> <font color=\"green\"> ✓ [5 marks] </font> </h3>"
      ],
      "text/plain": [
       "<IPython.core.display.HTML object>"
      ]
     },
     "metadata": {},
     "output_type": "display_data"
    }
   ],
   "source": [
    "print(candle_log_probs)\n",
    "with tick.marks(5):\n",
    "    assert(np.sum(np.abs(candle_log_probs-[-91,119,-74,-97,140]))<5.0)"
   ]
  },
  {
   "cell_type": "code",
   "execution_count": 48,
   "metadata": {
    "deletable": false,
    "editable": false,
    "nbgrader": {
     "checksum": "7d3250b7f3bea1f59c365160c1f16d55",
     "grade": true,
     "grade_id": "cell-ad64c28e5cc8686e",
     "locked": true,
     "points": 5,
     "schema_version": 1,
     "solution": false
    }
   },
   "outputs": [
    {
     "name": "stdout",
     "output_type": "stream",
     "text": [
      "[0 1 0 0 1]\n",
      "((5,), 8.889897948556635)\n"
     ]
    },
    {
     "data": {
      "text/html": [
       "<h3> <!--{id:\"CORRECTMARK\", marks:\"4\"}--> <font color=\"green\"> ✓ [4 marks] </font> </h3>"
      ],
      "text/plain": [
       "<IPython.core.display.HTML object>"
      ]
     },
     "metadata": {},
     "output_type": "display_data"
    }
   ],
   "source": [
    "print(is_flickervision)\n",
    "print(array_hash(is_flickervision))\n",
    "with tick.marks(4):\n",
    "    assert(check_hash(is_flickervision, ((5,), 8.8898979485566354)))"
   ]
  },
  {
   "cell_type": "markdown",
   "metadata": {},
   "source": [
    "\n",
    "* Which candle is most likely to be the defective one?\n",
    "[no marks for this; skip it if you can't work out how to answer this question!]\n",
    "    "
   ]
  },
  {
   "cell_type": "code",
   "execution_count": null,
   "metadata": {
    "deletable": false,
    "nbgrader": {
     "checksum": "8f8a2bff107abc0c5c111401b78896f1",
     "grade": true,
     "grade_id": "cell-b8588f6ae3920269",
     "locked": false,
     "points": 0,
     "schema_version": 1,
     "solution": true
    }
   },
   "outputs": [],
   "source": [
    "# YOUR CODE HERE"
   ]
  },
  {
   "cell_type": "markdown",
   "metadata": {},
   "source": [
    "-----\n",
    "\n",
    "# Submission instructions"
   ]
  },
  {
   "cell_type": "markdown",
   "metadata": {},
   "source": [
    "### Checking your work\n",
    "## Mark summary\n",
    "You should check the marks you've got before submitting. To do this, \n",
    "* Make sure you fill in any place that says `YOUR CODE HERE` or \"YOUR ANSWER HERE\", as well as your name and matriculation number at the top.\n",
    "* SAVE THE NOTEBOOK, \n",
    "* Go to `Cell/Restart and Run All` in the menu.\n",
    "* Check the output of the cell here.\n",
    "\n",
    "Note that this is an estimated mark, and if you don't do the above procedure *carefully* you may get nonsense estimates.\n"
   ]
  },
  {
   "cell_type": "code",
   "execution_count": null,
   "metadata": {},
   "outputs": [],
   "source": [
    "tick.summarise_marks()"
   ]
  },
  {
   "cell_type": "markdown",
   "metadata": {},
   "source": [
    "### Formatting the submission\n",
    "* **WARNING**: If you do not submit the correct file, you will not get any marks.\n",
    "* Submit this file **only** on Moodle. It will be named `lab_<xxx>.ipynb`."
   ]
  },
  {
   "cell_type": "markdown",
   "metadata": {},
   "source": [
    "\n",
    "## Penalties (only for assessed labs)\n",
    "<font color=\"red\">\n",
    "    \n",
    "**Malformatted submissions**\n",
    "</font>\n",
    "These assignments are processed with an automatic tool; failure to follow instructions *precisely* will lead to you automatically losing two bands in grade regardless of whether the work is correct (not to mention a long delay in getting your work back). **If you submit a file without your work in it, it will be marked and you will get 0 marks.**\n",
    "\n",
    "<font color=\"red\">**Late submission**</font>\n",
    "Be aware that there is a two band penalty for every *day* of late submission, starting the moment of the deadline.\n",
    "\n",
    "<font color=\"red\">\n",
    "    \n",
    "**Plagiarism**\n",
    "</font> Any form of plagiarism will be subject to the Plagiarism Policy. The penalties are severe."
   ]
  },
  {
   "cell_type": "code",
   "execution_count": null,
   "metadata": {},
   "outputs": [],
   "source": []
  }
 ],
 "metadata": {
  "kernelspec": {
   "display_name": "Python 3",
   "language": "python",
   "name": "python3"
  },
  "language_info": {
   "codemirror_mode": {
    "name": "ipython",
    "version": 3
   },
   "file_extension": ".py",
   "mimetype": "text/x-python",
   "name": "python",
   "nbconvert_exporter": "python",
   "pygments_lexer": "ipython3",
   "version": "3.7.1"
  },
  "toc": {
   "base_numbering": 1,
   "nav_menu": {},
   "number_sections": true,
   "sideBar": true,
   "skip_h1_title": false,
   "title_cell": "Table of Contents",
   "title_sidebar": "Contents",
   "toc_cell": false,
   "toc_position": {},
   "toc_section_display": "block",
   "toc_window_display": false
  }
 },
 "nbformat": 4,
 "nbformat_minor": 2
}
