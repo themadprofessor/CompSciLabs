{
 "cells": [
  {
   "cell_type": "markdown",
   "metadata": {
    "deletable": false,
    "editable": false,
    "nbgrader": {
     "checksum": "4f07f49574a8963c9b87cf8947d7fb36",
     "grade": false,
     "grade_id": "cell-513963dffd022dec",
     "locked": true,
     "schema_version": 1,
     "solution": false
    }
   },
   "source": [
    "# Data Fundamentals (H)\n",
    "John H. Williamson -- Session 2018/2019\n",
    "\n",
    "----\n",
    "<font color=\"red\"> Read the submission instructions at the bottom of this notebook **carefully** before submitting </font> \n",
    "\n",
    "**This submission must be your own work; you will have to make a Declaration of Originality on submission.**\n",
    "\n",
    "Note that marks shown when tests pass are **provisional** and could change after grading."
   ]
  },
  {
   "cell_type": "code",
   "execution_count": null,
   "metadata": {},
   "outputs": [],
   "source": [
    "NAME = \"\" ## fill these in \n",
    "STUDENT_ID = \"\"  ## e.g. 2222222"
   ]
  },
  {
   "cell_type": "markdown",
   "metadata": {},
   "source": [
    "---"
   ]
  },
  {
   "cell_type": "markdown",
   "metadata": {},
   "source": [
    "## Data Fundamentals (H)\n",
    "# Week 6: Optimisation I \n",
    "## Supplement: Objective functions\n",
    "----\n",
    " ##### DF(H) - University of Glasgow - John Williamson - 2017"
   ]
  },
  {
   "cell_type": "markdown",
   "metadata": {},
   "source": [
    "## Objective functions\n",
    "\n",
    "There have been a number of questions about how to come up with objective functions. This is a *very* important thing to be able to do. This note provides some guidance on how to think about an objective function.\n",
    "\n",
    "\n",
    "### Properties of optimisation\n",
    "\n",
    "Every optimisation problem has two parts:\n",
    "* **Parameters**, the things that can be adjusted.\n",
    "* **Objective function**, which measures how good a particular set of parameters are.\n",
    "\n",
    "An optimisation problem usually also has:\n",
    "* **Constraints**, that define the feasible set of parameters.\n",
    "\n",
    "The **objective function** is a function *of the parameters* which returns a *single scalar value*, representing how good that parameter set is. \n",
    "\n",
    "## Throwing a stone\n",
    "\n",
    "For example, if I wanted to optimise how far I could throw a stone, I might be able to adjust the throwing angle. This is the *parameter* I could tweak (just one parameter, in this case). \n",
    "\n",
    "The objective function must be a function which depends on this parameter. I would have to *simulate* throwing the ball to work out how far it went and try and make it go further and further."
   ]
  },
  {
   "cell_type": "code",
   "execution_count": null,
   "metadata": {},
   "outputs": [],
   "source": [
    "import numpy as np\n",
    "def L(theta):\n",
    "    # L *must* depend on the parameters I can adjust\n",
    "    # in this case, there is only one; the throw angle\n",
    "    \n",
    "    # pull out the angle, convert from degrees to radians\n",
    "    angle = np.radians(theta[0])\n",
    "    \n",
    "    # initial throw position x=0m, y=1m\n",
    "    pos = np.array([0.0, 1.0])    \n",
    "    \n",
    "    # initial throw velocity, depends on angle\n",
    "    vel = np.array([np.cos(angle), np.sin(angle)])\n",
    "    \n",
    "    # simulate throwing the ball, until it hits the ground\n",
    "    while pos[1]>=0:\n",
    "        pos += vel\n",
    "        vel[1] -= 0.005 # gravity\n",
    "        vel -= 0.01 * vel     # air resistance\n",
    "        \n",
    "    # return how far our throw went\n",
    "    # remember that we want to minimise\n",
    "    # our objective function, so this value\n",
    "    # must get *lower* as our throw gets longer\n",
    "    \n",
    "    return -np.abs(pos[0])\n",
    "    \n",
    "    "
   ]
  },
  {
   "cell_type": "markdown",
   "metadata": {},
   "source": [
    "We can now optimize this. "
   ]
  },
  {
   "cell_type": "code",
   "execution_count": null,
   "metadata": {},
   "outputs": [],
   "source": [
    "import scipy.optimize\n",
    "\n",
    "# use a built in optimiser to solve this\n",
    "res = scipy.optimize.minimize(L, [65.0], method=\"nelder-mead\")\n",
    "print(res)"
   ]
  },
  {
   "cell_type": "markdown",
   "metadata": {},
   "source": [
    "We will get a result that throwing the ball at around 30 degrees to the horizontal will give the longest throw. Note that the answer will only be 45 degrees if there is no air resistance; something that would be annoying to work out but is trivial to optimise for. If air resistance is higher, then the throw should be more horizontal."
   ]
  },
  {
   "cell_type": "markdown",
   "metadata": {},
   "source": [
    "### Drone lab\n",
    "The objective function must depend on the parameters and return a single number, which we want to make smaller. You must encapsulate what \"good\" is in this function.\n",
    "\n",
    "For example, in the drone lab, you must define what it means for a flight to be good, as a function which takes in the three *controller parameters* -- these are the knobs you can adjust -- and returns a number which represents the quality of the flight. You don't know what they represent, but you can simulate the behaviour of the drone given those parameters and measure how good they turn out to be.\n",
    "\n",
    "You have to decide what good means and be able to write it down as a Python function."
   ]
  },
  {
   "cell_type": "markdown",
   "metadata": {},
   "source": [
    "## Strone throwing visualisation\n",
    "We can plot each run as the optimisation iterates:"
   ]
  },
  {
   "cell_type": "code",
   "execution_count": null,
   "metadata": {},
   "outputs": [],
   "source": [
    "import numpy as np\n",
    "import matplotlib.pyplot as plt\n",
    "%matplotlib inline\n",
    "def L(theta):\n",
    "    angle = np.radians(theta[0])\n",
    "    pos = np.array([0.0, 1.0])    \n",
    "    vel = np.array([np.cos(angle), np.sin(angle)])\n",
    "    \n",
    "    posns =[]\n",
    "    while pos[1]>=0:\n",
    "        pos += vel\n",
    "        vel[1] -= 0.005 # gravity\n",
    "        vel -= 0.01 * vel     # air resistance\n",
    "        posns.append(np.array(pos))\n",
    "        \n",
    "    posns = np.array(posns)    \n",
    "    ax.plot(posns[:,0], posns[:,1])\n",
    "    ax.text(posns[50,0], posns[50,1]+1, '%.0f' % theta[0])    \n",
    "    return -np.abs(pos[0])\n",
    "\n",
    "fig = plt.figure()\n",
    "ax = fig.add_subplot(1,1,1)\n",
    "ax.set_xlabel(\"Horizontal location (m)\")\n",
    "ax.set_ylabel(\"Vertical location (m)\")\n",
    "import scipy.optimize\n",
    "res = scipy.optimize.minimize(L, [65.0], method=\"nelder-mead\")\n",
    "print(res)"
   ]
  },
  {
   "cell_type": "code",
   "execution_count": null,
   "metadata": {},
   "outputs": [],
   "source": []
  },
  {
   "cell_type": "markdown",
   "metadata": {},
   "source": [
    "-----\n",
    "\n",
    "# Submission instructions"
   ]
  },
  {
   "cell_type": "markdown",
   "metadata": {},
   "source": [
    "### Checking your work\n",
    "## Mark summary\n",
    "You should check the marks you've got before submitting. To do this, \n",
    "* Make sure you fill in any place that says `YOUR CODE HERE` or \"YOUR ANSWER HERE\", as well as your name and matriculation number at the top.\n",
    "* SAVE THE NOTEBOOK, \n",
    "* Go to `Cell/Restart and Run All` in the menu.\n",
    "* Check the output of the cell here.\n",
    "\n",
    "Note that this is an estimated mark, and if you don't do the above procedure *carefully* you may get nonsense estimates.\n"
   ]
  },
  {
   "cell_type": "code",
   "execution_count": null,
   "metadata": {},
   "outputs": [],
   "source": [
    "tick.summarise_marks()"
   ]
  },
  {
   "cell_type": "markdown",
   "metadata": {},
   "source": [
    "### Formatting the submission\n",
    "* **WARNING**: If you do not submit the correct file, you will not get any marks.\n",
    "* Submit this file **only** on Moodle. It will be named `lab_<xxx>.ipynb`."
   ]
  },
  {
   "cell_type": "markdown",
   "metadata": {},
   "source": [
    "\n",
    "## Penalties (only for assessed labs)\n",
    "<font color=\"red\">\n",
    "    \n",
    "**Malformatted submissions**\n",
    "</font>\n",
    "These assignments are processed with an automatic tool; failure to follow instructions *precisely* will lead to you automatically losing two bands in grade regardless of whether the work is correct (not to mention a long delay in getting your work back). **If you submit a file without your work in it, it will be marked and you will get 0 marks.**\n",
    "\n",
    "<font color=\"red\">**Late submission**</font>\n",
    "Be aware that there is a two band penalty for every *day* of late submission, starting the moment of the deadline.\n",
    "\n",
    "<font color=\"red\">\n",
    "    \n",
    "**Plagiarism**\n",
    "</font> Any form of plagiarism will be subject to the Plagiarism Policy. The penalties are severe."
   ]
  },
  {
   "cell_type": "code",
   "execution_count": null,
   "metadata": {},
   "outputs": [],
   "source": []
  }
 ],
 "metadata": {
  "kernelspec": {
   "display_name": "Python 3",
   "language": "python",
   "name": "python3"
  },
  "language_info": {
   "codemirror_mode": {
    "name": "ipython",
    "version": 3
   },
   "file_extension": ".py",
   "mimetype": "text/x-python",
   "name": "python",
   "nbconvert_exporter": "python",
   "pygments_lexer": "ipython3",
   "version": "3.7.1"
  }
 },
 "nbformat": 4,
 "nbformat_minor": 2
}
