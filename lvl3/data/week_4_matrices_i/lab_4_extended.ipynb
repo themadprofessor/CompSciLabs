{
 "cells": [
  {
   "cell_type": "markdown",
   "metadata": {
    "deletable": false,
    "editable": false,
    "nbgrader": {
     "checksum": "4f07f49574a8963c9b87cf8947d7fb36",
     "grade": false,
     "grade_id": "cell-513963dffd022dec",
     "locked": true,
     "schema_version": 1,
     "solution": false
    }
   },
   "source": [
    "# Data Fundamentals (H)\n",
    "John H. Williamson -- Session 2018/2019\n",
    "\n",
    "----\n",
    "<font color=\"red\"> Read the submission instructions at the bottom of this notebook **carefully** before submitting </font> \n",
    "\n",
    "**This submission must be your own work; you will have to make a Declaration of Originality on submission.**\n",
    "\n",
    "Note that marks shown when tests pass are **provisional** and could change after grading."
   ]
  },
  {
   "cell_type": "code",
   "execution_count": null,
   "metadata": {},
   "outputs": [],
   "source": [
    "NAME = \"\" ## fill these in \n",
    "STUDENT_ID = \"\"  ## e.g. 2222222"
   ]
  },
  {
   "cell_type": "markdown",
   "metadata": {},
   "source": [
    "---"
   ]
  },
  {
   "cell_type": "markdown",
   "metadata": {
    "deletable": false,
    "editable": false,
    "nbgrader": {
     "checksum": "95c267961513d69ff75cf4cf0c0baf89",
     "grade": false,
     "grade_id": "cell-d5e45d2f540c371a",
     "locked": true,
     "schema_version": 1,
     "solution": false
    }
   },
   "source": [
    "## Lab 4 Extension: Unassessed\n",
    "# Vector spaces and linear transforms: EXTENDED MATERIAL"
   ]
  },
  {
   "cell_type": "markdown",
   "metadata": {
    "deletable": false,
    "editable": false,
    "nbgrader": {
     "checksum": "7e02d7789a389a9e7b2ac418c5eedda4",
     "grade": false,
     "grade_id": "cell-3b828e95b2a440a7",
     "locked": true,
     "schema_version": 1,
     "solution": false
    }
   },
   "source": [
    "## Extended\n",
    "This lab is extended material for students who want to go further. It is optional.\n"
   ]
  },
  {
   "cell_type": "code",
   "execution_count": null,
   "metadata": {
    "deletable": false,
    "editable": false,
    "nbgrader": {
     "checksum": "b3b4c868e3ac3c43bc5fd12b9d542905",
     "grade": false,
     "grade_id": "cell-c8261cdfc91c5504",
     "locked": true,
     "schema_version": 1,
     "solution": false
    }
   },
   "outputs": [],
   "source": [
    "# Standard imports\n",
    "# Make sure you run this cell!\n",
    "# NumPy\n",
    "import numpy as np  \n",
    "import binascii\n",
    "\n",
    "# Set up Matplotlib\n",
    "import matplotlib as mpl   \n",
    "import matplotlib.pyplot as plt\n",
    "%matplotlib inline\n",
    "plt.rc('figure', figsize=(8.0, 4.0), dpi=140)\n",
    "\n",
    "# custom utils\n",
    "from utils.checkarr import array_hash, check_hash\n",
    "import utils.image_audio as ia\n",
    "import utils.tick as tick\n",
    "\n",
    "print(\"Everything imported OK\")"
   ]
  },
  {
   "cell_type": "markdown",
   "metadata": {
    "deletable": false,
    "editable": false,
    "nbgrader": {
     "checksum": "58de2d5b9415d4eb80bfdcb0bc5ac1f0",
     "grade": false,
     "grade_id": "cell-25a7c82486d4b915",
     "locked": true,
     "schema_version": 1,
     "solution": false
    }
   },
   "source": [
    "## Vector quantisation "
   ]
  },
  {
   "cell_type": "markdown",
   "metadata": {
    "deletable": false,
    "nbgrader": {
     "checksum": "695f713e649d0359c2c4f9fb19680ea6",
     "grade": true,
     "grade_id": "cell-011fc75dae4812c0",
     "locked": false,
     "points": 0,
     "schema_version": 1,
     "solution": true
    }
   },
   "source": [
    "YOUR ANSWER HERE"
   ]
  },
  {
   "cell_type": "code",
   "execution_count": null,
   "metadata": {
    "deletable": false,
    "editable": false,
    "nbgrader": {
     "checksum": "e2990b15d373443ed4a03425062160e9",
     "grade": false,
     "grade_id": "cell-85028a2120efdfd2",
     "locked": true,
     "schema_version": 1,
     "solution": false
    }
   },
   "outputs": [],
   "source": [
    "face = ia.load_image_gray(\"data/face.png\")\n",
    "ia.show_image(face)\n",
    "# The image is from the Kodak KCD test image collection, and is in the public domain"
   ]
  },
  {
   "cell_type": "code",
   "execution_count": null,
   "metadata": {
    "deletable": false,
    "nbgrader": {
     "checksum": "414f13418fdb9d0a113c7c9b8e43d846",
     "grade": false,
     "grade_id": "cell-8bedc9a76184f039",
     "locked": false,
     "schema_version": 1,
     "solution": true
    }
   },
   "outputs": [],
   "source": [
    "# YOUR CODE HERE"
   ]
  },
  {
   "cell_type": "code",
   "execution_count": null,
   "metadata": {
    "deletable": false,
    "nbgrader": {
     "checksum": "92b1bb55843e76f47053e89e8b5c8af9",
     "grade": false,
     "grade_id": "cell-cd6925a1d8838179",
     "locked": false,
     "schema_version": 1,
     "solution": true
    }
   },
   "outputs": [],
   "source": [
    "# YOUR CODE HERE"
   ]
  },
  {
   "cell_type": "markdown",
   "metadata": {
    "deletable": false,
    "editable": false,
    "nbgrader": {
     "checksum": "f8b7afbd1a3b9a90a2115bf1dd3e2637",
     "grade": false,
     "grade_id": "cell-65d4c64f2678c761",
     "locked": true,
     "schema_version": 1,
     "solution": false
    }
   },
   "source": [
    "Running the code below should show you the original image, but divided into 16x16 chunks if you have done this correctly"
   ]
  },
  {
   "cell_type": "code",
   "execution_count": null,
   "metadata": {
    "deletable": false,
    "editable": false,
    "nbgrader": {
     "checksum": "7da51b487229bc30f731be71e3a3ad16",
     "grade": false,
     "grade_id": "cell-c7340cb60d6e3481",
     "locked": true,
     "schema_version": 1,
     "solution": false
    }
   },
   "outputs": [],
   "source": [
    "assert(img_tensor.shape==(32,32,256))\n",
    "fig = plt.figure()\n",
    "ax = fig.add_subplot(1, 1, 1)\n",
    "# plot each square individually\n",
    "for i in range(32):\n",
    "    for j in range(32):\n",
    "        ax.imshow(\n",
    "            img_tensor[i, j, :].reshape(16, 16),\n",
    "            extent=[i * 16+2, (i + 1) * 16 , (j + 1) * 16 , (j) * 16+2],\n",
    "            cmap='gray',\n",
    "            vmin=0,\n",
    "            vmax=1)\n",
    "        \n",
    "ax.set_xlim(0, 512)\n",
    "ax.set_ylim(0, 512)\n",
    "ax.invert_yaxis()\n",
    "ax.axis(\"off\")"
   ]
  },
  {
   "cell_type": "markdown",
   "metadata": {
    "deletable": false,
    "editable": false,
    "nbgrader": {
     "checksum": "1204749dea56a2d4d1136b701bae47a2",
     "grade": false,
     "grade_id": "cell-5d7126aac38753ef",
     "locked": true,
     "schema_version": 1,
     "solution": false
    }
   },
   "source": [
    "#### B. \n",
    "The code below will take a matrix of vectors (one vector per row) and return a matrix of **cluster centres** of those vectors. There is a 2D example shown below to show how to use the clustering function. It works just the same for any number of dimensions."
   ]
  },
  {
   "cell_type": "markdown",
   "metadata": {
    "deletable": false,
    "editable": false,
    "nbgrader": {
     "checksum": "56591e7748a746a5b5f7233011a9752a",
     "grade": false,
     "grade_id": "cell-610806e519847b89",
     "locked": true,
     "schema_version": 1,
     "solution": false
    }
   },
   "source": [
    "Use this code to find 64 cluster centres for `img`, and generate a new image where each 16x16 patch of the original image has been replaced with its nearest cluster centre. The image should be called `reconstructed_img` and should be viewable using `ia.show_image()`. It should look like the original image, but with lower quality. You will need to use `img_tensor` for this calculation.\n",
    "\n",
    "Note: you will need to **think** about how to do this. "
   ]
  },
  {
   "cell_type": "code",
   "execution_count": null,
   "metadata": {
    "deletable": false,
    "editable": false,
    "nbgrader": {
     "checksum": "c7f79905ba11c2d0d57a23a43289498a",
     "grade": false,
     "grade_id": "cell-5fcbade152b4d632",
     "locked": true,
     "schema_version": 1,
     "solution": false
    }
   },
   "outputs": [],
   "source": [
    "from sklearn.cluster import KMeans\n",
    "\n",
    "def cluster(x, clusters):\n",
    "    # return the cluster centers for an NxD matrix of D-dimensional vectors\n",
    "    # return will be clusters x D dimensional matrix    \n",
    "    means = KMeans(clusters)\n",
    "    means.fit(x)\n",
    "    return means.cluster_centers_"
   ]
  },
  {
   "cell_type": "code",
   "execution_count": null,
   "metadata": {
    "deletable": false,
    "editable": false,
    "nbgrader": {
     "checksum": "d032dfddd3f789b474783ba07e8581c5",
     "grade": false,
     "grade_id": "cell-be005e5e5e2326d7",
     "locked": true,
     "schema_version": 1,
     "solution": false
    }
   },
   "outputs": [],
   "source": [
    "# Clustering demo in 2D\n",
    "\n",
    "# create some 2D data in three distinct clusters, 150 points total\n",
    "x = np.random.normal(0,1, (50,2))\n",
    "x = np.concatenate([x, np.random.normal(0,1, (50,2)) + [3, 5]])\n",
    "x = np.concatenate([x, np.random.normal(0,1, (50,2)) + [-6, 2]])\n",
    "\n",
    "# find the cluster centres\n",
    "centers  = cluster(x, 3)\n",
    "\n",
    "# plot the data and the centers\n",
    "fig = plt.figure()\n",
    "ax = fig.add_subplot(1,1,1)\n",
    "ax.scatter(x[:,0], x[:,1], s=20, label=\"Data\")\n",
    "ax.scatter(centers[:,0], centers[:,1], s=50, c='r', label=\"Cluster centers\")\n",
    "ax.legend()"
   ]
  },
  {
   "cell_type": "code",
   "execution_count": null,
   "metadata": {
    "deletable": false,
    "nbgrader": {
     "checksum": "523feb64c50ec0a4c6a47452fdbcab9d",
     "grade": false,
     "grade_id": "cell-cd6fe6ea0c879f67",
     "locked": false,
     "schema_version": 1,
     "solution": true
    }
   },
   "outputs": [],
   "source": [
    "# YOUR CODE HERE"
   ]
  },
  {
   "cell_type": "code",
   "execution_count": null,
   "metadata": {},
   "outputs": [],
   "source": [
    "ia.show_image(reconstructed_image)\n"
   ]
  },
  {
   "cell_type": "markdown",
   "metadata": {},
   "source": [
    "If you did this right, the image should look like this:\n",
    "    <img src=\"imgs/face_vq.png\">\n",
    "    \n",
    "Note that this looks like a low-quality Skype call. Which isn't too surprising, as the video compression method is likely to be based around some form of VQ (with motion compensation)."
   ]
  },
  {
   "cell_type": "markdown",
   "metadata": {},
   "source": [
    "#### C.\n",
    "Complete the function below, to perform all of these steps on any image and return a new image with the cluster replacement applied. This should be a small number of lines of simple code [the reference solution is 12 lines, excluding comments]. If you have written a massive program, you are doing it wrong.\n",
    "\n",
    "Your function only needs to work with values of `size` that are exact multiples of the image dimensions. You don't have to solve the case when it doesn't divide evenly."
   ]
  },
  {
   "cell_type": "code",
   "execution_count": null,
   "metadata": {},
   "outputs": [],
   "source": []
  },
  {
   "cell_type": "code",
   "execution_count": null,
   "metadata": {
    "deletable": false,
    "nbgrader": {
     "checksum": "0097dd85f4ab9ffadf1c8d631a33d61e",
     "grade": false,
     "grade_id": "cell-2bb2bfc420a8c8c2",
     "locked": false,
     "schema_version": 1,
     "solution": true
    }
   },
   "outputs": [],
   "source": [
    "# YOUR CODE HERE"
   ]
  },
  {
   "cell_type": "markdown",
   "metadata": {},
   "source": [
    "The tests below will test if `vq()` is behaving correctly on a new test image"
   ]
  },
  {
   "cell_type": "code",
   "execution_count": null,
   "metadata": {},
   "outputs": [],
   "source": [
    "parrots = ia.load_image_gray(\"data/parrots.png\")[:512, :512]\n",
    "for size in range(8,16,32):\n",
    "    for quantisation in [64,128,256]:\n",
    "        ia.show_image(vq(parrots, size, quantisation))"
   ]
  },
  {
   "cell_type": "markdown",
   "metadata": {},
   "source": [
    "-----\n",
    "\n",
    "# Submission instructions"
   ]
  },
  {
   "cell_type": "markdown",
   "metadata": {},
   "source": [
    "### Checking your work\n",
    "## Mark summary\n",
    "You should check the marks you've got before submitting. To do this, \n",
    "* Make sure you fill in any place that says `YOUR CODE HERE` or \"YOUR ANSWER HERE\", as well as your name and matriculation number at the top.\n",
    "* SAVE THE NOTEBOOK, \n",
    "* Go to `Cell/Restart and Run All` in the menu.\n",
    "* Check the output of the cell here.\n",
    "\n",
    "Note that this is an estimated mark, and if you don't do the above procedure *carefully* you may get nonsense estimates.\n"
   ]
  },
  {
   "cell_type": "code",
   "execution_count": null,
   "metadata": {},
   "outputs": [],
   "source": [
    "tick.summarise_marks()"
   ]
  },
  {
   "cell_type": "markdown",
   "metadata": {},
   "source": [
    "### Formatting the submission\n",
    "* **WARNING**: If you do not submit the correct file, you will not get any marks.\n",
    "* Submit this file **only** on Moodle. It will be named `lab_<xxx>.ipynb`."
   ]
  },
  {
   "cell_type": "markdown",
   "metadata": {},
   "source": [
    "\n",
    "## Penalties (only for assessed labs)\n",
    "<font color=\"red\">\n",
    "    \n",
    "**Malformatted submissions**\n",
    "</font>\n",
    "These assignments are processed with an automatic tool; failure to follow instructions *precisely* will lead to you automatically losing two bands in grade regardless of whether the work is correct (not to mention a long delay in getting your work back). **If you submit a file without your work in it, it will be marked and you will get 0 marks.**\n",
    "\n",
    "<font color=\"red\">**Late submission**</font>\n",
    "Be aware that there is a two band penalty for every *day* of late submission, starting the moment of the deadline.\n",
    "\n",
    "<font color=\"red\">\n",
    "    \n",
    "**Plagiarism**\n",
    "</font> Any form of plagiarism will be subject to the Plagiarism Policy. The penalties are severe."
   ]
  },
  {
   "cell_type": "code",
   "execution_count": null,
   "metadata": {},
   "outputs": [],
   "source": []
  }
 ],
 "metadata": {
  "kernelspec": {
   "display_name": "Python 3",
   "language": "python",
   "name": "python3"
  },
  "language_info": {
   "codemirror_mode": {
    "name": "ipython",
    "version": 3
   },
   "file_extension": ".py",
   "mimetype": "text/x-python",
   "name": "python",
   "nbconvert_exporter": "python",
   "pygments_lexer": "ipython3",
   "version": "3.6.6"
  },
  "toc": {
   "nav_menu": {},
   "number_sections": true,
   "sideBar": true,
   "skip_h1_title": false,
   "toc_cell": false,
   "toc_position": {},
   "toc_section_display": "block",
   "toc_window_display": false
  }
 },
 "nbformat": 4,
 "nbformat_minor": 1
}
