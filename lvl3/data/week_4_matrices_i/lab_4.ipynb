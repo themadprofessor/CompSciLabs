{
 "cells": [
  {
   "cell_type": "markdown",
   "metadata": {
    "deletable": false,
    "editable": false,
    "nbgrader": {
     "checksum": "4f07f49574a8963c9b87cf8947d7fb36",
     "grade": false,
     "grade_id": "cell-513963dffd022dec",
     "locked": true,
     "schema_version": 1,
     "solution": false
    }
   },
   "source": [
    "# Data Fundamentals (H)\n",
    "John H. Williamson -- Session 2018/2019\n",
    "\n",
    "----\n",
    "<font color=\"red\"> Read the submission instructions at the bottom of this notebook **carefully** before submitting </font> \n",
    "\n",
    "**This submission must be your own work; you will have to make a Declaration of Originality on submission.**\n",
    "\n",
    "Note that marks shown when tests pass are **provisional** and could change after grading."
   ]
  },
  {
   "cell_type": "code",
   "execution_count": null,
   "metadata": {},
   "outputs": [],
   "source": [
    "NAME = \"\" ## fill these in \n",
    "STUDENT_ID = \"\"  ## e.g. 2222222"
   ]
  },
  {
   "cell_type": "markdown",
   "metadata": {},
   "source": [
    "---"
   ]
  },
  {
   "cell_type": "markdown",
   "metadata": {},
   "source": [
    "## Lab 4: Assessed\n",
    "# Vector spaces and linear transforms"
   ]
  },
  {
   "cell_type": "markdown",
   "metadata": {},
   "source": [
    "### Notes\n",
    "It is recommended to keep the lecture notes open while doing this lab exercise. Read through this lab *carefully* and work through the tasks.\n",
    "\n",
    "This lab is marked out of 50.\n",
    "\n",
    "### References\n",
    "If you are stuck, the following resources are very helpful:\n",
    "\n",
    "* [NumPy cheatsheet](https://github.com/juliangaal/python-cheat-sheet/blob/master/NumPy/NumPy.md)\n",
    "* [NumPy API reference](https://docs.scipy.org/doc/numpy-1.13.0/reference/)\n",
    "* [NumPy user guide](https://docs.scipy.org/doc/numpy-1.13.0/user/basics.html)\n",
    "\n",
    "\n"
   ]
  },
  {
   "cell_type": "markdown",
   "metadata": {},
   "source": [
    "## Purpose of this lab\n",
    "This lab should help you:\n",
    "* understand how data can be represented as points in vector space\n",
    "* understand the effect of different vector norms\n",
    "* apply the inner product to compute the angle between vectors\n",
    "* apply linear transforms to vectors"
   ]
  },
  {
   "cell_type": "code",
   "execution_count": null,
   "metadata": {
    "deletable": false,
    "editable": false,
    "nbgrader": {
     "checksum": "378c3de3d1aacb2186ca219f53a3204b",
     "grade": false,
     "grade_id": "cell-b851b80cf6abefa6",
     "locked": true,
     "schema_version": 1,
     "solution": false
    }
   },
   "outputs": [],
   "source": [
    "# Standard imports\n",
    "# Make sure you run this cell!\n",
    "# NumPy\n",
    "import numpy as np  \n",
    "import binascii\n",
    "\n",
    "# Set up Matplotlib\n",
    "import matplotlib as mpl   \n",
    "import matplotlib.pyplot as plt\n",
    "%matplotlib inline\n",
    "plt.rc('figure', figsize=(8.0, 4.0), dpi=140)\n",
    "\n",
    "# custom utils\n",
    "from jhwutils.checkarr import array_hash, check_hash\n",
    "import jhwutils.image_audio as ia\n",
    "import jhwutils.tick as tick\n",
    "\n",
    "def case_crc(s):\n",
    "    return binascii.crc32(bytes(s.lower(), 'ascii'))\n",
    "\n",
    "print(\"Everything imported OK\")"
   ]
  },
  {
   "cell_type": "code",
   "execution_count": null,
   "metadata": {},
   "outputs": [],
   "source": [
    "import matplotlib as mpl   \n",
    "import matplotlib.pyplot as plt\n",
    "%matplotlib inline\n",
    "plt.rc('figure', figsize=(8.0, 4.0), dpi=140)\n"
   ]
  },
  {
   "cell_type": "markdown",
   "metadata": {
    "deletable": false,
    "editable": false,
    "nbgrader": {
     "checksum": "196b09a303108518c3c98a536f33ddd6",
     "grade": false,
     "grade_id": "cell-f47e1d487fa8b61b",
     "locked": true,
     "schema_version": 1,
     "solution": false
    }
   },
   "source": [
    "## Guidance\n",
    "You will need to understand the following functions well to complete this lab:\n",
    "You will need to understand the following functions well to complete this lab:\n",
    "* [`np.argmin()`](https://docs.scipy.org/doc/numpy-1.13.0/reference/generated/numpy.argmin.html) [Unit 1]\n",
    "* [`np.argsort()`](https://docs.scipy.org/doc/numpy-1.13.0/reference/generated/numpy.argsort.html) [Unit 1]\n",
    "* [`np.linalg.norm()`](https://docs.scipy.org/doc/numpy-1.13.0/reference/generated/numpy.linalg.norm.html) [Unit 4]\n",
    "* [`np.linalg.svd()`](https://docs.scipy.org/doc/numpy-1.13.0/reference/generated/numpy.linalg.svd.html) [Unit 5]\n",
    "* [`np.linalg.eig()`](https://docs.scipy.org/doc/numpy-1.13.0/reference/generated/numpy.linalg.eig.html) [Unit 5]\n",
    "* [`np.cov()`](https://docs.scipy.org/doc/numpy-1.13.0/reference/generated/numpy.cov.html) [Unit 4]"
   ]
  },
  {
   "cell_type": "markdown",
   "metadata": {
    "deletable": false,
    "editable": false,
    "nbgrader": {
     "checksum": "5ad9741b89bd8df78d930aaa421d8325",
     "grade": false,
     "grade_id": "cell-e1bb0c4cf149f419",
     "locked": true,
     "schema_version": 1,
     "solution": false
    }
   },
   "source": [
    "## Whisky: Representing and comparing vectors"
   ]
  },
  {
   "cell_type": "markdown",
   "metadata": {
    "deletable": false,
    "editable": false,
    "nbgrader": {
     "checksum": "93517c077e55d2db5c59e42ff9fe6ae5",
     "grade": false,
     "grade_id": "cell-752931163fce4417",
     "locked": true,
     "schema_version": 1,
     "solution": false
    }
   },
   "source": [
    "Whisky distillation is a major industry in Scotland. \n",
    "\n",
    "<img src=\"imgs/stills.jpg\"> <br><br>*[[Image](https://flickr.com/photos/sashafatcat/518104633 \"stills\") by [sashafatcat](https://flickr.com/people/sashafatcat) shared [CC BY](https://creativecommons.org/licenses/by/2.0/)]*\n",
    "\n",
    "The dataset in `data/whisky.csv` is data from a number of whisky distilleries. For each distillery, there are a set of subjective judgements about the flavour characteristics of their production. The data comes from [this Strathclyde University research project](https://www.mathstat.strath.ac.uk/outreach/nessie/nessie_whisky.html).\n",
    "\n",
    "Each distillery has been judged on twelve flavour indicators (like \"smokiness\" or \"sweetness\"), and they have been assigned values from 0-3 indicating the strength of that category, judged by an expert whisky drinker. These can be seen as 12D vectors, one vector per distillery. **Every distillery is represented as a point in twelve dimensional vector space.**\n",
    "\n",
    "We also have a 2D array of the geographical locations of each distillery. The code below loads the data.\n",
    "\n",
    "## Loading the data"
   ]
  },
  {
   "cell_type": "code",
   "execution_count": null,
   "metadata": {
    "deletable": false,
    "editable": false,
    "nbgrader": {
     "checksum": "1f50436283b5701f1a1560849047fa6e",
     "grade": false,
     "grade_id": "cell-82f12755a1eac3be",
     "locked": true,
     "schema_version": 1,
     "solution": false
    }
   },
   "outputs": [],
   "source": [
    "## It is not necessary to understand this code to complete\n",
    "# the exercise. We don't cover pandas in DF(H)\n",
    "import pandas as pd\n",
    "whisky_df = pd.read_csv(\"data/whiskies.txt\")\n",
    "whisky_df = whisky_df.sort_values(by='Distillery')\n",
    "# extract the column and row names\n",
    "distilleries= np.array(whisky_df[\"Distillery\"])\n",
    "\n",
    "columns = {name.lower():index for index,name in enumerate(whisky_df.columns[2:-3])}\n",
    "\n",
    "# split apart the data frame and form numpy arrays\n",
    "locations = np.array(whisky_df.iloc[:,-2:])\n",
    "whisky = np.array(whisky_df.iloc[:,2:-3])\n",
    "\n",
    "# fix wine column\n",
    "columns['wine'] = columns['winey']\n",
    "del columns['winey']\n",
    "# force tie breaks \n",
    "np.random.seed(2018)\n",
    "whisky = whisky + np.random.normal(0,0.1,whisky.shape)"
   ]
  },
  {
   "cell_type": "markdown",
   "metadata": {},
   "source": [
    "## Viewing the data"
   ]
  },
  {
   "cell_type": "markdown",
   "metadata": {
    "deletable": false,
    "editable": false,
    "nbgrader": {
     "checksum": "60f7924646426f11a7188cc5379d9997",
     "grade": false,
     "grade_id": "cell-f567bc6d64c91261",
     "locked": true,
     "schema_version": 1,
     "solution": false
    }
   },
   "source": [
    "We can see this whole dataset as a heatmap:"
   ]
  },
  {
   "cell_type": "code",
   "execution_count": null,
   "metadata": {},
   "outputs": [],
   "source": [
    "# show a plot of the whisky data\n",
    "fig = plt.figure(figsize=(6,15))\n",
    "ax = fig.add_subplot(1,1,1)\n",
    "\n",
    "# image plot\n",
    "img = ax.imshow(whisky)\n",
    "ax.set_yticks(np.arange(len(distilleries)))\n",
    "ax.set_yticklabels(distilleries, rotation=\"horizontal\", fontsize=6)\n",
    "\n",
    "# put the x axis at the top\n",
    "ax.xaxis.tick_top()\n",
    "ax.set_xticks(np.arange(len(columns)))\n",
    "ax.set_xticklabels(columns, rotation=\"vertical\", fontsize=6)\n",
    "\n",
    "# some horrific colorbar hackery to put in the right place\n",
    "# don't worry about this bit!\n",
    "cbaxes = fig.add_axes([0.37, 0.93, 0.28, 0.01])  \n",
    "fig.colorbar(img, orientation='horizontal',  cax=cbaxes, ticks=np.arange(5))\n",
    "cbaxes.xaxis.tick_top()"
   ]
  },
  {
   "cell_type": "markdown",
   "metadata": {
    "deletable": false,
    "editable": false,
    "nbgrader": {
     "checksum": "2e7f2e5bd137efd25bfc694b59d6ab5f",
     "grade": false,
     "grade_id": "cell-0047215db37d3bd5",
     "locked": true,
     "schema_version": 1,
     "solution": false
    }
   },
   "source": [
    "### Available data\n",
    "You now have these variables:\n",
    "\n",
    "* `whisky` an  86x12 array of taste judgements, one row for each of the 86 distilleries. Each whisky has a rating 0-3 for each of the 12 flavour categories.\n",
    "* `distilleries` is a list of 86 distillery names\n",
    "* `columns` is a mapping of feature names to column indices.\n",
    "* `locations` is an 86x2 matrix of positions of each distillery in [OS grid reference format](https://www.gridreferencefinder.com/) in the same order as `whisky`\n",
    "\n",
    "For example:"
   ]
  },
  {
   "cell_type": "code",
   "execution_count": null,
   "metadata": {},
   "outputs": [],
   "source": [
    "print(whisky[distilleries.searchsorted('Glenfiddich'), columns['smoky']])"
   ]
  },
  {
   "cell_type": "markdown",
   "metadata": {},
   "source": [
    "will tell you how \"smoky\" Glenfiddich was rated."
   ]
  },
  {
   "cell_type": "code",
   "execution_count": null,
   "metadata": {},
   "outputs": [],
   "source": [
    "print(distilleries[8])"
   ]
  },
  {
   "cell_type": "markdown",
   "metadata": {},
   "source": [
    "will tell you the 9th distillery in the dataset is `Aultmore`."
   ]
  },
  {
   "cell_type": "code",
   "execution_count": null,
   "metadata": {},
   "outputs": [],
   "source": [
    "print(locations[distilleries.searchsorted('Glengoyne')])"
   ]
  },
  {
   "cell_type": "markdown",
   "metadata": {},
   "source": [
    "will tell you where to find the Glengoyne distillery in UK OS grid units (you can almost see it out of the BO720 window if you look northwest). "
   ]
  },
  {
   "cell_type": "markdown",
   "metadata": {},
   "source": [
    "## A: Norms, interpolation and statistics\n",
    "We will see some simple things we can do with this dataset. \n"
   ]
  },
  {
   "cell_type": "markdown",
   "metadata": {},
   "source": [
    "We can compute distances in **flavour space** between distilleries.\n",
    "\n",
    "For example, we can compute the distance between the `Glenlivet` distillery and every other distillery *in terms of flavour, not physical distance*. The result will be a 1D vector of 86 distances. \n",
    "\n",
    "Remember: distance of $\\vec{x}$ and $\\vec{y}$ is the norm of their difference: $\\|\\vec{x}-\\vec{y}\\|$\n",
    "\n",
    "We can compute this for several different norms (e.g. $L_1, L_2$, and $L_\\infty$)\n",
    "\n",
    "We need to compute the norm by telling `np.linalg.norm` to compute the lengths of vectors over columns (`axis=1`), as we have an $N\\times D$ matrix: $N$ rows of observations (distilleries), each with $D$ measurements (flavour ratings)."
   ]
  },
  {
   "cell_type": "code",
   "execution_count": null,
   "metadata": {},
   "outputs": [],
   "source": [
    "# Get the flavout vector for Glenlivet\n",
    "glenlivet = whisky[distilleries.searchsorted('Glenlivet')]\n",
    "print(glenlivet)"
   ]
  },
  {
   "cell_type": "code",
   "execution_count": null,
   "metadata": {},
   "outputs": [],
   "source": [
    "## Compute distances\n",
    "# must use axis=1 to get the right result\n",
    "# otherwise a matrix norm will be used!\n",
    "glenlivet_2 = np.linalg.norm(whisky - glenlivet, 2, axis=1)\n",
    "glenlivet_1 = np.linalg.norm(whisky - glenlivet, 1, axis=1)\n",
    "glenlivet_inf = np.linalg.norm(whisky - glenlivet, np.inf, axis=1)"
   ]
  },
  {
   "cell_type": "markdown",
   "metadata": {},
   "source": [
    "### Visualising these distances\n",
    "We can visualise these distances. This lets us see which distilleries produce whisky most similar to Glenlivet and which of them are most dissimilar. Note that we can use `argsort` to order a list of distances. Below, we plot a faceted graph, one facet for each norm, showing each distillery's flavour distance to `Glenlivet` as a rank bar plot (see Unit 3). The labels are a bit small, but the graphs are a useful summary of the distances in this abstract 12 dimensional space."
   ]
  },
  {
   "cell_type": "code",
   "execution_count": null,
   "metadata": {},
   "outputs": [],
   "source": [
    "fig = plt.figure(figsize=(8,12))\n",
    "\n",
    "# you can use this utility function to\n",
    "# help you get the xticklabels in order\n",
    "def list_in_order(alist, order):\n",
    "    \"\"\"Given a list 'alist' and a list of indices 'order'\n",
    "    returns the list in the order given by the indices\"\"\"\n",
    "    return [alist[i] for i in order]\n",
    "    \n",
    "\n",
    "ax = fig.add_subplot(3,1,1)\n",
    "\n",
    "def rank_plot(distances):\n",
    "    # find the ordering of the distances\n",
    "    order = np.argsort(distances)\n",
    "    # bar plot them\n",
    "    ax.bar(np.arange(len(distances)), distances[order])           \n",
    "    ax.set_xlabel(\"Distillery\")\n",
    "    ax.set_ylabel(\"Distance to Glenlivet (in flavour space)\")\n",
    "    ax.set_xticks(np.arange(86))    \n",
    "    ax.set_frame_on(False)\n",
    "    # make sure the same order is used for the labels!\n",
    "    ax.set_xticklabels(list_in_order(distilleries, order),\n",
    "                       rotation=\"vertical\", fontsize=4)\n",
    "\n",
    "# make the plots\n",
    "ax = fig.add_subplot(3,1,1)\n",
    "ax.set_title(\"$L_2$ norm\")\n",
    "rank_plot(glenlivet_2)\n",
    "ax = fig.add_subplot(3,1,2)\n",
    "ax.set_title(\"$L_1$ norm\")\n",
    "rank_plot(glenlivet_1)\n",
    "ax = fig.add_subplot(3,1,3)\n",
    "ax.set_title(\"$L_\\infty$ norm\")\n",
    "rank_plot(glenlivet_inf)\n",
    "\n",
    "# removes ugly overlapping\n",
    "plt.tight_layout()\n"
   ]
  },
  {
   "cell_type": "markdown",
   "metadata": {},
   "source": [
    "## Tasks"
   ]
  },
  {
   "cell_type": "markdown",
   "metadata": {},
   "source": [
    "**Task A.1** \n",
    "\n",
    "Compute the $L_2$ norm of each distillery's flavour vector from the flavour vector corresponding to the distillery `Auchentoshan`, and store it in `auchentoshan_2`"
   ]
  },
  {
   "cell_type": "code",
   "execution_count": null,
   "metadata": {
    "deletable": false,
    "nbgrader": {
     "checksum": "1ddb29fc1f1cfae27d2f10357f90bb8f",
     "grade": false,
     "grade_id": "cell-1acc60e9ed7c8c42",
     "locked": false,
     "schema_version": 1,
     "solution": true
    }
   },
   "outputs": [],
   "source": [
    "# YOUR CODE HERE"
   ]
  },
  {
   "cell_type": "code",
   "execution_count": null,
   "metadata": {
    "deletable": false,
    "editable": false,
    "nbgrader": {
     "checksum": "7a58bcc5e1d580aa7145741d1d1b4d91",
     "grade": true,
     "grade_id": "cell-d202f70c3dedec37",
     "locked": true,
     "points": 4,
     "schema_version": 1,
     "solution": false
    }
   },
   "outputs": [],
   "source": [
    "with tick.marks(4):        \n",
    "    assert(check_hash(auchentoshan_2, ((86,), 16258.378367770209)))\n",
    "    "
   ]
  },
  {
   "cell_type": "markdown",
   "metadata": {},
   "source": [
    "**Task A.2** \n",
    "Which distillery is furthest from Auchentoshan's flavour profile in the $L_2$ norm? Store the distillery name in the variable in `unlike_auchentoshan`. Note: compute this -- do not look hardcode it.\n"
   ]
  },
  {
   "cell_type": "code",
   "execution_count": null,
   "metadata": {
    "deletable": false,
    "nbgrader": {
     "checksum": "45d881ab359c8de4405a4ae73a9a16d9",
     "grade": false,
     "grade_id": "cell-307265343109c4f2",
     "locked": false,
     "schema_version": 1,
     "solution": true
    }
   },
   "outputs": [],
   "source": [
    "# YOUR CODE HERE"
   ]
  },
  {
   "cell_type": "code",
   "execution_count": null,
   "metadata": {
    "deletable": false,
    "editable": false,
    "nbgrader": {
     "checksum": "de1d79b3c507d7aa5c94dc81ba68d86d",
     "grade": true,
     "grade_id": "cell-a0ae85732a13f420",
     "locked": true,
     "points": 4,
     "schema_version": 1,
     "solution": false
    }
   },
   "outputs": [],
   "source": [
    "with tick.marks(4):        \n",
    "    assert(case_crc(unlike_auchentoshan)==2291391646)\n",
    "    print(\"The distillery most unlike Auchentoshan (L2 norm speaking) is {distillery}.\".\n",
    "          format(distillery=unlike_auchentoshan))\n"
   ]
  },
  {
   "cell_type": "markdown",
   "metadata": {
    "deletable": false,
    "editable": false,
    "nbgrader": {
     "checksum": "95171daaa5784a624eea7fd2d2db689a",
     "grade": false,
     "grade_id": "cell-bb107ebb050bd270",
     "locked": true,
     "schema_version": 1,
     "solution": false
    }
   },
   "source": [
    "**Note** from now on, use the L2 norm if you need to compute any norms.\n",
    "\n",
    "\n",
    "### Vector arithmetic\n",
    "A client says to you:\n",
    "    \n",
    ">    I'd like something a bit like Balvenie. But a bit more \"lively\", the way Cragganmore is more \"lively\" than Springbank.\n",
    "\n",
    "Which whisky should you recommend? \n",
    "**Task A.3**\n",
    "\n",
    "\n",
    "We can work this out:\n",
    "* What does more \"lively\" mean? We don't have a \"lively\" column.\n",
    "    * But we do have a reference point: Springbank->Cragganmore is somehow \"lively\"\n",
    "    * This \"direction\" between these flavour vectors is *also* a vector\n",
    "* How do we combine Balvenie's flavour profile with \"lively\"? We can compose vectors by addition.\n",
    "* How do we find a distillery that represents this profile? We can compute lengths of vectors using a norm.\n",
    "\n",
    "Compute:\n",
    "* `lively` A vector representing what \"lively\" is\n",
    "* `hypothetical_flavour` A vector representing a hypothetical flavour that would be a more lively Balvenie\n",
    "* `recommendation` the name of a specific distillery that we might recommend, as a string.\n",
    "\n",
    "**Note: this question is not subjective, nor does it require any trial-and-error or knowledge about whisky. Answer it directly using vector arithmetic.**\n",
    "\n"
   ]
  },
  {
   "cell_type": "code",
   "execution_count": null,
   "metadata": {
    "deletable": false,
    "nbgrader": {
     "checksum": "8d3290029e862c33d2c07ca6be1f6ec8",
     "grade": false,
     "grade_id": "cell-ec141fe141891e1e",
     "locked": false,
     "schema_version": 1,
     "solution": true
    }
   },
   "outputs": [],
   "source": [
    "# YOUR CODE HERE"
   ]
  },
  {
   "cell_type": "code",
   "execution_count": null,
   "metadata": {
    "deletable": false,
    "editable": false,
    "nbgrader": {
     "checksum": "031e0ef321b2b99439d91a466ca618db",
     "grade": true,
     "grade_id": "cell-25e7b70be3c60dc4",
     "locked": true,
     "points": 2,
     "schema_version": 1,
     "solution": false
    }
   },
   "outputs": [],
   "source": [
    "with tick.marks(2):\n",
    "    assert(check_hash(lively, ((12,), 17.40202214153395)))\n",
    "    "
   ]
  },
  {
   "cell_type": "code",
   "execution_count": null,
   "metadata": {
    "deletable": false,
    "editable": false,
    "nbgrader": {
     "checksum": "7b0446df47d7b835f8b18230f949bdec",
     "grade": true,
     "grade_id": "cell-ba243540c5e942e7",
     "locked": true,
     "points": 2,
     "schema_version": 1,
     "solution": false
    }
   },
   "outputs": [],
   "source": [
    "with tick.marks(2):\n",
    "    assert(check_hash(hypothetical_flavour,((12,), 136.04856251122936)))"
   ]
  },
  {
   "cell_type": "code",
   "execution_count": null,
   "metadata": {
    "deletable": false,
    "editable": false,
    "nbgrader": {
     "checksum": "1691cbfb96a454e8d03e62d1e6723b4f",
     "grade": true,
     "grade_id": "cell-78eb86cda8526382",
     "locked": true,
     "points": 1,
     "schema_version": 1,
     "solution": false
    }
   },
   "outputs": [],
   "source": [
    "print(\"I would recommend {distillery} as more 'lively' version of Balevenie.\".format(distillery=\n",
    "                                                                   recommendation))\n",
    "\n",
    "with tick.marks(1):\n",
    "    assert(case_crc(recommendation)==2634813176)\n",
    "\n"
   ]
  },
  {
   "cell_type": "markdown",
   "metadata": {},
   "source": [
    "**Task A.4** Find the distillery that best represents (L2 norm) a flavour profile halfway between `Lagavulin` and `Bowmore`. Store the name in a variable `halfway_whisky`."
   ]
  },
  {
   "cell_type": "code",
   "execution_count": null,
   "metadata": {
    "deletable": false,
    "nbgrader": {
     "checksum": "1d60c8e520d13ed297022c165ecc1421",
     "grade": false,
     "grade_id": "cell-94848d23478c59fa",
     "locked": false,
     "schema_version": 1,
     "solution": true
    }
   },
   "outputs": [],
   "source": [
    "# YOUR CODE HERE"
   ]
  },
  {
   "cell_type": "code",
   "execution_count": null,
   "metadata": {
    "deletable": false,
    "editable": false,
    "nbgrader": {
     "checksum": "27a1cdf96e2d289bca7effb5afa0066f",
     "grade": true,
     "grade_id": "cell-c674606591b6562a",
     "locked": true,
     "points": 4,
     "schema_version": 1,
     "solution": false
    }
   },
   "outputs": [],
   "source": [
    "with tick.marks(4):\n",
    "    assert(case_crc(halfway_whisky)==2804822615)\n",
    "print(\"The whisky that best represents a 50:50 mix of Lagavulin and Bowmore is {distillery}\".format(distillery=halfway_whisky))"
   ]
  },
  {
   "cell_type": "markdown",
   "metadata": {},
   "source": [
    "## Region flavours\n",
    "\n",
    "We could say that the \"representative\" element of a collection of vectors was the one closest to the geometric centroid. This is given by the **mean vector** of a data set.\n",
    "\n",
    "**Task A.5** Compute the mean vector of all of the flavour vectors. Use it to find the names of two distilleries:\n",
    "* `most_representative` The distillery with the **most** representative flavour profile\n",
    "* `least_representative` The distillery with the **least** representative flavour profile"
   ]
  },
  {
   "cell_type": "code",
   "execution_count": null,
   "metadata": {
    "deletable": false,
    "nbgrader": {
     "checksum": "1d92cac3ba4ac38fd853b2c6dad3a494",
     "grade": false,
     "grade_id": "cell-3242a48a43975acc",
     "locked": false,
     "schema_version": 1,
     "solution": true
    }
   },
   "outputs": [],
   "source": [
    "# YOUR CODE HERE"
   ]
  },
  {
   "cell_type": "code",
   "execution_count": null,
   "metadata": {
    "deletable": false,
    "editable": false,
    "nbgrader": {
     "checksum": "cc974abef7031a0d487a8fd1662bede3",
     "grade": true,
     "grade_id": "cell-4b32d3ff9b60718d",
     "locked": true,
     "points": 4,
     "schema_version": 1,
     "solution": false
    }
   },
   "outputs": [],
   "source": [
    "with tick.marks(4):\n",
    "    assert(case_crc(most_representative)==125187962)\n",
    "    assert(case_crc(least_representative)==2291391646)\n",
    "    \n",
    "print(\"The most representative whisky distillery is {most}, and the most unusual is {least}\".format(most=most_representative,\n",
    "                                                                                           least=least_representative))"
   ]
  },
  {
   "cell_type": "markdown",
   "metadata": {},
   "source": []
  },
  {
   "cell_type": "markdown",
   "metadata": {},
   "source": [
    "\n",
    "### A map\n",
    "The code below will show a map of Scotland, with the distilleries in their correct positions. Different geographic regions have different characteristic flavour profiles.\n",
    "\n",
    "One very distinctive region is **Speyside**. This is a region bounded roughly by the box\n",
    "\n",
    "    263000,860000 -> 343000,785000\n",
    "    \n",
    "in the same OS grid units used in the `locations` array. This is highlighted on the map below.\n"
   ]
  },
  {
   "cell_type": "code",
   "execution_count": null,
   "metadata": {},
   "outputs": [],
   "source": [
    "from whisky_map import draw_map, map_box\n",
    "\n",
    "# draw each distillery label at the locations given.\n",
    "ax = draw_map(locations, distilleries)\n",
    "\n",
    "# show the Speyside region\n",
    "# draw a box in OS grid units\n",
    "map_box(ax, 263000, 785000, 343000,860000 )"
   ]
  },
  {
   "cell_type": "markdown",
   "metadata": {},
   "source": [
    "**Task A.6**\n",
    "* Find all distilleries in Speyside and use this to answer these questions:\n",
    "* `speyside_flavour`: Compute the most typical whisky flavour profile for Speyside. (i.e. a 12 element vector).\n",
    "* `most_typical_speyside`: The specific name of the distillery from Speyside that is most typical of that region;\n",
    "* `least_typical_speyside`: The specific name of the distillery from Speyside that is least typical of that region;\n",
    "* `most_like_speyside`: The specific name of the distillery from **outside** Speyside that is most similar to a typical Speyside distillery.\n",
    "\n",
    "\n",
    "**Note:** do not do any of this by hand. Write code.\n",
    "Hint: Boolean arrays."
   ]
  },
  {
   "cell_type": "code",
   "execution_count": null,
   "metadata": {
    "deletable": false,
    "nbgrader": {
     "checksum": "e5f6022dcc8f7aa63445fd2eefe508ee",
     "grade": false,
     "grade_id": "cell-da4e4c13160bcd2c",
     "locked": false,
     "schema_version": 1,
     "solution": true
    }
   },
   "outputs": [],
   "source": [
    "# YOUR CODE HERE"
   ]
  },
  {
   "cell_type": "code",
   "execution_count": null,
   "metadata": {
    "deletable": false,
    "editable": false,
    "nbgrader": {
     "checksum": "1e42e058cf1774cc9bc6ce9cc6796b4c",
     "grade": true,
     "grade_id": "cell-e68f0048ec3c2544",
     "locked": true,
     "points": 2,
     "schema_version": 1,
     "solution": false
    }
   },
   "outputs": [],
   "source": [
    "with tick.marks(2):\n",
    "    assert(check_hash(speyside_flavour, ((12,), 121.21683682933062)))"
   ]
  },
  {
   "cell_type": "code",
   "execution_count": null,
   "metadata": {},
   "outputs": [],
   "source": [
    "print(\"The most typical whisky of Speyside is {most}.\".format(most=most_typical_speyside))\n",
    "print(\"The least typical Speyside whisky of the style is {least}.\".format(least=least_typical_speyside))\n",
    "print(\"The non-Speyside whisky most like a Speyside whisky is {nonspeyside}.\".\n",
    "      format(nonspeyside=most_like_speyside))        "
   ]
  },
  {
   "cell_type": "code",
   "execution_count": null,
   "metadata": {
    "deletable": false,
    "editable": false,
    "nbgrader": {
     "checksum": "6d8f7cda71fb47bb0532134a417d4c9e",
     "grade": true,
     "grade_id": "cell-3d6bf063f0e5a993",
     "locked": true,
     "points": 2,
     "schema_version": 1,
     "solution": false
    }
   },
   "outputs": [],
   "source": [
    "with tick.marks(2):\n",
    "    assert(case_crc(most_typical_speyside)==125187962)"
   ]
  },
  {
   "cell_type": "code",
   "execution_count": null,
   "metadata": {
    "deletable": false,
    "editable": false,
    "nbgrader": {
     "checksum": "0f8fa8ae8b56713032f8b7df68551a89",
     "grade": true,
     "grade_id": "cell-3d6bf063f0e5a993e",
     "locked": true,
     "points": 2,
     "schema_version": 1,
     "solution": false
    }
   },
   "outputs": [],
   "source": [
    "with tick.marks(2):    \n",
    "    assert(case_crc(least_typical_speyside)==3190173608)"
   ]
  },
  {
   "cell_type": "code",
   "execution_count": null,
   "metadata": {
    "deletable": false,
    "editable": false,
    "nbgrader": {
     "checksum": "9ec2dacc29e66530a00c88fe4bf8d003",
     "grade": true,
     "grade_id": "cell-3d6bf063f0e5a993f",
     "locked": true,
     "points": 3,
     "schema_version": 1,
     "solution": false
    }
   },
   "outputs": [],
   "source": [
    "with tick.marks(3):    \n",
    "    assert(case_crc(most_like_speyside)==3551803812)"
   ]
  },
  {
   "cell_type": "markdown",
   "metadata": {},
   "source": [
    "# B: Eigendecompositions and whitening"
   ]
  },
  {
   "cell_type": "markdown",
   "metadata": {},
   "source": [
    "## Focusing data\n",
    "<img src=\"imgs/drop.jpg\" width=\"40%\"> <br><br>*[[Image](https://flickr.com/photos/predi/236902022 \"just a droplet, but upside down\") by [Predi](https://flickr.com/people/predi) shared [CC BY-ND](https://creativecommons.org/licenses/by-nd/2.0/)]*\n",
    "\n",
    "This part will use  matrix decompositions to form abstract \"lenses\" that let us see data from different perspectives. This will let us pull out hidden structure and translate among representations."
   ]
  },
  {
   "cell_type": "markdown",
   "metadata": {},
   "source": [
    "## Demeaning\n",
    "The dataset that we have is unnormalised. It is a set of ratings, 0-4, and many of the attributes rated are very correlated (e.g. `smoky` and `medicinal`). Many of the ratings are also on quite different scales, with `tobacco` being much less likely to be rated 4 that `floral`.\n",
    "\n",
    "It is easier to work with normalised data. \n",
    "\n",
    "**Task B.1**\n",
    "Compute:\n",
    "* `mean_vector` the average flavour profile (you should have this from part A already)\n",
    "* `demeaned_whisky` that has the mean flavour vector removed. \n",
    "\n"
   ]
  },
  {
   "cell_type": "code",
   "execution_count": null,
   "metadata": {
    "deletable": false,
    "nbgrader": {
     "checksum": "3d59a84de47f6c34356967ba86e8da0e",
     "grade": false,
     "grade_id": "cell-2c070dfbb4f2d130",
     "locked": false,
     "schema_version": 1,
     "solution": true
    }
   },
   "outputs": [],
   "source": [
    "# YOUR CODE HERE"
   ]
  },
  {
   "cell_type": "code",
   "execution_count": null,
   "metadata": {
    "deletable": false,
    "editable": false,
    "nbgrader": {
     "checksum": "bdf86d3113b052f69ce37d298c93603d",
     "grade": true,
     "grade_id": "cell-4e083075b593aab1",
     "locked": true,
     "points": 2,
     "schema_version": 1,
     "solution": false
    }
   },
   "outputs": [],
   "source": [
    "## Show the mean vector as an image strip\n",
    "## Remember: this represents a point in space\n",
    "fig = plt.figure()\n",
    "ax = fig.add_subplot(1,1,1)\n",
    "img = ax.imshow(mean_vector[None,:], cmap='viridis', vmin=0, vmax=3)\n",
    "ax.set_xticklabels(columns)\n",
    "ax.set_xticks(np.arange(len(columns)))\n",
    "ax.set_yticks([])\n",
    "ax.set_title(\"Mean vector of flavour profile\")\n",
    "fig.colorbar(img, orientation='horizontal')\n",
    "\n",
    "with tick.marks(2):\n",
    "    assert(check_hash(demeaned_whisky, ((86, 12), -13044.960552493923)))"
   ]
  },
  {
   "cell_type": "markdown",
   "metadata": {},
   "source": [
    "* **Task B.2**\n",
    "Compute the **covariance matrix** of the *demeaned* data. Call this **whisky_cov**. The code below will show you this matrix as an image. **Note**: this should be a 12x12 matrix!\n",
    "\n",
    "This tells us how different columns of the dataset are correlated (co-vary) with each other.\n",
    "\n",
    "We can see several interesting things:\n",
    "* having `body` is negatively correlated with the `wine` flavour\n",
    "* being `smoky` is negatively correlated with having `sweetness`\n",
    "* `nutty` is positively correlated with `body`\n",
    "\n",
    "Although the raters have provided 12 different categories, it seems these are not fully independent of each other.\n"
   ]
  },
  {
   "cell_type": "code",
   "execution_count": null,
   "metadata": {
    "deletable": false,
    "nbgrader": {
     "checksum": "8dd748b63be3cd28f4bc9079cdc39f1f",
     "grade": false,
     "grade_id": "cell-644f04478c589c86",
     "locked": false,
     "schema_version": 1,
     "solution": true
    }
   },
   "outputs": [],
   "source": [
    "# YOUR CODE HERE"
   ]
  },
  {
   "cell_type": "code",
   "execution_count": null,
   "metadata": {
    "deletable": false,
    "editable": false,
    "nbgrader": {
     "checksum": "2bcee3fd71e1364d64a372e7f5529141",
     "grade": true,
     "grade_id": "cell-5be7cc63bab4969a",
     "locked": true,
     "points": 2,
     "schema_version": 1,
     "solution": false
    }
   },
   "outputs": [],
   "source": [
    "\n",
    "fig = plt.figure()\n",
    "ax = fig.add_subplot(1,1,1)\n",
    "img = ax.imshow(whisky_cov, cmap='seismic', vmin=-1.5, vmax=1.5)\n",
    "ax.set_xticks(np.arange(12))\n",
    "ax.set_yticks(np.arange(12))\n",
    "ax.set_yticklabels(columns)\n",
    "ax.set_xticklabels(columns, rotation='vertical')\n",
    "ax.set_title(\"Covariance matrix\")\n",
    "fig.colorbar(img)\n",
    "\n",
    "\n",
    "with tick.marks(2):\n",
    "    assert(check_hash(whisky_cov, ((12, 12), 611.8479842916136)))\n",
    "    "
   ]
  },
  {
   "cell_type": "markdown",
   "metadata": {},
   "source": [
    "## Eigendecomposition of the covariance matrix\n",
    "\n",
    "From this covariance matrix, we can start to see the \"most important\" directions in which the whisky dataset tends to vary. This will be some combination of the various flavour categories. We can analyse this by looking at the covariance matrix in more detail. Recall that the covariance matrix represents an ellipse that \"covers\" the dataset. The primary axes of this ellipsoidal shape can be found directly from the **eigenvectors** of the covariance matrix. This describes the directions in which the dataset varies. It will let us see truly independent directions of variation.\n",
    "\n",
    "These are the **principal components** of the dataset. We can compute these  from the covariance matrix by taking the eigendecomposition. Each eigenvector of the covariance matrix is a **principal component** and its importance is given by the inverse square root of the absolute value of its corresponding eigenvalue.\n",
    "\n",
    "**Task B.3**\n",
    "* Compute all 12 of the eigenvectors of the covariance matrix, in order, *smallest* corresponding (absolute) eigenvalue first. Store this in `whisky_pc`. \n",
    "* Store the corresponding principal component importance in `whisky_pc_len`. The importance (or length) of a principal component can be computed from the corresponding eigenvalue $\\lambda$ as $\\frac{1}{\\sqrt{\\lambda}}$.\n",
    "\n"
   ]
  },
  {
   "cell_type": "code",
   "execution_count": null,
   "metadata": {
    "deletable": false,
    "nbgrader": {
     "checksum": "242d2bdecd100c538721f6ef34be0ca5",
     "grade": false,
     "grade_id": "cell-c4b2a9f544ea407b",
     "locked": false,
     "schema_version": 1,
     "solution": true
    }
   },
   "outputs": [],
   "source": [
    "# YOUR CODE HERE"
   ]
  },
  {
   "cell_type": "code",
   "execution_count": null,
   "metadata": {},
   "outputs": [],
   "source": [
    "## We can show the principal components as an image\n",
    "## Each row is a princpal component, and shows a vector\n",
    "## which represents the direction of variation. The first\n",
    "## vector represents the largest component, the second\n",
    "fig = plt.figure()\n",
    "ax = fig.add_subplot(1,1,1)\n",
    "# space out the principal components, and scale them by the\n",
    "# length of the components\n",
    "img = ax.imshow(np.concatenate([(whisky_pc.T*whisky_pc_len).T, \n",
    "                                np.zeros_like(whisky_pc)], axis=1).reshape(24,-1), \n",
    "                cmap='seismic',         \n",
    "                vmin=-4, vmax=4)\n",
    "\n",
    "ax.set_xticks(np.arange(12))\n",
    "ax.set_yticks(np.arange(0,24,2))\n",
    "ax.set_yticklabels([\"PC{i}\".format(i=i) for i in np.arange(12)])\n",
    "ax.set_xticklabels(columns, rotation='vertical')\n",
    "ax.set_title(\"Principal components\")\n",
    "ax.set_frame_on(False)\n",
    "fig.colorbar(img)\n",
    "\n",
    "## Show the principal component lengths of this dataset\n",
    "## This shows how much of the variation in the dataset\n",
    "## is \"explained\" by the variation along the corresponding direction.\n",
    "## In this case, we should see that the first component is quite\n",
    "## large, and looking at the principal components plot above, this\n",
    "## appears to indicate that there is a spectrum of whiskies\n",
    "## from \"body\" types to \"malty\" types (PC1)\n",
    "## and from \"smoky\" types to floral/fruity types (PC2)\n",
    "fig = plt.figure()\n",
    "ax = fig.add_subplot(1,1,1)\n",
    "ax.bar(np.arange(len(whisky_pc_len)), whisky_pc_len)\n",
    "ax.set_xticks(np.arange(12))\n",
    "ax.set_xticklabels([\"PC{i}\".format(i=i) for i in np.arange(12)])\n",
    "ax.set_frame_on(False)\n",
    "ax.set_title(\"Component importances\")\n"
   ]
  },
  {
   "cell_type": "code",
   "execution_count": null,
   "metadata": {
    "deletable": false,
    "editable": false,
    "nbgrader": {
     "checksum": "b09a6f67a0b582dead0873ef082ad84e",
     "grade": true,
     "grade_id": "cell-78b1369da93742d0",
     "locked": true,
     "points": 4,
     "schema_version": 1,
     "solution": false
    }
   },
   "outputs": [],
   "source": [
    "with tick.marks(4):\n",
    "    assert(check_hash(whisky_pc, ((12, 12), 176.61972724966714)))\n",
    "    assert(check_hash(whisky_pc_len, ((12,), 106.36639712233577)))"
   ]
  },
  {
   "cell_type": "markdown",
   "metadata": {},
   "source": [
    "## Projecting onto the principal components\n",
    "\n",
    "This is interesting, but quite hard to interpret. One very useful technique is to project data onto a small number of principal components, to visualise the data. This forms a simplified version of the data, where the use of principal components means we can map the directions in the data which are most important to our visual axes. For example, we might map the first two principal components to a 2D $x,y$ plot.\n",
    "\n",
    "This is a key technique in exploratory data analysis: **principal component analysis**. All it involves is using the principal components to find a simplified mapping onto a lower-dimensional space.\n",
    "\n",
    "We can compute a projection of a dataset onto an arbitrary set of vectors by forming a matrix product:\n",
    "$$P = XV,$$\n",
    "\n",
    "Where $P$ is an $N\\times k$ matrix that is the result of the projection, $X$ is the $N \\times D$ original data set and $V$ is an $D \\times k$ matrix, each of whose *columns* is a vector that we want to project onto.\n",
    "\n",
    "**Task B.4**\n",
    "Use this information to project the distillery data onto the first two principal components, and store the result in `whisky_projected_2d`. If you do this correctly, the plot below should show a 2D mapping of whisky flavours, where more distant distilleries in the map represent more distinct flavour styles.\n",
    "\n",
    "\n"
   ]
  },
  {
   "cell_type": "code",
   "execution_count": null,
   "metadata": {
    "deletable": false,
    "nbgrader": {
     "checksum": "9bf3263e217a54cbcb3716ead410889a",
     "grade": false,
     "grade_id": "cell-2c69b850765b1921",
     "locked": false,
     "schema_version": 1,
     "solution": true
    }
   },
   "outputs": [],
   "source": [
    "# YOUR CODE HERE"
   ]
  },
  {
   "cell_type": "code",
   "execution_count": null,
   "metadata": {},
   "outputs": [],
   "source": [
    "## Show the whisky distilleries laid out\n",
    "## on the two first principal components\n",
    "## Colouring the points according to the level of smokiness \n",
    "## (just to see that similar whiskies are indeed clustered together)\n",
    "fig = plt.figure()\n",
    "ax = fig.add_subplot(1,1,1)\n",
    "ax.set_frame_on(False)\n",
    "ax.set_xlabel(\"Principal component 1\")\n",
    "ax.set_ylabel(\"Principal component 2\")\n",
    "ax.set_title(\"Principal component analysis of whisky distillery flavour profiles\")\n",
    "ax.scatter(whisky_projected_2d[:,0], whisky_projected_2d[:,1], c=whisky[:,columns['smoky']], s=10)\n",
    "for i,name in enumerate(distilleries):\n",
    "    ax.text(whisky_projected_2d[i,0], whisky_projected_2d[i,1], name, fontdict={'size':6})"
   ]
  },
  {
   "cell_type": "code",
   "execution_count": null,
   "metadata": {
    "deletable": false,
    "editable": false,
    "nbgrader": {
     "checksum": "8fc6e901c625f2132a8da468996fa4a4",
     "grade": true,
     "grade_id": "cell-5fc17d87b1090488",
     "locked": true,
     "points": 4,
     "schema_version": 1,
     "solution": false
    }
   },
   "outputs": [],
   "source": [
    "with tick.marks(4):\n",
    "    assert(check_hash(whisky_projected_2d, ((86, 2), -5645.1773024318845)))"
   ]
  },
  {
   "cell_type": "markdown",
   "metadata": {},
   "source": [
    "\n",
    "We can normalise this data further. Whiten the dataset to that is zero mean and has unit covariance. This transforms our dataset so that it is centered on the origin (demeaning) and \"spherical\" (whitenening with covariance matrix). This is particularly useful if we are going to try and map from data in one vector space to another; having the data in standard scaling, with no offset and no correlation among dimensions makes the data easier to work with.\n",
    "\n",
    "**Task B.5**\n",
    "Use the SVD to compute the inverse matrix square root of the matrix $\\text{whisky_cov}^{-1/2}$. Multiply the demeaned whisky matrix with this to produce `whitened_whisky`. This represents the data with the mean removed, and all correlations eliminated.\n",
    "\n"
   ]
  },
  {
   "cell_type": "code",
   "execution_count": null,
   "metadata": {
    "deletable": false,
    "nbgrader": {
     "checksum": "66e91ac33b68f045525dcadd395a3945",
     "grade": false,
     "grade_id": "cell-1c5bea02f260973d",
     "locked": false,
     "schema_version": 1,
     "solution": true
    }
   },
   "outputs": [],
   "source": [
    "# YOUR CODE HERE"
   ]
  },
  {
   "cell_type": "code",
   "execution_count": null,
   "metadata": {
    "deletable": false,
    "editable": false,
    "nbgrader": {
     "checksum": "41c116fd6a0f5b0874f2d54bc406f100",
     "grade": true,
     "grade_id": "cell-6ba452627f183458",
     "locked": true,
     "points": 4,
     "schema_version": 1,
     "solution": false
    }
   },
   "outputs": [],
   "source": [
    "# This plot of the covariance matrix should now be perfectly diagonal\n",
    "plt.imshow(np.cov(whitened_whisky.T), vmin=0, vmax=2, cmap='viridis')\n",
    "\n",
    "with tick.marks(4):\n",
    "    assert(check_hash(whitened_whisky, ((86, 12), -13904.23411235108)))"
   ]
  },
  {
   "cell_type": "markdown",
   "metadata": {},
   "source": [
    "### Visualising in normalised space\n",
    "Now that we have the data normalised, we could also define a more sensible way to compare vectors in a high-dimensional space. The $L_2$ norm has significant problems in very high-dimensional spaces. A more sensible way to compare vectors is to look at the *angle* between them.\n",
    "\n",
    "**Task B.6**\n",
    "Define a function `cosine(a,b)` that computes the cosine of the angle between two vectors $a$ and $b$ of the same length (i.e. returns $\\cos(\\theta)$, a value between -1 and 1).\n"
   ]
  },
  {
   "cell_type": "code",
   "execution_count": null,
   "metadata": {
    "deletable": false,
    "nbgrader": {
     "checksum": "d6669fb8c6c8d851a706567a9ab1be91",
     "grade": false,
     "grade_id": "cell-709fa3244b0a61a6",
     "locked": false,
     "schema_version": 1,
     "solution": true
    }
   },
   "outputs": [],
   "source": [
    "def cosine(a,b):\n",
    "    # YOUR CODE HERE"
   ]
  },
  {
   "cell_type": "code",
   "execution_count": null,
   "metadata": {
    "deletable": false,
    "editable": false,
    "nbgrader": {
     "checksum": "646425bd175db31d0a4af563e943a52f",
     "grade": true,
     "grade_id": "cell-3869d615b34ee940",
     "locked": true,
     "points": 4,
     "schema_version": 1,
     "solution": false
    }
   },
   "outputs": [],
   "source": [
    "angles = np.array([cosine(whitened_whisky[i,:], whitened_whisky[j,:]) for i in range(len(whisky)) for j in range(len(whisky))])\n",
    "\n",
    "\n",
    "with tick.marks(4):\n",
    "    assert(check_hash(angles, ((7396,), 25457.146694199713)))\n",
    "    "
   ]
  },
  {
   "cell_type": "markdown",
   "metadata": {},
   "source": [
    "## A 3D visualisation\n",
    "We can use this to show a different layout of whiskies; this time in terms of relative angles to two reference distillieries, in the whitened space. This has the advantage that all distances are normalised to the range [-1,1], and we have a good spread of points in the space. The plot below shows the angle with respect to 3 distilleries, as a 3D plot.\n",
    "\n",
    "(you can compare with the plot using the unwhitened data to see the effect that normalisation has had, if you wish).\n",
    "\n",
    "This is also an example of why visualising data in 3D is usually a bad idea."
   ]
  },
  {
   "cell_type": "code",
   "execution_count": null,
   "metadata": {},
   "outputs": [],
   "source": [
    "import matplotlib.pyplot as plt\n",
    "from mpl_toolkits.mplot3d import Axes3D\n",
    "%matplotlib notebook\n",
    "import matplotlib.pyplot as plt\n",
    "%matplotlib notebook\n",
    "\n",
    "fig = plt.figure(figsize=(12,12))\n",
    "ax = fig.add_subplot(1,1,1, projection='3d')\n",
    "\n",
    "## Modify these to plot the flavours on different axes\n",
    "ref_a = 'Glengoyne'\n",
    "ref_b = 'Laphroig'\n",
    "ref_c = 'Glenlivet'\n",
    "\n",
    "## get the respective flavour vectors\n",
    "reference_a = whitened_whisky[distilleries.searchsorted(ref_a)]\n",
    "reference_b = whitened_whisky[distilleries.searchsorted(ref_b)]\n",
    "reference_c = whitened_whisky[distilleries.searchsorted(ref_c)]\n",
    "\n",
    "for name, flavour in zip(distilleries, whitened_whisky):\n",
    "    ## compute angles to the references\n",
    "    angle_a = cosine(reference_a, flavour)\n",
    "    angle_b = cosine(reference_b, flavour)\n",
    "    angle_c = cosine(reference_c, flavour)\n",
    "\n",
    "    ax.scatter(angle_a, angle_b, angle_c, color='c', s=5)\n",
    "    ax.text(angle_a, angle_b, angle_c, name, fontdict={\"size\":10}, alpha=0.5)\n",
    "    \n",
    "## fix up the plot\n",
    "ax.set_xlabel(\"Angle with respect to {ref_a}\".format(ref_a=ref_a))\n",
    "ax.set_ylabel(\"Angle with respect to {ref_b}\".format(ref_b=ref_b))\n",
    "ax.set_zlabel(\"Angle with respect to {ref_c}\".format(ref_c=ref_c))\n",
    "ax.set_xlim(-1.1,1.1)\n",
    "ax.set_ylim(-1.1,1.1)\n",
    "ax.set_zlim(-1.1, 1.1)\n",
    "ax.set_title(\"Normalised flavour angles between whisky distilleries\")\n"
   ]
  },
  {
   "cell_type": "markdown",
   "metadata": {},
   "source": []
  },
  {
   "cell_type": "markdown",
   "metadata": {},
   "source": [
    "-----\n",
    "\n",
    "# Submission instructions"
   ]
  },
  {
   "cell_type": "markdown",
   "metadata": {},
   "source": [
    "### Checking your work\n",
    "## Mark summary\n",
    "You should check the marks you've got before submitting. To do this, \n",
    "* Make sure you fill in any place that says `YOUR CODE HERE` or \"YOUR ANSWER HERE\", as well as your name and matriculation number at the top.\n",
    "* SAVE THE NOTEBOOK, \n",
    "* Go to `Cell/Restart and Run All` in the menu.\n",
    "* Check the output of the cell here.\n",
    "\n",
    "Note that this is an estimated mark, and if you don't do the above procedure *carefully* you may get nonsense estimates.\n"
   ]
  },
  {
   "cell_type": "code",
   "execution_count": null,
   "metadata": {},
   "outputs": [],
   "source": [
    "tick.summarise_marks()"
   ]
  },
  {
   "cell_type": "markdown",
   "metadata": {},
   "source": [
    "### Formatting the submission\n",
    "* **WARNING**: If you do not submit the correct file, you will not get any marks.\n",
    "* Submit this file **only** on Moodle. It will be named `lab_<xxx>.ipynb`."
   ]
  },
  {
   "cell_type": "markdown",
   "metadata": {},
   "source": [
    "\n",
    "## Penalties (only for assessed labs)\n",
    "<font color=\"red\">\n",
    "    \n",
    "**Malformatted submissions**\n",
    "</font>\n",
    "These assignments are processed with an automatic tool; failure to follow instructions *precisely* will lead to you automatically losing two bands in grade regardless of whether the work is correct (not to mention a long delay in getting your work back). **If you submit a file without your work in it, it will be marked and you will get 0 marks.**\n",
    "\n",
    "<font color=\"red\">**Late submission**</font>\n",
    "Be aware that there is a two band penalty for every *day* of late submission, starting the moment of the deadline.\n",
    "\n",
    "<font color=\"red\">\n",
    "    \n",
    "**Plagiarism**\n",
    "</font> Any form of plagiarism will be subject to the Plagiarism Policy. The penalties are severe."
   ]
  },
  {
   "cell_type": "code",
   "execution_count": null,
   "metadata": {},
   "outputs": [],
   "source": []
  }
 ],
 "metadata": {
  "kernelspec": {
   "display_name": "Python 3",
   "language": "python",
   "name": "python3"
  },
  "language_info": {
   "codemirror_mode": {
    "name": "ipython",
    "version": 3
   },
   "file_extension": ".py",
   "mimetype": "text/x-python",
   "name": "python",
   "nbconvert_exporter": "python",
   "pygments_lexer": "ipython3",
   "version": "3.6.3"
  },
  "toc": {
   "base_numbering": 1,
   "nav_menu": {},
   "number_sections": true,
   "sideBar": true,
   "skip_h1_title": false,
   "title_cell": "Table of Contents",
   "title_sidebar": "Contents",
   "toc_cell": false,
   "toc_position": {},
   "toc_section_display": "block",
   "toc_window_display": false
  }
 },
 "nbformat": 4,
 "nbformat_minor": 1
}
