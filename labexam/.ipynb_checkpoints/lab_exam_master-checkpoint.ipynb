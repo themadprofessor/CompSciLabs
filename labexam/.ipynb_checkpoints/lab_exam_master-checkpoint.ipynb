{
 "cells": [
  {
   "cell_type": "markdown",
   "metadata": {},
   "source": [
    "## CS1P Lab Exam 2016/2017\n",
    "\n",
    "### Ensure you have **carefully** read the printed instructions.\n",
    "\n",
    "<a href=\"lab_exam_instructions.ipynb\"> Click here to view these instructions online </a>\n",
    "<font color=\"red\"> Do not add additional cells or remove any cells from this notebook. </font>\n",
    "\n",
    "**Before you start**, put your name and matric number in the cell below."
   ]
  },
  {
   "cell_type": "code",
   "execution_count": null,
   "metadata": {
    "collapsed": true
   },
   "outputs": [],
   "source": [
    "####################################################\n",
    "# Name: Stuart Reilly\n",
    "# Matric. number:  2258082\n",
    "####################################################\n",
    "# CODE #"
   ]
  },
  {
   "cell_type": "markdown",
   "metadata": {},
   "source": [
    "## Code\n",
    "Complete your solution by modifying the three cells below."
   ]
  },
  {
   "cell_type": "code",
   "execution_count": 19,
   "metadata": {
    "collapsed": true
   },
   "outputs": [],
   "source": [
    "######### Compress goes here    \n",
    "def compress(data):\n",
    "    codebook = {char:ord(char) for char in set(data)} #Create unique integer code for each unique character in data\n",
    "    result = []\n",
    "    buff = \"\"\n",
    "    \n",
    "    for char in data:\n",
    "        buff += char\n",
    "        if buff not in codebook.keys():\n",
    "            codebook[buff] = max(codebook.values()) + 1\n",
    "            result.append(codebook[buff[:-1]])\n",
    "            buff = char\n",
    "    if len(buff) != 0:\n",
    "        result.append(codebook[buff])\n",
    "    \n",
    "    return result, codebook"
   ]
  },
  {
   "cell_type": "code",
   "execution_count": 20,
   "metadata": {
    "collapsed": false
   },
   "outputs": [],
   "source": [
    "########## Decompress goes here\n",
    "def decompress(data, codebook):\n",
    "    decomp_codebook = {code:char for char, code in codebook.iteritems()}\n",
    "    return \"\".join([decomp_codebook[code] for code in data])"
   ]
  },
  {
   "cell_type": "code",
   "execution_count": 23,
   "metadata": {
    "collapsed": false
   },
   "outputs": [
    {
     "name": "stdout",
     "output_type": "stream",
     "text": [
      "([65, 66, 66], {'A': 65, 'AA': 66, 'AAA': 67})\n",
      "AAAAA\n",
      "([], {})\n",
      "\n",
      "Secret testing works OK\n"
     ]
    }
   ],
   "source": [
    "########### Testing\n",
    "# Put any of your own testing in this cell\n",
    "print compress(\"AAAAA\")\n",
    "print decompress(*compress(\"AAAAA\"))\n",
    "print compress(\"\")\n",
    "print decompress(*compress(\"\"))\n",
    "\n",
    "import traceback\n",
    "try:\n",
    "    with open(\"sample.txt\") as f:\n",
    "        with open(\"sample_output.txt\", \"w\") as out_f:\n",
    "            for line in f:\n",
    "                test = line.strip()\n",
    "                compressed, codebook = compress(test)\n",
    "                out_f.write(\"%s\\t%s\\t%s\\n\" % (len(compressed), decompress(compressed, codebook), decompress(compressed,codebook)==test))\n",
    "        print \"Sample testing works OK\"        \n",
    "except:    \n",
    "    traceback.print_exc()\n",
    "    print \"Sample testing failed\""
   ]
  },
  {
   "cell_type": "markdown",
   "metadata": {},
   "source": [
    "------------------------\n",
    "\n",
    "## Tests\n",
    "The following cells will help test if your code is working correctly.\n",
    "\n",
    "Note that there will be other tests applied **after submission** which you will not see. **DO NOT REMOVE OR ALTER THESE CELLS**"
   ]
  },
  {
   "cell_type": "code",
   "execution_count": 3,
   "metadata": {
    "collapsed": false
   },
   "outputs": [
    {
     "name": "stdout",
     "output_type": "stream",
     "text": [
      "[97, 98, 99, 100]\n",
      "[48, 49, 50, 51, 52]\n",
      "[97, 98, 99, 98]\n",
      "Printing test OK\n"
     ]
    }
   ],
   "source": [
    "# TEST #\n",
    "## This should run without errors\n",
    "import traceback # note that this import is permitted\n",
    "try:\n",
    "    print compress(\"abcd\")[0]\n",
    "    print compress(\"01234\")[0]\n",
    "    print compress(\"aaaaaaaa\")[0]    \n",
    "except:\n",
    "    traceback.print_exc()\n",
    "    print \"Printing test failed\"\n",
    "print \"Printing test OK\""
   ]
  },
  {
   "cell_type": "code",
   "execution_count": 14,
   "metadata": {
    "collapsed": false
   },
   "outputs": [
    {
     "name": "stdout",
     "output_type": "stream",
     "text": [
      "All decompress/compress tests passed OK\n"
     ]
    }
   ],
   "source": [
    "test_strings = [\"aaaaaa\", \"abcracdabra\", \n",
    "                \"Independence day\",\n",
    "               \"The quick brown fox jumped over the lazy dog\",\n",
    "               \"b\", \"........\", \"-=-==-=-===-=-====\",\n",
    "               \"\\x00\\x01\\x02\\x02\\x02\\x00\",\n",
    "                \"A rose is a rose is a rose\"]\n",
    "try:\n",
    "    for string in test_strings:    \n",
    "        if decompress(*compress(string))!=string:\n",
    "            print \"Failed decompress/compress  testing on %s\" % string\n",
    "            break\n",
    "    print \"All decompress/compress tests passed OK\"\n",
    "except:\n",
    "    traceback.print_exc()\n",
    "    print \"Failed decompress/compress  testing on %s\" % string\n"
   ]
  },
  {
   "cell_type": "code",
   "execution_count": 15,
   "metadata": {
    "collapsed": false
   },
   "outputs": [
    {
     "name": "stdout",
     "output_type": "stream",
     "text": [
      "Length tests passed OK\n"
     ]
    }
   ],
   "source": [
    "try:\n",
    "    assert(len(compress(\"abcdef\")[0])==6)\n",
    "    assert(len(compress(\"aaaaaa\")[0])==3)\n",
    "    assert(len(compress(\"aaaaaaba\")[0])==5)\n",
    "    assert(len(compress(\"hlo helo hello heeeellllooo\")[0])==18)\n",
    "    assert(len(compress(\"::string:: ::strength:: ///\")[0])==20)\n",
    "    print \"Length tests passed OK\"\n",
    "except:\n",
    "    traceback.print_exc()\n",
    "    print \"Length tests failed\""
   ]
  },
  {
   "cell_type": "code",
   "execution_count": 16,
   "metadata": {
    "collapsed": false
   },
   "outputs": [
    {
     "name": "stdout",
     "output_type": "stream",
     "text": [
      "Compression coding test failed\n"
     ]
    },
    {
     "name": "stderr",
     "output_type": "stream",
     "text": [
      "Traceback (most recent call last):\n",
      "  File \"<ipython-input-16-6a6f654c95c4>\", line 7, in <module>\n",
      "    assert(compress(\"0123401\")[0]==[48, 49, 50, 51, 52, 128])\n",
      "AssertionError\n"
     ]
    }
   ],
   "source": [
    "# These tests may fail if you have used a different encoding\n",
    "# Failure on this specific test does not necessarily imply your solution\n",
    "# is incorrect\n",
    "try:\n",
    "    assert(compress(\"abcd\")[0]==[97, 98, 99, 100])\n",
    "    assert(compress(\"01234\")[0]==[48, 49, 50, 51, 52])\n",
    "    assert(compress(\"0123401\")[0]==[48, 49, 50, 51, 52, 128])\n",
    "    assert(compress(\"aaaaaaaa\")[0]==[97, 128, 129, 128])\n",
    "    assert(compress(\"hello hello hello\")[0]==[104, 101, 108, 108, 111, 32, 128, 130, 132, 134, 131])\n",
    "    print \"All tests passed OK\"\n",
    "except:\n",
    "    traceback.print_exc()\n",
    "    print \"Compression coding test failed\""
   ]
  },
  {
   "cell_type": "code",
   "execution_count": 17,
   "metadata": {
    "collapsed": false
   },
   "outputs": [
    {
     "name": "stdout",
     "output_type": "stream",
     "text": [
      "Secret testing works OK\n"
     ]
    }
   ],
   "source": [
    "################################################################\n",
    "#                       TESTING\n",
    "################################################################\n",
    "# Verify that this cell runs correctly\n",
    "# This will be used to test your code against a hidden test set\n",
    "import traceback\n",
    "try:\n",
    "    with open(\"secret_test.txt\") as f:\n",
    "        with open(\"secret_test_output.txt\", \"w\") as out_f:\n",
    "            for line in f:\n",
    "                test = line.strip()\n",
    "                compressed, codebook = compress(test)\n",
    "                out_f.write(\"%s\\t%s\\t%s\\n\" % (len(compressed), decompress(compressed, codebook), decompress(compressed,codebook)==test))\n",
    "        print \"Secret testing works OK\"        \n",
    "except:    \n",
    "    traceback.print_exc()\n",
    "    print \"Secret testing failed\"\n"
   ]
  },
  {
   "cell_type": "code",
   "execution_count": null,
   "metadata": {
    "collapsed": true
   },
   "outputs": [],
   "source": []
  }
 ],
 "metadata": {
  "kernelspec": {
   "display_name": "Python [Root]",
   "language": "python",
   "name": "Python [Root]"
  },
  "language_info": {
   "codemirror_mode": {
    "name": "ipython",
    "version": 2
   },
   "file_extension": ".py",
   "mimetype": "text/x-python",
   "name": "python",
   "nbconvert_exporter": "python",
   "pygments_lexer": "ipython2",
   "version": "2.7.12"
  }
 },
 "nbformat": 4,
 "nbformat_minor": 0
}
