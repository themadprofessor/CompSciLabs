{
 "cells": [
  {
   "cell_type": "markdown",
   "metadata": {},
   "source": [
    "# Week 6 : Lab \n",
    " ## Data structures: Strings and arrays\n",
    " ##### CS1P - University of Glasgow - John Williamson - 2016"
   ]
  },
  {
   "cell_type": "code",
   "execution_count": 1,
   "metadata": {
    "collapsed": true
   },
   "outputs": [],
   "source": [
    "from __future__ import division   # make division work like Python 3.x"
   ]
  },
  {
   "cell_type": "markdown",
   "metadata": {},
   "source": []
  },
  {
   "cell_type": "markdown",
   "metadata": {},
   "source": [
    "\n",
    "## Lab exercise\n",
    "\n",
    "**You must make a reasonble attempt at this exercise to gain a tick for this work**.\n",
    "\n",
    "<font color=\"red\"> Remember to save your work frequently! </font>\n"
   ]
  },
  {
   "cell_type": "markdown",
   "metadata": {},
   "source": [
    "\n",
    "## Purpose of this lab\n",
    "This lab will explore string operations in Python. In particular, it will cover:\n",
    "* Splitting and joining\n",
    "* Character codes\n",
    "* Regular expressions\n",
    "* Encryption and decryption.\n",
    "\n"
   ]
  },
  {
   "cell_type": "markdown",
   "metadata": {},
   "source": [
    "## Before the lab\n",
    "* Complete **at least** the A exercises.\n"
   ]
  },
  {
   "cell_type": "markdown",
   "metadata": {},
   "source": [
    "\n",
    "## During the lab session\n",
    "* Complete the B exercise. Note that the B exercise is simpler than it seems at first pass. Read the instructions carefully before starting!\n",
    "\n"
   ]
  },
  {
   "cell_type": "markdown",
   "metadata": {},
   "source": [
    "## A Quick Problems\n",
    "\n",
    "### A.1 Delimiter exchange\n",
    "The file `data.csv` consists of comma separated fields. Your boss wants it separated by dash (`-`) characters instead. And she wants it in the order first, third and fifth columns, then the second and fourth columns.\n",
    "\n",
    "Make this change, and print out the result (you don't need to write it back to a file, just print it out).\n",
    "\n",
    "*[If you want to know what this data is, you can find the full description [here](https://vincentarelbundock.github.io/Rdatasets/doc/Ecdat/Icecream.html)]*\n",
    "\n",
    "Your result should begin\n",
    "\n",
    "    1-78-41-0.386-0.27\n",
    "    2-79-56-0.374-0.282\n",
    "    \n",
    "and end:\n",
    "\n",
    "    29-91-64-0.437-0.268\n",
    "    30-90-71-0.548-0.26"
   ]
  },
  {
   "cell_type": "code",
   "execution_count": 8,
   "metadata": {
    "collapsed": false,
    "scrolled": true
   },
   "outputs": [
    {
     "name": "stdout",
     "output_type": "stream",
     "text": [
      "1-78-41-0.386-0.27\n",
      "2-79-56-0.374-0.282\n",
      "3-81-63-0.393-0.277\n",
      "4-80-68-0.425-0.28\n",
      "5-76-69-0.406-0.272\n",
      "6-78-65-0.344-0.262\n",
      "7-82-61-0.327-0.275\n",
      "8-79-47-0.288-0.267\n",
      "9-76-32-0.269-0.265\n",
      "10-79-24-0.256-0.277\n",
      "11-82-28-0.286-0.282\n",
      "12-85-26-0.298-0.27\n",
      "13-86-32-0.329-0.272\n",
      "14-83-40-0.318-0.287\n",
      "15-84-55-0.381-0.277\n",
      "16-82-63-0.381-0.287\n",
      "17-80-72-0.47-0.28\n",
      "18-78-72-0.443-0.277\n",
      "19-84-67-0.386-0.277\n",
      "20-86-60-0.342-0.277\n",
      "21-85-44-0.319-0.292\n",
      "22-87-40-0.307-0.287\n",
      "23-94-32-0.284-0.277\n",
      "24-92-27-0.326-0.285\n",
      "25-95-28-0.309-0.282\n",
      "26-96-33-0.359-0.265\n",
      "27-94-41-0.376-0.265\n",
      "28-96-52-0.416-0.265\n",
      "29-91-64-0.437-0.268\n",
      "30-90-71-0.548-0.26\n"
     ]
    }
   ],
   "source": [
    "# Solution goes here\n",
    "with open(\"data.csv\") as f:\n",
    "    fixed = []\n",
    "    for line in f:\n",
    "        split = line.strip().split(\",\")\n",
    "        fixed.append(\"-\".join(split[0::2] + split[1::2]))\n",
    "    print \"\\n\".join(fixed)"
   ]
  },
  {
   "cell_type": "markdown",
   "metadata": {},
   "source": [
    "### A.2 A Wedding invitation\n",
    "\n",
    "Write a function to print out a wedding information like this:\n",
    "\n",
    "        The future Mr & Mrs <couple_name>\n",
    "        \n",
    "    Invite      <name> to attend a ceremony on <date>\n",
    "    \n",
    "                        at \n",
    "                     <place>\n",
    "                 \n",
    "The `couple_name`, `name`, `date` and `place` should be parameters to the function.\n",
    "\n",
    "The invitation should be exactly `n` columns wide, where `n` is passed in as another parameter. `n` should default to 80 columns.\n",
    "\n",
    "All lines should be centered in this this n column space.\n",
    "The `name` should be *exactly* 20 characters wide and right-justified. (yes, this looks a little weird)."
   ]
  },
  {
   "cell_type": "code",
   "execution_count": 12,
   "metadata": {
    "collapsed": false
   },
   "outputs": [
    {
     "name": "stdout",
     "output_type": "stream",
     "text": [
      "                           The future Mr & Mrs Smith                            \n",
      "          Invite                  Joe to attend a ceremony on 12th Dec          \n",
      "                                       at                                       \n",
      "                                    Shithole                                    \n"
     ]
    }
   ],
   "source": [
    "# Solution goes here\n",
    "def print_wed_invite(couple_name, name, date, place, width=80):\n",
    "    print (\"The future Mr & Mrs %s\" % couple_name).center(width)\n",
    "    print (\"Invite %s to attend a ceremony on %s\" % (name.rjust(20), date)).center(width)\n",
    "    print \"at\".center(width)\n",
    "    print place.center(width)\n",
    "\n",
    "print_wed_invite(\"Smith\", \"Joe\", \"12th Dec\", \"Shithole\")"
   ]
  },
  {
   "cell_type": "markdown",
   "metadata": {},
   "source": [
    "### A.3 Fragment search\n",
    "Write a function `find_all(sub, search)` which returns a list of the *indices* of the first character of every occurence of the string `sub` inside the longer string `search`. Do not use regular expressions.\n",
    "\n",
    "For example, `find_all(\"cat\", \"the cat sat on the mat\")` should find one match at index 4, and thus return the list `[4]`.\n",
    "\n",
    "`find_all(\"cat\", \"cat cat cat\")` should find three matches `[0,4,8]`."
   ]
  },
  {
   "cell_type": "code",
   "execution_count": null,
   "metadata": {
    "collapsed": false
   },
   "outputs": [],
   "source": [
    "# Solution goes here\n",
    "def find_all(search, string):\n",
    "    tmp = string[:]\n",
    "    result = []\n",
    "    curr = 0\n",
    "    while curr != -1:\n",
    "        curr = string.find(search, curr)\n",
    "        if curr != -1:\n",
    "            result.append(curr)\n",
    "    return result"
   ]
  },
  {
   "cell_type": "code",
   "execution_count": null,
   "metadata": {
    "collapsed": false
   },
   "outputs": [],
   "source": [
    "## Tests\n",
    "assert(find_all(\"cat\", \"the cat sat on the mat\")==[4])\n",
    "assert(find_all(\"cat\", \"the cat sat on the cat on the cat\")==[4,19,30])\n",
    "assert(find_all(\"cat\", \"the dog sat on the mat\")==[])\n",
    "assert(find_all(\"a\", \"the cat sat on the mat\")==[5,9,20])\n",
    "print \"All OK!\""
   ]
  },
  {
   "cell_type": "markdown",
   "metadata": {},
   "source": [
    "### A.5 Rewriting HTML (the **bad** way)\n",
    "You have some HTML like this:\n",
    "\n",
    "    <title> This is HTML </title>\n",
    "    <h1> Here is a heading </h1>\n",
    "    This is some text. <b> This is bold. </b>    \n",
    "    <h2> This is a smaller heading </h2>    \n",
    "    \n",
    "You want to translate this HTML to Markdown, which just uses simple characters to indicate headings and emphasis like bold and italic. The above would become:\n",
    "\n",
    "    # This is HTML\n",
    "    ## Here is a heading\n",
    "    This is some text ** This is bold. **\n",
    "    This is normal. \n",
    "    ### This is a smaller heading\n",
    "  \n",
    "    \n",
    "Write a function `html_to_md(html)` which does this conversion and returns the converted string. It should obey the following rules:\n",
    "* `<b>text</b>` should become `**text**`\n",
    "* `<h1>text</h1>` should become `##text`\n",
    "* `<h2>text</h2>` should become `###text`\n",
    "* `<title>text</title>` should become `#text`\n",
    "\n",
    "You can assume no other HTML tags can appear in the document. Use a series of substiutions to convert the text. You *can* use regular expressions, but they are **not** required for this exercise.\n",
    "\n",
    "**Note: in real world use, you would use an HTML parser to do this translation. This is a nasty hack!**"
   ]
  },
  {
   "cell_type": "code",
   "execution_count": 8,
   "metadata": {
    "collapsed": false
   },
   "outputs": [],
   "source": [
    "# Solution goes here\n",
    "import re\n",
    "\n",
    "def html_to_md(html):\n",
    "    curr = html\n",
    "    last = \"\"\n",
    "    while curr != last:\n",
    "        last = curr[:]\n",
    "        curr = re.sub(r\"<b>(.*)</b>\", r\"**\\1**\", curr)\n",
    "        curr = re.sub(r\"<title>(.*)</title>\", r\"#\\1\", curr)\n",
    "        curr = re.sub(r\"<h1>(.*)</h1>\", r\"##\\1\", curr)\n",
    "        curr = re.sub(r\"<h2>(.*)</h2>\", r\"###\\1\", curr)\n",
    "    \n",
    "    return curr"
   ]
  },
  {
   "cell_type": "code",
   "execution_count": 9,
   "metadata": {
    "collapsed": false
   },
   "outputs": [
    {
     "name": "stdout",
     "output_type": "stream",
     "text": [
      "All OK\n"
     ]
    }
   ],
   "source": [
    "## Tests\n",
    "assert(html_to_md(\"<h1> heading </h1>\")==\"## heading \")\n",
    "assert(html_to_md(\"<title> title </title>\")==\"# title \")\n",
    "assert(html_to_md(\"<title> title </title> <b> bold </b> \")==\"# title  ** bold ** \")\n",
    "print \"All OK\""
   ]
  },
  {
   "cell_type": "markdown",
   "metadata": {},
   "source": [
    "### A.5 Matching URLs\n",
    "Write a function `is_http_url(url)` using a *regular expression* that returns `True` if `url` is a valid (simplified) HTTP URL and `False` otherwise.\n",
    "\n",
    "You can assume: \n",
    "* The URL has format `http://<server_address>/<path>`\n",
    "* the URL begins `http://`\n",
    "* it is followed by a `<server_address>`, consisting of one or more alphanumeric sections separated by . (period) Each server address section must have at least one character. For example, `www.bbc.co.uk` is a valid server address. `a.b.c` is also valid.\n",
    "* that is followed by a slash /, then a `<path>`, which is a series of alphanumeric sections separated by /. Each section must have at least one character. *The path may be omitted.*\n",
    "* There may or may not be a trailing slash / at the end of the URL.\n",
    "* so `http://www.gla.ac.uk/schools/computing/` would be a valid HTTP URL. \n",
    "* `http://www.gla.ac.uk/schools/computing` would also be a valid HTTP URL. \n",
    "* `http://www.gla.ac.uk` would also be a valid HTTP URL.\n",
    "* `ftp://www.gla.ac.uk/schools/computing/` would not be (must start with `http://`)\n",
    "* `http://www.gla..uk/schools/computing/` would not be be (each server address section must have at least one character)\n",
    "* `http:///computing/` would not be (must have a server address).\n",
    "* `http://www.gla.ac.uk///` would not be (each path section must have a character).\n",
    "\n",
    "**You do not need to implement any other matching rules than the assumptions given above (i.e. not a full URL matcher).**\n",
    "\n",
    "*Hint: Remember that the expression \\w matches any alphanumeric character (same as [0-9a-zA-Z]).*\n",
    "\n",
    "You may wish to build and test the regular expression using the online tool https://regex101.com/ **(I strongly recommend this approach)**\n"
   ]
  },
  {
   "cell_type": "code",
   "execution_count": 10,
   "metadata": {
    "collapsed": true
   },
   "outputs": [],
   "source": [
    "import re # import regular expression functionality"
   ]
  },
  {
   "cell_type": "code",
   "execution_count": 22,
   "metadata": {
    "collapsed": true
   },
   "outputs": [],
   "source": [
    "# Solution goes here\n",
    "def is_http_url(url):\n",
    "    return re.match(r\"http:\\/\\/(\\w+\\.)*\\w+(\\/?\\w*)*\", url)"
   ]
  },
  {
   "cell_type": "code",
   "execution_count": 23,
   "metadata": {
    "collapsed": false
   },
   "outputs": [
    {
     "ename": "AssertionError",
     "evalue": "",
     "output_type": "error",
     "traceback": [
      "\u001b[0;31m---------------------------------------------------------------------------\u001b[0m",
      "\u001b[0;31mAssertionError\u001b[0m                            Traceback (most recent call last)",
      "\u001b[0;32m<ipython-input-23-3849137b1ae1>\u001b[0m in \u001b[0;36m<module>\u001b[0;34m()\u001b[0m\n\u001b[1;32m      1\u001b[0m \u001b[0;31m## Tests\u001b[0m\u001b[0;34m\u001b[0m\u001b[0;34m\u001b[0m\u001b[0m\n\u001b[0;32m----> 2\u001b[0;31m \u001b[0;32massert\u001b[0m\u001b[0;34m(\u001b[0m\u001b[0mis_http_url\u001b[0m\u001b[0;34m(\u001b[0m\u001b[0;34m\"http://www.gla.ac.uk/schools/computing/\"\u001b[0m\u001b[0;34m)\u001b[0m\u001b[0;34m==\u001b[0m\u001b[0mTrue\u001b[0m\u001b[0;34m)\u001b[0m\u001b[0;34m\u001b[0m\u001b[0m\n\u001b[0m\u001b[1;32m      3\u001b[0m \u001b[0;32massert\u001b[0m\u001b[0;34m(\u001b[0m\u001b[0mis_http_url\u001b[0m\u001b[0;34m(\u001b[0m\u001b[0;34m\"http://www.gla.ac.uk/\"\u001b[0m\u001b[0;34m)\u001b[0m\u001b[0;34m==\u001b[0m\u001b[0mTrue\u001b[0m\u001b[0;34m)\u001b[0m\u001b[0;34m\u001b[0m\u001b[0m\n\u001b[1;32m      4\u001b[0m \u001b[0;32massert\u001b[0m\u001b[0;34m(\u001b[0m\u001b[0mis_http_url\u001b[0m\u001b[0;34m(\u001b[0m\u001b[0;34m\"http://www.gla.ac.uk\"\u001b[0m\u001b[0;34m)\u001b[0m\u001b[0;34m==\u001b[0m\u001b[0mTrue\u001b[0m\u001b[0;34m)\u001b[0m\u001b[0;34m\u001b[0m\u001b[0m\n\u001b[1;32m      5\u001b[0m \u001b[0;32massert\u001b[0m\u001b[0;34m(\u001b[0m\u001b[0mis_http_url\u001b[0m\u001b[0;34m(\u001b[0m\u001b[0;34m\"http://www.gla.ac.uk/£*£*(£%*)\"\u001b[0m\u001b[0;34m)\u001b[0m\u001b[0;34m==\u001b[0m\u001b[0mFalse\u001b[0m\u001b[0;34m)\u001b[0m\u001b[0;34m\u001b[0m\u001b[0m\n",
      "\u001b[0;31mAssertionError\u001b[0m: "
     ]
    }
   ],
   "source": [
    "## Tests\n",
    "assert(is_http_url(\"http://www.gla.ac.uk/schools/computing/\")==True)\n",
    "assert(is_http_url(\"http://www.gla.ac.uk/\")==True)\n",
    "assert(is_http_url(\"http://www.gla.ac.uk\")==True)\n",
    "assert(is_http_url(\"http://www.gla.ac.uk/£*£*(£%*)\")==False)\n",
    "assert(is_http_url(\"http://www.gla.ac.uk/schools/computing\")==True)\n",
    "assert(is_http_url(\"ftp://www.gla.ac.uk/schools/computing/\")==False)\n",
    "assert(is_http_url(\"http://www.gla..uk/schools/computing\")==False)\n",
    "assert(is_http_url(\"http:///computing/\")==False)\n",
    "assert(is_http_url(\"http://www.gla.ac.uk///\")==False)\n",
    "print \"All OK\""
   ]
  },
  {
   "cell_type": "markdown",
   "metadata": {},
   "source": [
    "## B. Code-breaking\n",
    "<img src=\"imgs/turing.png\" width=\"300px\">\n",
    "*[Image: Alan Turing, public domain]*\n",
    "\n",
    "In World War 2, Alan Turing (\"the father of computing\") was instrumental in breaking the Enigma code used by the German forces, using some of the very first electronic computers. The intelligence gained from these intercepts arguably changed the outcome of the war. \n",
    "\n",
    "<img src=\"imgs/enigma.jpg\" width=\"400px\">\n",
    "*[Enigma encryption machine / public domain]*\n",
    "\n",
    "In this exercise, you have to break a \"cleverly\" hidden code, using the string facilities of Python. The code is vastly simpler than the Enigma machine, but will still require some effort to untangle!"
   ]
  },
  {
   "cell_type": "markdown",
   "metadata": {},
   "source": [
    "### B.1 Matching knitting patterns\n",
    "Enemy agents have begun communicating through newspaper articles on **knitting.** Knitting patterns are completely incomprehensible to ordinary people, so this has so far gone unnoticed.\n",
    "\n",
    "<img src=\"imgs/knitting.jpg\" width=\"300px\">\n",
    "*[Image credit: Manisha B. via flickr.com CC-BY-ND 2.0]*\n",
    "\n",
    "Each knitting pattern has a bunch of **knitting codes** in it, telling the reader how to make certain stitches. There are lots of codes, but the most common are:\n",
    "\n",
    "* `k<n>` knit n stitches\n",
    "* `p<n>` purl n stitches (knit with loops the \"other\" way)\n",
    "\n",
    "So `p4 k3 p14` means `purl 4 knit 2 purl 13`. \n",
    "\n",
    "Knitting patterns look like this:\n",
    "\n",
    "    k2, pm, yo, k1 (central st), yo, pm, k2 (7 sts)\n",
    "    k2, sm, yo, k1, yo, k1 (central st), yo, k1, yo, sm, k2 (11 sts)\n",
    "    k2, sm, yo, k2, yo, k1, yo, k1 (central st), yo,\n",
    "    k1, yo, k2, yo, sm k2 (17 sts)\n",
    "    k2, sm, yo, k1, yo, knit to central st, yo, k1\n",
    "    (central st), yo, knit to 1 st from marker, yo, k1, yo,\n",
    "    sm, k2 (23 sts)\n",
    "\n",
    "*[This is honestly a real knitting pattern. No, I don't understand it either].*\n",
    "\n",
    "### Binary\n",
    "The agents are encoding the strings to be sent in the knit/purl instructions. They are using a **binary** encoding, where each digit of a number is represented as 0 or 1. For example, the integer 12 is\n",
    "\n",
    "    0001100\n",
    "\n",
    "in binary. We know that the agents are using 7 binary digits per letter they send. \n",
    "\n",
    "The reason they are using 7 bits because there are 128 ASCII chracters, and there 128 different 7 bit binary codes. In other words, it appears they are encoding ASCII characters in the knitting instructions.\n",
    "\n",
    "#### Decoding binary\n",
    "It is easy to convert binary strings to \"ordinary\" integers in Python:"
   ]
  },
  {
   "cell_type": "code",
   "execution_count": null,
   "metadata": {
    "collapsed": false
   },
   "outputs": [],
   "source": [
    "# base=2 means \"interpret as binary\"\n",
    "print int(\"0001100\", base=2)"
   ]
  },
  {
   "cell_type": "markdown",
   "metadata": {},
   "source": [
    "#### Stitch codes\n",
    "The hidden code is embedded in the knitting patterns: a knit stitch means 1 and a purl stitch means 0. The number of stitches (the repeat count) gives the repeat count of the digit (either 1 or 0).\n",
    "\n",
    "So `k4 = knit 4 = 1111`. This means that the knitting pattern line:\n",
    "\n",
    "    k1 p2 k1 p1 psso yo k1 f9 p1 sm\n",
    "    \n",
    "has stitch codes:\n",
    "\n",
    "    k1 p2 k1 p1 k1 p1\n",
    "    \n",
    "and is therefore really the binary number:    \n",
    "    \n",
    "    1001010\n",
    "    \n",
    "and is thus the ASCII character\n",
    "\n",
    "    'J'    \n",
    "\n",
    "(because `ord('J')` = 74 = 1001010 in binary)\n",
    "\n",
    "Note that **we have to ignore everything** that is not a knit or purl instruction (like `psso` or `f9`)."
   ]
  },
  {
   "cell_type": "code",
   "execution_count": null,
   "metadata": {
    "collapsed": false
   },
   "outputs": [],
   "source": [
    "# verify that this is correct\n",
    "print ord('J')\n",
    "print bin(ord('J'))"
   ]
  },
  {
   "cell_type": "markdown",
   "metadata": {},
   "source": [
    "## Task\n",
    "\n",
    "* The knitting patterns snipped out of dozens of newspapers are in the file `suspicious_knitting.txt`. There is lots of junk in between the knitting patterns, because the newspapers have not been clipped very neatly.\n",
    "* Read this file in and store it in a string. Beware, it is long...\n",
    "* Use **regular expressions** to find every knit and purl instruction and **only** those instructions. (hint: `re.findall` is useful here).\n",
    "* Use **captures** to capture the number of knits and purls (i.e. the number following the `k` or the `p`), as well as the type of stitch (i.e. is it a purl=0 or a knit=1).\n",
    "* You might want to copy and paste a small section of the `suspicious_knitting.txt` into `regex101` and work on your matching pattern there.\n",
    "* Convert these instructions into a very (very) long string of 0s and 1s. Hint: use `*` to repeat characters...\n",
    "* Print this binary string out. Your string should begin: `1000011100100110101001011001101` and it should end with: `01110110101001100`\n",
    "* *After printing the binary string and checking it, you may want to clear the output from the menu (Cell/Current Output/Clear) to make it easier to scroll around.*"
   ]
  },
  {
   "cell_type": "code",
   "execution_count": 29,
   "metadata": {
    "collapsed": false
   },
   "outputs": [],
   "source": [
    "# Solution goes here\n",
    "def get_instructions(f):\n",
    "    instructions = []\n",
    "    for line in f:\n",
    "        instructions.extend(re.findall(r\"(k\\d+|p\\d+)\", line))\n",
    "    return instructions\n",
    "\n",
    "def inst_to_bin(inst):\n",
    "    if inst[0]==\"k\":\n",
    "        return 1 * int(inst[1:])\n",
    "    elif inst[0] == \"p\":\n",
    "        return 0 * int(inst[1:])\n",
    "    \n",
    "with open(\"suspicious_knitting.txt\") as f:\n",
    "    instructions = get_instructions(f)\n",
    "    binary = map(inst_to_bin, instructions)"
   ]
  },
  {
   "cell_type": "markdown",
   "metadata": {},
   "source": [
    "### B.2 Converting to characters\n",
    "Now we have the raw binary code as big string of 0 and 1. We need to turn this into text.\n",
    "\n",
    "* Split the binary sequence into 7 character chunks, and convert each chunk into a integer (see above), and then that integer into a character, treating the integer as an ASCII character code.\n",
    "* Join all of these characters into a string and print it.\n",
    "* All of the characters should be uppercase letters. If they are not, you have done something wrong.\n",
    "* If your solution begins `THEXMUNITIONSXFACTORYXREPORTEDXDAMAGED` then you have decoded correctly.\n",
    "* The start of the string will be readable, but will soon become junk...\n"
   ]
  },
  {
   "cell_type": "code",
   "execution_count": 292,
   "metadata": {
    "collapsed": false
   },
   "outputs": [],
   "source": [
    "# Solution goes here"
   ]
  },
  {
   "cell_type": "markdown",
   "metadata": {},
   "source": [
    "### B.3 Breaking the code\n",
    "The agents started off just hiding the characters as plain binary-encoded ASCII in the knitting patterns. But after some time, they realised that this might be spotted, and applied some *encryption* to the characters. There are 141 characters of unencrypted text at the start of these sequence of messages, as you can verify. After that, the output is jumbled.\n",
    "\n",
    "Unfortunately for them, they used a very weak kind of encryption -- a **substitution cipher** where each character is replaced by another. The substitution is fixed for the whole series of messages. It is the **key** used to decrypt the messages.\n",
    "\n",
    "For example, imagine the cipher which translates:\n",
    "\n",
    "    ABCDEFGHIJKLMNOPQRSTUVWXYZ\n",
    "               |\n",
    "               |\n",
    "               V\n",
    "    QOFJSPIRUTNLMXWBZEGYKCADVH\n",
    "    \n",
    "Every occurence of A becomes Q, every B becomes O, every C becomes F, and so on.  To decrypt and recover the original message, just apply this operation in reverse: every Q becomes an A, etc.\n",
    "\n",
    "We don't know what the translation table -- the key -- is being used by the enemy agents in this case. We need to apply simple cryptanalysis to figure out the cipher key and recover the text. **You will have to break this code \"for real\"**\n",
    "\n",
    "----\n",
    "\n",
    "### A note on encoding\n",
    "Note that because all the characters are between A-Z, we can convert letters to a number code where A=0, B=1, etc. This makes it easier to apply the translation (hint: consider indexes in a string of replacement codes). Confused? Consider carefully what this code does:\n",
    "    "
   ]
  },
  {
   "cell_type": "code",
   "execution_count": null,
   "metadata": {
    "collapsed": false
   },
   "outputs": [],
   "source": [
    "key = \"QOFJSPIRUTNLMXWBZEGYKCADVH\"\n",
    "char = \"D\"\n",
    "char_ix = ord(char) - ord(\"A\")\n",
    "print char, char_ix, key[char_ix]"
   ]
  },
  {
   "cell_type": "markdown",
   "metadata": {},
   "source": [
    "## Elementary cryptanalysis\n",
    "It is very easy to solve a simple substitution cipher, as long as we have a long enough message to be able to see *regularities* in the use of letters. This is because English has a very distinctive pattern in the use of letters -- there are a lot more Es than Zs. A simple substitution cannot hide this pattern.\n",
    "\n",
    "We know from long term monitoring of the messages before the encryption was turned on that the typical distribution of letter frequencies in the agents' messages (i.e. how often each letter was used) looks like this:\n",
    "<img src=\"imgs/letter_histogram.png\">\n",
    "\n",
    "So X is used more than anything else, then T, then E, then O, and so on.\n",
    "\n",
    "Putting all the letters in order, most frequent first, the ordering was found to be:\n",
    "    \n",
    "       XTOEASRINPDCLHUMGBFYWVKZJQ       \n",
    "\n",
    "(i.e. X is most common, T second most common, Q least common).\n",
    "\n",
    "**From this, we can work out what the substitutions must be, and therefore what the key must be.**\n",
    "\n",
    "1. Work out the frequency of letters in the *encrypted* message portion you extracted from the knitting patterns. **Do not include the unencrypted section at the start (first 141 characters)**.\n",
    "2. Use this information to find a match with the known unencrypted letter frequencies given above (e.g. if Z is the most common letter in the encrypted text, then it must be a replacement for X, if L is the second most common, it must be the replacement for T, and so on.). **Note: this will require some thinking on your part. Write code to do this -- do not solve this part by hand!**\n",
    "3. It seems that X is being used as a replacement for space. After decrypting, replace all the Xs with spaces.\n",
    "4. Likewise, replace STOP with a newline.\n",
    "5. What has the enemy done? (look at the end of the message)"
   ]
  },
  {
   "cell_type": "code",
   "execution_count": null,
   "metadata": {
    "collapsed": false
   },
   "outputs": [],
   "source": [
    "# Solution goes here"
   ]
  },
  {
   "cell_type": "markdown",
   "metadata": {},
   "source": [
    "-----------\n",
    "\n",
    "## C. Extended problems\n",
    "These *extended* problems are optional for students who are keen to learn more. If you've finished the whole lab and want to explore these ideas in more depth, these problems and resources are intended to help you do that. <font color=\"red\"> You do not need to attempt any of this section to receive a tick! </font>\n",
    "\n",
    "## C.1 Thue\n",
    "*Esoteric languages* are toy programming languages which often investigate the *minimal* set of operations needed to do computations. They are curiosities, but their stripped-down nature can reveal some of the fundamental properties of computing.\n",
    "\n",
    "You can learn more about esoteric languages at [esolangs.org](esolangs.org).\n",
    "\n",
    "`Thue` (pronounced Too-eh) is arguably the simplest possible completely universal programming language. Thue can do any computation at all -- anything Python or Javascript or C can do, so can Thue.\n",
    "\n",
    "You will implement a working Thue interpreter and test it on some programs written in Thue.\n",
    "\n",
    "-----\n",
    "\n",
    "**Thue** has very simple rules. \n",
    "\n",
    "* The data for the program to work one is one long string.\n",
    "* The program is a set of substitutions from one *sub*string to another.\n",
    "* Substitutions are made randomly.\n",
    "\n",
    "Note that Thue will not work unless the substitutions are random!\n",
    "\n",
    "#### To run a Thue program:\n",
    "* Until terminated:\n",
    "*   If no substitution rules can possibly match, terminate.\n",
    "*   Choose a *random* substitution rule from those that can match. \n",
    "*   Apply it to the data string.\n",
    "\n",
    "Each rule replaces a substring with its replacement. Thue rules are written as:\n",
    "\n",
    "    <lhs>::=<rhs>\n",
    "    \n",
    "meaning `<lhs>` becomes `<rhs>`\n",
    "\n",
    "    A::=alpha\n",
    "    \n",
    "means replace *one* occurence of `A` with `alpha`.\n",
    "\n",
    "If there were two rules\n",
    "\n",
    "    A::=alpha\n",
    "    ph::=f\n",
    "\n",
    "and Thue was run on the initial data string `Alive`, Thue would:\n",
    "\n",
    "* Determine that only the A rule matched, and the data would become `alphalive`\n",
    "* Then, on the next iteration, it would determine that only the `ph` rule matched, and the data would become `alfalive`\n",
    "* Then, no rules match, and execution would halt."
   ]
  },
  {
   "cell_type": "markdown",
   "metadata": {},
   "source": [
    "#### Example program\n",
    "This Thue program will take a binary number surrounded by underscores, and increment it by one:\n",
    "\n",
    "    1_::=1++\n",
    "    0_::=1\n",
    "\n",
    "    01++::=10\n",
    "    11++::=1++0\n",
    "\n",
    "    _0::=_\n",
    "    _1++::=10\n",
    "\n",
    "If run on this data string:\n",
    "\n",
    "    _1111111111_\n",
    "    \n",
    "The output will be:\n",
    "\n",
    "    _10000000000_\n",
    "\n",
    "Thue is **Turing complete**, so *any* program in any language can be written as a Thue program (it might be a bit complicated, though!)."
   ]
  },
  {
   "cell_type": "markdown",
   "metadata": {},
   "source": [
    "## Task\n",
    "Write a Thue interpreter. \n",
    "* It should be able to parse code like the example above. \n",
    "* Additionally, if it encounters a line with just \"::=\" on its own, it should ignore that line, and treat the remaining contents of the file as the data for the program to work on.\n",
    "* Ignore any blank lines.\n",
    "* Only *one* substitution should be performed per iteration. See the documentation for `string.replace()` to work out how to do this.\n",
    "* Test it on the provided Thue files in the thue/ directory.\n",
    "* Confirm what message `thue/secret.thue` contains."
   ]
  },
  {
   "cell_type": "code",
   "execution_count": null,
   "metadata": {
    "collapsed": false
   },
   "outputs": [],
   "source": [
    "# Solution goes here"
   ]
  },
  {
   "cell_type": "markdown",
   "metadata": {},
   "source": [
    "## C.2 A complete(ish) Enigma machine"
   ]
  },
  {
   "cell_type": "markdown",
   "metadata": {},
   "source": [
    "<img src=\"imgs/Enigma_2.jpg\"> \n",
    "*[Image credit: By Alessandro Nassiri - Museo della Scienza e della Tecnologia \"Leonardo da Vinci\", CC BY-SA 4.0, https://commons.wikimedia.org/w/index.php?curid=47910919]*\n",
    "\n",
    "The German [Enigma](https://en.wikipedia.org/wiki/Enigma_machine) machine that Turing actually broke used a much more complex cipher than simple substitution. Read the Wikipedia article before continuing.\n",
    "\n",
    "It had a series of rotating wheels, each of which implemented a fixed substitution cipher from the 26 character alphabet to another 26 character sequence.  But each time a character was entered, the first wheel rotated; if this first wheel had rotated a full revolution (26 steps) the next wheel rotated, and so on.\n",
    "\n",
    "Each wheel implemented a simple substiution cipher. Each rotation of the wheel shifted this cipher. So the first character might have been translated with a wheel like:\n",
    "\n",
    "\n",
    "    ABCDEFGHIJKLMNOPQRSTUVWXYZ\n",
    "               |\n",
    "               |\n",
    "               V\n",
    "    QOFJSPIRUTNLMXWBZEGYKCADVH\n",
    "    \n",
    "then the next character would be translated with a substitution like:\n",
    "\n",
    "    ABCDEFGHIJKLMNOPQRSTUVWXYZ\n",
    "               |\n",
    "               |\n",
    "               V\n",
    "    OFJSPIRUTNLMXWBZEGYKCADVHQ\n",
    "    \n",
    "and so on.    \n",
    "\n",
    "## Task \n",
    "1. Implement one wheel of an Enigma cipher, using the initial mapping \"QOFJSPIRUTNLMXWBZEGYKCADVH\"\n",
    "2. Encode the string \"HELLO THERE\" (only letters are encoded; everything else is ignored).\n",
    "3. Assume that the wheel rotates **after** the character has been translated by the substitution table.\n",
    "4. The output should be RPXWGVXLHX"
   ]
  },
  {
   "cell_type": "markdown",
   "metadata": {},
   "source": [
    "### Task 2\n",
    "1. Implement all three wheels. Remember that each wheel translates the output of the previous, and the first wheel turns on every character, the second on every 26th, the third on every `26*26=676`th character.\n",
    "2. Use the following substitutions for the wheels:\n",
    "\n",
    "        1. QOFJSPIRUTNLMXWBZEGYKCADVH\n",
    "        2. ZHQYASLFCTRPKUWDVBIMJXGOEN\n",
    "        3. JQBVTIEUXANMYDKPSWLZHGFROC\n",
    "    \n",
    "2. Encode the string \"THE QUICK BROWN FOX JUMPED OVER THE LAZY DOG. THE QUICK BROWN FOX JUMPED OVER THE LAZY DOG\"\n",
    "3. The output should be  `TABTRKAJYGRQIMLNIPXARRHMLDDRZKYYYFUSWICWRJIVDFRLAMHURJTBEENIFXPBUKTTTNWZ`"
   ]
  },
  {
   "cell_type": "markdown",
   "metadata": {},
   "source": [
    "### Task 3\n",
    "1. The real Enigma machine had a fixed **reflector** at the end. It subsituted the character one more time, then sent it back through all three wheels again. The reflector did not move. *With this modification encryption and decryption become the same operation. Encrypting an already-encrypted string with the same machine settings decrypts the string.*\n",
    "2. Add the reflector. Use the substituion: \n",
    "\n",
    "        YRUHQSLDPXNGOKMIEBFZCWVJAT\n",
    "\n",
    "for the reflector.\n",
    "3. Remember to send the character through all of the wheels, through the reflector, and back through the wheels in reverse order. The wheels  move after this entire process is complete.\n",
    "4. Note that the wheel substitution on the reverse pass must be the **inverse** code from the forward pass! (i.e. the code that would transform back to the regular alphabet). You will need to work out how to do this. For example, the inverse code for `QOFJSPIRUTNLMXWBZEGYKCADVH` is `WPVXRCSZGDULMKBFAHEJIYONTQ`\n",
    "4. Encrypt (actually decrypt) the string `DIOYJNCSEVISIRXXPAOYGRXGCROIUTV` and check it is English."
   ]
  },
  {
   "cell_type": "markdown",
   "metadata": {
    "collapsed": true
   },
   "source": [
    "### Task 4\n",
    "1. The wheels on the Enigma machine were fixed in terms of the substitution. But the starting position could be set for each wheel (each wheel could be rotated a certain amount before sending started).\n",
    "2. The wheel starting position is given as a set of three characters. \"AAA\" means all three wheels in position 0; \"AAB\" means the last two wheels in zero position and the last (slowest turning) wheel rotated by one step. \"ZZZ\" means all wheels rotated by 25 steps (nb if A=0, then Z=25!).\n",
    "3. Add this capability to your machine.\n",
    "4. Using the substitutions above, and the key \"KEY\", decrypt the following (as one long string): \n",
    "\n",
    "        UJISFBFKPMYMEDRHFPEVXNQJCMETGEA\n",
    "        JAXQYTWPTQGAXCVBQLWXIAGNDIASRJDAKBIFO\n",
    "        YYGEEKZDVUJCMJDUKGDFMKQMXAOBXDDAELPH\n",
    "        XUIOJMJEQZYRZSVNXSHDBQHCQZDJBYHNPVNFJE\n",
    "        FJMAPAHQCPIVYSNJPYDBPDLDCVHRFDFUEVIQSA\n",
    "        ZABEJHVPQTCWDYMFE\n",
    "\n",
    "### Steckerbrett\n",
    "If you are **really** interested, you can implement the Steckerbrett as well. Read the Wikipedia article for details."
   ]
  },
  {
   "cell_type": "code",
   "execution_count": 304,
   "metadata": {
    "collapsed": false
   },
   "outputs": [],
   "source": [
    "# Solution goes here"
   ]
  },
  {
   "cell_type": "code",
   "execution_count": null,
   "metadata": {
    "collapsed": true
   },
   "outputs": [],
   "source": []
  }
 ],
 "metadata": {
  "anaconda-cloud": {},
  "kernelspec": {
   "display_name": "Python [default]",
   "language": "python",
   "name": "python2"
  },
  "language_info": {
   "codemirror_mode": {
    "name": "ipython",
    "version": 2
   },
   "file_extension": ".py",
   "mimetype": "text/x-python",
   "name": "python",
   "nbconvert_exporter": "python",
   "pygments_lexer": "ipython2",
   "version": "2.7.12"
  }
 },
 "nbformat": 4,
 "nbformat_minor": 0
}
